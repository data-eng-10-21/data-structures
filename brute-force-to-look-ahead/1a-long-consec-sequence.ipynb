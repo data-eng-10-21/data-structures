{
 "cells": [
  {
   "cell_type": "markdown",
   "id": "ea086b72-551a-482d-a3c6-0ef9fdd7aff2",
   "metadata": {},
   "source": [
    "# Longest Consecutive Sequence"
   ]
  },
  {
   "cell_type": "markdown",
   "id": "af4da312-c58a-4443-96f1-f17e5051fd57",
   "metadata": {},
   "source": [
    "Given an unsorted array of integers nums, return the length of the longest consecutive elements sequence.\n",
    "\n",
    "Try to solve the problem, but as a bonus attempt to solve it in `O(n)` time."
   ]
  },
  {
   "cell_type": "markdown",
   "id": "843e8b82-0d67-4879-8d56-609014c0fba0",
   "metadata": {},
   "source": [
    "> In the first example below, the numbers are 1 through 4 are considered a sequence even though they are separated by other elements."
   ]
  },
  {
   "cell_type": "code",
   "execution_count": 13,
   "id": "d2c771b7-91e8-4f6b-b166-d3ed12e94ef7",
   "metadata": {},
   "outputs": [],
   "source": [
    "nums = [100,4,200,1,3,2]\n",
    "\n",
    "def find_and_remove_min(set_nums):\n",
    "    min_num = min(set_nums)\n",
    "    set_nums.remove(min_num)\n",
    "    return min_num + 1\n",
    "# 4"
   ]
  },
  {
   "cell_type": "code",
   "execution_count": 22,
   "id": "5659ba2d-9742-420e-9e7c-7acb54a502b3",
   "metadata": {},
   "outputs": [
    {
     "name": "stdout",
     "output_type": "stream",
     "text": [
      "next:  2 counter 1\n",
      "next:  3 counter 2\n",
      "next:  4 counter 3\n",
      "next:  5 counter 4\n",
      "next:  101 counter 1\n",
      "next:  201 counter 1\n"
     ]
    }
   ],
   "source": [
    "counter = -9\n",
    "set_nums = set(nums)\n",
    "next_num = -9\n",
    "global_max = 1\n",
    "while set_nums:\n",
    "    if next_num in set_nums and counter > 0:\n",
    "        counter += 1\n",
    "        set_nums.remove(next_num)\n",
    "        next_num = next_num + 1\n",
    "        global_max = max(global_max, counter)\n",
    "        print('next: ', next_num, 'counter', counter)\n",
    "    else:\n",
    "        counter = 1\n",
    "        next_num = find_and_remove_min(set_nums)\n",
    "        print('next: ', next_num, 'counter', counter)"
   ]
  },
  {
   "cell_type": "code",
   "execution_count": 23,
   "id": "830d369e-ee95-45cd-9325-a887ba720dcf",
   "metadata": {},
   "outputs": [
    {
     "data": {
      "text/plain": [
       "4"
      ]
     },
     "execution_count": 23,
     "metadata": {},
     "output_type": "execute_result"
    }
   ],
   "source": [
    "global_max"
   ]
  },
  {
   "cell_type": "markdown",
   "id": "624ac5c9-e8af-4e06-b128-b6bfe98c2efc",
   "metadata": {},
   "source": [
    "> In the next example, the result is 9 because the numbers 0 through 8 are in sequence."
   ]
  },
  {
   "cell_type": "code",
   "execution_count": 24,
   "id": "65f22461-a051-4745-afff-2266c2faf4af",
   "metadata": {},
   "outputs": [
    {
     "name": "stdout",
     "output_type": "stream",
     "text": [
      "next:  1 counter 1\n",
      "next:  2 counter 2\n",
      "next:  3 counter 3\n",
      "next:  4 counter 4\n",
      "next:  5 counter 5\n",
      "next:  6 counter 6\n",
      "next:  7 counter 7\n",
      "next:  8 counter 8\n",
      "next:  9 counter 9\n"
     ]
    }
   ],
   "source": [
    "nums = [0,3,7,2,5,8,4,6,0,1]\n",
    "\n",
    "counter = -9\n",
    "set_nums = set(nums)\n",
    "next_num = -9\n",
    "global_max = 1\n",
    "while set_nums:\n",
    "    if next_num in set_nums and counter > 0:\n",
    "        counter += 1\n",
    "        set_nums.remove(next_num)\n",
    "        next_num = next_num + 1\n",
    "        global_max = max(global_max, counter)\n",
    "        print('next: ', next_num, 'counter', counter)\n",
    "    else:\n",
    "        counter = 1\n",
    "        next_num = find_and_remove_min(set_nums)\n",
    "        print('next: ', next_num, 'counter', counter)\n",
    "\n",
    "# 9 "
   ]
  },
  {
   "cell_type": "code",
   "execution_count": null,
   "id": "e864ef8b-b495-4569-9ce7-5eb75bfa55a7",
   "metadata": {},
   "outputs": [],
   "source": []
  }
 ],
 "metadata": {
  "kernelspec": {
   "display_name": "Python 3 (ipykernel)",
   "language": "python",
   "name": "python3"
  },
  "language_info": {
   "codemirror_mode": {
    "name": "ipython",
    "version": 3
   },
   "file_extension": ".py",
   "mimetype": "text/x-python",
   "name": "python",
   "nbconvert_exporter": "python",
   "pygments_lexer": "ipython3",
   "version": "3.9.12"
  }
 },
 "nbformat": 4,
 "nbformat_minor": 5
}
