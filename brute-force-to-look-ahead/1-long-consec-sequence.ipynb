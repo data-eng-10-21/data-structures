{
 "cells": [
  {
   "cell_type": "markdown",
   "id": "ea086b72-551a-482d-a3c6-0ef9fdd7aff2",
   "metadata": {},
   "source": [
    "# Longest Consecutive Sequence"
   ]
  },
  {
   "cell_type": "markdown",
   "id": "af4da312-c58a-4443-96f1-f17e5051fd57",
   "metadata": {},
   "source": [
    "Given an unsorted array of integers nums, return the length of the longest consecutive elements sequence.\n",
    "\n",
    "Try to solve the problem, but as a bonus attempt to solve it in `O(n)` time."
   ]
  },
  {
   "cell_type": "markdown",
   "id": "843e8b82-0d67-4879-8d56-609014c0fba0",
   "metadata": {},
   "source": [
    "> In the first example below, the numbers are 1 through 4 are considered a sequence even though they are separated by other elements."
   ]
  },
  {
   "cell_type": "code",
   "execution_count": 1,
   "id": "d2c771b7-91e8-4f6b-b166-d3ed12e94ef7",
   "metadata": {},
   "outputs": [],
   "source": [
    "nums = [100,4,200,1,3,2]\n",
    "\n",
    "# 4"
   ]
  },
  {
   "cell_type": "markdown",
   "id": "624ac5c9-e8af-4e06-b128-b6bfe98c2efc",
   "metadata": {},
   "source": [
    "> In the next example, the result is 9 because the numbers 0 through 8 are in sequence."
   ]
  },
  {
   "cell_type": "code",
   "execution_count": null,
   "id": "65f22461-a051-4745-afff-2266c2faf4af",
   "metadata": {},
   "outputs": [],
   "source": [
    "nums = [0,3,7,2,5,8,4,6,0,1]\n",
    "\n",
    "# 9 "
   ]
  }
 ],
 "metadata": {
  "kernelspec": {
   "display_name": "Python 3 (ipykernel)",
   "language": "python",
   "name": "python3"
  },
  "language_info": {
   "codemirror_mode": {
    "name": "ipython",
    "version": 3
   },
   "file_extension": ".py",
   "mimetype": "text/x-python",
   "name": "python",
   "nbconvert_exporter": "python",
   "pygments_lexer": "ipython3",
   "version": "3.9.12"
  }
 },
 "nbformat": 4,
 "nbformat_minor": 5
}
