{
 "cells": [
  {
   "cell_type": "markdown",
   "id": "6148d939-b93b-43b1-b317-bed756c15cda",
   "metadata": {},
   "source": [
    "# Sliding Window Functions"
   ]
  },
  {
   "cell_type": "markdown",
   "id": "d3b19c23-fd09-4e82-a072-dc46f062fcc8",
   "metadata": {},
   "source": [
    "### Resources\n",
    "\n",
    "[Sliding Window](https://leetcode.com/tag/sliding-window/)\n",
    "\n",
    "[Interview Questions](https://leetcode.com/explore/featured/card/top-interview-questions-easy/)"
   ]
  },
  {
   "cell_type": "code",
   "execution_count": null,
   "id": "1ddbe18e-6595-44be-a55c-d82dfb60e675",
   "metadata": {},
   "outputs": [],
   "source": []
  }
 ],
 "metadata": {
  "kernelspec": {
   "display_name": "Python 3 (ipykernel)",
   "language": "python",
   "name": "python3"
  },
  "language_info": {
   "codemirror_mode": {
    "name": "ipython",
    "version": 3
   },
   "file_extension": ".py",
   "mimetype": "text/x-python",
   "name": "python",
   "nbconvert_exporter": "python",
   "pygments_lexer": "ipython3",
   "version": "3.10.6"
  }
 },
 "nbformat": 4,
 "nbformat_minor": 5
}
