{
 "cells": [
  {
   "cell_type": "markdown",
   "id": "bcf4d450-5b9e-4b8b-9a02-bf86879eb175",
   "metadata": {},
   "source": [
    "# Sorting Lists"
   ]
  },
  {
   "cell_type": "markdown",
   "id": "a7eb32a2-dca8-476d-b52d-464e0f8a0fb1",
   "metadata": {},
   "source": [
    "### Introduction"
   ]
  },
  {
   "cell_type": "markdown",
   "id": "f2067cef-b06d-42a9-9c9e-0821408365ee",
   "metadata": {},
   "source": [
    "Another data structure that we can use is sorting lists."
   ]
  },
  {
   "cell_type": "code",
   "execution_count": null,
   "id": "5d4b27a3-32cc-4a20-a129-85f518cad85a",
   "metadata": {},
   "outputs": [],
   "source": []
  }
 ],
 "metadata": {
  "kernelspec": {
   "display_name": "Python 3 (ipykernel)",
   "language": "python",
   "name": "python3"
  },
  "language_info": {
   "codemirror_mode": {
    "name": "ipython",
    "version": 3
   },
   "file_extension": ".py",
   "mimetype": "text/x-python",
   "name": "python",
   "nbconvert_exporter": "python",
   "pygments_lexer": "ipython3",
   "version": "3.9.10"
  }
 },
 "nbformat": 4,
 "nbformat_minor": 5
}
