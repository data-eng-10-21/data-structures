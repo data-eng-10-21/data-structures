{
 "cells": [
  {
   "cell_type": "markdown",
   "id": "bcf4d450-5b9e-4b8b-9a02-bf86879eb175",
   "metadata": {},
   "source": [
    "# Sorting Lists"
   ]
  },
  {
   "cell_type": "markdown",
   "id": "a7eb32a2-dca8-476d-b52d-464e0f8a0fb1",
   "metadata": {},
   "source": [
    "### Introduction"
   ]
  },
  {
   "cell_type": "markdown",
   "id": "f2067cef-b06d-42a9-9c9e-0821408365ee",
   "metadata": {},
   "source": [
    "So in the last series of lessons, we saw how building to a histogram can help us solve leetcode problems.  It is so useful, that a histogram should be considered a data structure in itself.  So when thinking about a good data structure to coerce our data into, so far our list would be:\n",
    "\n",
    "* list\n",
    "* dictionary \n",
    "* histogram\n",
    "\n",
    "Now let's add another data structure that's we should add on there, a sorted list."
   ]
  },
  {
   "cell_type": "markdown",
   "id": "9aafca79-facc-43eb-be7d-00e29a1fa6c7",
   "metadata": {},
   "source": [
    "### Using a sorted list"
   ]
  },
  {
   "cell_type": "markdown",
   "id": "d53e699f-2e25-4a55-b532-d2da1cf5281d",
   "metadata": {},
   "source": [
    "Now let's use a list to do the following:"
   ]
  },
  {
   "cell_type": "code",
   "execution_count": 28,
   "id": "0436ee51-22b5-442c-9980-565197073ed5",
   "metadata": {},
   "outputs": [],
   "source": [
    "values = [8, 9, 4, 7, 3, 1]\n",
    "\n",
    "other_values = [8, 9, 4, 12, 6, 7, 2, 3, 1]"
   ]
  },
  {
   "cell_type": "markdown",
   "id": "3b63932d-fd81-4a31-8000-10aba6e5904a",
   "metadata": {},
   "source": [
    "* Find the minimum value in the array.\n",
    "\n",
    "* Find the maximum value in the array.\n",
    "\n",
    "* Find the median value in the array.\n",
    "\n",
    "> The median value is the midpoint in the array.  If there are an even number of values, the median is the average of the two middle numbers."
   ]
  },
  {
   "cell_type": "code",
   "execution_count": 29,
   "id": "c35c8d61-ff4f-4030-a0f7-14340644852a",
   "metadata": {},
   "outputs": [
    {
     "data": {
      "text/plain": [
       "[1, 3, 4, 7, 8, 9]"
      ]
     },
     "execution_count": 29,
     "metadata": {},
     "output_type": "execute_result"
    }
   ],
   "source": [
    "values = [8, 9, 4, 7, 3, 1]\n",
    "sorted(values)"
   ]
  },
  {
   "cell_type": "markdown",
   "id": "b636322e-5ec8-44fe-9f4b-59ae1d4d5292",
   "metadata": {},
   "source": [
    "> Hint: to calculate the median, you may have to research the `modulo` operator."
   ]
  },
  {
   "cell_type": "code",
   "execution_count": 1,
   "id": "670df55e-66ef-4596-9341-ddc5d178dc5f",
   "metadata": {},
   "outputs": [],
   "source": [
    "def median(values):\n",
    "    pass"
   ]
  },
  {
   "cell_type": "code",
   "execution_count": 34,
   "id": "244fcd63-7ac1-4e0b-9688-7af9d82a90e0",
   "metadata": {},
   "outputs": [
    {
     "data": {
      "text/plain": [
       "5.5"
      ]
     },
     "execution_count": 34,
     "metadata": {},
     "output_type": "execute_result"
    }
   ],
   "source": [
    "median(values)\n",
    "# 5.5"
   ]
  },
  {
   "cell_type": "code",
   "execution_count": null,
   "id": "25cfbbbb-93fe-4fea-9aa9-301205cf814e",
   "metadata": {},
   "outputs": [],
   "source": [
    "median(other_values)\n",
    "# 6"
   ]
  },
  {
   "cell_type": "code",
   "execution_count": null,
   "id": "9a1a2e08-2f38-4ff0-a71c-565c21e7ecd9",
   "metadata": {},
   "outputs": [],
   "source": []
  }
 ],
 "metadata": {
  "kernelspec": {
   "display_name": "Python 3 (ipykernel)",
   "language": "python",
   "name": "python3"
  },
  "language_info": {
   "codemirror_mode": {
    "name": "ipython",
    "version": 3
   },
   "file_extension": ".py",
   "mimetype": "text/x-python",
   "name": "python",
   "nbconvert_exporter": "python",
   "pygments_lexer": "ipython3",
   "version": "3.9.12"
  }
 },
 "nbformat": 4,
 "nbformat_minor": 5
}
