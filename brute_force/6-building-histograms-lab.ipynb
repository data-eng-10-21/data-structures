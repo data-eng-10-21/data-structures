{
 "cells": [
  {
   "cell_type": "markdown",
   "id": "0ea12872-23c2-423c-ad5d-f41c91285af0",
   "metadata": {},
   "source": [
    "# Building Histograms Lab"
   ]
  },
  {
   "cell_type": "markdown",
   "id": "f2fcb512-fa7b-4c75-a667-6e435bc9a705",
   "metadata": {},
   "source": [
    "### Introduction"
   ]
  },
  {
   "cell_type": "markdown",
   "id": "bae4b5e1-0574-48d3-97a5-d1ac101a8d21",
   "metadata": {},
   "source": [
    "In this lesson, we'll practice building histograms to solve our leetcode style problems."
   ]
  },
  {
   "cell_type": "code",
   "execution_count": 19,
   "id": "438fe755-778d-4a12-a82b-a5c77cea6e4b",
   "metadata": {},
   "outputs": [],
   "source": [
    "histogram = {'blue': 1, 'orange': 1, 'red': 3, 'brown': 1, 'yellow': 3}"
   ]
  },
  {
   "cell_type": "markdown",
   "id": "5feb8f8d-f434-4577-a88d-252a75fef86c",
   "metadata": {},
   "source": [
    "The first step is to set all of the keys in a dictionary, as well as an initial value, of zero.  "
   ]
  },
  {
   "cell_type": "markdown",
   "id": "49370405-7e91-4446-9df2-cfa077c7c1b8",
   "metadata": {},
   "source": [
    "There are a couple of ways to accomplish this."
   ]
  },
  {
   "cell_type": "code",
   "execution_count": 9,
   "id": "374452fc-2ae8-4ad3-86c9-7b798212ae22",
   "metadata": {},
   "outputs": [
    {
     "data": {
      "text/plain": [
       "{'blue', 'brown', 'orange', 'red', 'yellow'}"
      ]
     },
     "execution_count": 9,
     "metadata": {},
     "output_type": "execute_result"
    }
   ],
   "source": [
    "unique_colors = set(candies)\n",
    "unique_colors"
   ]
  },
  {
   "cell_type": "code",
   "execution_count": 15,
   "id": "51fe7265-3c44-4945-9985-1c945dc722fd",
   "metadata": {},
   "outputs": [],
   "source": [
    "hist = {}\n",
    "for color in unique_colors:\n",
    "    hist[color] = 0"
   ]
  },
  {
   "cell_type": "code",
   "execution_count": 16,
   "id": "8f6869ac-0277-4717-bb31-87a9c975d669",
   "metadata": {},
   "outputs": [
    {
     "data": {
      "text/plain": [
       "{'blue': 0, 'orange': 0, 'red': 0, 'brown': 0, 'yellow': 0}"
      ]
     },
     "execution_count": 16,
     "metadata": {},
     "output_type": "execute_result"
    }
   ],
   "source": [
    "hist"
   ]
  },
  {
   "cell_type": "code",
   "execution_count": 17,
   "id": "2e1db69c-989b-41d7-aea7-2dad13a05eec",
   "metadata": {},
   "outputs": [],
   "source": [
    "for candy in candies:\n",
    "    hist[candy] += 1"
   ]
  },
  {
   "cell_type": "code",
   "execution_count": 18,
   "id": "eb193a94-aa4e-40cd-95f7-4fefd3d16dca",
   "metadata": {},
   "outputs": [
    {
     "data": {
      "text/plain": [
       "{'blue': 1, 'orange': 1, 'red': 3, 'brown': 1, 'yellow': 3}"
      ]
     },
     "execution_count": 18,
     "metadata": {},
     "output_type": "execute_result"
    }
   ],
   "source": [
    "hist"
   ]
  },
  {
   "cell_type": "markdown",
   "id": "772496db-62f6-4a98-8a8e-5c0ba616834e",
   "metadata": {},
   "source": [
    "Another way to build this initial data structure is with the `fromkeys` method. "
   ]
  },
  {
   "cell_type": "code",
   "execution_count": 5,
   "id": "f4cab507-f8ae-494b-98a4-f972acaa943b",
   "metadata": {},
   "outputs": [
    {
     "data": {
      "text/plain": [
       "{'red': 0, 'yellow': 0, 'orange': 0, 'brown': 0, 'blue': 0}"
      ]
     },
     "execution_count": 5,
     "metadata": {},
     "output_type": "execute_result"
    }
   ],
   "source": [
    "candies = ['red', 'yellow', 'orange', 'yellow', 'yellow', 'brown', 'red', 'blue', 'red']\n",
    "\n",
    "initial_hist = dict.fromkeys(candies, 0)\n",
    "initial_hist"
   ]
  },
  {
   "cell_type": "markdown",
   "id": "58b9b997-2228-45b1-ab97-54925fce5488",
   "metadata": {},
   "source": [
    "So we can see if we pass through the initial list, and the default value for each key, we get back the same initial histogram.  And from there, we can again iterate through our list of values, incrementing by one each time. "
   ]
  },
  {
   "cell_type": "code",
   "execution_count": 6,
   "id": "3857a48f-be70-4925-90ce-85481e4a1eab",
   "metadata": {},
   "outputs": [
    {
     "data": {
      "text/plain": [
       "{'red': 3, 'yellow': 3, 'orange': 1, 'brown': 1, 'blue': 1}"
      ]
     },
     "execution_count": 6,
     "metadata": {},
     "output_type": "execute_result"
    }
   ],
   "source": [
    "for candy in candies:\n",
    "    initial_hist[candy] += 1\n",
    "    \n",
    "initial_hist"
   ]
  },
  {
   "cell_type": "markdown",
   "id": "fa84bc6a-4932-4c70-9fa6-e54e474dac44",
   "metadata": {},
   "source": [
    "### Building a dictionary"
   ]
  },
  {
   "cell_type": "markdown",
   "id": "c5bf1cf3-60bd-479c-b1dd-feb2af068b37",
   "metadata": {},
   "source": [
    "Now write a histogram that given a list of words stores the first letter of each word as a key, and the corresponding words (that begin with that letter) as values."
   ]
  },
  {
   "cell_type": "markdown",
   "id": "e0dd84af-9be5-4e7b-a8af-a6099c59245a",
   "metadata": {},
   "source": [
    "> Do not use the counter to or fromkeys to solve the problem.  Rather use the steps of first building a skeleton or initial data structure, and then filling in that data structure."
   ]
  },
  {
   "cell_type": "code",
   "execution_count": 16,
   "id": "fb1aafcf-d2a7-4227-859f-f10308f7886c",
   "metadata": {},
   "outputs": [],
   "source": [
    "words = ['hello', 'madam', 'thank', 'you', 'for', 'coming', \n",
    "          'to', 'the', 'show', 'and', 'i', 'hope', 'that', 'you', 'enjoy', 'it']"
   ]
  },
  {
   "cell_type": "code",
   "execution_count": null,
   "id": "d16c8d75-52ce-4a60-a594-56f8dfa2d708",
   "metadata": {},
   "outputs": [],
   "source": [
    "# {'i': ['i', 'it'],\n",
    "#  'f': ['for'],\n",
    "#  't': ['thank', 'to', 'the', 'that'],\n",
    "#  'c': ['coming'],\n",
    "#  'a': ['and'],\n",
    "#  'y': ['you', 'you'],\n",
    "#  'h': ['hello', 'hope'],\n",
    "#  'e': ['enjoy'],\n",
    "#  's': ['show'],\n",
    "#  'm': ['madam']"
   ]
  },
  {
   "cell_type": "code",
   "execution_count": 24,
   "id": "5354d678-1f70-4045-ba94-be3dcff1c85f",
   "metadata": {},
   "outputs": [],
   "source": [
    "def build_dictionary(words):\n",
    "    first_letters = set([word[0] for word in words])\n",
    "    dictionary = {}\n",
    "    for first_letter in first_letters:\n",
    "        dictionary[first_letter] = []\n",
    "\n",
    "    for word in words:\n",
    "        dictionary[word[0]].append(word)"
   ]
  },
  {
   "cell_type": "code",
   "execution_count": 25,
   "id": "29f3b3aa-ea5e-467b-aadc-41b0da85d981",
   "metadata": {},
   "outputs": [
    {
     "data": {
      "text/plain": [
       "{'i': ['i', 'it'],\n",
       " 'f': ['for'],\n",
       " 't': ['thank', 'to', 'the', 'that'],\n",
       " 'c': ['coming'],\n",
       " 'a': ['and'],\n",
       " 'y': ['you', 'you'],\n",
       " 'h': ['hello', 'hope'],\n",
       " 'e': ['enjoy'],\n",
       " 's': ['show'],\n",
       " 'm': ['madam']}"
      ]
     },
     "execution_count": 25,
     "metadata": {},
     "output_type": "execute_result"
    }
   ],
   "source": [
    "dictionary"
   ]
  },
  {
   "cell_type": "markdown",
   "id": "82952f5a-fe59-4f1d-93bb-a912469ebec6",
   "metadata": {},
   "source": [
    "### Redoing Unique"
   ]
  },
  {
   "cell_type": "markdown",
   "id": "42f56ce4-599d-47da-8d5f-cc4ebcf3189c",
   "metadata": {},
   "source": [
    "Next, use a histogram to write a function that returns whether a list contains all unique values."
   ]
  },
  {
   "cell_type": "code",
   "execution_count": 1,
   "id": "bc3101e4-c91a-4d38-9b2d-558048187577",
   "metadata": {},
   "outputs": [],
   "source": [
    "def all_unique(numbers):\n",
    "    pass"
   ]
  },
  {
   "cell_type": "code",
   "execution_count": null,
   "id": "0ac214e3-b40c-4f47-9cfb-1162d54aa008",
   "metadata": {},
   "outputs": [],
   "source": [
    "unique_numbers = [1, 2, 3, 4, 5]\n",
    "\n",
    "\n",
    "all_unique(unique_numbers)\n",
    "\n",
    "# True"
   ]
  },
  {
   "cell_type": "code",
   "execution_count": null,
   "id": "87359bac-dc8c-428d-ae26-6deb3a53f573",
   "metadata": {},
   "outputs": [],
   "source": [
    "not_unique_numbers = [1, 2, 3, 4, 5, 1]\n",
    "\n",
    "all_unique(not_unique_numbers)\n",
    "\n",
    "# False"
   ]
  }
 ],
 "metadata": {
  "kernelspec": {
   "display_name": "Python 3 (ipykernel)",
   "language": "python",
   "name": "python3"
  },
  "language_info": {
   "codemirror_mode": {
    "name": "ipython",
    "version": 3
   },
   "file_extension": ".py",
   "mimetype": "text/x-python",
   "name": "python",
   "nbconvert_exporter": "python",
   "pygments_lexer": "ipython3",
   "version": "3.9.10"
  }
 },
 "nbformat": 4,
 "nbformat_minor": 5
}
