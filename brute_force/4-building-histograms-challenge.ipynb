{
 "cells": [
  {
   "cell_type": "markdown",
   "id": "0ea12872-23c2-423c-ad5d-f41c91285af0",
   "metadata": {},
   "source": [
    "# Building Histograms"
   ]
  },
  {
   "cell_type": "markdown",
   "id": "f2fcb512-fa7b-4c75-a667-6e435bc9a705",
   "metadata": {},
   "source": [
    "### Introduction"
   ]
  },
  {
   "cell_type": "markdown",
   "id": "eee90206-a1b7-47ab-8a29-7fe49ac169f4",
   "metadata": {},
   "source": [
    "Now so far we have used the brute force technique to try all possible combinations and come to a solution.  Sometimes, we can write more efficient and simpler algorithms by coercing our data.  One typical coercion is to convert a list into a histogram.  \n",
    "\n",
    "A histogram is a dictionary that has key value pairs of the element and the number of times that the element appears.\n",
    "\n",
    "In this lesson we'll practice building a histogram."
   ]
  },
  {
   "cell_type": "markdown",
   "id": "489e849f-1868-40a9-b8f4-dd194543a42a",
   "metadata": {},
   "source": [
    "### Building our Histogram"
   ]
  },
  {
   "cell_type": "markdown",
   "id": "14495536-da06-4808-8c44-b8397965e81b",
   "metadata": {},
   "source": [
    "Let's say that we have a list of M&Ms, and we would like to count up how many times each color appears."
   ]
  },
  {
   "cell_type": "code",
   "execution_count": 8,
   "id": "932b09a7-2359-48a1-aed8-ad45b965c94d",
   "metadata": {},
   "outputs": [],
   "source": [
    "candies = ['red', 'yellow', 'orange', 'yellow', 'yellow', 'brown', 'red', 'blue', 'red']"
   ]
  },
  {
   "cell_type": "code",
   "execution_count": 19,
   "id": "438fe755-778d-4a12-a82b-a5c77cea6e4b",
   "metadata": {},
   "outputs": [],
   "source": [
    "histogram = {'blue': 1, 'orange': 1, 'red': 3, 'brown': 1, 'yellow': 3}"
   ]
  },
  {
   "cell_type": "markdown",
   "id": "2455f769-6e26-4927-8b56-d92afd8415cf",
   "metadata": {},
   "source": [
    "The first step is to set all of the keys in a dictionary, as well as an initial value, of zero.  "
   ]
  },
  {
   "cell_type": "markdown",
   "id": "44276943-ea62-48a2-b139-1123898699f3",
   "metadata": {},
   "source": [
    "There are a couple of ways to accomplish this."
   ]
  },
  {
   "cell_type": "markdown",
   "id": "ade35e92-0e4c-4816-9c5a-5dd05b95440f",
   "metadata": {},
   "source": [
    "1. Create a placeholder/skeleton\n",
    "\n",
    "First we would like to create a placeholder.  This would be a dictionary that has each of the colors as keys and an initial value of zero."
   ]
  },
  {
   "cell_type": "code",
   "execution_count": 9,
   "id": "374452fc-2ae8-4ad3-86c9-7b798212ae22",
   "metadata": {},
   "outputs": [
    {
     "data": {
      "text/plain": [
       "{'blue', 'brown', 'orange', 'red', 'yellow'}"
      ]
     },
     "execution_count": 9,
     "metadata": {},
     "output_type": "execute_result"
    }
   ],
   "source": [
    "unique_colors = set(candies)\n",
    "unique_colors"
   ]
  },
  {
   "cell_type": "code",
   "execution_count": 15,
   "id": "51fe7265-3c44-4945-9985-1c945dc722fd",
   "metadata": {},
   "outputs": [],
   "source": [
    "hist = {}\n",
    "for color in unique_colors:\n",
    "    hist[color] = 0"
   ]
  },
  {
   "cell_type": "code",
   "execution_count": 16,
   "id": "8f6869ac-0277-4717-bb31-87a9c975d669",
   "metadata": {},
   "outputs": [
    {
     "data": {
      "text/plain": [
       "{'blue': 0, 'orange': 0, 'red': 0, 'brown': 0, 'yellow': 0}"
      ]
     },
     "execution_count": 16,
     "metadata": {},
     "output_type": "execute_result"
    }
   ],
   "source": [
    "hist"
   ]
  },
  {
   "cell_type": "markdown",
   "id": "912ac793-3f33-4365-8d0a-490d0f39a7e0",
   "metadata": {},
   "source": [
    "2. Fill the dictionary"
   ]
  },
  {
   "cell_type": "markdown",
   "id": "aade1f6a-2bbd-4984-b135-e01216e91b3c",
   "metadata": {},
   "source": [
    "Next we need to "
   ]
  },
  {
   "cell_type": "code",
   "execution_count": 17,
   "id": "2e1db69c-989b-41d7-aea7-2dad13a05eec",
   "metadata": {},
   "outputs": [],
   "source": [
    "for candy in candies:\n",
    "    hist[candy] += 1"
   ]
  },
  {
   "cell_type": "code",
   "execution_count": 18,
   "id": "eb193a94-aa4e-40cd-95f7-4fefd3d16dca",
   "metadata": {},
   "outputs": [
    {
     "data": {
      "text/plain": [
       "{'blue': 1, 'orange': 1, 'red': 3, 'brown': 1, 'yellow': 3}"
      ]
     },
     "execution_count": 18,
     "metadata": {},
     "output_type": "execute_result"
    }
   ],
   "source": [
    "hist"
   ]
  },
  {
   "cell_type": "code",
   "execution_count": null,
   "id": "079a3c6c-8012-4d7f-b186-0f9cdf09a1b4",
   "metadata": {},
   "outputs": [],
   "source": []
  },
  {
   "cell_type": "code",
   "execution_count": null,
   "id": "0f7155ff-31a3-4317-b1b4-ba5baf4f79a1",
   "metadata": {},
   "outputs": [],
   "source": []
  }
 ],
 "metadata": {
  "kernelspec": {
   "display_name": "Python 3 (ipykernel)",
   "language": "python",
   "name": "python3"
  },
  "language_info": {
   "codemirror_mode": {
    "name": "ipython",
    "version": 3
   },
   "file_extension": ".py",
   "mimetype": "text/x-python",
   "name": "python",
   "nbconvert_exporter": "python",
   "pygments_lexer": "ipython3",
   "version": "3.9.10"
  }
 },
 "nbformat": 4,
 "nbformat_minor": 5
}
