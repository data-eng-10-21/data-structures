{
 "cells": [
  {
   "cell_type": "markdown",
   "id": "30540f94-7f7e-4ace-b8be-c56a276395a2",
   "metadata": {},
   "source": [
    "# Expanding Window"
   ]
  },
  {
   "cell_type": "markdown",
   "id": "e254cccd-dd06-4222-b397-20573718a73b",
   "metadata": {},
   "source": [
    "### Introduction"
   ]
  },
  {
   "cell_type": "markdown",
   "id": "931ada2a-ff90-4d19-9981-cb364d6edd4e",
   "metadata": {},
   "source": [
    "So in the last lesson, we saw how we can use a window of a fixed size to slide through our list of elements."
   ]
  },
  {
   "cell_type": "markdown",
   "id": "37c4660b-aaf4-4102-a43f-ee613e17f8a3",
   "metadata": {},
   "source": [
    "<img src=\"./window-slide.png\" width=\"40%\">"
   ]
  },
  {
   "cell_type": "markdown",
   "id": "a063e534-8fcc-4bd9-bdb2-48142604dcf1",
   "metadata": {},
   "source": [
    "In this lesson, we'll work with a window that also expands."
   ]
  },
  {
   "cell_type": "markdown",
   "id": "6ba77a5d-5c2d-4f77-a56e-8af6b7354f3b",
   "metadata": {},
   "source": [
    "### Our first problem"
   ]
  },
  {
   "cell_type": "markdown",
   "id": "5c47baad-e54e-4d5e-a950-1dc1056df2f6",
   "metadata": {},
   "source": [
    "Given a binary array, find the maximum number of consecutive 1s in this array.\n",
    "\n",
    "* Stop expanding when count_of_zeroes == 1"
   ]
  },
  {
   "cell_type": "code",
   "execution_count": 2,
   "id": "e8c745d4-88c7-4c39-808e-1d9b19a8447d",
   "metadata": {},
   "outputs": [],
   "source": [
    "elements = [1,0, 1, 1, 1]\n",
    "# 3"
   ]
  },
  {
   "cell_type": "markdown",
   "id": "2affc151-b706-4a07-a06b-4f8e89722d02",
   "metadata": {},
   "source": [
    "Notice how something like this will work.  This time, we can start at each index, and then have a second loop that goes through each element until it sees a zero."
   ]
  },
  {
   "cell_type": "markdown",
   "id": "98f9ce90-ad84-49b5-8dd3-054a9f7080fb",
   "metadata": {},
   "source": [
    "<img src=\"./expanding-one.png\" width=\"40%\">"
   ]
  },
  {
   "cell_type": "markdown",
   "id": "26be9474-5b67-4cc4-9fb5-64eae14b1d4c",
   "metadata": {},
   "source": [
    "Ok, so let's translate this procedure into code."
   ]
  },
  {
   "cell_type": "markdown",
   "id": "00e1e84e-9746-455e-b894-387b4bf4bd4d",
   "metadata": {},
   "source": [
    "> Start at each index, and then have a second loop that goes through each succeeding element until it sees a zero."
   ]
  },
  {
   "cell_type": "code",
   "execution_count": 14,
   "id": "3d3be3c4-b7a1-4c2d-9ce9-75b1369b9e77",
   "metadata": {},
   "outputs": [],
   "source": [
    "elements = [1,0, 1, 1, 1]\n",
    "\n",
    "max_total = 0\n",
    "\n",
    "left_idx = 0\n",
    "right_idx = 0\n",
    "while right < len(elements):\n",
    "    "
   ]
  },
  {
   "cell_type": "code",
   "execution_count": 9,
   "id": "3f791039-e3bc-45f7-9b07-e1f64caf8a4e",
   "metadata": {},
   "outputs": [
    {
     "data": {
      "text/plain": [
       "4"
      ]
     },
     "execution_count": 9,
     "metadata": {},
     "output_type": "execute_result"
    }
   ],
   "source": [
    "max_total"
   ]
  },
  {
   "cell_type": "code",
   "execution_count": null,
   "id": "87204a14-77e6-439c-a206-5c1f820deb2e",
   "metadata": {},
   "outputs": [],
   "source": []
  },
  {
   "cell_type": "markdown",
   "id": "a61afb46-fa09-4fc0-9ab5-89e2e69dd89c",
   "metadata": {},
   "source": [
    "### Official Solution\n",
    "\n",
    "[Leetcode official](https://leetcode.com/problems/max-consecutive-ones/solutions/409193/max-consecutive-ones/)"
   ]
  },
  {
   "cell_type": "code",
   "execution_count": null,
   "id": "bcc0c66d-2608-4263-8fbf-fdf81c5abff8",
   "metadata": {},
   "outputs": [],
   "source": []
  }
 ],
 "metadata": {
  "kernelspec": {
   "display_name": "Python 3 (ipykernel)",
   "language": "python",
   "name": "python3"
  },
  "language_info": {
   "codemirror_mode": {
    "name": "ipython",
    "version": 3
   },
   "file_extension": ".py",
   "mimetype": "text/x-python",
   "name": "python",
   "nbconvert_exporter": "python",
   "pygments_lexer": "ipython3",
   "version": "3.10.6"
  }
 },
 "nbformat": 4,
 "nbformat_minor": 5
}
