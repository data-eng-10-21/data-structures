{
 "cells": [
  {
   "cell_type": "markdown",
   "id": "8b332d41-ad97-49e3-9f47-b190d43a5a47",
   "metadata": {},
   "source": [
    "# Sliding Window"
   ]
  },
  {
   "cell_type": "markdown",
   "id": "4407a876-8cbb-4a97-a289-c13c832b7144",
   "metadata": {},
   "source": [
    "### Introduction"
   ]
  },
  {
   "cell_type": "markdown",
   "id": "38e03424-423e-4baa-9be9-b166a03d11ac",
   "metadata": {},
   "source": [
    "In this lesson we'll continue on with using two pointers.  But we'll do using a sliding window technique.  Let's dive into a problem."
   ]
  },
  {
   "cell_type": "markdown",
   "id": "2c632395-80e9-473f-baad-30c9cfdec0e0",
   "metadata": {},
   "source": [
    "### Consecutive Sums"
   ]
  },
  {
   "cell_type": "markdown",
   "id": "9b56c806-2d5d-4691-92d1-c76754da7abd",
   "metadata": {},
   "source": [
    "* Given an array of integers of size n.\n",
    "* Our aim is to calculate the maximum sum possible for 2 consecutive elements in the array."
   ]
  },
  {
   "cell_type": "code",
   "execution_count": 2,
   "id": "c87667a9-df78-4c8c-9776-a78e75aa9bab",
   "metadata": {},
   "outputs": [],
   "source": [
    "elements = [1, 3, 4, 2]\n",
    "# 7"
   ]
  },
  {
   "cell_type": "markdown",
   "id": "555f3f8c-f3f7-40ab-9677-f5d105297d32",
   "metadata": {},
   "source": [
    "Before diving into any code, think about the answer to this question.  Then try to think of how your brain is answering this.  \n",
    "\n",
    "Your brain likely doing something like so."
   ]
  },
  {
   "cell_type": "markdown",
   "id": "bca8dc25-2f99-4af5-bbb0-7198e942d10b",
   "metadata": {},
   "source": [
    "<img src=\"./window-slide.png\" width=\"30%\">"
   ]
  },
  {
   "cell_type": "markdown",
   "id": "44821db4-2bbe-4d9a-86bf-5ecc97680cb5",
   "metadata": {},
   "source": [
    "In other words, for each element, we are looking ahead at one element and calculating the sum.  \n",
    "\n",
    "To look ahead one element, we need to have a reference to element's index -- so we should iterate through the indices, and then select the appropriate elements."
   ]
  },
  {
   "cell_type": "code",
   "execution_count": 7,
   "id": "2b81b14b-6eb4-4bb4-a496-0ef02a998bb5",
   "metadata": {},
   "outputs": [
    {
     "name": "stdout",
     "output_type": "stream",
     "text": [
      "4\n",
      "7\n",
      "6\n"
     ]
    },
    {
     "data": {
      "text/plain": [
       "7"
      ]
     },
     "execution_count": 7,
     "metadata": {},
     "output_type": "execute_result"
    }
   ],
   "source": [
    "elements = [1, 3, 4, 2]\n",
    "\n",
    "max_sum = 0\n",
    "for i in range(len(elements) - 1):\n",
    "    current_element = elements[i]\n",
    "    next_element = elements[i + 1]\n",
    "    total = current_element + next_element\n",
    "    print(total)\n",
    "    if total > max_sum:\n",
    "        max_sum = total\n",
    "        \n",
    "max_sum\n",
    "# 7"
   ]
  },
  {
   "cell_type": "markdown",
   "id": "0b6e5431-0ed3-4159-9a61-161cdd9db680",
   "metadata": {},
   "source": [
    "> Notice that above we set iterate through elements `len(elements) - 1`, because otherwise we would hit the end of our list when we look ahead."
   ]
  },
  {
   "cell_type": "markdown",
   "id": "e5e2175f-a545-4515-aba3-ad1d22df7192",
   "metadata": {},
   "source": [
    "Finally, note that another way to write the above is using the max function."
   ]
  },
  {
   "cell_type": "code",
   "execution_count": 12,
   "id": "3fb1fb39-70d0-439d-9a7f-36a9de56ee1f",
   "metadata": {},
   "outputs": [
    {
     "name": "stdout",
     "output_type": "stream",
     "text": [
      "4\n",
      "7\n",
      "6\n"
     ]
    },
    {
     "data": {
      "text/plain": [
       "7"
      ]
     },
     "execution_count": 12,
     "metadata": {},
     "output_type": "execute_result"
    }
   ],
   "source": [
    "elements = [1, 3, 4, 2]\n",
    "\n",
    "max_sum = 0\n",
    "for i in range(len(elements) - 1):\n",
    "    current_element = elements[i]\n",
    "    next_element = elements[i + 1]\n",
    "    total = current_element + next_element\n",
    "    max_sum = max(max_sum, total)\n",
    "        \n",
    "max_sum"
   ]
  },
  {
   "cell_type": "markdown",
   "id": "e3f37e28-3b25-4866-b1cf-ec2c82c96533",
   "metadata": {},
   "source": [
    "### Your turn"
   ]
  },
  {
   "cell_type": "markdown",
   "id": "024940b3-afd8-419c-b629-ad2cbe8de410",
   "metadata": {},
   "source": [
    "Ok, so now, without looking at the above, write a function a that returns the maximum sum of three consecutive elements."
   ]
  },
  {
   "cell_type": "code",
   "execution_count": 9,
   "id": "bfe7092f-d6f5-441b-b329-9915945f48b8",
   "metadata": {},
   "outputs": [],
   "source": [
    "\n",
    "def max_three_consecutive(elements):\n",
    "    pass"
   ]
  },
  {
   "cell_type": "code",
   "execution_count": 10,
   "id": "5e64cb84-4e97-4ee2-b058-7888a4d5bfaf",
   "metadata": {},
   "outputs": [],
   "source": [
    "elements = [6, 1, 3, 4, 2, 9]\n",
    "max_three_consecutive(elements)\n",
    "# 15"
   ]
  },
  {
   "cell_type": "code",
   "execution_count": 11,
   "id": "b4dc3e37-a458-40f9-8309-75060a849e56",
   "metadata": {},
   "outputs": [],
   "source": [
    "elements = [6, 1, 3, 4, 4, 2]\n",
    "\n",
    "max_three_consecutive(elements)\n",
    "# 11"
   ]
  },
  {
   "cell_type": "markdown",
   "id": "cd815c53-274e-4226-a12b-97381cb27de6",
   "metadata": {},
   "source": [
    "### Resources\n",
    "\n",
    "[Sliding Window Medium](https://medium.com/leetcode-patterns/leetcode-pattern-2-sliding-windows-for-strings-e19af105316b)\n",
    "\n",
    "[Sliding Window Derivation](https://medium.com/@timpark0807/leetcode-is-easy-sliding-window-c44c11cc33e1)"
   ]
  }
 ],
 "metadata": {
  "kernelspec": {
   "display_name": "Python 3 (ipykernel)",
   "language": "python",
   "name": "python3"
  },
  "language_info": {
   "codemirror_mode": {
    "name": "ipython",
    "version": 3
   },
   "file_extension": ".py",
   "mimetype": "text/x-python",
   "name": "python",
   "nbconvert_exporter": "python",
   "pygments_lexer": "ipython3",
   "version": "3.10.6"
  }
 },
 "nbformat": 4,
 "nbformat_minor": 5
}
