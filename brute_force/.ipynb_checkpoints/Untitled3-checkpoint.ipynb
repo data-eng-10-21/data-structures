{
 "cells": [
  {
   "cell_type": "markdown",
   "id": "59e52843-f965-40a0-9b85-da3ae6cfc5e3",
   "metadata": {},
   "source": [
    "# Multiple Pointers"
   ]
  },
  {
   "cell_type": "markdown",
   "id": "c427202b-7477-40d6-9884-f54b421950ae",
   "metadata": {},
   "source": [
    "### Introduction"
   ]
  },
  {
   "cell_type": "markdown",
   "id": "04418fb0-3afe-461d-82b2-260329b1244b",
   "metadata": {},
   "source": [
    "Working through our nested loops is really an example of using multple pointers."
   ]
  },
  {
   "cell_type": "code",
   "execution_count": null,
   "id": "360ffff5-a5c1-4d48-bb0b-b43c1298ef6a",
   "metadata": {},
   "outputs": [],
   "source": []
  }
 ],
 "metadata": {
  "kernelspec": {
   "display_name": "Python 3 (ipykernel)",
   "language": "python",
   "name": "python3"
  },
  "language_info": {
   "codemirror_mode": {
    "name": "ipython",
    "version": 3
   },
   "file_extension": ".py",
   "mimetype": "text/x-python",
   "name": "python",
   "nbconvert_exporter": "python",
   "pygments_lexer": "ipython3",
   "version": "3.10.6"
  }
 },
 "nbformat": 4,
 "nbformat_minor": 5
}
