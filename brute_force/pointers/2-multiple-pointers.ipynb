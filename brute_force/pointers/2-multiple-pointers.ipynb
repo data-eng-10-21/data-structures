{
 "cells": [
  {
   "cell_type": "markdown",
   "id": "3dd64529-2aac-42af-afff-6983965a6e43",
   "metadata": {},
   "source": [
    "# Multiple Pointer Questions"
   ]
  },
  {
   "cell_type": "markdown",
   "id": "9044cabc-c364-4ada-9834-0132a5f19c5b",
   "metadata": {},
   "source": [
    "### Introduction"
   ]
  },
  {
   "cell_type": "markdown",
   "id": "964621f9-5c10-4f7f-ae4b-bfab829e0f31",
   "metadata": {},
   "source": [
    "In the last lesson, we saw how to use a single index, or pointer to move through the elements of a list.  As we saw, we also add an additional pointers as when we moved through the front and back of a sequence, say to see if something is a palindrome."
   ]
  },
  {
   "cell_type": "code",
   "execution_count": 1,
   "id": "0dd47522-bc34-443a-9efd-4064ff879f7f",
   "metadata": {},
   "outputs": [],
   "source": [
    "def is_palindrome(word):\n",
    "    for i in range(len(word)):\n",
    "        back_i = len(word) - 1 - i\n",
    "        if word[i] != word[back_i]:\n",
    "            return False\n",
    "    return True"
   ]
  },
  {
   "cell_type": "markdown",
   "id": "8636d09d-c1f5-4e98-9671-31de48fc7e8a",
   "metadata": {},
   "source": [
    "In this lesson, we'll work through other problems with multiple pointers."
   ]
  },
  {
   "cell_type": "markdown",
   "id": "4dc996b1-658f-4fa7-a717-62caddd55194",
   "metadata": {},
   "source": [
    "### Intersection of Two Arrays"
   ]
  },
  {
   "cell_type": "markdown",
   "id": "1e1996df-5c6d-420e-a79d-19b388b68c37",
   "metadata": {},
   "source": [
    "Given two integer arrays nums1 and nums2, return an array of their intersection. Each element in the result must be unique and you may return the result in any order."
   ]
  },
  {
   "cell_type": "code",
   "execution_count": 7,
   "id": "b57f63ea-4712-4d68-acad-cfb94596bdc9",
   "metadata": {},
   "outputs": [],
   "source": [
    "def intersection(arr_1, arr_2):\n",
    "    pass"
   ]
  },
  {
   "cell_type": "code",
   "execution_count": 4,
   "id": "71ed79a3-e88f-44e3-896e-2bfeaea2a2e0",
   "metadata": {},
   "outputs": [],
   "source": [
    "nums1 = [1,2,2,1]\n",
    "nums2 = [2,2]\n",
    "intersection(nums1, nums2)\n",
    "# [2]"
   ]
  },
  {
   "cell_type": "code",
   "execution_count": 8,
   "id": "3809dbdd-3aae-401b-81c7-c5dd467efffa",
   "metadata": {},
   "outputs": [],
   "source": [
    "nums1 = [4,9,5]\n",
    "nums2 = [9,4,9,8,4]\n",
    "\n",
    "intersection(nums1, nums2)\n",
    "\n",
    "# [4, 9] or [9, 4]"
   ]
  },
  {
   "cell_type": "markdown",
   "id": "89c66e4d-0209-47de-a34a-925c1628ceb8",
   "metadata": {},
   "source": [
    "### Merge a Sorted Array"
   ]
  },
  {
   "cell_type": "markdown",
   "id": "3e4fc3ae-1a98-44b6-988a-3ca471d8e675",
   "metadata": {},
   "source": [
    "You are given two integer arrays nums1 and nums2, sorted in non-decreasing order, and two integers m and n, representing the number of elements in nums1 and nums2 respectively.\n",
    "\n",
    "Merge nums1 and nums2 into a single array sorted in non-decreasing order."
   ]
  },
  {
   "cell_type": "code",
   "execution_count": 1,
   "id": "fc55ad22-f276-4077-b237-370bb92a8442",
   "metadata": {},
   "outputs": [],
   "source": [
    "def merge_sorted(nums1, m, nums2, n):\n",
    "    pass"
   ]
  },
  {
   "cell_type": "code",
   "execution_count": 2,
   "id": "18244b7a-29ff-4512-b637-8dbe837f1117",
   "metadata": {},
   "outputs": [],
   "source": [
    "nums1 = [1,2,3,0,0,0]\n",
    "m = 3\n",
    "nums2 = [2,5,6]\n",
    "n = 3\n",
    "\n",
    "merge_sorted(nums1, m, nums2, n)\n",
    "# # [1,2,2,3,5,6]"
   ]
  },
  {
   "cell_type": "code",
   "execution_count": 3,
   "id": "85c220d5-07bb-414d-87e4-ed60602cc75c",
   "metadata": {},
   "outputs": [],
   "source": [
    "nums1 = [1]\n",
    "m = 1\n",
    "nums2 = []\n",
    "n = 0\n",
    "\n",
    "merge_sorted(nums1, m, nums2, n)\n",
    "# [1]"
   ]
  },
  {
   "cell_type": "markdown",
   "id": "72de4efe-9bd7-4864-bbcb-f14773451f48",
   "metadata": {},
   "source": [
    "### Resources"
   ]
  },
  {
   "cell_type": "markdown",
   "id": "5b5fbac7-1491-48a3-8b7a-f3605665b669",
   "metadata": {},
   "source": [
    "https://leetcode.com/problems/intersection-of-two-arrays/"
   ]
  },
  {
   "cell_type": "markdown",
   "id": "91e58c42-d3fb-4bd0-83cc-f37bdafa6fb9",
   "metadata": {},
   "source": [
    "https://leetcode.com/problems/merge-sorted-array/"
   ]
  }
 ],
 "metadata": {
  "kernelspec": {
   "display_name": "Python 3 (ipykernel)",
   "language": "python",
   "name": "python3"
  },
  "language_info": {
   "codemirror_mode": {
    "name": "ipython",
    "version": 3
   },
   "file_extension": ".py",
   "mimetype": "text/x-python",
   "name": "python",
   "nbconvert_exporter": "python",
   "pygments_lexer": "ipython3",
   "version": "3.11.1"
  }
 },
 "nbformat": 4,
 "nbformat_minor": 5
}
