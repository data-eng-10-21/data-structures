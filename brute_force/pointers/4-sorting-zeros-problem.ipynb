{
 "cells": [
  {
   "cell_type": "markdown",
   "id": "16bef77d-c4bc-4ad6-8837-d051c6406991",
   "metadata": {},
   "source": [
    "# Sorting Zeros Problem"
   ]
  },
  {
   "cell_type": "markdown",
   "id": "c586af40-68f8-4bc6-a333-35e8fe6861ab",
   "metadata": {},
   "source": [
    "And now for something completely different..."
   ]
  },
  {
   "cell_type": "markdown",
   "id": "cd8fe994-ba46-43d0-b764-bccc4260675f",
   "metadata": {},
   "source": [
    "Given a list of elements, move all of the zeros to the back of the list, and keep all of the elements in the same order."
   ]
  },
  {
   "cell_type": "code",
   "execution_count": 3,
   "id": "3196d3b7-d4ca-4f83-ae7b-bc991ee15ffe",
   "metadata": {
    "tags": []
   },
   "outputs": [],
   "source": [
    "elements = [0, 1, 3, 0, 4]\n",
    "\n",
    "resulting_elements = []"
   ]
  },
  {
   "cell_type": "markdown",
   "id": "632c9de7-4977-47f5-8e66-dddddf763f05",
   "metadata": {},
   "source": [
    "> We got you started by creating a list called `resulting_elements` where you can place the newly ordered elements. "
   ]
  },
  {
   "cell_type": "code",
   "execution_count": 2,
   "id": "294891a8-9348-4a00-aa6d-4cd73ac31830",
   "metadata": {
    "tags": []
   },
   "outputs": [],
   "source": []
  },
  {
   "cell_type": "markdown",
   "id": "27558d8e-2dce-4474-a9b0-3d146b6655f5",
   "metadata": {},
   "source": [
    "### More difficult approach"
   ]
  },
  {
   "cell_type": "markdown",
   "id": "c6ac6ac8-3e9d-45b1-bd50-c9c430dcc83d",
   "metadata": {},
   "source": [
    "If you were able to solve the above problem, then try to resolve the problem but this time, without creating a new list.  In other words just rearrange elements in the original list to move the zeros to the back.  \n",
    "\n",
    "> This is pretty hard, so don't be discouraged if you can't solve it.  We'll tackle it in the next lesson.\n",
    "\n",
    "Given a list of elements, move all of the zeros to the back of the list, and keep all of the elements in the same order."
   ]
  },
  {
   "cell_type": "code",
   "execution_count": 2,
   "id": "c58c53f6-9ac8-49ee-9bdf-0969a18f0bc3",
   "metadata": {},
   "outputs": [
    {
     "data": {
      "text/plain": [
       "[1, 3, 4, 0, 0]"
      ]
     },
     "execution_count": 2,
     "metadata": {},
     "output_type": "execute_result"
    }
   ],
   "source": [
    "elements = [0, 1, 3, 0, 4]\n",
    "j = 0 \n",
    "for element in elements:\n",
    "    if element != 0:\n",
    "        elements[j] = element\n",
    "        j += 1\n",
    "    \n",
    "for i in range(j, len(elements)):\n",
    "    elements[i] = 0\n",
    "\n",
    "elements"
   ]
  },
  {
   "cell_type": "code",
   "execution_count": null,
   "id": "6d7a549e-dac5-4559-8fe5-989b7a6e6822",
   "metadata": {},
   "outputs": [],
   "source": []
  }
 ],
 "metadata": {
  "kernelspec": {
   "display_name": "Python 3 (ipykernel)",
   "language": "python",
   "name": "python3"
  },
  "language_info": {
   "codemirror_mode": {
    "name": "ipython",
    "version": 3
   },
   "file_extension": ".py",
   "mimetype": "text/x-python",
   "name": "python",
   "nbconvert_exporter": "python",
   "pygments_lexer": "ipython3",
   "version": "3.11.1"
  }
 },
 "nbformat": 4,
 "nbformat_minor": 5
}
