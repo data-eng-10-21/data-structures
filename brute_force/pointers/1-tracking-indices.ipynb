{
 "cells": [
  {
   "cell_type": "markdown",
   "id": "f6e75d6e-2f2e-4463-83e5-9342f6ebf428",
   "metadata": {},
   "source": [
    "# Tracking indices"
   ]
  },
  {
   "cell_type": "markdown",
   "id": "c6e19045-8839-4fc8-b45a-e9c1edb76fd6",
   "metadata": {},
   "source": [
    "### Introduction"
   ]
  },
  {
   "cell_type": "markdown",
   "id": "27794f20-edae-416a-b1d0-a9f14c73b548",
   "metadata": {},
   "source": [
    "One difficult thing when working with loops is simply tracking one or more index."
   ]
  },
  {
   "cell_type": "markdown",
   "id": "994da345-7fa1-4312-a0b6-2e85d8d63c66",
   "metadata": {},
   "source": [
    "### Indices with Loops"
   ]
  },
  {
   "cell_type": "markdown",
   "id": "3ccd253c-8873-4d2c-b271-1cd1ccee59ec",
   "metadata": {},
   "source": [
    "When looping through a list of elements, one way to select each element is through the index."
   ]
  },
  {
   "cell_type": "code",
   "execution_count": 1,
   "id": "e05a13db-bcd5-43ab-8793-05636139c032",
   "metadata": {},
   "outputs": [
    {
     "name": "stdout",
     "output_type": "stream",
     "text": [
      "d\n",
      "f\n",
      "l\n",
      "a\n",
      "c\n"
     ]
    }
   ],
   "source": [
    "letters = ['d', 'f', 'l', 'a', 'c']\n",
    "\n",
    "for i in range(len(letters)):\n",
    "    print(letters[i])"
   ]
  },
  {
   "cell_type": "markdown",
   "id": "4c73a134-1645-47a2-a8fa-9a330825dd76",
   "metadata": {},
   "source": [
    "Above we use the range function.  This is useful when selecting each element in a list.  Let's take a deeper look at it.  "
   ]
  },
  {
   "cell_type": "code",
   "execution_count": 2,
   "id": "994b4691-9a01-43a1-99a0-085b0c8b8903",
   "metadata": {},
   "outputs": [
    {
     "data": {
      "text/plain": [
       "5"
      ]
     },
     "execution_count": 2,
     "metadata": {},
     "output_type": "execute_result"
    }
   ],
   "source": [
    "len(letters)"
   ]
  },
  {
   "cell_type": "code",
   "execution_count": 3,
   "id": "f77ff256-b2c1-4f1c-94f5-5c03be04d1ed",
   "metadata": {},
   "outputs": [
    {
     "data": {
      "text/plain": [
       "range(0, 5)"
      ]
     },
     "execution_count": 3,
     "metadata": {},
     "output_type": "execute_result"
    }
   ],
   "source": [
    "range(len(letters))"
   ]
  },
  {
   "cell_type": "markdown",
   "id": "ccd44b76-ee20-4e80-821c-f61a2148711c",
   "metadata": {},
   "source": [
    "Notice that while we create a range from 0 to 5, notice that the range function only produces a list of numbers from 0 to 4. "
   ]
  },
  {
   "cell_type": "code",
   "execution_count": 4,
   "id": "906e61f5-d47e-44eb-a3e9-56ba78ac41e8",
   "metadata": {},
   "outputs": [
    {
     "data": {
      "text/plain": [
       "[0, 1, 2, 3, 4]"
      ]
     },
     "execution_count": 4,
     "metadata": {},
     "output_type": "execute_result"
    }
   ],
   "source": [
    "list(range(len(letters)))"
   ]
  },
  {
   "cell_type": "markdown",
   "id": "3e909820-994c-470a-ba16-c3bd740df1ae",
   "metadata": {},
   "source": [
    "This works out perfectly to select the each of the five elements of our list above the list."
   ]
  },
  {
   "cell_type": "code",
   "execution_count": 5,
   "id": "71fbf1de-b7fc-497f-ad77-aaa706d72491",
   "metadata": {},
   "outputs": [
    {
     "name": "stdout",
     "output_type": "stream",
     "text": [
      "d\n",
      "f\n",
      "l\n",
      "a\n",
      "c\n"
     ]
    }
   ],
   "source": [
    "letters = ['d', 'f', 'l', 'a', 'c']\n",
    "\n",
    "for i in range(len(letters)):\n",
    "#     i = 0 through 4\n",
    "    print(letters[i])"
   ]
  },
  {
   "cell_type": "markdown",
   "id": "fe545096-0c33-40e3-a6fc-3974963d4370",
   "metadata": {},
   "source": [
    "### Indices with Enumerate"
   ]
  },
  {
   "cell_type": "markdown",
   "id": "2f503cc6-c989-4ad5-acc3-93bc5a11fd5b",
   "metadata": {},
   "source": [
    "Above we were able to loop through the letters of a string by using the index accessor."
   ]
  },
  {
   "cell_type": "code",
   "execution_count": 1,
   "id": "e448fcf7-d1ed-4f33-92b4-ea5d03b99a39",
   "metadata": {},
   "outputs": [
    {
     "name": "stdout",
     "output_type": "stream",
     "text": [
      "d\n",
      "f\n",
      "l\n",
      "a\n",
      "c\n"
     ]
    }
   ],
   "source": [
    "letters = ['d', 'f', 'l', 'a', 'c']\n",
    "\n",
    "for i in range(len(letters)):\n",
    "#     i = 0 through 4\n",
    "    print(letters[i])"
   ]
  },
  {
   "cell_type": "markdown",
   "id": "f6171878-5c4c-48e2-a044-b56c34df8a54",
   "metadata": {},
   "source": [
    "It's a good way to access both the element and it's respective element at the same time.  Another way to do this is with enumerate."
   ]
  },
  {
   "cell_type": "code",
   "execution_count": 3,
   "id": "07ca358b-5eb1-49bb-9d68-65806a81956d",
   "metadata": {},
   "outputs": [
    {
     "data": {
      "text/plain": [
       "[(0, 'd'), (1, 'f'), (2, 'l'), (3, 'a'), (4, 'c')]"
      ]
     },
     "execution_count": 3,
     "metadata": {},
     "output_type": "execute_result"
    }
   ],
   "source": [
    "list(enumerate(letters))"
   ]
  },
  {
   "cell_type": "markdown",
   "id": "c85a1d22-ed1a-4202-b01d-e140347b160e",
   "metadata": {},
   "source": [
    "So enumerate generates a list of tuples."
   ]
  },
  {
   "cell_type": "markdown",
   "id": "c02c6e61-268e-44a6-be81-a35b17e88e16",
   "metadata": {},
   "source": [
    "And we can unpack each of those tuples as we loop through the list."
   ]
  },
  {
   "cell_type": "code",
   "execution_count": 2,
   "id": "859fedbe-30d5-4748-b1b5-752eb8336b2b",
   "metadata": {},
   "outputs": [
    {
     "name": "stdout",
     "output_type": "stream",
     "text": [
      "0 d\n",
      "1 f\n",
      "2 l\n",
      "3 a\n",
      "4 c\n"
     ]
    }
   ],
   "source": [
    "for i, element in enumerate(letters):\n",
    "    print(i, element)"
   ]
  },
  {
   "cell_type": "markdown",
   "id": "e630af54-1e0a-4f39-a93f-5ccbfbd49d74",
   "metadata": {},
   "source": [
    "### Moving backwards through a list"
   ]
  },
  {
   "cell_type": "markdown",
   "id": "3335b60b-bcf6-4330-bed3-fe7b7dc0ff96",
   "metadata": {},
   "source": [
    "If so far we are moving forwards through a list..."
   ]
  },
  {
   "cell_type": "code",
   "execution_count": 11,
   "id": "03e5bc19-30e7-4746-ba3e-5c738e57737d",
   "metadata": {},
   "outputs": [],
   "source": [
    "letters = ['d', 'f', 'l', 'a', 'c']"
   ]
  },
  {
   "cell_type": "code",
   "execution_count": 12,
   "id": "a3ca1322-e0e9-476c-b288-c25732566f04",
   "metadata": {},
   "outputs": [
    {
     "data": {
      "text/plain": [
       "[(0, 'd'), (1, 'f'), (2, 'l'), (3, 'a'), (4, 'c')]"
      ]
     },
     "execution_count": 12,
     "metadata": {},
     "output_type": "execute_result"
    }
   ],
   "source": [
    "[(i, letters[i]) for i in range(len(letters))]"
   ]
  },
  {
   "cell_type": "markdown",
   "id": "1863e454-0354-440a-9407-2fe05eae72b9",
   "metadata": {},
   "source": [
    "Note that we can move backwards by subtracting each index from the length of the list. "
   ]
  },
  {
   "cell_type": "markdown",
   "id": "88d34637-428e-4fd8-a259-ff50a15b9db4",
   "metadata": {},
   "source": [
    "So if the first index above is 0, we can get the last index by doing \n",
    "```python\n",
    "len(letters) - index - 1 \n",
    "# 5 -           0    - 1 = 4\n",
    "```"
   ]
  },
  {
   "cell_type": "code",
   "execution_count": 21,
   "id": "951a9444-a1d0-40ff-ab81-c17acc2c925b",
   "metadata": {},
   "outputs": [
    {
     "name": "stdout",
     "output_type": "stream",
     "text": [
      "4 c\n",
      "3 a\n",
      "2 l\n",
      "1 f\n",
      "0 d\n"
     ]
    }
   ],
   "source": [
    "for i in range(len(letters)):\n",
    "    print((len(letters) -1 - i), letters[len(letters) -1 - i])"
   ]
  },
  {
   "cell_type": "markdown",
   "id": "5ac4eac0-795f-4da5-913d-b7c51f5d8122",
   "metadata": {},
   "source": [
    "### Tracking Indices Problems"
   ]
  },
  {
   "cell_type": "markdown",
   "id": "36e024af-9e5c-4f76-bdd2-db793366700e",
   "metadata": {},
   "source": [
    "Given a list of letters write a function that prints out the following."
   ]
  },
  {
   "cell_type": "code",
   "execution_count": 28,
   "id": "a41c268c-1183-4cfe-b689-4d6ac2e5e060",
   "metadata": {},
   "outputs": [],
   "source": [
    "letters = ['d', 'f', 'l', 'a', 'c']"
   ]
  },
  {
   "cell_type": "code",
   "execution_count": 26,
   "id": "860b1e38-c3f8-4a4f-bdc9-2aa6459e5953",
   "metadata": {},
   "outputs": [],
   "source": [
    "def two_indices(letters):\n",
    "    pass"
   ]
  },
  {
   "cell_type": "code",
   "execution_count": 27,
   "id": "e50a1dfc-a869-4dd5-9539-70ea2e5c36ec",
   "metadata": {},
   "outputs": [],
   "source": [
    "two_indices(letters)\n",
    "\n",
    "# 0 4\n",
    "# 1 3\n",
    "# 2 2\n",
    "# 3 1\n",
    "# 4 0"
   ]
  },
  {
   "cell_type": "markdown",
   "id": "a731c2c1-7c60-496a-9fde-9cadc4b419f9",
   "metadata": {
    "tags": []
   },
   "source": [
    "### Finding Palindromes"
   ]
  },
  {
   "cell_type": "markdown",
   "id": "4c066b80-825f-4650-af98-5bf7a29bfd57",
   "metadata": {},
   "source": [
    "Oftentimes a good first step when using the brute force mechanism is to first make sure that the indices are being looped through correctly."
   ]
  },
  {
   "cell_type": "markdown",
   "id": "e7c2360e-f221-4ed0-a934-cd8c99e1b888",
   "metadata": {},
   "source": [
    "Use that technique to check if a word is a palindrome.  A palindrome is a word that is the same both forwards and backwards.  \n",
    "\n",
    "Use the brute force mechanism to check if a word is a palindrome, and first print out the indices before solving the problem.  "
   ]
  },
  {
   "cell_type": "code",
   "execution_count": 22,
   "id": "313d1f5d-6fe6-44fc-bee2-1f0269045752",
   "metadata": {},
   "outputs": [],
   "source": [
    "def is_palindrome(word):\n",
    "    pass"
   ]
  },
  {
   "cell_type": "code",
   "execution_count": null,
   "id": "dc828626-b691-4728-bfe6-a529a1f49576",
   "metadata": {},
   "outputs": [],
   "source": [
    "yes = 'kayak'\n",
    "\n",
    "is_palindrome(yes)\n",
    "# True"
   ]
  },
  {
   "cell_type": "code",
   "execution_count": 24,
   "id": "1ddd0c12-385e-48de-9568-d1b90f6376b9",
   "metadata": {},
   "outputs": [
    {
     "data": {
      "text/plain": [
       "False"
      ]
     },
     "execution_count": 24,
     "metadata": {},
     "output_type": "execute_result"
    }
   ],
   "source": [
    "no = 'kayaki'\n",
    "\n",
    "is_palindrome(no)\n",
    "# False"
   ]
  },
  {
   "cell_type": "markdown",
   "id": "8b621539-5b61-4409-9eee-298fe45ebeda",
   "metadata": {},
   "source": [
    "### Reversing a list"
   ]
  },
  {
   "cell_type": "markdown",
   "id": "57e26e0e-d712-41a4-8ab3-897901757236",
   "metadata": {},
   "source": [
    "Reversing a list is another problem that can be solved using the brute force mechanism.  Use the brute force mechanism to reverse a list.  "
   ]
  },
  {
   "cell_type": "markdown",
   "id": "d0ac093f-b9ab-4207-a6ee-9c31ec8ce3df",
   "metadata": {},
   "source": [
    "> Remember to use the print statement to both print out any used indices and ultimately the selected elements."
   ]
  },
  {
   "cell_type": "code",
   "execution_count": 24,
   "id": "5d8c138c-1664-4f5d-8add-5f81760203ad",
   "metadata": {},
   "outputs": [],
   "source": [
    "array = [1, 2, 3, 4, 5]"
   ]
  },
  {
   "cell_type": "code",
   "execution_count": 25,
   "id": "dfb54694-9493-482f-874a-b48c2037a984",
   "metadata": {},
   "outputs": [],
   "source": [
    "def reverse(array):\n",
    "    pass\n",
    "     \n",
    "reverse(array)\n",
    "\n",
    "# [5, 4, 3, 2, 1]"
   ]
  }
 ],
 "metadata": {
  "kernelspec": {
   "display_name": "Python 3 (ipykernel)",
   "language": "python",
   "name": "python3"
  },
  "language_info": {
   "codemirror_mode": {
    "name": "ipython",
    "version": 3
   },
   "file_extension": ".py",
   "mimetype": "text/x-python",
   "name": "python",
   "nbconvert_exporter": "python",
   "pygments_lexer": "ipython3",
   "version": "3.11.1"
  }
 },
 "nbformat": 4,
 "nbformat_minor": 5
}
