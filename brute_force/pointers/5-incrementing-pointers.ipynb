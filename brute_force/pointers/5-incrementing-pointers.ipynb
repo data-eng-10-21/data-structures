{
 "cells": [
  {
   "cell_type": "markdown",
   "id": "16bef77d-c4bc-4ad6-8837-d051c6406991",
   "metadata": {},
   "source": [
    "# Incrementing a Pointer"
   ]
  },
  {
   "cell_type": "markdown",
   "id": "308a2844-d767-44b3-9f9d-853976c09106",
   "metadata": {},
   "source": [
    "### Introduction"
   ]
  },
  {
   "cell_type": "markdown",
   "id": "752cc013-3533-4191-8862-01cf5133a672",
   "metadata": {
    "tags": []
   },
   "source": [
    "In this lesson, we'll walk through the sorting zeros problem.  And we'll move through the technique of incrementing a single pointer."
   ]
  },
  {
   "cell_type": "markdown",
   "id": "c190a904-cccb-4feb-ba35-d6ebb53405c3",
   "metadata": {},
   "source": [
    "### Sorting Zeros - Easier Approach"
   ]
  },
  {
   "cell_type": "markdown",
   "id": "cd8fe994-ba46-43d0-b764-bccc4260675f",
   "metadata": {},
   "source": [
    "First, let's move through the sorting zeros problem without any special technique.  Remember this was our original problem.\n",
    "\n",
    "> Given a list, move all of the zeros to the back, and keep all of the elements in the same order."
   ]
  },
  {
   "cell_type": "code",
   "execution_count": 6,
   "id": "3c6341c3-3e15-4ba5-8fae-d325e2463ca1",
   "metadata": {
    "tags": []
   },
   "outputs": [
    {
     "data": {
      "text/plain": [
       "[1, 3, 4, 0, 0]"
      ]
     },
     "execution_count": 6,
     "metadata": {},
     "output_type": "execute_result"
    }
   ],
   "source": [
    "elements = [0, 1, 3, 0, 4]\n",
    "\n",
    "resulting_elements = []\n",
    "\n",
    "for element in elements:\n",
    "    if element != 0:\n",
    "        resulting_elements.append(element)\n",
    "        \n",
    "for i in range(len(elements)- len(resulting_elements)):\n",
    "    resulting_elements.append(0)\n",
    "resulting_elements"
   ]
  },
  {
   "cell_type": "markdown",
   "id": "a4667323-ebdb-4a5f-b0f7-b5d1d0e5cd86",
   "metadata": {},
   "source": [
    "Above we solve the problem with two main steps -- each in a for loop.  With the first for loop, we add each non-zero element to a list."
   ]
  },
  {
   "cell_type": "code",
   "execution_count": 8,
   "id": "91f02826-7175-446e-87d9-c7c8f99a7480",
   "metadata": {
    "tags": []
   },
   "outputs": [
    {
     "data": {
      "text/plain": [
       "[1, 3, 4]"
      ]
     },
     "execution_count": 8,
     "metadata": {},
     "output_type": "execute_result"
    }
   ],
   "source": [
    "resulting_elements = []\n",
    "for element in elements:\n",
    "    if element != 0:\n",
    "        resulting_elements.append(element)\n",
    "resulting_elements"
   ]
  },
  {
   "cell_type": "markdown",
   "id": "d05d49ed-c6a4-4120-9fef-a433594e47d2",
   "metadata": {},
   "source": [
    "Then, knowing we need to fill the rest of our list with zeros, we calculate how much longer we need our `resulting_elements` list to be, and then add our remaining zeros."
   ]
  },
  {
   "cell_type": "code",
   "execution_count": 9,
   "id": "b10a377f-cbe8-4e77-83ac-7ff9e3c30ff8",
   "metadata": {
    "tags": []
   },
   "outputs": [
    {
     "data": {
      "text/plain": [
       "[1, 3, 4, 0, 0]"
      ]
     },
     "execution_count": 9,
     "metadata": {},
     "output_type": "execute_result"
    }
   ],
   "source": [
    "for i in range(len(elements)- len(resulting_elements)):\n",
    "    resulting_elements.append(0)\n",
    "resulting_elements"
   ]
  },
  {
   "cell_type": "markdown",
   "id": "7e867831-36db-4103-a179-71adee221dbd",
   "metadata": {},
   "source": [
    "### Incrementing a pointer approach"
   ]
  },
  {
   "cell_type": "markdown",
   "id": "5135b897-a914-4b5c-bda1-658fc9677642",
   "metadata": {},
   "source": [
    "Ok, now let's move through the more challenging problem.  This time we need to move the non-zero elements to the end without creating a new list.  Here's how we do it.  Again we'll do it in two steps."
   ]
  },
  {
   "cell_type": "code",
   "execution_count": 13,
   "id": "cf8b8c72-e590-4641-95dd-3dcc61f8a2cb",
   "metadata": {
    "tags": []
   },
   "outputs": [
    {
     "data": {
      "text/plain": [
       "[1, 3, 4, 0, 4]"
      ]
     },
     "execution_count": 13,
     "metadata": {},
     "output_type": "execute_result"
    }
   ],
   "source": [
    "elements = [0, 1, 3, 0, 4]\n",
    "j = 0 \n",
    "for element in elements:\n",
    "    if element != 0:\n",
    "        elements[j] = element\n",
    "        j += 1\n",
    "        \n",
    "elements"
   ]
  },
  {
   "cell_type": "markdown",
   "id": "949c55d8-6664-47ab-a5ce-70793f55bbdc",
   "metadata": {},
   "source": [
    "> Above, we move the incrementally move each non-zero element to the beginning of the list."
   ]
  },
  {
   "cell_type": "code",
   "execution_count": 14,
   "id": "d5a22caa-1e60-4ef6-9c18-bc5c7f91c40d",
   "metadata": {
    "tags": []
   },
   "outputs": [
    {
     "data": {
      "text/plain": [
       "[1, 3, 4, 0, 0]"
      ]
     },
     "execution_count": 14,
     "metadata": {},
     "output_type": "execute_result"
    }
   ],
   "source": [
    "for i in range(j, len(elements)):\n",
    "    elements[i] = 0\n",
    "\n",
    "elements"
   ]
  },
  {
   "cell_type": "markdown",
   "id": "6dd83276-9734-4294-bd60-0551ac96e0f0",
   "metadata": {},
   "source": [
    "### This time with pictures"
   ]
  },
  {
   "cell_type": "markdown",
   "id": "77b381d1-6263-44e2-982a-8504a611080e",
   "metadata": {},
   "source": [
    "Let's see this again."
   ]
  },
  {
   "cell_type": "code",
   "execution_count": null,
   "id": "6d7a549e-dac5-4559-8fe5-989b7a6e6822",
   "metadata": {},
   "outputs": [],
   "source": [
    "elements = [0, 1, 3, 0, 4]\n",
    "j = 0 \n",
    "for element in elements:\n",
    "    if element != 0:\n",
    "        elements[j] = element\n",
    "        j += 1\n",
    "        \n",
    "elements"
   ]
  },
  {
   "cell_type": "markdown",
   "id": "000f0a32-129e-422c-932b-ec9e8ed4a55d",
   "metadata": {},
   "source": [
    "> Below, the for loop through the elements is represented by colors.  And the pointer `j` is represented by the arrow."
   ]
  },
  {
   "cell_type": "markdown",
   "id": "2c8d5dc7-6c75-4075-a153-9da1c088b602",
   "metadata": {},
   "source": [
    "<img src=\"./second-procedure.png\" width=\"25%\">"
   ]
  },
  {
   "cell_type": "markdown",
   "id": "fed556c1-3e85-4cae-b876-d4fd954d8694",
   "metadata": {},
   "source": [
    "So notice that we loop through each element and if we come across a non-zero element, we set that element to where the pointer is, and increment the pointer.\n",
    "\n",
    "Looking at the code, we can see that this is the logic."
   ]
  },
  {
   "cell_type": "code",
   "execution_count": null,
   "id": "224368d0-f36f-40ee-af22-99576f3689f4",
   "metadata": {},
   "outputs": [],
   "source": [
    "elements = [0, 1, 3, 0, 4]\n",
    "j = 0 \n",
    "for element in elements:\n",
    "    if element != 0:\n",
    "        elements[j] = element\n",
    "        j += 1\n",
    "        \n",
    "elements"
   ]
  },
  {
   "cell_type": "markdown",
   "id": "9132241a-59aa-4069-bb81-573fc75c4ca5",
   "metadata": {},
   "source": [
    "Then in the second for loop we advance the pointer, filling the remaining elements with zero."
   ]
  },
  {
   "cell_type": "markdown",
   "id": "d5d73593-3366-4624-85df-f943d87dbf6b",
   "metadata": {},
   "source": [
    "<img src=\"./fill-zero.png\" width=\"25%\">"
   ]
  },
  {
   "cell_type": "code",
   "execution_count": 15,
   "id": "f3dcc09c-df9c-42d1-ba41-47889c5952c3",
   "metadata": {
    "tags": []
   },
   "outputs": [
    {
     "data": {
      "text/plain": [
       "[1, 3, 4, 0, 0]"
      ]
     },
     "execution_count": 15,
     "metadata": {},
     "output_type": "execute_result"
    }
   ],
   "source": [
    "for i in range(j, len(elements)):\n",
    "    elements[i] = 0\n",
    "\n",
    "elements"
   ]
  },
  {
   "cell_type": "markdown",
   "id": "945b485a-bcaf-498c-a24b-1d6152466732",
   "metadata": {},
   "source": [
    "### Recapping"
   ]
  },
  {
   "cell_type": "markdown",
   "id": "0f4e2cd1-0e63-40ff-b8ba-d555c70e258d",
   "metadata": {},
   "source": [
    "So in this problem we see that we use a technique of keeping an independent pointer j.  And we use that pointer to determine which element we are about to change.  We only advance the pointer if we change an element."
   ]
  },
  {
   "cell_type": "markdown",
   "id": "ff1150df-81a2-4aa5-a93f-9f50fea5650a",
   "metadata": {},
   "source": [
    "<img src=\"./second-procedure.png\" width=\"25%\">"
   ]
  },
  {
   "cell_type": "markdown",
   "id": "19f5b986-8384-458f-8a33-1230522e9d8a",
   "metadata": {},
   "source": [
    "### Resources\n",
    "\n",
    "[Make the string great](https://leetcode.com/problems/make-the-string-great/solutions/1726886/using-only-single-pointer/)\n",
    "\n",
    "[Two pointers - largest palindrome](https://aman.ai/code/two-pointers/#solution-two-pointers-expand-around-the-center-from-the-middle-to-the-end)"
   ]
  },
  {
   "cell_type": "code",
   "execution_count": null,
   "id": "24f47745-30df-409f-b2df-90580c6459ae",
   "metadata": {},
   "outputs": [],
   "source": []
  }
 ],
 "metadata": {
  "kernelspec": {
   "display_name": "Python 3 (ipykernel)",
   "language": "python",
   "name": "python3"
  },
  "language_info": {
   "codemirror_mode": {
    "name": "ipython",
    "version": 3
   },
   "file_extension": ".py",
   "mimetype": "text/x-python",
   "name": "python",
   "nbconvert_exporter": "python",
   "pygments_lexer": "ipython3",
   "version": "3.11.1"
  }
 },
 "nbformat": 4,
 "nbformat_minor": 5
}
