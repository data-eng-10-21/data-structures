{
 "cells": [
  {
   "cell_type": "markdown",
   "id": "3c9a2280-4a86-47fc-91ae-0f1dbc23c702",
   "metadata": {},
   "source": [
    "# Group Anagrams"
   ]
  },
  {
   "cell_type": "markdown",
   "id": "064706c9-90f3-41e8-8dec-87292abdcc70",
   "metadata": {},
   "source": [
    "Given an array of strings strs, group the anagrams together. You can return the answer in any order.\n",
    "\n",
    "An Anagram is a word or phrase formed by rearranging the letters of a different word or phrase, typically using all the original letters exactly once.\n"
   ]
  },
  {
   "cell_type": "code",
   "execution_count": 1,
   "id": "8411cb69-ef82-4228-a806-212a506d7818",
   "metadata": {},
   "outputs": [],
   "source": [
    "strs = [\"eat\",\"tea\",\"tan\",\"ate\",\"nat\",\"bat\"]\n"
   ]
  },
  {
   "cell_type": "code",
   "execution_count": 3,
   "id": "31c79216-bc3c-4b62-8cd6-f6738031c333",
   "metadata": {},
   "outputs": [],
   "source": [
    "output = [[\"bat\"],[\"nat\",\"tan\"],[\"ate\",\"eat\",\"tea\"]]"
   ]
  },
  {
   "cell_type": "markdown",
   "id": "29e11015-653d-40e5-b047-877043a5bddd",
   "metadata": {},
   "source": [
    "Example 2:"
   ]
  },
  {
   "cell_type": "code",
   "execution_count": 4,
   "id": "76fc9b92-be5c-4128-9b40-e05cf8cc6433",
   "metadata": {},
   "outputs": [],
   "source": [
    "strs = [\"\"]\n",
    "output =  [[\"\"]]"
   ]
  },
  {
   "cell_type": "markdown",
   "id": "6d4fc0bf-7731-4574-9976-e9afb9670a1e",
   "metadata": {},
   "source": [
    "Example 3:"
   ]
  },
  {
   "cell_type": "code",
   "execution_count": null,
   "id": "8acfcd6b-0b71-442b-9720-575b50a10b89",
   "metadata": {},
   "outputs": [],
   "source": [
    "strs = [\"a\"]\n",
    "Output: [[\"a\"]]"
   ]
  }
 ],
 "metadata": {
  "kernelspec": {
   "display_name": "Python 3 (ipykernel)",
   "language": "python",
   "name": "python3"
  },
  "language_info": {
   "codemirror_mode": {
    "name": "ipython",
    "version": 3
   },
   "file_extension": ".py",
   "mimetype": "text/x-python",
   "name": "python",
   "nbconvert_exporter": "python",
   "pygments_lexer": "ipython3",
   "version": "3.9.12"
  }
 },
 "nbformat": 4,
 "nbformat_minor": 5
}
