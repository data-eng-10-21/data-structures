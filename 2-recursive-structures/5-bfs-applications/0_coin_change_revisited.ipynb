{
 "cells": [
  {
   "cell_type": "markdown",
   "metadata": {
    "id": "hs_3txXg9kXg"
   },
   "source": [
    "# Coin Change with BFS"
   ]
  },
  {
   "cell_type": "markdown",
   "metadata": {
    "tags": []
   },
   "source": [
    "### Introduction\n",
    "\n",
    "In this lesson we'll see some new applications for breadth first search, and that is for exploring all possible *next steps*.\n",
    "\n",
    "Ok, before moving on, remember that with the coin change problem, we want to find the smallest number of steps to calculate a certain amount.  \n",
    "\n",
    "> For example, if we have the coins `[1, 3, 4]`, what are the fewest number of coins we can use to get to equal `6`.\n",
    "\n",
    "This would be the greedy approach."
   ]
  },
  {
   "cell_type": "code",
   "execution_count": 4,
   "metadata": {
    "tags": []
   },
   "outputs": [
    {
     "data": {
      "text/plain": [
       "3"
      ]
     },
     "execution_count": 4,
     "metadata": {},
     "output_type": "execute_result"
    }
   ],
   "source": [
    "def greedy_coin_change(coins, amount):\n",
    "    coins.sort(reverse=True)\n",
    "    count = 0\n",
    "    for coin in coins:\n",
    "        while amount >= coin:\n",
    "            amount -= coin\n",
    "            count += 1\n",
    "    return count if amount == 0 else -1\n",
    "\n",
    "coins = [1, 3, 4]\n",
    "amount = 6\n",
    "\n",
    "greedy_coin_change(coins, amount)\n",
    "# combination of coins: 4, 1, 1"
   ]
  },
  {
   "cell_type": "markdown",
   "metadata": {},
   "source": [
    "Ok, so as we can see, the greedy approach fails here.  So instead let's see how we can use BFS to solve our problem."
   ]
  },
  {
   "cell_type": "markdown",
   "metadata": {},
   "source": [
    "### Reviewing breadth first search"
   ]
  },
  {
   "cell_type": "markdown",
   "metadata": {},
   "source": [
    "Before diving in, let's first review BFS and then we can see some variations of it.  Remember that with BFS, we essentially visit the nodes of our tree one level at a time.  We'll work with a tree that looks like the following:"
   ]
  },
  {
   "cell_type": "code",
   "execution_count": null,
   "metadata": {},
   "outputs": [],
   "source": [
    "# a\n",
    "# / \\ \n",
    "# b. c\n",
    "#    \\\n",
    "#    d"
   ]
  },
  {
   "cell_type": "code",
   "execution_count": 10,
   "metadata": {
    "colab": {
     "base_uri": "https://localhost:8080/"
    },
    "id": "BKBi5UjF5vlq",
    "outputId": "81a74a1f-04bf-48fa-b779-e48c66c013ff",
    "tags": []
   },
   "outputs": [
    {
     "name": "stdout",
     "output_type": "stream",
     "text": [
      "a\n",
      "b\n",
      "c\n",
      "d\n"
     ]
    }
   ],
   "source": [
    "tree = {'a': ['b', 'c'], 'c': ['d']}\n",
    "root = 'a'\n",
    "\n",
    "from collections import deque\n",
    "def bfs(root, tree):\n",
    "    queue = deque([root])\n",
    "    visited = set()\n",
    "    while queue:\n",
    "        current_node = queue.popleft()\n",
    "        if current_node not in visited:\n",
    "            visited.add(current_node)\n",
    "            print(current_node)\n",
    "            for child in tree.get(current_node, []):\n",
    "                queue.append(child)\n",
    "\n",
    "bfs(root, tree)"
   ]
  },
  {
   "cell_type": "markdown",
   "metadata": {},
   "source": [
    "Remember that the technique with bfs is to use a queue (using first in first out) to remove those nodes in the order that they were visited.\n",
    "\n",
    "Ok, so now what if we wanted to not only print out each node as it's processed, but also print out the level of the node.  For example, let's see our tree again but this time with levels."
   ]
  },
  {
   "cell_type": "code",
   "execution_count": 11,
   "metadata": {
    "tags": []
   },
   "outputs": [],
   "source": [
    "# a      1\n",
    "# / \\ \n",
    "# b. c    2\n",
    "#    \\\n",
    "#    d    3"
   ]
  },
  {
   "cell_type": "markdown",
   "metadata": {},
   "source": [
    "So you can see that `a` should have level 1, while nodes `b` and `c` have a level of 2, and `d` has a level of 3. \n",
    "\n",
    "Ok, so as you see below, we can implement this by adding both the node and the level to our queue.  \n",
    "\n",
    "`deque([(root, 1)])`\n",
    "\n",
    "And in the last line we calculate the level of the node as the `current_level + 1`."
   ]
  },
  {
   "cell_type": "code",
   "execution_count": 13,
   "metadata": {
    "colab": {
     "base_uri": "https://localhost:8080/"
    },
    "id": "-wX9hgN39Sur",
    "outputId": "0b6574ce-b341-49fd-8846-221e9e4594cf",
    "tags": []
   },
   "outputs": [
    {
     "name": "stdout",
     "output_type": "stream",
     "text": [
      "a 1\n",
      "b 2\n",
      "c 2\n",
      "d 3\n"
     ]
    }
   ],
   "source": [
    "tree = {'a': ['b', 'c'], 'c': ['d']}\n",
    "root = 'a'\n",
    "\n",
    "from collections import deque\n",
    "def bfs_with_level(root, tree):\n",
    "    queue = deque([(root, 1)])\n",
    "    visited = set()\n",
    "    while queue:\n",
    "        current_node, current_level = queue.popleft()\n",
    "        if current_node not in visited:\n",
    "            visited.add(current_node)\n",
    "            print(current_node, current_level)\n",
    "            for child in tree.get(current_node, []):\n",
    "                queue.append((child, current_level + 1))\n",
    "\n",
    "bfs_with_level(root, tree)"
   ]
  },
  {
   "cell_type": "markdown",
   "metadata": {},
   "source": [
    "Ok, let's see one more way we can display the node and the level.  It's essentially the same approach but this time, we use a dictionary (called `dist` as in `distance`) to record the level of each node.\n",
    "\n",
    "Then once again, we get the `current_level` of the `current_node` and in the last line calculate each newly visited nodes level as `current_level + 1`."
   ]
  },
  {
   "cell_type": "code",
   "execution_count": 14,
   "metadata": {
    "colab": {
     "base_uri": "https://localhost:8080/"
    },
    "id": "jMypqqUj-DkL",
    "outputId": "c1e17529-83ee-4688-eb5c-16465d2467e2",
    "tags": []
   },
   "outputs": [
    {
     "name": "stdout",
     "output_type": "stream",
     "text": [
      "a 1\n",
      "b 2\n",
      "c 2\n",
      "d 3\n"
     ]
    }
   ],
   "source": [
    "tree = {'a': ['b', 'c'], 'c': ['d']}\n",
    "root = 'a'\n",
    "from collections import deque\n",
    "\n",
    "def bfs_with_level(root, tree):\n",
    "    queue = deque([root])\n",
    "    dist = {root: 1} # root node is at distance 1\n",
    "    while queue:\n",
    "        current_node = queue.popleft()\n",
    "        current_level = dist[current_node]\n",
    "        print(current_node, current_level)\n",
    "        for child in tree.get(current_node, []):\n",
    "            queue.append(child)\n",
    "            dist[child] = current_level + 1\n",
    "\n",
    "\n",
    "bfs_with_level(root, tree)"
   ]
  },
  {
   "cell_type": "markdown",
   "metadata": {},
   "source": [
    "Again, the logic here is exactly the same.  We're just storing the levels in a dictionary instead of in our tuple."
   ]
  },
  {
   "cell_type": "markdown",
   "metadata": {},
   "source": [
    "### The coin change problem, revisited"
   ]
  },
  {
   "cell_type": "markdown",
   "metadata": {
    "id": "qyHlR6dA_IBc"
   },
   "source": [
    "Now, one use case for breadth first search is in solving something like the coin change problem.  Remember with the coin change problem we want to find the smallest number of steps to calculate a certain amount.  \n",
    "\n",
    "For example, if we have the coins `[1, 3, 4]`, what are the fewest number of coins we can use to get to equal `6`."
   ]
  },
  {
   "cell_type": "markdown",
   "metadata": {
    "id": "gNFDtaWSJikk"
   },
   "source": [
    "> Remember, the greedy approach we will incorrectly remove the largest coin of 4, and then will have to remove two 1s.  Whereas really the optimal solution involves using two coins of denomination 3.\n",
    "\n",
    "So instead, an approach that will give the correct solution is to use a bfs tree.\n",
    "\n",
    "To see why you can think of our tree, as essentially one that represents all possible totals:"
   ]
  },
  {
   "cell_type": "code",
   "execution_count": null,
   "metadata": {
    "id": "9Hjpf_qtBjR_"
   },
   "outputs": [],
   "source": [
    "# coins 1, 3, 4\n",
    "\n",
    "# 0\n",
    "# /     |        \\\n",
    "# 1.      3.      4\n",
    "# /| \\.   /|\\.   /|\\\n",
    "# 2 4 5  4 6 7.  5 8 9\n"
   ]
  },
  {
   "cell_type": "markdown",
   "metadata": {
    "id": "lGfkRrH1Ci3S"
   },
   "source": [
    "So above we start with an initial amount of 0, and then we go through each of the possible next values (adding our coins of denominations 1, 3, and 4).  Then for each of those next ammounts, we add our coins again -- so in the bottom left you see values of `(1 + 1)`, `(1 + 3)` and `(1 + 4)`.\n",
    "\n",
    "Ok, well how do we implement this?  It's essentially just our BFS with levels problem, but instead of adding iterating through all of the children to the current node, we instead iterate through all of the coins and add them to the current amount."
   ]
  },
  {
   "cell_type": "code",
   "execution_count": 15,
   "metadata": {
    "id": "uuxAfOLd5-_7",
    "tags": []
   },
   "outputs": [],
   "source": [
    "import collections\n",
    "\n",
    "def coin_change(coins: list[int], target_amount: int) -> int:\n",
    "\n",
    "    queue = collections.deque([0])\n",
    "    dist = {0: 0} # this dictionary keeps track of the steps to reach the current amount\n",
    "\n",
    "    while queue:\n",
    "        print('queue', queue)\n",
    "        current_amount = queue.popleft()\n",
    "        current_steps = dist[current_amount]\n",
    "\n",
    "        print('current steps', current_steps)\n",
    "        print('current amount', current_amount)\n",
    "        print('dist', dist)\n",
    "\n",
    "        for coin in coins: # iterate through each coin \n",
    "            next_amount = current_amount + coin\n",
    "            if next_amount == target_amount:\n",
    "                return current_steps + 1\n",
    "            if next_amount < amount and target_amount not in dist:\n",
    "                dist[next_amount] = current_steps + 1\n",
    "                queue.append(next_amount)\n",
    "\n",
    "    return -1  # If no solution is found"
   ]
  },
  {
   "cell_type": "code",
   "execution_count": 16,
   "metadata": {
    "colab": {
     "base_uri": "https://localhost:8080/"
    },
    "id": "CzKixQ-W6ADJ",
    "outputId": "18e2b646-f7b3-4de9-e08f-a60479642402",
    "tags": []
   },
   "outputs": [
    {
     "name": "stdout",
     "output_type": "stream",
     "text": [
      "queue deque([0])\n",
      "current steps 0\n",
      "current amount 0\n",
      "dist {0: 0}\n",
      "queue deque([1, 3, 4])\n",
      "current steps 1\n",
      "current amount 1\n",
      "dist {0: 0, 1: 1, 3: 1, 4: 1}\n",
      "queue deque([3, 4, 2, 4, 5])\n",
      "current steps 1\n",
      "current amount 3\n",
      "dist {0: 0, 1: 1, 3: 1, 4: 2, 2: 2, 5: 2}\n",
      "2\n"
     ]
    }
   ],
   "source": [
    "# Example usage:\n",
    "coins = [1, 3, 4]\n",
    "amount = 6\n",
    "print(coin_change(coins, amount))"
   ]
  },
  {
   "cell_type": "markdown",
   "metadata": {},
   "source": [
    "Ok, so that's it!  Make sure you understand the above code.  We'll ask you to implement this in the next lab."
   ]
  },
  {
   "cell_type": "code",
   "execution_count": null,
   "metadata": {},
   "outputs": [],
   "source": []
  }
 ],
 "metadata": {
  "colab": {
   "provenance": []
  },
  "kernelspec": {
   "display_name": "Python 3 (ipykernel)",
   "language": "python",
   "name": "python3"
  },
  "language_info": {
   "codemirror_mode": {
    "name": "ipython",
    "version": 3
   },
   "file_extension": ".py",
   "mimetype": "text/x-python",
   "name": "python",
   "nbconvert_exporter": "python",
   "pygments_lexer": "ipython3",
   "version": "3.10.14"
  }
 },
 "nbformat": 4,
 "nbformat_minor": 4
}
