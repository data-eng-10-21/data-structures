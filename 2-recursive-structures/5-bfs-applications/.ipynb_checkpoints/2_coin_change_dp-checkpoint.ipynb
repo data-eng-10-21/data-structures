{
 "cells": [
  {
   "cell_type": "markdown",
   "id": "6bce0032-bfaf-48b7-b732-a22faea606f6",
   "metadata": {},
   "source": [
    "# Dynamic Programming approach"
   ]
  },
  {
   "cell_type": "markdown",
   "id": "9c777080-768c-4dd1-870e-5f9dbdc7b69a",
   "metadata": {},
   "source": [
    "### Introduction\n",
    "\n",
    "Below we show the dynamic programming approach.  The key is to keep a list where each element represents a different target amount."
   ]
  },
  {
   "cell_type": "markdown",
   "id": "3c0f5c5e-ab60-4658-acfa-ba5cf2e1d908",
   "metadata": {},
   "source": [
    "For example, if we have the following:"
   ]
  },
  {
   "cell_type": "code",
   "execution_count": 26,
   "id": "7daa57e5-4ee6-4ed0-986f-cfef4448bf73",
   "metadata": {
    "tags": []
   },
   "outputs": [],
   "source": [
    "coins = [1, 3, 4]\n",
    "amount = 7"
   ]
  },
  {
   "cell_type": "markdown",
   "id": "4386ac0d-a9b4-4059-8b6d-304ef4808cbb",
   "metadata": {},
   "source": [
    "Then we initialize a list up to that target amount of 7 + 1 (because we go from 0 to 7, so we want 8 total elements)."
   ]
  },
  {
   "cell_type": "code",
   "execution_count": 28,
   "id": "24729578-7f71-4d2e-9ffc-dbb451207d45",
   "metadata": {
    "tags": []
   },
   "outputs": [
    {
     "data": {
      "text/plain": [
       "[inf, inf, inf, inf, inf, inf, inf, inf]"
      ]
     },
     "execution_count": 28,
     "metadata": {},
     "output_type": "execute_result"
    }
   ],
   "source": [
    "coins_for_amnt = [float('inf')] * (amount + 1)\n",
    "\n",
    "coins_for_amnt"
   ]
  },
  {
   "cell_type": "markdown",
   "id": "6c77b73e-06f5-49ce-aa1d-b3dff00df184",
   "metadata": {},
   "source": [
    "Then for each value 0 through 7, we want to keep track of how many coins it takes to get to that amount.\n",
    "\n",
    "To determine it, for each index, we iterate through each of our available coins.  If the coin is smaller than the amount (eg. if our coin 1 is less than an amount of 2), then we find the number of coins needed by first calculating the remainder:\n",
    "\n",
    "`remainder = a - coin`\n",
    "\n",
    "And then seeing how many coins were needed to reach that remainder.  For example, let's say our list currently looks like the following:"
   ]
  },
  {
   "cell_type": "code",
   "execution_count": 43,
   "id": "11f6a0d6-57a2-492e-ac8d-8f87e8e23e59",
   "metadata": {
    "tags": []
   },
   "outputs": [],
   "source": [
    "coins = [1, 3]\n",
    "amount = 7"
   ]
  },
  {
   "cell_type": "code",
   "execution_count": 44,
   "id": "9c85e1b3-2e74-4834-857b-98878eae4bfb",
   "metadata": {
    "tags": []
   },
   "outputs": [
    {
     "data": {
      "text/plain": [
       "[0, 1, 2, 1, 999, 999, 999, 999]"
      ]
     },
     "execution_count": 44,
     "metadata": {},
     "output_type": "execute_result"
    }
   ],
   "source": [
    "coins_for_amnt = [0, 1, 2, 1, 999, 999, 999, 999]\n",
    "\n",
    "coins_for_amnt"
   ]
  },
  {
   "cell_type": "markdown",
   "id": "540d4a1d-2734-4db1-b5b7-05e4b32574bb",
   "metadata": {},
   "source": [
    "The above is saying it takes 0 coins to make 0, 1 coin to make an amount of 1, and two coins to make an amount of 2, and 1 coin (the 3 piece) to make an amount of 3. "
   ]
  },
  {
   "cell_type": "markdown",
   "id": "b104ab2b-644f-4bce-b4bd-feba70ebdc04",
   "metadata": {},
   "source": [
    "Now let's say we want to see what it will take to get to fill in the next amount of 4.  We can do this by  iterating through each coin, starting with our coin of 1 to see how to get there. \n",
    "\n",
    "So starting with our coin of 1, we can use that 1 piece combined with 4 - 1 = 3, to say it will take number of coins at position 3 (our remainder), plus one additional coin to get to this target amount of 4.  \n",
    "\n",
    "In other words:"
   ]
  },
  {
   "cell_type": "code",
   "execution_count": 36,
   "id": "57ca66a8-db92-4fd6-b3cd-1525b88ebbb9",
   "metadata": {
    "tags": []
   },
   "outputs": [
    {
     "data": {
      "text/plain": [
       "2"
      ]
     },
     "execution_count": 36,
     "metadata": {},
     "output_type": "execute_result"
    }
   ],
   "source": [
    "current_coin = 1\n",
    "a = 4\n",
    "coins_at_remainder = coins_for_amnt[a - current_coin] # coins_for_amount[4 - 1] -> 1\n",
    "coins_for_amnt[a] = coins_at_remainder + 1 # -> 2\n",
    "\n",
    "coins_for_amnt[a]"
   ]
  },
  {
   "cell_type": "markdown",
   "id": "fbc20b4a-1266-41ba-92e6-2f96da66326c",
   "metadata": {},
   "source": [
    "And because we want to make sure we are exhaustive, we go through each of our denominations and make sure we cannot achieve a better result with a different coin."
   ]
  },
  {
   "cell_type": "code",
   "execution_count": 45,
   "id": "2721ca5f-84a3-48c0-ab30-f547fc16880c",
   "metadata": {
    "tags": []
   },
   "outputs": [],
   "source": [
    "coins_for_amnt = [0, 1, 2, 1, 999, 999, 999, 999]\n",
    "a = 4\n",
    "coins = [1, 3]\n",
    "\n",
    "for current_coint in coins:\n",
    "    if current_coin <= amount: # if current coin is greater than amount, it can't be used\n",
    "        coins_for_amnt[a] = min(coins_for_amnt[a], coins_for_amnt[a - current_coint] + 1)"
   ]
  },
  {
   "cell_type": "code",
   "execution_count": 46,
   "id": "d46c8d5a-cfc2-40fe-867c-fa287482095d",
   "metadata": {
    "tags": []
   },
   "outputs": [
    {
     "data": {
      "text/plain": [
       "[0, 1, 2, 1, 2, 999, 999, 999]"
      ]
     },
     "execution_count": 46,
     "metadata": {},
     "output_type": "execute_result"
    }
   ],
   "source": [
    "coins_for_amnt"
   ]
  },
  {
   "cell_type": "markdown",
   "id": "6c39ed94-f9f2-4781-b14d-d0a51a227c43",
   "metadata": {},
   "source": [
    "### All together"
   ]
  },
  {
   "cell_type": "markdown",
   "id": "9ed2df45-274a-4235-bef4-9de7f5e5e0b2",
   "metadata": {},
   "source": [
    "Ok, now see if you can understand the entire algorithm."
   ]
  },
  {
   "cell_type": "code",
   "execution_count": 49,
   "id": "d8c1574f-6003-41cd-9904-5e3e5ace4bd3",
   "metadata": {},
   "outputs": [],
   "source": [
    "def coinChange(coins: list[int], amount: int) -> int:\n",
    "    # Create dp array with amount+1 elements initialized to float('inf')\n",
    "    coins_for_amnt = [float('inf')] * (amount + 1)\n",
    "    coins_for_amnt[0] = 0  # Base case: no coins are needed to make amount 0\n",
    "\n",
    "    # Iterate over each amount from 1 to amount\n",
    "    for a in range(1, amount + 1):\n",
    "        # Iterate over each coin\n",
    "        print('amount is', a)\n",
    "        for coin in coins:\n",
    "            if a - coin >= 0:\n",
    "                coins_for_amnt[a] = min(coins_for_amnt[a], coins_for_amnt[a - coin] + 1)\n",
    "                print('   coin is', coin)\n",
    "                print('   total coins needed is', coins_for_amnt[a - coin] + 1)\n",
    "                print('   coins for amnt', coins_for_amnt)\n",
    "                \n",
    "    # If dp[amount] is still float('inf'), return -1, otherwise return dp[amount]\n",
    "    return coins_for_amnt[amount] if coins_for_amnt[amount] != float('inf') else -1"
   ]
  },
  {
   "cell_type": "code",
   "execution_count": 50,
   "id": "1d836028-5d0e-42a1-a39e-cc5ad7bebe49",
   "metadata": {
    "tags": []
   },
   "outputs": [
    {
     "name": "stdout",
     "output_type": "stream",
     "text": [
      "amount is 1\n",
      "   coin is 1\n",
      "   total coins needed is 1\n",
      "   coins for amnt [0, 1, inf, inf, inf, inf, inf, inf]\n",
      "amount is 2\n",
      "   coin is 1\n",
      "   total coins needed is 2\n",
      "   coins for amnt [0, 1, 2, inf, inf, inf, inf, inf]\n",
      "amount is 3\n",
      "   coin is 1\n",
      "   total coins needed is 3\n",
      "   coins for amnt [0, 1, 2, 3, inf, inf, inf, inf]\n",
      "   coin is 3\n",
      "   total coins needed is 1\n",
      "   coins for amnt [0, 1, 2, 1, inf, inf, inf, inf]\n",
      "amount is 4\n",
      "   coin is 1\n",
      "   total coins needed is 2\n",
      "   coins for amnt [0, 1, 2, 1, 2, inf, inf, inf]\n",
      "   coin is 3\n",
      "   total coins needed is 2\n",
      "   coins for amnt [0, 1, 2, 1, 2, inf, inf, inf]\n",
      "   coin is 4\n",
      "   total coins needed is 1\n",
      "   coins for amnt [0, 1, 2, 1, 1, inf, inf, inf]\n",
      "amount is 5\n",
      "   coin is 1\n",
      "   total coins needed is 2\n",
      "   coins for amnt [0, 1, 2, 1, 1, 2, inf, inf]\n",
      "   coin is 3\n",
      "   total coins needed is 3\n",
      "   coins for amnt [0, 1, 2, 1, 1, 2, inf, inf]\n",
      "   coin is 4\n",
      "   total coins needed is 2\n",
      "   coins for amnt [0, 1, 2, 1, 1, 2, inf, inf]\n",
      "amount is 6\n",
      "   coin is 1\n",
      "   total coins needed is 3\n",
      "   coins for amnt [0, 1, 2, 1, 1, 2, 3, inf]\n",
      "   coin is 3\n",
      "   total coins needed is 2\n",
      "   coins for amnt [0, 1, 2, 1, 1, 2, 2, inf]\n",
      "   coin is 4\n",
      "   total coins needed is 3\n",
      "   coins for amnt [0, 1, 2, 1, 1, 2, 2, inf]\n",
      "amount is 7\n",
      "   coin is 1\n",
      "   total coins needed is 3\n",
      "   coins for amnt [0, 1, 2, 1, 1, 2, 2, 3]\n",
      "   coin is 3\n",
      "   total coins needed is 2\n",
      "   coins for amnt [0, 1, 2, 1, 1, 2, 2, 2]\n",
      "   coin is 4\n",
      "   total coins needed is 2\n",
      "   coins for amnt [0, 1, 2, 1, 1, 2, 2, 2]\n"
     ]
    },
    {
     "data": {
      "text/plain": [
       "2"
      ]
     },
     "execution_count": 50,
     "metadata": {},
     "output_type": "execute_result"
    }
   ],
   "source": [
    "coins = [1, 3, 4]\n",
    "amount = 7\n",
    "\n",
    "coinChange(coins, amount)"
   ]
  }
 ],
 "metadata": {
  "kernelspec": {
   "display_name": "Python 3 (ipykernel)",
   "language": "python",
   "name": "python3"
  },
  "language_info": {
   "codemirror_mode": {
    "name": "ipython",
    "version": 3
   },
   "file_extension": ".py",
   "mimetype": "text/x-python",
   "name": "python",
   "nbconvert_exporter": "python",
   "pygments_lexer": "ipython3",
   "version": "3.10.14"
  }
 },
 "nbformat": 4,
 "nbformat_minor": 5
}
