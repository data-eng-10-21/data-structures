{
 "cells": [
  {
   "cell_type": "markdown",
   "metadata": {
    "id": "hs_3txXg9kXg"
   },
   "source": [
    "# Coin Change Review Lab\n"
   ]
  },
  {
   "cell_type": "markdown",
   "metadata": {
    "tags": []
   },
   "source": [
    "### Introduction\n",
    "\n",
    "In this lesson, we'll review both breadth first search and the coin change problem with breadth first search.  Let's get started."
   ]
  },
  {
   "cell_type": "markdown",
   "metadata": {},
   "source": [
    "### Reviewing breadth first search"
   ]
  },
  {
   "cell_type": "markdown",
   "metadata": {},
   "source": [
    "Ok, so first review breadth first search, coding out the algorithm below."
   ]
  },
  {
   "cell_type": "code",
   "execution_count": null,
   "metadata": {},
   "outputs": [],
   "source": [
    "# a\n",
    "# / \\ \n",
    "# b. c\n",
    "#    / \\ \n",
    "#    d  e"
   ]
  },
  {
   "cell_type": "code",
   "execution_count": 1,
   "metadata": {
    "colab": {
     "base_uri": "https://localhost:8080/"
    },
    "id": "BKBi5UjF5vlq",
    "outputId": "81a74a1f-04bf-48fa-b779-e48c66c013ff",
    "tags": []
   },
   "outputs": [
    {
     "name": "stdout",
     "output_type": "stream",
     "text": [
      "a\n",
      "b\n",
      "c\n",
      "d\n",
      "e\n"
     ]
    }
   ],
   "source": [
    "tree = {'a': ['b', 'c'], 'c': ['d', 'e']}\n",
    "root = 'a'\n",
    "\n",
    "from collections import deque\n",
    "def bfs(root, tree):\n",
    "    pass\n",
    "\n",
    "\n",
    "bfs(root, tree)\n",
    "\n",
    "# you should see the following printed below\n",
    "# a\n",
    "# b\n",
    "# c\n",
    "# d\n",
    "# e"
   ]
  },
  {
   "cell_type": "markdown",
   "metadata": {},
   "source": [
    "Ok, so now what if we wanted to not only print out each node as it's processed, but also print out the level of the node.  For example, let's see our tree again but this time with levels.\n",
    "\n",
    "> Note: Keep track of each level with a tuple.  We'll get you started."
   ]
  },
  {
   "cell_type": "code",
   "execution_count": 2,
   "metadata": {
    "tags": []
   },
   "outputs": [],
   "source": [
    "# a      1\n",
    "# / \\ \n",
    "# b. c    2\n",
    "#    \\\n",
    "#    d    3\n",
    "#    /\\\n",
    "#.  e. f   4"
   ]
  },
  {
   "cell_type": "code",
   "execution_count": 4,
   "metadata": {
    "colab": {
     "base_uri": "https://localhost:8080/"
    },
    "id": "-wX9hgN39Sur",
    "outputId": "0b6574ce-b341-49fd-8846-221e9e4594cf",
    "tags": []
   },
   "outputs": [],
   "source": [
    "tree = {'a': ['b', 'c'], 'c': ['d'], 'd': ['e', 'f']}\n",
    "root = 'a'\n",
    "\n",
    "from collections import deque\n",
    "def bfs_with_level(root, tree):\n",
    "    queue = deque([(root, 1)])\n",
    "    # fill in the rest below\n",
    "\n",
    "bfs_with_level(root, tree)\n",
    "\n",
    "# a 1\n",
    "# b 2\n",
    "# c 2\n",
    "# d 3\n",
    "# e 4\n",
    "# f 4"
   ]
  },
  {
   "cell_type": "markdown",
   "metadata": {},
   "source": [
    "Ok, now this time keep track of the level or distance with a dictionary. "
   ]
  },
  {
   "cell_type": "code",
   "execution_count": 5,
   "metadata": {
    "colab": {
     "base_uri": "https://localhost:8080/"
    },
    "id": "jMypqqUj-DkL",
    "outputId": "c1e17529-83ee-4688-eb5c-16465d2467e2",
    "tags": []
   },
   "outputs": [],
   "source": [
    "tree = {'a': ['b', 'c'], 'c': ['d']}\n",
    "root = 'a'\n",
    "from collections import deque\n",
    "\n",
    "def bfs_with_level(root, tree):\n",
    "    pass\n",
    "    \n",
    "\n",
    "\n",
    "bfs_with_level(root, tree)"
   ]
  },
  {
   "cell_type": "markdown",
   "metadata": {},
   "source": [
    "### The coin change problem, revisited"
   ]
  },
  {
   "cell_type": "markdown",
   "metadata": {},
   "source": [
    "Ok, so now use a binary search tree to keep return the fewest number of coins needed, given a list of coins and a `target_amount`."
   ]
  },
  {
   "cell_type": "code",
   "execution_count": 9,
   "metadata": {
    "id": "uuxAfOLd5-_7",
    "tags": []
   },
   "outputs": [],
   "source": [
    "import collections\n",
    "\n",
    "def coin_change(coins: list[int], target_amount: int) -> int:\n",
    "    pass"
   ]
  },
  {
   "cell_type": "code",
   "execution_count": 8,
   "metadata": {
    "colab": {
     "base_uri": "https://localhost:8080/"
    },
    "id": "CzKixQ-W6ADJ",
    "outputId": "18e2b646-f7b3-4de9-e08f-a60479642402",
    "tags": []
   },
   "outputs": [
    {
     "name": "stdout",
     "output_type": "stream",
     "text": [
      "queue deque([0])\n",
      "current steps 0\n",
      "current amount 0\n",
      "dist {0: 0}\n",
      "queue deque([1, 3, 4, 5])\n",
      "current steps 1\n",
      "current amount 1\n",
      "dist {0: 0, 1: 1, 3: 1, 4: 1, 5: 1}\n",
      "queue deque([3, 4, 5, 2, 4, 5, 6])\n",
      "current steps 1\n",
      "current amount 3\n",
      "dist {0: 0, 1: 1, 3: 1, 4: 2, 5: 2, 2: 2, 6: 2}\n",
      "2\n"
     ]
    }
   ],
   "source": [
    "# Example usage:\n",
    "coins = [1, 3, 4, 5]\n",
    "amount = 7\n",
    "coin_change(coins, amount)\n",
    "# 2\n"
   ]
  }
 ],
 "metadata": {
  "colab": {
   "provenance": []
  },
  "kernelspec": {
   "display_name": "Python 3 (ipykernel)",
   "language": "python",
   "name": "python3"
  },
  "language_info": {
   "codemirror_mode": {
    "name": "ipython",
    "version": 3
   },
   "file_extension": ".py",
   "mimetype": "text/x-python",
   "name": "python",
   "nbconvert_exporter": "python",
   "pygments_lexer": "ipython3",
   "version": "3.10.14"
  }
 },
 "nbformat": 4,
 "nbformat_minor": 4
}
