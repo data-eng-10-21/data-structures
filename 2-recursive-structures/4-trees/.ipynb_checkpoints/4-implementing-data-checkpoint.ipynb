{
 "cells": [
  {
   "cell_type": "markdown",
   "id": "230fa0bd-836a-4d8a-9cc9-a289d11be5bc",
   "metadata": {},
   "source": [
    "# Implementing Data  - Stacks, Queues and Trees"
   ]
  },
  {
   "cell_type": "markdown",
   "id": "2f902dbc-af72-4749-8955-06936cf789c6",
   "metadata": {},
   "source": [
    "### Introduction"
   ]
  },
  {
   "cell_type": "markdown",
   "id": "e04acc88-4cfe-48a6-b000-f95c5c93e569",
   "metadata": {},
   "source": [
    "In this lesson, we'll cover some essential data structures, and how to implement them in Python."
   ]
  },
  {
   "cell_type": "markdown",
   "id": "a0738282-1ad0-4bff-b1ad-83ccac4ca5b0",
   "metadata": {},
   "source": [
    "### Describing Trees"
   ]
  },
  {
   "cell_type": "markdown",
   "id": "3ba47b6e-7660-411a-a058-9c2d67711de7",
   "metadata": {},
   "source": [
    "Let's say that we have the following tree."
   ]
  },
  {
   "cell_type": "markdown",
   "id": "71f8d4f9-5f65-4f1c-a444-7c6db56e7bef",
   "metadata": {},
   "source": [
    "<img src=\"./smaller-tree.png\" width=\"20%\">"
   ]
  },
  {
   "cell_type": "markdown",
   "id": "b4f5823a-bbdb-4ffb-b86b-566bc467c6ad",
   "metadata": {},
   "source": [
    "We can translate this tree into Python with the following code."
   ]
  },
  {
   "cell_type": "code",
   "execution_count": 1,
   "id": "72d61815-9665-4bf5-9e70-ac39f994f200",
   "metadata": {
    "tags": []
   },
   "outputs": [],
   "source": [
    "root_node = '6'\n",
    "\n",
    "tree = {\n",
    "    '6': ['9'],\n",
    "    '9': ['12', '11'],\n",
    "    '11': ['3']\n",
    "}"
   ]
  },
  {
   "cell_type": "markdown",
   "id": "33f71fe5-e3e2-4b3a-8227-6d22e1ef7d98",
   "metadata": {},
   "source": [
    "So we first describe the root_node.  And then for each node, we indicate each of the direct children.  So 6 only has one direct child of 9, and then 9 has two direct children of 12 and 11."
   ]
  },
  {
   "cell_type": "markdown",
   "id": "9dc9a3b4-80ca-40d2-87bf-ecf098cbb41b",
   "metadata": {},
   "source": [
    "### Describing Stacks"
   ]
  },
  {
   "cell_type": "markdown",
   "id": "4df4b48d-0953-4bac-b57b-3adb7cc957ae",
   "metadata": {},
   "source": [
    "Another data structure to learn is a stack.  A stack just means that we process nodes as `First in Last out`.  So if we add three elements to our stack: `first add 3, then add 4, then add 5`\n",
    "\n",
    "\n",
    "* 3\n",
    "* 4\n",
    "* 5\n",
    "\n",
    "This means that when we then start removing elements, we'll remove the 5 first, and then the 4, and then 3 (first in, last out)."
   ]
  },
  {
   "cell_type": "markdown",
   "id": "08b5047c-a7fa-4d61-9699-80a3b014d0f3",
   "metadata": {},
   "source": [
    "A stack is very easy to implement in Python."
   ]
  },
  {
   "cell_type": "code",
   "execution_count": 7,
   "id": "375f640d-dd6b-4c4d-a1b0-0853ccc739ec",
   "metadata": {
    "tags": []
   },
   "outputs": [
    {
     "data": {
      "text/plain": [
       "[3, 4, 5]"
      ]
     },
     "execution_count": 7,
     "metadata": {},
     "output_type": "execute_result"
    }
   ],
   "source": [
    "stack = []\n",
    "\n",
    "stack.append(3)\n",
    "stack.append(4)\n",
    "stack.append(5)\n",
    "\n",
    "stack"
   ]
  },
  {
   "cell_type": "code",
   "execution_count": 8,
   "id": "4728c622-154a-4f8b-9cb7-22ab1e3586c5",
   "metadata": {
    "tags": []
   },
   "outputs": [
    {
     "data": {
      "text/plain": [
       "(5, 4, 3)"
      ]
     },
     "execution_count": 8,
     "metadata": {},
     "output_type": "execute_result"
    }
   ],
   "source": [
    "stack.pop(), stack.pop(), stack.pop()"
   ]
  },
  {
   "cell_type": "markdown",
   "id": "7337976e-2f05-4f25-8f49-0498d58d1ddf",
   "metadata": {},
   "source": [
    "For a stack, we can really just use a python list.  This is because, with a stack, we are adding to the end, and removing from the end.  And lists perform these operations quite well."
   ]
  },
  {
   "cell_type": "markdown",
   "id": "d46117f9-f974-49c0-ad1c-f291b11fd479",
   "metadata": {},
   "source": [
    "### Working with a queue"
   ]
  },
  {
   "cell_type": "markdown",
   "id": "0528641f-d9f4-4b47-a8cd-95a184ff81c5",
   "metadata": {},
   "source": [
    "Now a queue, works just like a queue at a bank.  The first person to enter the line is the person who gets served.  First in first out."
   ]
  },
  {
   "cell_type": "markdown",
   "id": "cea3f9b4-cce4-4fce-a51d-45bab6a0ee6f",
   "metadata": {},
   "source": [
    "So if we add 3, 4 and 5."
   ]
  },
  {
   "cell_type": "code",
   "execution_count": 9,
   "id": "a701bcdb-923b-43ac-922b-c07d503a7ced",
   "metadata": {
    "tags": []
   },
   "outputs": [],
   "source": [
    "queue = [3, 4, 5]"
   ]
  },
  {
   "cell_type": "markdown",
   "id": "fedfdaf8-7732-418c-971d-bb470caa7903",
   "metadata": {},
   "source": [
    "This means that when we remove the elements, we want 3, and then 4, and then 5 to be removed.  Now if you think about it, this means we that when we remove elements we remove from the beginning on the list.\n",
    "\n",
    "Now remember that removing from the beginning of a list has a cost of O(n), as it means every successive element will have to shift over one.  So instead, we can go back to a cost of O(1) if we use the Python `deque` object."
   ]
  },
  {
   "cell_type": "code",
   "execution_count": 10,
   "id": "cd5b5b9a-0d17-46ec-b432-fec6e05612da",
   "metadata": {
    "tags": []
   },
   "outputs": [],
   "source": [
    "from collections import deque"
   ]
  },
  {
   "cell_type": "code",
   "execution_count": null,
   "id": "88ffbde4-a06f-41c0-a698-d1b99a9d7e07",
   "metadata": {},
   "outputs": [],
   "source": [
    "queue.append(item)"
   ]
  },
  {
   "cell_type": "code",
   "execution_count": null,
   "id": "33713a5b-285b-4abe-a70d-03ce8fed25ac",
   "metadata": {},
   "outputs": [],
   "source": [
    "queue.popleft()"
   ]
  }
 ],
 "metadata": {
  "kernelspec": {
   "display_name": "Python 3 (ipykernel)",
   "language": "python",
   "name": "python3"
  },
  "language_info": {
   "codemirror_mode": {
    "name": "ipython",
    "version": 3
   },
   "file_extension": ".py",
   "mimetype": "text/x-python",
   "name": "python",
   "nbconvert_exporter": "python",
   "pygments_lexer": "ipython3",
   "version": "3.10.14"
  }
 },
 "nbformat": 4,
 "nbformat_minor": 5
}
