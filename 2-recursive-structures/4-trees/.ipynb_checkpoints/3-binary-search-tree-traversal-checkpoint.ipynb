{
 "cells": [
  {
   "cell_type": "markdown",
   "id": "fd1c19a3-80b3-4758-b217-552e2f1227f5",
   "metadata": {},
   "source": [
    "# BST Operations"
   ]
  },
  {
   "cell_type": "markdown",
   "id": "3134c4fe-4183-462e-b34b-118b21f4f286",
   "metadata": {},
   "source": [
    "### Introduction"
   ]
  },
  {
   "cell_type": "markdown",
   "id": "d140e7bb-1685-485c-87c8-f54598969d1a",
   "metadata": {},
   "source": [
    "In this lesson, we'll move through a couple of common operations with binary search trees: inserting into a binary search tree, and in order traversal.  As we'll see, both operations are fairly similar, and are also made easier with recursion."
   ]
  },
  {
   "cell_type": "markdown",
   "id": "6fb82824-7340-4397-9610-1654a397594e",
   "metadata": {},
   "source": [
    "### Traversing a Lopsided BST"
   ]
  },
  {
   "cell_type": "markdown",
   "id": "b74b34c5-bbd9-4baf-9116-2ceabd699306",
   "metadata": {},
   "source": [
    "Let's begin writing the code for traversing a binary search tree.  First, let's say we have a binary search tree that is lopsided."
   ]
  },
  {
   "cell_type": "code",
   "execution_count": 45,
   "id": "2b53d3bc-0a0d-41a3-a46a-348ec1b9446d",
   "metadata": {
    "tags": []
   },
   "outputs": [],
   "source": [
    "nums = [6, 4, 2]"
   ]
  },
  {
   "cell_type": "markdown",
   "id": "efbac54c-65f3-44fd-8250-94a1e03506fc",
   "metadata": {},
   "source": [
    "Our BST would like the following."
   ]
  },
  {
   "cell_type": "code",
   "execution_count": 46,
   "id": "44b359dc-2c5a-4779-ad4a-7a958f59072b",
   "metadata": {
    "tags": []
   },
   "outputs": [],
   "source": [
    "#      6\n",
    "#    /\n",
    "#   4 \n",
    "#  /\n",
    "#  2 "
   ]
  },
  {
   "cell_type": "markdown",
   "id": "5af3a8a0-a4d8-4bc2-8702-205d2ca9eae8",
   "metadata": {},
   "source": [
    "We can con construct our BST with the following."
   ]
  },
  {
   "cell_type": "code",
   "execution_count": 24,
   "id": "3a70e495-85a8-437b-8cfb-3b83e7ef43bc",
   "metadata": {
    "tags": []
   },
   "outputs": [],
   "source": [
    "class TreeNode:\n",
    "    def __init__(self, x):\n",
    "        self.val = x\n",
    "        self.left = None\n",
    "        self.right = None"
   ]
  },
  {
   "cell_type": "code",
   "execution_count": 39,
   "id": "2a468119-63e1-46ac-9a90-fbaa74ddcf38",
   "metadata": {
    "tags": []
   },
   "outputs": [],
   "source": [
    "root_node = TreeNode(6)\n",
    "root_node.left = TreeNode(4)\n",
    "root_node.left.left = TreeNode(2)"
   ]
  },
  {
   "cell_type": "markdown",
   "id": "c7fa88b0-4589-4abf-b9d6-56830328cc93",
   "metadata": {},
   "source": [
    "Ok, so now let's try printing out the numbers from lowest to highest.  If we do, it will be 2, 4, 6.  Notice what is occurring: for each node, we keep moving left until we get to the leaf node, and then we print.\n",
    "\n",
    "Note that we can accomplish this with recursion like so."
   ]
  },
  {
   "cell_type": "code",
   "execution_count": 41,
   "id": "ee29603b-a347-4b86-8314-016bd138c363",
   "metadata": {
    "tags": []
   },
   "outputs": [],
   "source": [
    "def inorder_traversal(root):\n",
    "    if root: # exit once we get to \n",
    "        inorder_traversal(root.left)\n",
    "        print(root.val)"
   ]
  },
  {
   "cell_type": "code",
   "execution_count": 42,
   "id": "a3f3a4e4-4005-47d9-837a-fa78f34aac67",
   "metadata": {
    "tags": []
   },
   "outputs": [
    {
     "name": "stdout",
     "output_type": "stream",
     "text": [
      "2\n",
      "4\n",
      "6\n"
     ]
    }
   ],
   "source": [
    "inorder_traversal(root_node)"
   ]
  },
  {
   "cell_type": "markdown",
   "id": "9ffed833-9f96-40ad-ab45-235f10f06d08",
   "metadata": {
    "tags": []
   },
   "source": [
    "So above, the `inorder_traversal(root.left)` tells python to keep moving left.  This stops when `root.left` is `None`.  And then once the leaf node is reached then the printing will occur.  In other words, the code will deconstruct to the following."
   ]
  },
  {
   "cell_type": "code",
   "execution_count": 44,
   "id": "90195f78-244d-4503-a532-8c94e8ef8ba9",
   "metadata": {
    "tags": []
   },
   "outputs": [],
   "source": [
    "# inorder_traversal(6)\n",
    "    # inorder_traversal(4)\n",
    "        # inorder_traversal(2)\n",
    "            # inorder_traversal(None)             \n",
    "        # print(2)\n",
    "     # print(4)\n",
    "   # print(6)"
   ]
  },
  {
   "cell_type": "markdown",
   "id": "13436f27-bdaf-4b81-86d3-cddbf3eba2e6",
   "metadata": {
    "tags": []
   },
   "source": [
    "### Traversing a BST"
   ]
  },
  {
   "cell_type": "markdown",
   "id": "c7caf4bb-4bc5-4945-9d86-19709d631927",
   "metadata": {},
   "source": [
    "Now what if we have a tree that looks like the following:"
   ]
  },
  {
   "cell_type": "code",
   "execution_count": 48,
   "id": "ef69ef45-4272-452d-87de-0f036ecfe2d4",
   "metadata": {
    "tags": []
   },
   "outputs": [],
   "source": [
    "#     6\n",
    "#    /  \\\n",
    "#   4  11\n",
    "# / \\\n",
    "# 2 5\n",
    "# /\n",
    "# 1"
   ]
  },
  {
   "cell_type": "code",
   "execution_count": 49,
   "id": "459c992e-7cf6-47e7-a7dd-78d30ac95e92",
   "metadata": {
    "tags": []
   },
   "outputs": [],
   "source": [
    "root_node = TreeNode(6)\n",
    "root_node.left = TreeNode(4)\n",
    "root_node.right = TreeNode(11)\n",
    "root_node.left.left = TreeNode(2)\n",
    "root_node.left.right = TreeNode(5)\n",
    "root_node.left.left.left = TreeNode(1)"
   ]
  },
  {
   "cell_type": "markdown",
   "id": "8dc15d8e-3719-4284-973c-05cb646b0f06",
   "metadata": {},
   "source": [
    "Now so far that our function looks like the following:"
   ]
  },
  {
   "cell_type": "code",
   "execution_count": 50,
   "id": "47eaf446-8fd5-492f-a3af-0869af1a3d35",
   "metadata": {
    "tags": []
   },
   "outputs": [],
   "source": [
    "def inorder_traversal(root):\n",
    "    if root: # exit once we get to \n",
    "        inorder_traversal(root.left)\n",
    "        print(root.val)"
   ]
  },
  {
   "cell_type": "markdown",
   "id": "1f3a5c47-5acd-4451-9d28-a4b89101d2ba",
   "metadata": {},
   "source": [
    "But this only prints out the left side of each node."
   ]
  },
  {
   "cell_type": "code",
   "execution_count": 52,
   "id": "6732e5be-0840-45e4-9eef-6e05d7150b76",
   "metadata": {
    "tags": []
   },
   "outputs": [
    {
     "name": "stdout",
     "output_type": "stream",
     "text": [
      "1\n",
      "2\n",
      "4\n",
      "6\n"
     ]
    }
   ],
   "source": [
    "inorder_traversal(root_node)"
   ]
  },
  {
   "cell_type": "code",
   "execution_count": null,
   "id": "830d4e54-89dc-4d04-a79d-defb6978a754",
   "metadata": {},
   "outputs": [],
   "source": [
    "# inorder_traversal(6)\n",
    "    # inorder_traversal(4)\n",
    "        # inorder_traversal(2)\n",
    "            # inorder_traversal(1)\n",
    "            # print(1)\n",
    "        # print(2)\n",
    "    # print(4)\n",
    "# print(6)"
   ]
  },
  {
   "cell_type": "markdown",
   "id": "25dc2121-00fc-455e-81d3-8f90c54492de",
   "metadata": {},
   "source": [
    "So if instead we want to also print out the right side, we can do so with the following."
   ]
  },
  {
   "cell_type": "markdown",
   "id": "fd525f0a-b526-45a4-aac7-da1d11498bd2",
   "metadata": {},
   "source": [
    "### Constructing a BST"
   ]
  },
  {
   "cell_type": "markdown",
   "id": "618187a3-799a-4a55-94ff-103ff71875ff",
   "metadata": {},
   "source": [
    "Let's say that we are given the following numbers and asked to construct a binary search tree.  Now remember that with our binary search tree, each node is greater than all of the nodes in it's left subtree, and less than all of the nodes in it's right subtree."
   ]
  },
  {
   "cell_type": "markdown",
   "id": "32da0871-a325-4d0d-b9bf-5f0d1aa45025",
   "metadata": {},
   "source": [
    "So if we have the following numbers."
   ]
  },
  {
   "cell_type": "code",
   "execution_count": 16,
   "id": "40d5ae7e-a8a6-4280-91cf-2e15f2921c61",
   "metadata": {
    "tags": []
   },
   "outputs": [],
   "source": [
    "root_node = 6\n",
    "\n",
    "nums = [11, 4, 2, 1]"
   ]
  },
  {
   "cell_type": "markdown",
   "id": "28c7fe3a-b7be-4b10-8848-68e5bb8da16c",
   "metadata": {},
   "source": [
    "Now let's think through how the tree would be constructed."
   ]
  },
  {
   "cell_type": "code",
   "execution_count": 9,
   "id": "258097e3-7750-406f-b040-2f8ac95acce9",
   "metadata": {
    "tags": []
   },
   "outputs": [],
   "source": [
    "class TreeNode:\n",
    "    def __init__(self, x):\n",
    "        self.val = x\n",
    "        self.left = None\n",
    "        self.right = None"
   ]
  },
  {
   "cell_type": "code",
   "execution_count": 13,
   "id": "bdb2bf62-d601-45a3-a52b-bd564aba9685",
   "metadata": {
    "tags": []
   },
   "outputs": [
    {
     "data": {
      "text/plain": [
       "<__main__.TreeNode at 0x104f43dc0>"
      ]
     },
     "execution_count": 13,
     "metadata": {},
     "output_type": "execute_result"
    }
   ],
   "source": [
    "root_node = TreeNode(6)\n",
    "root_node"
   ]
  },
  {
   "cell_type": "code",
   "execution_count": 14,
   "id": "177dbac8-299f-4341-b958-53bbb8d3857f",
   "metadata": {
    "tags": []
   },
   "outputs": [
    {
     "data": {
      "text/plain": [
       "6"
      ]
     },
     "execution_count": 14,
     "metadata": {},
     "output_type": "execute_result"
    }
   ],
   "source": [
    "root_node.val"
   ]
  },
  {
   "cell_type": "code",
   "execution_count": 15,
   "id": "16df2918-a04b-4b41-ae85-063d54884ae4",
   "metadata": {
    "tags": []
   },
   "outputs": [],
   "source": [
    "root_node.left = TreeNode(4)\n",
    "root_node.right = TreeNode(11)"
   ]
  },
  {
   "cell_type": "code",
   "execution_count": null,
   "id": "cd099138-0014-4881-9e12-5244c7dcefc0",
   "metadata": {},
   "outputs": [],
   "source": [
    "#   6\n",
    "# /  \\\n",
    "# 4  11"
   ]
  },
  {
   "cell_type": "markdown",
   "id": "7f0bae74-9aad-443e-9819-f563cdf66ff2",
   "metadata": {},
   "source": [
    "Now let's say we get a new number of 2."
   ]
  },
  {
   "cell_type": "code",
   "execution_count": null,
   "id": "9903a583-e73c-46b2-bbab-355b14d23511",
   "metadata": {},
   "outputs": [],
   "source": [
    "Our logic will be, for the root node check if the value is left to the current root node"
   ]
  },
  {
   "cell_type": "code",
   "execution_count": null,
   "id": "69f616aa-2e9b-4991-ad18-d8be049bb53e",
   "metadata": {},
   "outputs": [],
   "source": [
    "def insert_into_bst(root, val):\n",
    "    if not root:\n",
    "        return TreeNode(val)\n",
    "    \n",
    "    if val < root.val:\n",
    "        root.left = insert_into_bst(root.left, val)\n",
    "    else:\n",
    "        root.right = insert_into_bst(root.right, val)\n",
    "    \n",
    "    return root"
   ]
  },
  {
   "cell_type": "code",
   "execution_count": 7,
   "id": "90f4abdd-fbd7-4cd7-9429-b66f82ad2eb0",
   "metadata": {
    "tags": []
   },
   "outputs": [
    {
     "data": {
      "text/plain": [
       "<__main__.TreeNode at 0x1049c1b70>"
      ]
     },
     "execution_count": 7,
     "metadata": {},
     "output_type": "execute_result"
    }
   ],
   "source": [
    "insert_into_bst(root_node, 3)"
   ]
  },
  {
   "cell_type": "code",
   "execution_count": 8,
   "id": "6a9a4092-754b-435d-9033-4435c06719fe",
   "metadata": {
    "tags": []
   },
   "outputs": [
    {
     "data": {
      "text/plain": [
       "<__main__.TreeNode at 0x104f40910>"
      ]
     },
     "execution_count": 8,
     "metadata": {},
     "output_type": "execute_result"
    }
   ],
   "source": [
    "root_node.left"
   ]
  },
  {
   "cell_type": "markdown",
   "id": "de680ca2-8357-4da7-a2de-05b6c5d2d39a",
   "metadata": {},
   "source": [
    "<img src=\"./bst-tree.png\" width=\"40%\">"
   ]
  }
 ],
 "metadata": {
  "kernelspec": {
   "display_name": "Python 3 (ipykernel)",
   "language": "python",
   "name": "python3"
  },
  "language_info": {
   "codemirror_mode": {
    "name": "ipython",
    "version": 3
   },
   "file_extension": ".py",
   "mimetype": "text/x-python",
   "name": "python",
   "nbconvert_exporter": "python",
   "pygments_lexer": "ipython3",
   "version": "3.10.14"
  }
 },
 "nbformat": 4,
 "nbformat_minor": 5
}
