{
 "cells": [
  {
   "cell_type": "markdown",
   "id": "81c70f7d-6a07-403a-a179-53c7582cae17",
   "metadata": {},
   "source": [
    "# Introduction to Trees"
   ]
  },
  {
   "cell_type": "markdown",
   "id": "e8bcf6ed-8e3e-48cb-b98a-b7ab7fa368bf",
   "metadata": {},
   "source": [
    "### Introduction"
   ]
  },
  {
   "cell_type": "markdown",
   "id": "1e37fcdf-93b0-416c-9ef8-7d5c3dc842ab",
   "metadata": {},
   "source": [
    "In this lesson, we'll learn about trees.  Trees are an important data structure as they occur naturally in our every day life, and also can be efficient way for storing and retrieving information.\n",
    "\n",
    "For example, you can understand the way files are stored on a disk as a tree."
   ]
  },
  {
   "cell_type": "markdown",
   "id": "cfbe48f0-a431-4d20-b33d-d35c215d264c",
   "metadata": {},
   "source": [
    "<img src=\"./file-tree.png\" width=\"60%\">"
   ]
  },
  {
   "cell_type": "markdown",
   "id": "562d8510-056d-4241-a538-c761fa6ec70a",
   "metadata": {},
   "source": [
    "And software like spell checkers use trees to check if a word is valid (left), whereas databases index data for quick lookup and sorting using trees (right). "
   ]
  },
  {
   "cell_type": "markdown",
   "id": "2071d94d-a565-4a4c-a26a-d6f8b7509e62",
   "metadata": {},
   "source": [
    "<img src=\"./trie-spell-checker.png\" width=\"40%\"> <img src=\"./b-tree-index.png\" width=\"50%\">"
   ]
  },
  {
   "cell_type": "markdown",
   "id": "79dac295-9033-427b-8d0d-387124f430c7",
   "metadata": {},
   "source": [
    "Ok, let's get started."
   ]
  },
  {
   "cell_type": "markdown",
   "id": "eb2b1158-1167-4490-9839-00e462547f4a",
   "metadata": {},
   "source": [
    "### Definining Trees"
   ]
  },
  {
   "cell_type": "markdown",
   "id": "f8e68daa-2aa2-4520-9bf5-acf043677156",
   "metadata": {},
   "source": [
    "A **tree** is a non-linear, hierarchical data structure.  \n",
    "\n",
    "#### Non linear"
   ]
  },
  {
   "cell_type": "markdown",
   "id": "0e54c39b-d651-4151-88c3-46359838477a",
   "metadata": {},
   "source": [
    "Most of the data structures we learned about so far are *linear data structures* that store our data sequentially.  For example, if we diagram our linked list, it may look like the following:"
   ]
  },
  {
   "cell_type": "markdown",
   "id": "cfa196b7-cb03-46a0-b007-a5fa2c4c4adf",
   "metadata": {},
   "source": [
    "<img src=\"./linked-list.png\">"
   ]
  },
  {
   "cell_type": "markdown",
   "id": "56fc7cb4-c405-491d-b2d1-3ee5a433ec8c",
   "metadata": {},
   "source": [
    "Notice that only one element follows the next.\n",
    "\n",
    "With a tree, by contrast, more than one element can follow the next."
   ]
  },
  {
   "cell_type": "markdown",
   "id": "9328579e-de45-41d6-bc78-b7750cd0504f",
   "metadata": {},
   "source": [
    "<img src=\"./tree-eg.png\" width=\"40%\">"
   ]
  },
  {
   "cell_type": "markdown",
   "id": "5484873e-f995-48f7-b493-a33459b1a282",
   "metadata": {},
   "source": [
    "For example, in the diagram above, both 8 and 9 follow the 6 at the very top."
   ]
  },
  {
   "cell_type": "markdown",
   "id": "2939c44a-341d-4899-9e6c-90e33f632e4d",
   "metadata": {},
   "source": [
    "#### Hierarchical "
   ]
  },
  {
   "cell_type": "markdown",
   "id": "154ac903-8709-427c-84f5-47ce8f2be8be",
   "metadata": {},
   "source": [
    "And trees are *hierarchical* as the relation goes from top to bottom.  For this reason, they are also called *directional* or *acyclic*.  The data is organized from top to bottom until reaching a stopping point."
   ]
  },
  {
   "cell_type": "markdown",
   "id": "fad11591-fe3b-483a-83b2-025063eba287",
   "metadata": {},
   "source": [
    "### Defining some components"
   ]
  },
  {
   "cell_type": "markdown",
   "id": "6d26ffa5-4129-4b63-82c8-dfafc2edf5dd",
   "metadata": {},
   "source": [
    "So now that we saw how a tree is non-linear (multiple elements succeed another) and hierarchical (moving from top to bottom), let's learn about some of the components of a tree."
   ]
  },
  {
   "cell_type": "markdown",
   "id": "e1a0b7fd-62f4-47a6-b621-ad48a8477210",
   "metadata": {},
   "source": [
    "<img src=\"./tree-eg.png\" width=\"40%\">"
   ]
  },
  {
   "cell_type": "markdown",
   "id": "26bdf81d-53b3-4c25-8077-3747591170ea",
   "metadata": {},
   "source": [
    "A tree consists of nodes and edges.  A *node* connects the data (just like in a linked list), and an edge represents the connection of one node to other nodes.  \n",
    "\n",
    "> Above each of the yellow circles are nodes, while the lines are edges."
   ]
  },
  {
   "cell_type": "markdown",
   "id": "a22154a7-8d53-4639-8f74-0c6aaf6edbf7",
   "metadata": {},
   "source": [
    "Following with the analogy of a tree, the node at the very top (above the number 6), is called the **root node**.  And at the very bottom are the leaf nodes.\n",
    "\n",
    "* The root node has no parent nodes.\n",
    "* The leaf nodes have no children nodes.\n",
    "\n",
    "So again, looking at the diagram above 6 is our parent node, and 4, 7, 12 and 3 are all leaf nodes."
   ]
  },
  {
   "cell_type": "markdown",
   "id": "9cae3d22-8666-487c-9423-62b517f5fb87",
   "metadata": {},
   "source": [
    "### Relationships between nodes"
   ]
  },
  {
   "cell_type": "markdown",
   "id": "53e4aaa8-8b02-40c0-bb1e-8af970955fbd",
   "metadata": {},
   "source": [
    "<img src=\"./tree-eg.png\" width=\"40%\">"
   ]
  },
  {
   "cell_type": "markdown",
   "id": "3e6029aa-7211-4225-b35a-3634b1ecbfba",
   "metadata": {},
   "source": [
    "Now we can also define relationships between nodes, similar to how you would if describing a family tree."
   ]
  },
  {
   "cell_type": "markdown",
   "id": "90bc13b2-96fb-4733-833c-f69b34f744cf",
   "metadata": {},
   "source": [
    "**Child node**: A node is a *child* of another node, when it directly succeeds the node.  For example, both 4 and 7 are children of 8.  \n",
    "\n",
    "**Parent node**: 8 is the *parent* node of 4 and 7, as it directly preceeds them.  \n",
    "\n",
    "**Sibling Nodes**: And finally, 4 and 7 are referred to as sybling nodes, as they share their parent."
   ]
  },
  {
   "cell_type": "markdown",
   "id": "7d1c837f-213d-4ae8-82e8-2ec7a77f09e6",
   "metadata": {},
   "source": [
    "### Resources\n",
    "\n",
    "\n",
    "[Programviz trees](https://www.programiz.com/dsa/trees)\n",
    "\n",
    "[Simplilearn - Definitions](https://www.simplilearn.com/tutorials/data-structure-tutorial/trees-in-data-structure)"
   ]
  },
  {
   "cell_type": "markdown",
   "id": "2bc53656-81ae-406d-b211-d2ac5c218b84",
   "metadata": {},
   "source": [
    "[Breadth First Search](https://favtutor.com/blogs/breadth-first-search-python)"
   ]
  },
  {
   "cell_type": "markdown",
   "id": "3128a8fb-54c6-446e-8618-fe985233761f",
   "metadata": {},
   "source": [
    "[Tree Data Structure - Defined](https://www.geeksforgeeks.org/introduction-to-tree-data-structure-and-algorithm-tutorials/)"
   ]
  },
  {
   "cell_type": "markdown",
   "id": "867177bf-de5e-4cb1-90c2-0e85d91c4d99",
   "metadata": {},
   "source": [
    "[Trie Data Structure](https://www.geeksforgeeks.org/trie-insert-and-search/)"
   ]
  },
  {
   "cell_type": "markdown",
   "id": "37de13c3-4aac-42f3-9925-626752fe8561",
   "metadata": {},
   "source": [
    "[Btree video](https://www.youtube.com/watch?v=RAgCa_IDCNQ)"
   ]
  }
 ],
 "metadata": {
  "kernelspec": {
   "display_name": "Python 3 (ipykernel)",
   "language": "python",
   "name": "python3"
  },
  "language_info": {
   "codemirror_mode": {
    "name": "ipython",
    "version": 3
   },
   "file_extension": ".py",
   "mimetype": "text/x-python",
   "name": "python",
   "nbconvert_exporter": "python",
   "pygments_lexer": "ipython3",
   "version": "3.9.12"
  }
 },
 "nbformat": 4,
 "nbformat_minor": 5
}
