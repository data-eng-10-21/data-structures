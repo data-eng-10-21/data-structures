{
 "cells": [
  {
   "cell_type": "markdown",
   "id": "1a7f9faa-6800-45c2-af27-384cb6f4a627",
   "metadata": {
    "tags": []
   },
   "source": [
    "# Appending to a BST"
   ]
  },
  {
   "cell_type": "markdown",
   "id": "02cd8338-a645-421f-ab11-ff9dacb894b7",
   "metadata": {},
   "source": [
    "### Introduction"
   ]
  },
  {
   "cell_type": "markdown",
   "id": "9763486e-0ffe-47c4-a86c-704638319fde",
   "metadata": {},
   "source": [
    "In the last lesson, we saw how we could print out a binary search tree.  And as we saw we can display print the nodes of a binary search tree, from lowest to highest like so."
   ]
  },
  {
   "cell_type": "code",
   "execution_count": null,
   "id": "7bf47441-6231-4494-a0cb-08118cff048e",
   "metadata": {},
   "outputs": [],
   "source": [
    "def inorder_traversal(root):\n",
    "    if root:\n",
    "        inorder_traversal(root.left)\n",
    "        print(root.val)\n",
    "        inorder_traversal(root.right)"
   ]
  },
  {
   "cell_type": "markdown",
   "id": "54858185-b737-4ec3-98f8-d0bea0bc639f",
   "metadata": {},
   "source": [
    "So we exit when there is no longer a `root.left` or a `root.right`, and if there is we do a recursive call through the left of the tree and then the right of the tree."
   ]
  },
  {
   "cell_type": "markdown",
   "id": "245a6c7f-6230-4e76-a9f2-292d26611aea",
   "metadata": {},
   "source": [
    "Now let's move on to adding to our binary search tree."
   ]
  },
  {
   "cell_type": "markdown",
   "id": "622e48f9-da0f-4afe-bee4-79f6bee0b763",
   "metadata": {},
   "source": [
    "### Appending to a BST"
   ]
  },
  {
   "cell_type": "markdown",
   "id": "bd952ac9-c934-4c1d-b5d4-1da1906fb058",
   "metadata": {},
   "source": [
    "Let's say that we are given the following numbers and asked to construct a binary search tree."
   ]
  },
  {
   "cell_type": "code",
   "execution_count": 5,
   "id": "5e70b1d9-5533-416e-b150-edd2d3173501",
   "metadata": {
    "tags": []
   },
   "outputs": [],
   "source": [
    "nums = [6, 4, 11]"
   ]
  },
  {
   "cell_type": "markdown",
   "id": "85790dc2-c1b0-40aa-aee2-801ccec85eb4",
   "metadata": {},
   "source": [
    "We can construct this tree by hand with the following."
   ]
  },
  {
   "cell_type": "code",
   "execution_count": 3,
   "id": "1d0d56e4-25e7-4a4a-b745-fa046975c6b7",
   "metadata": {
    "tags": []
   },
   "outputs": [],
   "source": [
    "class TreeNode:\n",
    "    def __init__(self, x):\n",
    "        self.val = x\n",
    "        self.left = None\n",
    "        self.right = None"
   ]
  },
  {
   "cell_type": "code",
   "execution_count": 4,
   "id": "593c9549-3570-4508-b779-10c83f30deb7",
   "metadata": {
    "tags": []
   },
   "outputs": [],
   "source": [
    "root_node = TreeNode(6)\n",
    "root_node.left = TreeNode(4)\n",
    "root_node.right = TreeNode(11)"
   ]
  },
  {
   "cell_type": "code",
   "execution_count": null,
   "id": "102fe44f-907d-4a4a-8043-332dcda491be",
   "metadata": {},
   "outputs": [],
   "source": [
    "#   6\n",
    "# /  \\\n",
    "# 4  11"
   ]
  },
  {
   "cell_type": "markdown",
   "id": "31b7c97b-4ad4-40ce-b43d-00a9c61fa850",
   "metadata": {},
   "source": [
    "And we know that we can print out these nodes like so."
   ]
  },
  {
   "cell_type": "code",
   "execution_count": 6,
   "id": "3c285390-88fd-4139-84a8-1d12f51ef0fe",
   "metadata": {
    "tags": []
   },
   "outputs": [],
   "source": [
    "def inorder_traversal(root):\n",
    "    if root:\n",
    "        inorder_traversal(root.left)\n",
    "        print(root.val)\n",
    "        inorder_traversal(root.right)"
   ]
  },
  {
   "cell_type": "code",
   "execution_count": 7,
   "id": "3fad85d0-0af8-4a65-8c05-510c03342772",
   "metadata": {
    "tags": []
   },
   "outputs": [
    {
     "name": "stdout",
     "output_type": "stream",
     "text": [
      "4\n",
      "6\n",
      "11\n"
     ]
    }
   ],
   "source": [
    "inorder_traversal(root_node)"
   ]
  },
  {
   "cell_type": "markdown",
   "id": "9579297e-3686-4cc9-a1a0-c59f0e0e1310",
   "metadata": {},
   "source": [
    "Now notice that appending to our tree follows similar logic to traversing it.  That is we want to visit each node (until the leaf node), and if the value is less than the current node move to the left, and if it is more move to the right."
   ]
  },
  {
   "cell_type": "code",
   "execution_count": 19,
   "id": "79b24b42-444a-46ce-aee1-229c134d25e0",
   "metadata": {
    "tags": []
   },
   "outputs": [],
   "source": [
    "def append_to_tree(root, val):\n",
    "    if not root:\n",
    "        print(val)\n",
    "    if root:\n",
    "        if val < root.val:\n",
    "            append_to_tree(root.left, val)\n",
    "        if val > root.val:\n",
    "            append_to_tree(root.right, val)\n",
    "            "
   ]
  },
  {
   "cell_type": "markdown",
   "id": "5d450eca-2353-445c-8ed1-650dfb48d1b7",
   "metadata": {},
   "source": [
    "Now let's say we get a new number of 12.  We'll proceed through something like the following."
   ]
  },
  {
   "cell_type": "code",
   "execution_count": 21,
   "id": "f5f9656d-9a65-4da1-b692-ed67fa946eea",
   "metadata": {
    "tags": []
   },
   "outputs": [
    {
     "name": "stdout",
     "output_type": "stream",
     "text": [
      "12\n"
     ]
    }
   ],
   "source": [
    "append_to_tree(root_node, 12)\n",
    "\n",
    "# append_to_tree(6, 12)\n",
    "    # 12 > 6     \n",
    "    # append_to_tree(root.right -> 11, 12)\n",
    "        # 12 > 11         \n",
    "        # append_to_tree(root.right -> None, 12)"
   ]
  },
  {
   "cell_type": "markdown",
   "id": "e3171799-af98-4cb3-a314-8159ff8264a2",
   "metadata": {},
   "source": [
    "But now instead of just printing out our tree, let's append to the current node.  We may want to write some code like the following:"
   ]
  },
  {
   "cell_type": "code",
   "execution_count": null,
   "id": "debb3024-f178-4586-9b0f-570f4a474fe6",
   "metadata": {},
   "outputs": [],
   "source": [
    "def append_to_tree(root, val):\n",
    "    if not root:\n",
    "        if val < previous.val:\n",
    "            previous.left = TreeNode(val)\n",
    "        else:\n",
    "            previous.right = TreeNode(val)\n",
    "    if root:\n",
    "        if val < root.val:\n",
    "            append_to_tree(root.left, val)\n",
    "        if val > root.val:\n",
    "            append_to_tree(root.right, val)"
   ]
  },
  {
   "cell_type": "markdown",
   "id": "b668a086-bbe4-498e-9dcd-08cbbcb93567",
   "metadata": {},
   "source": [
    "But of course there is no `previous`, the way our function is defined.  So instead we can write this logic as the following."
   ]
  },
  {
   "cell_type": "code",
   "execution_count": null,
   "id": "bfc7adad-e446-4a2a-a2a5-d88da80e9994",
   "metadata": {},
   "outputs": [],
   "source": [
    "def append_to_tree(root, val):\n",
    "    if root:\n",
    "        if val < root.val:\n",
    "            root.left = append_to_tree(root.left, val)\n",
    "        if val > root.val:\n",
    "            root.right = append_to_tree(root.right, val)\n",
    "        return root\n",
    "    else:\n",
    "        return TreeNode(val)\n",
    "        # if val < previous.val:\n",
    "        #     previous.left = TreeNode(val)\n",
    "        # else:\n",
    "        #     previous.right = TreeNode(val)"
   ]
  },
  {
   "cell_type": "markdown",
   "id": "4538ee5b-8310-452c-a856-ab7adc1e812a",
   "metadata": {},
   "source": [
    "One thing that may be confusing is that after recursively traversing through the tree, there is a re-assigning of the traversed nodes, when moving back up the recursive calls.  We can see this below."
   ]
  },
  {
   "cell_type": "code",
   "execution_count": 22,
   "id": "8bf7c2e2-40b4-4eca-ba37-e397030508de",
   "metadata": {
    "tags": []
   },
   "outputs": [],
   "source": [
    "#   6\n",
    "# /  \\\n",
    "# 4  11\n",
    "# append 12\n",
    "\n",
    "# append_to_tree(6, 12)\n",
    "    # 12 > 6 \n",
    "    # 6.right =      \n",
    "       # append_to_tree(6.right -> 11, 12) # 11\n",
    "        # 12 > 11\n",
    "        # 11.right = \n",
    "            # append_to_tree(11.right -> None, 12) # 12\n",
    "        # 11.right = 12\n",
    "    # 6.right = 11     "
   ]
  },
  {
   "cell_type": "markdown",
   "id": "087d54ab-d0ee-4800-8474-bb9d1fe20b1c",
   "metadata": {},
   "source": [
    "So there is a few different things going on with our `append_to_tree` function.  We are recursively traversing left or right down the tree, and for each node visited, we are performing a reassignment.  The only exception is when we get to the base case where we are attaching the new node."
   ]
  },
  {
   "cell_type": "code",
   "execution_count": 23,
   "id": "85fd35bf-f415-45b9-bec8-ce6407b6810f",
   "metadata": {
    "tags": []
   },
   "outputs": [],
   "source": [
    "def append_to_tree(root, val):\n",
    "    if not root:\n",
    "        return TreeNode(val)\n",
    "    else:\n",
    "        if val < root.val:\n",
    "            root.left = insert_into_bst(root.left, val)\n",
    "        else:\n",
    "            root.right = insert_into_bst(root.right, val)\n",
    "    \n",
    "        return root"
   ]
  }
 ],
 "metadata": {
  "kernelspec": {
   "display_name": "Python 3 (ipykernel)",
   "language": "python",
   "name": "python3"
  },
  "language_info": {
   "codemirror_mode": {
    "name": "ipython",
    "version": 3
   },
   "file_extension": ".py",
   "mimetype": "text/x-python",
   "name": "python",
   "nbconvert_exporter": "python",
   "pygments_lexer": "ipython3",
   "version": "3.10.14"
  }
 },
 "nbformat": 4,
 "nbformat_minor": 5
}
