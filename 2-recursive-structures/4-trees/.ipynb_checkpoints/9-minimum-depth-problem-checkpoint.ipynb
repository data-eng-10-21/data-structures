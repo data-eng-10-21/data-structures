{
 "cells": [
  {
   "cell_type": "markdown",
   "id": "272092ec-74c1-413c-ac31-bc165bd0c71d",
   "metadata": {},
   "source": [
    "# Min and Max Depth Walkthrough"
   ]
  },
  {
   "cell_type": "markdown",
   "id": "ac45172f-f058-4fdf-9a4a-31c5fd7ffe66",
   "metadata": {},
   "source": [
    "### Introduction"
   ]
  },
  {
   "cell_type": "markdown",
   "id": "40d7a0bf-d9a7-47b4-97f0-3c70f9bb6007",
   "metadata": {},
   "source": [
    "In this lesson, we'll work on the minimum depth problem.  \n",
    "\n",
    "> Given a binary tree, find its minimum depth.\n",
    "\n",
    "> The minimum depth is the number of nodes along the shortest path from the root node down to the nearest leaf node."
   ]
  },
  {
   "cell_type": "markdown",
   "id": "b99faa98-3929-4327-b09f-4548ca61518b",
   "metadata": {},
   "source": [
    "### BFS Approach"
   ]
  },
  {
   "cell_type": "markdown",
   "id": "cd5d1ae4-2a87-478c-8ba3-0f9d05564e10",
   "metadata": {},
   "source": [
    "Because this is tricky, we'll actually give you the solution using BFS.  But, pay attention, because then we'll ask you to solve it using DFS."
   ]
  },
  {
   "cell_type": "markdown",
   "id": "b8d62646-f0ff-4456-b530-99eb6682677c",
   "metadata": {},
   "source": [
    "Let's say that we have a tree like the following."
   ]
  },
  {
   "cell_type": "code",
   "execution_count": null,
   "id": "8af80f91-1458-47b2-9b72-f04deb092961",
   "metadata": {},
   "outputs": [],
   "source": [
    "#     3\n",
    "#    / \\\n",
    "#   9  20\n",
    "#      / \\\n",
    "#     15  7"
   ]
  },
  {
   "cell_type": "markdown",
   "id": "c8491d18-16a3-4412-bf48-777b622fe808",
   "metadata": {},
   "source": [
    "We can implement it like so."
   ]
  },
  {
   "cell_type": "code",
   "execution_count": 7,
   "id": "114acc86-ef92-490d-a85b-f9c32f071098",
   "metadata": {
    "tags": []
   },
   "outputs": [],
   "source": [
    "from collections import deque\n",
    "\n",
    "# Definition for a binary tree node.\n",
    "class TreeNode:\n",
    "    def __init__(self, val=0, left=None, right=None):\n",
    "        self.val = val\n",
    "        self.left = left\n",
    "        self.right = right"
   ]
  },
  {
   "cell_type": "code",
   "execution_count": 3,
   "id": "bfe0809e-b6fa-4265-a4e6-cfdc39d82851",
   "metadata": {
    "tags": []
   },
   "outputs": [],
   "source": [
    "root = TreeNode(3)\n",
    "root.left = TreeNode(9)\n",
    "root.right = TreeNode(20, TreeNode(15), TreeNode(7))"
   ]
  },
  {
   "cell_type": "markdown",
   "id": "883a5f8f-c659-41c2-b045-977efa2b0aba",
   "metadata": {},
   "source": [
    "Now remember that with BFS, we essentially implement a queue visiting the first node in the queue.  First, notice that because we are not using a dictionary to represent the tree, we have a different way implementing BFS."
   ]
  },
  {
   "cell_type": "code",
   "execution_count": 10,
   "id": "e7e14ac7-395e-40e9-9e46-ccc405d845a4",
   "metadata": {
    "tags": []
   },
   "outputs": [],
   "source": [
    "from collections import deque\n",
    "\n",
    "def bfs(root):\n",
    "    queue = deque([root])  # Initialize the queue with the root node and its depth\n",
    "    \n",
    "    while queue:\n",
    "        node = queue.popleft()\n",
    "        print(node.val)\n",
    "        if node.left:\n",
    "            queue.append(node.left)\n",
    "        if node.right:\n",
    "            queue.append(node.right)"
   ]
  },
  {
   "cell_type": "code",
   "execution_count": 11,
   "id": "f9b50281-d841-4eef-b9dd-495ae1a90523",
   "metadata": {
    "tags": []
   },
   "outputs": [
    {
     "name": "stdout",
     "output_type": "stream",
     "text": [
      "3\n",
      "9\n",
      "20\n",
      "15\n",
      "7\n"
     ]
    }
   ],
   "source": [
    "bfs(root)"
   ]
  },
  {
   "cell_type": "markdown",
   "id": "5b32dc9c-ec76-4001-a447-bffaed91d9a3",
   "metadata": {},
   "source": [
    "Now to also return the levels along with our traversal, we can update our code so that our queue contains both the node and the level for each node."
   ]
  },
  {
   "cell_type": "code",
   "execution_count": 19,
   "id": "57e80aec-ea07-4664-822b-4f82fa9341aa",
   "metadata": {
    "tags": []
   },
   "outputs": [],
   "source": [
    "def minDepth(root):\n",
    "    queue = deque([(root, 1)])  # Initialize the queue with the node and its depth\n",
    "    \n",
    "    while queue:\n",
    "        node, depth = queue.popleft()\n",
    "        \n",
    "        # if it's a leaf node, return the current depth\n",
    "        if not node.left and not node.right:\n",
    "            return node.val, depth\n",
    "        \n",
    "        # Add child nodes to the queue\n",
    "        if node.left:\n",
    "            queue.append((node.left, depth + 1)) # increment depth by 1\n",
    "        if node.right:\n",
    "            queue.append((node.right, depth + 1)) # increment depth by 1\n",
    "    "
   ]
  },
  {
   "cell_type": "code",
   "execution_count": 20,
   "id": "a74c9f16-4c3f-40d1-9b53-eb272a20ff3b",
   "metadata": {
    "tags": []
   },
   "outputs": [],
   "source": [
    "#     3\n",
    "#    / \\\n",
    "#   9  20\n",
    "#      / \\\n",
    "#     15  7"
   ]
  },
  {
   "cell_type": "code",
   "execution_count": 21,
   "id": "edca5ff6-a371-4798-a4a4-655400af97c0",
   "metadata": {
    "tags": []
   },
   "outputs": [
    {
     "data": {
      "text/plain": [
       "(9, 2)"
      ]
     },
     "execution_count": 21,
     "metadata": {},
     "output_type": "execute_result"
    }
   ],
   "source": [
    "minDepth(root)"
   ]
  },
  {
   "cell_type": "markdown",
   "id": "1ae7a442-2dc9-4e82-a3df-454076d10d43",
   "metadata": {},
   "source": [
    "### Finding maximum depth"
   ]
  },
  {
   "cell_type": "markdown",
   "id": "c2de5200-d7b6-475b-9da7-be42885d6bcf",
   "metadata": {},
   "source": [
    "Another leetcode problem is to find the maximum depth.  This is pretty similar.  The only change is to remove the `if` condition that checks for a leaf node, and instead exit the function once the queue is complete.  "
   ]
  },
  {
   "cell_type": "code",
   "execution_count": 23,
   "id": "c2e45f37-7d25-4023-98a5-d53b1a23a055",
   "metadata": {
    "tags": []
   },
   "outputs": [],
   "source": [
    "def maxDepth(root):\n",
    "    queue = deque([(root, 1)])  # Initialize the queue with the node and its depth\n",
    "    \n",
    "    while queue:\n",
    "        node, depth = queue.popleft()\n",
    "        \n",
    "        # Add child nodes to the queue\n",
    "        if node.left:\n",
    "            queue.append((node.left, depth + 1)) # increment depth by 1\n",
    "        if node.right:\n",
    "            queue.append((node.right, depth + 1)) # increment depth by 1\n",
    "    \n",
    "    return node.val, depth"
   ]
  },
  {
   "cell_type": "code",
   "execution_count": 24,
   "id": "fdccaa73-d3cf-4dc5-a018-b4ad362c5d68",
   "metadata": {
    "tags": []
   },
   "outputs": [
    {
     "data": {
      "text/plain": [
       "(7, 3)"
      ]
     },
     "execution_count": 24,
     "metadata": {},
     "output_type": "execute_result"
    }
   ],
   "source": [
    "maxDepth(root)"
   ]
  }
 ],
 "metadata": {
  "kernelspec": {
   "display_name": "Python 3 (ipykernel)",
   "language": "python",
   "name": "python3"
  },
  "language_info": {
   "codemirror_mode": {
    "name": "ipython",
    "version": 3
   },
   "file_extension": ".py",
   "mimetype": "text/x-python",
   "name": "python",
   "nbconvert_exporter": "python",
   "pygments_lexer": "ipython3",
   "version": "3.10.14"
  }
 },
 "nbformat": 4,
 "nbformat_minor": 5
}
