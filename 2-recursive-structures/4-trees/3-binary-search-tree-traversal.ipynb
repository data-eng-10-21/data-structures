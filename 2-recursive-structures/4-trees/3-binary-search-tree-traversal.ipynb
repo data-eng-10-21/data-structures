{
 "cells": [
  {
   "cell_type": "markdown",
   "id": "fd1c19a3-80b3-4758-b217-552e2f1227f5",
   "metadata": {},
   "source": [
    "# BST Operations"
   ]
  },
  {
   "cell_type": "markdown",
   "id": "3134c4fe-4183-462e-b34b-118b21f4f286",
   "metadata": {},
   "source": [
    "### Introduction"
   ]
  },
  {
   "cell_type": "markdown",
   "id": "d140e7bb-1685-485c-87c8-f54598969d1a",
   "metadata": {},
   "source": [
    "In this lesson, we'll move through a couple of common operations with binary search trees: inserting into a binary search tree, and in order traversal.  As we'll see, both operations are fairly similar, and are also made easier with recursion."
   ]
  },
  {
   "cell_type": "markdown",
   "id": "6fb82824-7340-4397-9610-1654a397594e",
   "metadata": {},
   "source": [
    "### Traversing a Lopsided BST"
   ]
  },
  {
   "cell_type": "markdown",
   "id": "b74b34c5-bbd9-4baf-9116-2ceabd699306",
   "metadata": {},
   "source": [
    "Let's begin writing the code for traversing a binary search tree.  First, let's say we have a binary search tree that is lopsided."
   ]
  },
  {
   "cell_type": "code",
   "execution_count": 45,
   "id": "2b53d3bc-0a0d-41a3-a46a-348ec1b9446d",
   "metadata": {
    "tags": []
   },
   "outputs": [],
   "source": [
    "nums = [6, 4, 2]"
   ]
  },
  {
   "cell_type": "markdown",
   "id": "efbac54c-65f3-44fd-8250-94a1e03506fc",
   "metadata": {},
   "source": [
    "Our BST would like the following."
   ]
  },
  {
   "cell_type": "code",
   "execution_count": 46,
   "id": "44b359dc-2c5a-4779-ad4a-7a958f59072b",
   "metadata": {
    "tags": []
   },
   "outputs": [],
   "source": [
    "#      6\n",
    "#    /\n",
    "#   4 \n",
    "#  /\n",
    "#  2 "
   ]
  },
  {
   "cell_type": "markdown",
   "id": "5af3a8a0-a4d8-4bc2-8702-205d2ca9eae8",
   "metadata": {},
   "source": [
    "We can con construct our BST with the following."
   ]
  },
  {
   "cell_type": "code",
   "execution_count": 24,
   "id": "3a70e495-85a8-437b-8cfb-3b83e7ef43bc",
   "metadata": {
    "tags": []
   },
   "outputs": [],
   "source": [
    "class TreeNode:\n",
    "    def __init__(self, x):\n",
    "        self.val = x\n",
    "        self.left = None\n",
    "        self.right = None"
   ]
  },
  {
   "cell_type": "code",
   "execution_count": 39,
   "id": "2a468119-63e1-46ac-9a90-fbaa74ddcf38",
   "metadata": {
    "tags": []
   },
   "outputs": [],
   "source": [
    "root_node = TreeNode(6)\n",
    "root_node.left = TreeNode(4)\n",
    "root_node.left.left = TreeNode(2)"
   ]
  },
  {
   "cell_type": "markdown",
   "id": "c7fa88b0-4589-4abf-b9d6-56830328cc93",
   "metadata": {},
   "source": [
    "Ok, so now let's try printing out the numbers from lowest to highest.  If we do, it will be 2, 4, 6.  Notice what is occurring: for each node, we keep moving left until we get to the leaf node, and then we print.\n",
    "\n",
    "Note that we can accomplish this with recursion like so."
   ]
  },
  {
   "cell_type": "code",
   "execution_count": 41,
   "id": "ee29603b-a347-4b86-8314-016bd138c363",
   "metadata": {
    "tags": []
   },
   "outputs": [],
   "source": [
    "def inorder_traversal(root):\n",
    "    if root: # exit once we get to \n",
    "        inorder_traversal(root.left)\n",
    "        print(root.val)"
   ]
  },
  {
   "cell_type": "code",
   "execution_count": 42,
   "id": "a3f3a4e4-4005-47d9-837a-fa78f34aac67",
   "metadata": {
    "tags": []
   },
   "outputs": [
    {
     "name": "stdout",
     "output_type": "stream",
     "text": [
      "2\n",
      "4\n",
      "6\n"
     ]
    }
   ],
   "source": [
    "inorder_traversal(root_node)"
   ]
  },
  {
   "cell_type": "markdown",
   "id": "9ffed833-9f96-40ad-ab45-235f10f06d08",
   "metadata": {
    "tags": []
   },
   "source": [
    "So above, the `inorder_traversal(root.left)` tells python to keep moving left.  This stops when `root.left` is `None`.  And then once the leaf node is reached then the printing will occur.  In other words, the code will deconstruct to the following."
   ]
  },
  {
   "cell_type": "code",
   "execution_count": 44,
   "id": "90195f78-244d-4503-a532-8c94e8ef8ba9",
   "metadata": {
    "tags": []
   },
   "outputs": [],
   "source": [
    "# inorder_traversal(6)\n",
    "    # inorder_traversal(4)\n",
    "        # inorder_traversal(2)\n",
    "            # inorder_traversal(None)             \n",
    "        # print(2)\n",
    "     # print(4)\n",
    "   # print(6)"
   ]
  },
  {
   "cell_type": "markdown",
   "id": "13436f27-bdaf-4b81-86d3-cddbf3eba2e6",
   "metadata": {
    "tags": []
   },
   "source": [
    "### Traversing a BST"
   ]
  },
  {
   "cell_type": "markdown",
   "id": "c7caf4bb-4bc5-4945-9d86-19709d631927",
   "metadata": {},
   "source": [
    "Now what if we have a tree that looks like the following:"
   ]
  },
  {
   "cell_type": "code",
   "execution_count": 48,
   "id": "ef69ef45-4272-452d-87de-0f036ecfe2d4",
   "metadata": {
    "tags": []
   },
   "outputs": [],
   "source": [
    "#     6\n",
    "#    /  \\\n",
    "#   4  11\n",
    "# / \\\n",
    "# 2 5\n",
    "# /\n",
    "# 1"
   ]
  },
  {
   "cell_type": "code",
   "execution_count": 49,
   "id": "459c992e-7cf6-47e7-a7dd-78d30ac95e92",
   "metadata": {
    "tags": []
   },
   "outputs": [],
   "source": [
    "root_node = TreeNode(6)\n",
    "root_node.left = TreeNode(4)\n",
    "root_node.right = TreeNode(11)\n",
    "root_node.left.left = TreeNode(2)\n",
    "root_node.left.right = TreeNode(5)\n",
    "root_node.left.left.left = TreeNode(1)"
   ]
  },
  {
   "cell_type": "markdown",
   "id": "8dc15d8e-3719-4284-973c-05cb646b0f06",
   "metadata": {},
   "source": [
    "Now so far that our function looks like the following:"
   ]
  },
  {
   "cell_type": "code",
   "execution_count": 50,
   "id": "47eaf446-8fd5-492f-a3af-0869af1a3d35",
   "metadata": {
    "tags": []
   },
   "outputs": [],
   "source": [
    "def inorder_traversal(root):\n",
    "    if root: # exit once we get to \n",
    "        inorder_traversal(root.left)\n",
    "        print(root.val)"
   ]
  },
  {
   "cell_type": "markdown",
   "id": "1f3a5c47-5acd-4451-9d28-a4b89101d2ba",
   "metadata": {},
   "source": [
    "But this only prints out the left side of each node."
   ]
  },
  {
   "cell_type": "code",
   "execution_count": 52,
   "id": "6732e5be-0840-45e4-9eef-6e05d7150b76",
   "metadata": {
    "tags": []
   },
   "outputs": [
    {
     "name": "stdout",
     "output_type": "stream",
     "text": [
      "1\n",
      "2\n",
      "4\n",
      "6\n"
     ]
    }
   ],
   "source": [
    "inorder_traversal(root_node)"
   ]
  },
  {
   "cell_type": "code",
   "execution_count": null,
   "id": "830d4e54-89dc-4d04-a79d-defb6978a754",
   "metadata": {},
   "outputs": [],
   "source": [
    "# inorder_traversal(6)\n",
    "    # inorder_traversal(4)\n",
    "        # inorder_traversal(2)\n",
    "            # inorder_traversal(1)\n",
    "            # print(1)\n",
    "        # print(2)\n",
    "    # print(4)\n",
    "# print(6)"
   ]
  },
  {
   "cell_type": "markdown",
   "id": "25dc2121-00fc-455e-81d3-8f90c54492de",
   "metadata": {},
   "source": [
    "So if instead we want to also print out the right side, we can do so with the following."
   ]
  },
  {
   "cell_type": "code",
   "execution_count": null,
   "id": "1e312e3f-7661-4b9c-841e-0874e072adf2",
   "metadata": {},
   "outputs": [],
   "source": [
    "def inorder_traversal(root):\n",
    "    if root:\n",
    "        inorder_traversal(root.left)\n",
    "        print(root.val)\n",
    "        inorder_traversal(root.right)"
   ]
  },
  {
   "cell_type": "markdown",
   "id": "421693d8-b0c7-4db7-ba75-2473cc43e05a",
   "metadata": {},
   "source": [
    "Think about what this deconstructs to."
   ]
  },
  {
   "cell_type": "code",
   "execution_count": 53,
   "id": "faa91e1c-0c27-47fd-a183-34eb68a4137e",
   "metadata": {
    "tags": []
   },
   "outputs": [],
   "source": [
    "#     6\n",
    "#    /  \\\n",
    "#   4  11\n",
    "# / \\\n",
    "# 2 5\n",
    "# /\n",
    "# 1\n",
    "\n",
    "# inorder_traversal(6.left -> 4)\n",
    "    # inorder_traversal(4.left -> 2)\n",
    "        # inorder_traversal(2.left -> 1)\n",
    "            # inorder_traversal(1.left -> None)\n",
    "            # print(1)\n",
    "            # inorder_traversal(1.right -> None)\n",
    "        # print(2) \n",
    "        # inorder_traversal(2.right -> None) \n",
    "    # print(4)\n",
    "    # inorder_traversal(4.right -> 5)\n",
    "        # inorder_traversal(5.left - None)         \n",
    "        # print(5)\n",
    "        # inorder_traversal(5.right -> None)\n",
    "    # print(6)\n",
    "    # inorder_traversal(6.right -> 11)\n",
    "        # inorder_traversal(11.left -> None)\n",
    "        # print(11)\n",
    "        # inorder_traversal(11.right -> None)"
   ]
  }
 ],
 "metadata": {
  "kernelspec": {
   "display_name": "Python 3 (ipykernel)",
   "language": "python",
   "name": "python3"
  },
  "language_info": {
   "codemirror_mode": {
    "name": "ipython",
    "version": 3
   },
   "file_extension": ".py",
   "mimetype": "text/x-python",
   "name": "python",
   "nbconvert_exporter": "python",
   "pygments_lexer": "ipython3",
   "version": "3.10.14"
  }
 },
 "nbformat": 4,
 "nbformat_minor": 5
}
