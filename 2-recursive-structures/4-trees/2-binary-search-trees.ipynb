{
 "cells": [
  {
   "cell_type": "markdown",
   "id": "1d1ee289-e40a-41fd-8a2b-d085f5109f60",
   "metadata": {},
   "source": [
    "# Binary Search Trees"
   ]
  },
  {
   "cell_type": "markdown",
   "id": "ec34f2b7-ef71-4b18-9b32-b90d3ff8c728",
   "metadata": {},
   "source": [
    "### Introduction"
   ]
  },
  {
   "cell_type": "markdown",
   "id": "b1ee64fe-2911-4e7e-9e58-67fe143e9c8c",
   "metadata": {},
   "source": [
    "Now that we learned about the fundamentals of trees let's move onto a very useful tree for finding data, which is a binary search tree (BST)."
   ]
  },
  {
   "cell_type": "markdown",
   "id": "21a372de-23fe-44df-9bb3-6b17145baf4a",
   "metadata": {},
   "source": [
    "### Definining Binary Search Trees"
   ]
  },
  {
   "cell_type": "markdown",
   "id": "169de551-eba2-4635-b6f0-773a39ff0369",
   "metadata": {},
   "source": [
    "Now before getting to a binary search tree, it's also worth definining a plain old binary tree.\n",
    "\n",
    "* **Binary tree** - A binary tree is a tree where each node has at most two children."
   ]
  },
  {
   "cell_type": "markdown",
   "id": "974cc7d5-1224-47c8-9fc1-bf17a08dc238",
   "metadata": {},
   "source": [
    "> Our diagram below consists of a binary tree."
   ]
  },
  {
   "cell_type": "markdown",
   "id": "9746beff-5827-423f-940d-4e749bec012f",
   "metadata": {},
   "source": [
    "<img src=\"./tree-eg.png\" width=\"40%\">"
   ]
  },
  {
   "cell_type": "markdown",
   "id": "60619bcf-9476-4ae3-9cef-2e9c7736c1b3",
   "metadata": {},
   "source": [
    "Now let's say that you want to see if an element is located in the tree above.  Just because the tree is binary doesn't really help us.  There's not a specific order to the elements.  That's where the *binary search tree* comes into play."
   ]
  },
  {
   "cell_type": "markdown",
   "id": "25c5b215-c960-47bb-9ff4-f1732dcf710a",
   "metadata": {},
   "source": [
    "### Seeing a binary search tree"
   ]
  },
  {
   "cell_type": "markdown",
   "id": "768955e6-a23d-4f93-9faa-885f2a46cf13",
   "metadata": {},
   "source": [
    "Ok, so  below is a binary search tree."
   ]
  },
  {
   "cell_type": "markdown",
   "id": "6d8cf821-5d47-4a29-869d-33c0ff27eee3",
   "metadata": {},
   "source": [
    "<img src=\"./bst-tree.png\" width=\"40%\">"
   ]
  },
  {
   "cell_type": "markdown",
   "id": "a8809919-4da0-4a1e-b245-c32aed475339",
   "metadata": {},
   "source": [
    "With a binary search tree each node is greater than all of the nodes in it's left subtree, and less than all of the nodes in it's right subtree.\n",
    "\n",
    "For example, if you look at the root node, you can see it is greater than all of the elefments to it's left (4, 1, and 5).  However, also notice that this holds true for each node.  For example, looking at the 4, the node to the left (1) is smaller and the node to the right (5), is larger. "
   ]
  },
  {
   "cell_type": "markdown",
   "id": "3e38a522-4fec-4b39-9571-0dea17cb9843",
   "metadata": {},
   "source": [
    "### Interacting with it"
   ]
  },
  {
   "cell_type": "markdown",
   "id": "a0973a1e-0f7d-4560-a00d-de2bd9eee5e8",
   "metadata": {},
   "source": [
    "An excellent way to get a feel for a binary search tree is to interact with it.  So take a minute, and try inserting some data in a binary search tree by going to [this website](https://www.cs.usfca.edu/~galles/visualization/BST.html)."
   ]
  },
  {
   "cell_type": "markdown",
   "id": "0e94dc67-cd94-4cff-b2b9-629a9594ad27",
   "metadata": {},
   "source": [
    "<img src=\"./bst-interact.png\" width=\"60%\">"
   ]
  },
  {
   "cell_type": "markdown",
   "id": "f98e1bb0-4802-42c4-abd2-47055812d382",
   "metadata": {},
   "source": [
    "Then after inserting a few elements, trying searching an element by adding a number to the left of the Find button, and clicking on the form."
   ]
  },
  {
   "cell_type": "markdown",
   "id": "5d020aed-903d-43ba-bfe2-7460077d3bf9",
   "metadata": {},
   "source": [
    "### Searching a binary search tree"
   ]
  },
  {
   "cell_type": "markdown",
   "id": "ceed21a5-e19a-4934-93eb-30876963979d",
   "metadata": {},
   "source": [
    "The main value of a binary search tree is that it is an efficient way to search for data, as opposed to a a linear data structure (like a list or a linked list).\n",
    "\n",
    "For example, say we are looking to see if the number 1 exists in the tree below.  Instead of going one by one through our nodes, we can use our knowledge that if an element is less than the current node, it is to the left."
   ]
  },
  {
   "cell_type": "markdown",
   "id": "f5f4edb1-192e-4110-a933-183f57d852cd",
   "metadata": {},
   "source": [
    "<img src=\"./bst-tree.png\" width=\"40%\">"
   ]
  },
  {
   "cell_type": "markdown",
   "id": "10ead3ea-bc8a-47cd-8900-7351e75d7cb8",
   "metadata": {},
   "source": [
    "So in our tree of 7 elements, it only takes three steps to find the number 1.  So what is the big 0 of searching in a tree like the one above?  It's $log_2 (n)$.\n",
    "\n",
    "> What is $log_2(n)$?  This is just the number of times you need to divide any number by 2, to get back down to 1.  \n",
    "\n",
    "For example $log_2(16) = 4$ as:"
   ]
  },
  {
   "cell_type": "code",
   "execution_count": 1,
   "id": "8897e2aa-181f-48ce-9717-ec4bed1968a2",
   "metadata": {},
   "outputs": [
    {
     "data": {
      "text/plain": [
       "1.0"
      ]
     },
     "execution_count": 1,
     "metadata": {},
     "output_type": "execute_result"
    }
   ],
   "source": [
    "16/2 # 8\n",
    "8/2 # 4\n",
    "4/2 # 2\n",
    "2/2 # 1"
   ]
  },
  {
   "cell_type": "markdown",
   "id": "046fc0ae-5c3f-4319-b79b-d6abf2150c86",
   "metadata": {},
   "source": [
    "If you think about in our search operation above, with each step, we divide the number of elements we are considering by two.  "
   ]
  },
  {
   "cell_type": "markdown",
   "id": "2922f98e-e27e-4272-a5fe-e4298f38f4b2",
   "metadata": {},
   "source": [
    "<img src=\"./bst-tree.png\" width=\"40%\">"
   ]
  },
  {
   "cell_type": "markdown",
   "id": "c7582d1f-870e-4d93-9709-a82b9386ca1b",
   "metadata": {},
   "source": [
    "Which is why the cost of searching is $log_2(n)$ -- because with each step, we can eliminate half of the nodes as candidates."
   ]
  },
  {
   "cell_type": "markdown",
   "id": "e24256ee-5980-4ee4-973f-7b15801d3617",
   "metadata": {},
   "source": [
    "### Balanced vs Unbalanced Trees"
   ]
  },
  {
   "cell_type": "markdown",
   "id": "487d423a-8729-4d59-8e9d-68df5c2528b6",
   "metadata": {},
   "source": [
    "Unfortunately, that efficient search only holds when our tree is balanced."
   ]
  },
  {
   "cell_type": "markdown",
   "id": "880af276-da55-444b-82c6-24c22b0df827",
   "metadata": {},
   "source": [
    "<img src=\"./bst-tree.png\" width=\"40%\"> <img src=\"./bst-unbalanced.png\" width=\"40%\">"
   ]
  },
  {
   "cell_type": "markdown",
   "id": "bb9495ef-7dec-466d-96e5-1a05118a6819",
   "metadata": {},
   "source": [
    "The tree to the left is balanced, while the tree to the right is unbalanced."
   ]
  },
  {
   "cell_type": "markdown",
   "id": "40688990-837b-4960-a73f-5cba2fac8876",
   "metadata": {},
   "source": [
    "Notice that the tree to the right is still a binary search tree as each child node is smaller, and so to the left of it's parent node.  \n",
    "\n",
    "But because the tree is unbalanced we no longer receive the benefit of eliminating half of the nodes of each step when moving through the tree.  So when a BST is balanced time complexity of searching is $log_2(n)$, and when completely unbalanced our tree looks just like a list, and the time complexity is back to $n$.  "
   ]
  },
  {
   "cell_type": "markdown",
   "id": "10988775-fc5b-4948-8bdd-92521c66b614",
   "metadata": {},
   "source": [
    "> There are techniques to *balance* a binary search tree, but that is beyond the scope of this lesson. "
   ]
  },
  {
   "cell_type": "markdown",
   "id": "4f1cbc32-fbeb-4488-b1b2-454df17d9d5b",
   "metadata": {},
   "source": [
    "### Summary"
   ]
  },
  {
   "cell_type": "markdown",
   "id": "3ff83b23-2252-4687-8421-bbf7a8e3d6e7",
   "metadata": {},
   "source": [
    "In this lesson, we learned about binary search trees.  With a binary search tree, the nodes are *ordered* such that each node is greater than all of the nodes in it's left subtree, and less than all of the nodes in it's right subtree.\n",
    "\n",
    "This ordering reduces the amount of time it takes to search through a binary search tree.  When a tree is balanced, searching for an element takes $log_2(n)$ time, as we can cut the dataset in half with each step.  And when a tree is perfectly unbalanced, a binary search tree can take the form of a linked list where the time complexity is big 0 of n."
   ]
  },
  {
   "cell_type": "markdown",
   "id": "e27d078d-1bef-4c19-a8a9-6116da258805",
   "metadata": {},
   "source": [
    "<img src=\"./bst-tree.png\" width=\"40%\"> <img src=\"./bst-unbalanced.png\" width=\"40%\">"
   ]
  },
  {
   "cell_type": "markdown",
   "id": "77f8f72c-4c85-4704-abd1-3048b58cbcd1",
   "metadata": {},
   "source": [
    "### Resources\n",
    "\n",
    "[Btrees Cornell](https://www.cs.cornell.edu/courses/cs3110/2012sp/recitations/rec25-B-trees/rec25.html)"
   ]
  }
 ],
 "metadata": {
  "kernelspec": {
   "display_name": "Python 3 (ipykernel)",
   "language": "python",
   "name": "python3"
  },
  "language_info": {
   "codemirror_mode": {
    "name": "ipython",
    "version": 3
   },
   "file_extension": ".py",
   "mimetype": "text/x-python",
   "name": "python",
   "nbconvert_exporter": "python",
   "pygments_lexer": "ipython3",
   "version": "3.10.14"
  }
 },
 "nbformat": 4,
 "nbformat_minor": 5
}
