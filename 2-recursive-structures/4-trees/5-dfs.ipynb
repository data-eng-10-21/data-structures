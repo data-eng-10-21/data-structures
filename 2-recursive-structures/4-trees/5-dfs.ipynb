{
 "cells": [
  {
   "cell_type": "code",
   "execution_count": null,
   "id": "b3b7d751-6316-4863-b9b2-6568d7cbaa3d",
   "metadata": {},
   "outputs": [],
   "source": []
  },
  {
   "cell_type": "markdown",
   "id": "722e530f-21fb-4cff-8f71-0bd0521595b7",
   "metadata": {},
   "source": [
    "### Resources\n",
    "\n",
    "[DFS](https://github.com/learn-co-curriculum/graph-dfs)"
   ]
  },
  {
   "cell_type": "code",
   "execution_count": null,
   "id": "20edcfc5-c7ba-4ce0-a4fd-c65a84858177",
   "metadata": {},
   "outputs": [],
   "source": []
  }
 ],
 "metadata": {
  "kernelspec": {
   "display_name": "Python 3 (ipykernel)",
   "language": "python",
   "name": "python3"
  },
  "language_info": {
   "codemirror_mode": {
    "name": "ipython",
    "version": 3
   },
   "file_extension": ".py",
   "mimetype": "text/x-python",
   "name": "python",
   "nbconvert_exporter": "python",
   "pygments_lexer": "ipython3",
   "version": "3.9.12"
  }
 },
 "nbformat": 4,
 "nbformat_minor": 5
}
