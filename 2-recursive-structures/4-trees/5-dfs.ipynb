{
 "cells": [
  {
   "cell_type": "markdown",
   "id": "4fa4ae1a-478b-4c6e-8405-12ae79ca9ee5",
   "metadata": {},
   "source": [
    "# Depth First Search"
   ]
  },
  {
   "cell_type": "markdown",
   "id": "16eafe81-673a-4fdc-a088-c4880d99c844",
   "metadata": {},
   "source": [
    "### Introduction"
   ]
  },
  {
   "cell_type": "markdown",
   "id": "6c216e2d-cf0c-4445-9dc7-8b0d15aa806f",
   "metadata": {},
   "source": [
    "In this lesson, we'll show how we can search through the components of a tree using a technique called depth first search.  \n",
    "\n",
    "* Benefits of searching\n",
    "\n",
    "With depth first search and breadth first search, we can discover the connected components of a graph.  By that we mean, find the nodes that have a path from one to the other.  This has various use cases from discovering say the extent of someone's social network (think linkedin first to second connections), to discovering links between webpages, to seeing how a supply chain can be affected downstream.\n",
    "\n",
    "Ok, let's get started."
   ]
  },
  {
   "cell_type": "markdown",
   "id": "d8dbdea6-3eab-4c05-be68-1ecd12b8934a",
   "metadata": {},
   "source": [
    "### Depth first search approach"
   ]
  },
  {
   "cell_type": "markdown",
   "id": "0662848d-09a4-4acc-8f19-1894db87b99a",
   "metadata": {},
   "source": [
    "Let's say that we have the following tree, and that we want to take a depth first search approach.  The approach is to begin at the root node, and fully explore a path down to the leaf node.  So beginning on the left, we could visit `6 -> 8 -> 4` taking us from root node to leaf node.  And then from there visit `7`.  After this we visit the right half of the tree."
   ]
  },
  {
   "cell_type": "markdown",
   "id": "9035ddf8-b158-4de7-a945-b9f064e54592",
   "metadata": {},
   "source": [
    "<img src=\"./tree-eg.png\" width=\"40%\">"
   ]
  },
  {
   "cell_type": "markdown",
   "id": "9d98d86d-b4cb-4689-a439-bd27dc01ed11",
   "metadata": {},
   "source": [
    "We'll get into more details as to how this works soon.  But first, just notice the idea.  We want to explore each path fully, going from root node to leaf node, and then move down through the next path. "
   ]
  },
  {
   "cell_type": "markdown",
   "id": "bd827c5e-5bf5-4163-a833-8b4b41af7b9f",
   "metadata": {},
   "source": [
    "### Our approach"
   ]
  },
  {
   "cell_type": "markdown",
   "id": "f5e529aa-ccb3-4e7a-ab58-4514e8d031d1",
   "metadata": {},
   "source": [
    "Ok, so now how do we approach something like this?  Let's start by making our example smaller, by just looking at the right half of tree."
   ]
  },
  {
   "cell_type": "markdown",
   "id": "a680c8b0-506e-4b28-bc47-788e55ff4271",
   "metadata": {},
   "source": [
    "<img src=\"./smaller-tree.png\" width=\"20%\">"
   ]
  },
  {
   "cell_type": "markdown",
   "id": "8e0292fd-c9c7-45c8-8db5-0647a08c4395",
   "metadata": {},
   "source": [
    "Our approach will be to add a node to a stack (beginning with the root node), print the node, and then add that node's direct children to the stack.  \n",
    "\n",
    "So first add 6, print 6, and add 9 to the stack.  Then print the 9 and add 12 and 11 to the stack.  At this point the stack looks like the following:\n",
    "\n",
    "`stack = [12, 11]`\n",
    "\n",
    "We then remove the first element off of the stack, `11` and add it's children to the stack, `3`.  At this point:\n",
    "\n",
    "`stack = [11, 3]`\n",
    "\n",
    "So 3 gets printed and then 11."
   ]
  },
  {
   "cell_type": "markdown",
   "id": "67dbe0bb-3b38-482c-88fe-31f685ee483e",
   "metadata": {},
   "source": [
    "### Implementing in code"
   ]
  },
  {
   "cell_type": "markdown",
   "id": "03992c16-0a6b-4506-b2b2-19181b1ea100",
   "metadata": {},
   "source": [
    "Once again, our tree looks like the following:"
   ]
  },
  {
   "cell_type": "markdown",
   "id": "f778d238-af97-458b-9c92-add40679d237",
   "metadata": {
    "tags": []
   },
   "source": [
    "<img src=\"./smaller-tree.png\" width=\"20%\">"
   ]
  },
  {
   "cell_type": "markdown",
   "id": "aa1a2dc5-e4af-4b40-a448-343084b0dae3",
   "metadata": {},
   "source": [
    "And we can represent it as the following:"
   ]
  },
  {
   "cell_type": "code",
   "execution_count": 5,
   "id": "d00a7140-751a-4b1e-a270-d7e046928860",
   "metadata": {
    "tags": []
   },
   "outputs": [],
   "source": [
    "# set start to the root node of '6'\n",
    "root = '6'\n",
    "\n",
    "tree = {\n",
    "    '6': ['9'],\n",
    "    '9': ['12', '11'],\n",
    "    '11': ['3']\n",
    "}"
   ]
  },
  {
   "cell_type": "markdown",
   "id": "9cc93e53-da4c-4b04-baff-87980453abee",
   "metadata": {},
   "source": [
    "And remember our approach:\n",
    "\n",
    "* Add a node to a stack (beginning with the root node), process the node, and then add that node's direct children to the stack."
   ]
  },
  {
   "cell_type": "code",
   "execution_count": 6,
   "id": "fed2b11d-23e5-464c-8abc-223d0d1a5ad8",
   "metadata": {},
   "outputs": [
    {
     "name": "stdout",
     "output_type": "stream",
     "text": [
      "current stack is ['6']\n",
      "current node is 6\n",
      "current stack is ['9']\n",
      "current node is 9\n",
      "current stack is ['12', '11']\n",
      "current node is 11\n",
      "current stack is ['12', '3']\n",
      "current node is 3\n",
      "current stack is ['12']\n",
      "current node is 12\n"
     ]
    }
   ],
   "source": [
    "root = '6'\n",
    "\n",
    "tree = {\n",
    "    '6': ['9'],\n",
    "    '9': ['12', '11'],\n",
    "    '11': ['3']\n",
    "}\n",
    "\n",
    "# Add a node to a stack (beginning with the root node)\n",
    "# process the node,\n",
    "# and then add that node's direct children to the stack.\n",
    "\n",
    "# initialize stack\n",
    "stack = [root]\n",
    "\n",
    "while stack:\n",
    "    print('current stack is', stack)\n",
    "    node = stack.pop()  # Pop a node from the stack.\n",
    "\n",
    "    print('current node is', node)  # Process the node (e.g., print it).\n",
    "    # Push all unvisited direct child nodes to the stack.\n",
    "    for child in tree.get(node, []):\n",
    "            stack.append(child)"
   ]
  },
  {
   "cell_type": "markdown",
   "id": "ed7c0818-e2dd-4bb6-9654-996f44e9a508",
   "metadata": {},
   "source": [
    "Notice that this code works well.  It follows our approach of moving fully down one path to the leaf nodes before moving onto other paths.\n",
    "\n",
    "<img src=\"./smaller-tree.png\" width=\"20%\">\n",
    "\n",
    "And really all we do is get the current node by removing it from the stack, print, and then add the direct children to the stack.  The stack is really the key to DFS, becauase by using last in first out, the effect is to **keep digging** down a path until we reach the leaf node."
   ]
  },
  {
   "cell_type": "markdown",
   "id": "13986304-1ebc-4f2a-93d8-09726e1121a1",
   "metadata": {},
   "source": [
    "Take a second and copy down the code now, making sure to understand each peace."
   ]
  },
  {
   "cell_type": "code",
   "execution_count": null,
   "id": "70c322f9-84c4-44c3-a63c-8c195dfd5ba4",
   "metadata": {},
   "outputs": [],
   "source": []
  },
  {
   "cell_type": "markdown",
   "id": "766286ee-f68e-4bf0-8cf5-f6d6c932a1aa",
   "metadata": {
    "tags": []
   },
   "source": [
    "### One tweak"
   ]
  },
  {
   "cell_type": "markdown",
   "id": "e5fea8af-21dd-4c0c-a98e-00c8685fdbcd",
   "metadata": {},
   "source": [
    "One issue with our current code is that we may revisit nodes.  For example, take a look at the following structure, we can see that our graph has cycles."
   ]
  },
  {
   "cell_type": "markdown",
   "id": "02753d01-52fc-4d0e-aea8-8d97a524b081",
   "metadata": {},
   "source": [
    "```md\n",
    "    A\n",
    "   / \\\n",
    "  B   C\n",
    " / \\   \\\n",
    "D   E   F\n",
    " \\ /   /\n",
    "  G - H\n",
    "```"
   ]
  },
  {
   "cell_type": "markdown",
   "id": "b260c8e2-50ba-45f0-b318-e3d60fd3aacf",
   "metadata": {},
   "source": [
    "This means that our DFS approach can lead to an infinite loop, as our keep digging approach will have it run in a circle.  \n",
    "\n",
    "So instead we can update our code to keep track of the nodes that we visisted."
   ]
  },
  {
   "cell_type": "code",
   "execution_count": 21,
   "id": "4acfb148-3090-45be-aab2-85388035a8e7",
   "metadata": {
    "tags": []
   },
   "outputs": [],
   "source": [
    "def dfs(tree, node):\n",
    "    stack = [node]\n",
    "    visited = [] # initialize visited\n",
    "\n",
    "    while stack:\n",
    "        node = stack.pop() \n",
    "        if node not in visited: # only process node if not in visited\n",
    "            print('current node is', node)\n",
    "            visited.append(node) # processing includes adding to visited\n",
    "\n",
    "            for child in tree.get(node, []):\n",
    "                if child not in visited:\n",
    "                    stack.append(child)"
   ]
  },
  {
   "cell_type": "code",
   "execution_count": 23,
   "id": "8a6dab49-3f53-4a71-9d8c-a0b57ca130ea",
   "metadata": {
    "tags": []
   },
   "outputs": [
    {
     "name": "stdout",
     "output_type": "stream",
     "text": [
      "current node is 6\n",
      "current node is 9\n",
      "current node is 11\n",
      "current node is 3\n",
      "current node is 12\n"
     ]
    }
   ],
   "source": [
    "node = '6'\n",
    "\n",
    "tree = {\n",
    "    '6': ['9'],\n",
    "    '9': ['12', '11'],\n",
    "    '11': ['3']\n",
    "}\n",
    "\n",
    "dfs(tree, node)"
   ]
  },
  {
   "cell_type": "markdown",
   "id": "8afbe7ba-df78-4dce-8b2f-a2846990f43a",
   "metadata": {},
   "source": [
    "And even with our tree with cycles, our tree is processed correctly."
   ]
  },
  {
   "cell_type": "code",
   "execution_count": 24,
   "id": "8e37c129-852d-48ee-bc0a-0092b20e9bb9",
   "metadata": {
    "tags": []
   },
   "outputs": [],
   "source": [
    "tree_with_cycles = {\n",
    "    'A': ['B', 'C'],\n",
    "    'B': ['D', 'E'],\n",
    "    'C': ['F'],\n",
    "    'D': ['G'],\n",
    "    'E': ['G'],\n",
    "    'F': ['H'],\n",
    "    'G': ['H'],\n",
    "    'H': []\n",
    "}"
   ]
  },
  {
   "cell_type": "markdown",
   "id": "bc2e53bf-63e8-421d-87d1-df39995f89b9",
   "metadata": {
    "tags": []
   },
   "source": [
    "```md\n",
    "    A\n",
    "   / \\\n",
    "  B   C\n",
    " / \\   \\\n",
    "D   E   F\n",
    " \\ /   /\n",
    "  G - H\n",
    "```"
   ]
  },
  {
   "cell_type": "code",
   "execution_count": 25,
   "id": "d726b739-2c95-4eb2-8e7e-7220e424d77e",
   "metadata": {
    "tags": []
   },
   "outputs": [
    {
     "name": "stdout",
     "output_type": "stream",
     "text": [
      "current node is A\n",
      "current node is C\n",
      "current node is F\n",
      "current node is H\n",
      "current node is B\n",
      "current node is E\n",
      "current node is G\n",
      "current node is D\n"
     ]
    }
   ],
   "source": [
    "node = 'A'\n",
    "dfs(tree_with_cycles, node)"
   ]
  },
  {
   "cell_type": "markdown",
   "id": "a682131f-a230-4112-99da-e6c7d2b492b0",
   "metadata": {},
   "source": [
    "### Summary"
   ]
  },
  {
   "cell_type": "markdown",
   "id": "a53afa97-b284-48d2-a40d-08373741b064",
   "metadata": {},
   "source": [
    "Our approach for DFS is the following:"
   ]
  },
  {
   "cell_type": "markdown",
   "id": "f1ce597a-76ec-4cbb-8f40-aa886c8e5725",
   "metadata": {},
   "source": [
    "* Process the current node (print it), and add it's direct children to the stack.  Keep repeating until there are no nodes left."
   ]
  },
  {
   "cell_type": "markdown",
   "id": "7512f859-2f72-443d-bf35-10209eae473a",
   "metadata": {},
   "source": [
    "We then update this approach so that we do not revisit nodes."
   ]
  },
  {
   "cell_type": "code",
   "execution_count": 29,
   "id": "c4b420b0-f51c-4127-bbb1-eec3be34a2f4",
   "metadata": {
    "tags": []
   },
   "outputs": [],
   "source": [
    "def dfs(tree, node):\n",
    "    stack = [node]\n",
    "    visited = set() # initialize visited\n",
    "\n",
    "    while stack:\n",
    "        node = stack.pop() \n",
    "        if node not in visited: # only process node if not in visited\n",
    "            print('current node is', node)\n",
    "            visited.add(node) # processing includes adding to visited\n",
    "\n",
    "            for child in tree.get(node, []):\n",
    "                if child not in visited:\n",
    "                    stack.append(child)"
   ]
  },
  {
   "cell_type": "code",
   "execution_count": 30,
   "id": "ee9f10d8-cc18-461c-aa1a-ebd7cdf7c525",
   "metadata": {
    "tags": []
   },
   "outputs": [
    {
     "name": "stdout",
     "output_type": "stream",
     "text": [
      "current node is 6\n",
      "current node is 9\n",
      "current node is 11\n",
      "current node is 3\n",
      "current node is 12\n"
     ]
    }
   ],
   "source": [
    "dfs(tree, root)"
   ]
  },
  {
   "cell_type": "markdown",
   "id": "722e530f-21fb-4cff-8f71-0bd0521595b7",
   "metadata": {},
   "source": [
    "### Resources\n",
    "\n",
    "[DFS](https://github.com/learn-co-curriculum/graph-dfs)"
   ]
  },
  {
   "cell_type": "code",
   "execution_count": 2,
   "id": "717c2b72-119e-4fba-9e1c-dbb2253007fb",
   "metadata": {
    "tags": []
   },
   "outputs": [
    {
     "name": "stdout",
     "output_type": "stream",
     "text": [
      "A\n",
      "B\n",
      "D\n",
      "E\n",
      "F\n",
      "C\n"
     ]
    }
   ],
   "source": [
    "def dfs_recursive(graph, node, visited=None):\n",
    "    if visited is None:\n",
    "        visited = set()\n",
    "        \n",
    "    if node not in visited:\n",
    "        print(node)  # Process the node (e.g., print it).\n",
    "        visited.add(node)  # Mark the node as visited.\n",
    "        \n",
    "        # Recursively visit all unvisited adjacent nodes.\n",
    "        for neighbor in graph[node]:\n",
    "            if neighbor not in visited:\n",
    "                dfs_recursive(graph, neighbor, visited)\n",
    "\n",
    "dfs_recursive(graph, 'A')"
   ]
  },
  {
   "cell_type": "code",
   "execution_count": null,
   "id": "a1091101-4e1f-4942-b3e3-8e9f34831efb",
   "metadata": {},
   "outputs": [],
   "source": []
  }
 ],
 "metadata": {
  "kernelspec": {
   "display_name": "Python 3 (ipykernel)",
   "language": "python",
   "name": "python3"
  },
  "language_info": {
   "codemirror_mode": {
    "name": "ipython",
    "version": 3
   },
   "file_extension": ".py",
   "mimetype": "text/x-python",
   "name": "python",
   "nbconvert_exporter": "python",
   "pygments_lexer": "ipython3",
   "version": "3.10.14"
  }
 },
 "nbformat": 4,
 "nbformat_minor": 5
}
