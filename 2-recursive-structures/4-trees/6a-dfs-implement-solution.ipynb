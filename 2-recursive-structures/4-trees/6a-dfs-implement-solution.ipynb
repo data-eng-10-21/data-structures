{
 "cells": [
  {
   "cell_type": "markdown",
   "id": "a11fdcfd-cd6f-434f-85ac-55d21e6e3949",
   "metadata": {},
   "source": [
    "# DFS Implementation Lab"
   ]
  },
  {
   "cell_type": "markdown",
   "id": "ff89d03e-d4a6-410c-93ea-dad8433c63a9",
   "metadata": {},
   "source": [
    "### Introduction"
   ]
  },
  {
   "cell_type": "markdown",
   "id": "72e266e7-d21f-4007-8430-9a5c38cf3e08",
   "metadata": {},
   "source": [
    "DFS can be used in multiple tree based leetcode problems, so we want to ensure that we are comfortable implementing it.\n",
    "\n",
    "Let's take it in steps."
   ]
  },
  {
   "cell_type": "markdown",
   "id": "ece352c7-ded9-47d6-94b8-0e09ce83d5f3",
   "metadata": {},
   "source": [
    "### Implementing DFS"
   ]
  },
  {
   "cell_type": "markdown",
   "id": "9116686c-9466-4b78-9fda-8ce65d420afc",
   "metadata": {},
   "source": [
    "<img src=\"./tree-eg.png\" width=\"40%\">"
   ]
  },
  {
   "cell_type": "markdown",
   "id": "a8faf162-da38-489e-974f-999ec642d37c",
   "metadata": {},
   "source": [
    "* Given the tree above, implement the tree in code using a dictionary."
   ]
  },
  {
   "cell_type": "code",
   "execution_count": 2,
   "id": "7e5ae1a4-cf3d-41d4-8f6f-9213758bcdb9",
   "metadata": {
    "tags": []
   },
   "outputs": [],
   "source": [
    "tree = {'6': ['8', '9'], '8': ['4', '7'], '9': ['12', '11'], '11': ['3']}"
   ]
  },
  {
   "cell_type": "markdown",
   "id": "7d6dbef9-0b44-4b3e-8685-d17e4532fc5a",
   "metadata": {},
   "source": [
    "* Begin by describing the approach for implementing DFS"
   ]
  },
  {
   "cell_type": "markdown",
   "id": "3e0b731e-5874-4992-9e26-3a2e6af85025",
   "metadata": {},
   "source": [
    "> Process the current node, and then add it's children to a stack.  Make sure not to revisit any nodes.  Stop when no nodes left in the stack."
   ]
  },
  {
   "cell_type": "code",
   "execution_count": 7,
   "id": "f84a40d2-2aa8-41bf-9b5a-775b191a064b",
   "metadata": {
    "tags": []
   },
   "outputs": [],
   "source": [
    "def dfs(node, tree):\n",
    "    visited = set()\n",
    "    stack = [node]\n",
    "    while stack:\n",
    "        node = stack.pop()\n",
    "        if node not in visited:\n",
    "            print(node)\n",
    "            visited.add(node)\n",
    "            for child in tree.get(node, []):\n",
    "                stack.append(child)"
   ]
  },
  {
   "cell_type": "code",
   "execution_count": 8,
   "id": "6d4bf318-d41f-4198-a463-0184df4325b8",
   "metadata": {
    "tags": []
   },
   "outputs": [
    {
     "name": "stdout",
     "output_type": "stream",
     "text": [
      "6\n",
      "9\n",
      "11\n",
      "3\n",
      "12\n",
      "8\n",
      "7\n",
      "4\n"
     ]
    }
   ],
   "source": [
    "node = '6'\n",
    "dfs(node, tree)\n",
    "\n",
    "\n",
    "# Order of processed nodes may vary.  Check graph to see if makes sense.\n",
    "# 6\n",
    "# 9\n",
    "# 11\n",
    "# 3\n",
    "# 12\n",
    "# 8\n",
    "# 7\n",
    "# 4"
   ]
  }
 ],
 "metadata": {
  "kernelspec": {
   "display_name": "Python 3 (ipykernel)",
   "language": "python",
   "name": "python3"
  },
  "language_info": {
   "codemirror_mode": {
    "name": "ipython",
    "version": 3
   },
   "file_extension": ".py",
   "mimetype": "text/x-python",
   "name": "python",
   "nbconvert_exporter": "python",
   "pygments_lexer": "ipython3",
   "version": "3.10.14"
  }
 },
 "nbformat": 4,
 "nbformat_minor": 5
}
