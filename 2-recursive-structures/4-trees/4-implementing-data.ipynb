{
 "cells": [
  {
   "cell_type": "markdown",
   "id": "230fa0bd-836a-4d8a-9cc9-a289d11be5bc",
   "metadata": {},
   "source": [
    "# Implementing Data  - Stacks, Queues and Trees"
   ]
  },
  {
   "cell_type": "markdown",
   "id": "2f902dbc-af72-4749-8955-06936cf789c6",
   "metadata": {},
   "source": [
    "### Introduction"
   ]
  },
  {
   "cell_type": "markdown",
   "id": "e04acc88-4cfe-48a6-b000-f95c5c93e569",
   "metadata": {},
   "source": [
    "In this lesson, we'll cover some essential data structures, and how to implement them in Python."
   ]
  },
  {
   "cell_type": "markdown",
   "id": "a0738282-1ad0-4bff-b1ad-83ccac4ca5b0",
   "metadata": {},
   "source": [
    "### Describing Trees"
   ]
  },
  {
   "cell_type": "markdown",
   "id": "3ba47b6e-7660-411a-a058-9c2d67711de7",
   "metadata": {},
   "source": [
    "Let's say that we have the following tree."
   ]
  },
  {
   "cell_type": "markdown",
   "id": "71f8d4f9-5f65-4f1c-a444-7c6db56e7bef",
   "metadata": {},
   "source": [
    "<img src=\"./smaller-tree.png\" width=\"20%\">"
   ]
  },
  {
   "cell_type": "markdown",
   "id": "b4f5823a-bbdb-4ffb-b86b-566bc467c6ad",
   "metadata": {},
   "source": [
    "We can translate this tree into Python with the following code."
   ]
  },
  {
   "cell_type": "code",
   "execution_count": 13,
   "id": "72d61815-9665-4bf5-9e70-ac39f994f200",
   "metadata": {
    "tags": []
   },
   "outputs": [],
   "source": [
    "root_node = '6'\n",
    "\n",
    "tree = {\n",
    "    '6': ['9'],\n",
    "    '9': ['12', '11'],\n",
    "    '11': ['3']\n",
    "}"
   ]
  },
  {
   "cell_type": "markdown",
   "id": "33f71fe5-e3e2-4b3a-8227-6d22e1ef7d98",
   "metadata": {},
   "source": [
    "So we first describe the `root_node`.  And then for each node, we indicate each of the direct children.  So 6 only has one direct child of 9, and then 9 has two direct children of 12 and 11."
   ]
  },
  {
   "cell_type": "markdown",
   "id": "9dc9a3b4-80ca-40d2-87bf-ecf098cbb41b",
   "metadata": {},
   "source": [
    "### Describing Stacks"
   ]
  },
  {
   "cell_type": "markdown",
   "id": "4df4b48d-0953-4bac-b57b-3adb7cc957ae",
   "metadata": {},
   "source": [
    "Another data structure to learn is a stack.  A stack just means that we process nodes as `First in Last out`.  So if we add three elements to our stack: `first add 3, then add 4, then add 5`\n",
    "\n",
    "\n",
    "* 3\n",
    "* 4\n",
    "* 5\n",
    "\n",
    "This means that when we then start removing elements, we'll remove the 5 first, and then the 4, and then 3 (first in, last out)."
   ]
  },
  {
   "cell_type": "markdown",
   "id": "08b5047c-a7fa-4d61-9699-80a3b014d0f3",
   "metadata": {},
   "source": [
    "A stack is very easy to implement in Python."
   ]
  },
  {
   "cell_type": "code",
   "execution_count": 7,
   "id": "375f640d-dd6b-4c4d-a1b0-0853ccc739ec",
   "metadata": {
    "tags": []
   },
   "outputs": [
    {
     "data": {
      "text/plain": [
       "[3, 4, 5]"
      ]
     },
     "execution_count": 7,
     "metadata": {},
     "output_type": "execute_result"
    }
   ],
   "source": [
    "stack = []\n",
    "\n",
    "stack.append(3)\n",
    "stack.append(4)\n",
    "stack.append(5)\n",
    "\n",
    "stack"
   ]
  },
  {
   "cell_type": "code",
   "execution_count": 8,
   "id": "4728c622-154a-4f8b-9cb7-22ab1e3586c5",
   "metadata": {
    "tags": []
   },
   "outputs": [
    {
     "data": {
      "text/plain": [
       "(5, 4, 3)"
      ]
     },
     "execution_count": 8,
     "metadata": {},
     "output_type": "execute_result"
    }
   ],
   "source": [
    "stack.pop(), stack.pop(), stack.pop()"
   ]
  },
  {
   "cell_type": "markdown",
   "id": "7337976e-2f05-4f25-8f49-0498d58d1ddf",
   "metadata": {},
   "source": [
    "For a stack, we can really just use a python list.  This is because, with a stack, we are adding to the end, and removing from the end.  And lists perform these operations quite well."
   ]
  },
  {
   "cell_type": "markdown",
   "id": "d46117f9-f974-49c0-ad1c-f291b11fd479",
   "metadata": {},
   "source": [
    "### Working with a queue"
   ]
  },
  {
   "cell_type": "markdown",
   "id": "0528641f-d9f4-4b47-a8cd-95a184ff81c5",
   "metadata": {},
   "source": [
    "Now a queue, works just like a queue at a bank.  The first person to enter the line is the person who gets served.  First in first out."
   ]
  },
  {
   "cell_type": "markdown",
   "id": "cea3f9b4-cce4-4fce-a51d-45bab6a0ee6f",
   "metadata": {},
   "source": [
    "So if we add 3, 4 and 5 to our queue."
   ]
  },
  {
   "cell_type": "code",
   "execution_count": 9,
   "id": "a701bcdb-923b-43ac-922b-c07d503a7ced",
   "metadata": {
    "tags": []
   },
   "outputs": [],
   "source": [
    "queue = [3, 4, 5]"
   ]
  },
  {
   "cell_type": "markdown",
   "id": "fedfdaf8-7732-418c-971d-bb470caa7903",
   "metadata": {},
   "source": [
    "This means that when we remove the elements, we remove 3, and then 4, and then 5.  Now if you think about it, this means we that when we remove elements we remove from the beginning on the list.\n",
    "\n",
    "Now remember that removing from the beginning of a list has a cost of O(n), as it means every successive element will have to shift over one.  So instead, we can go back to a cost of O(1) if we use the Python `deque` object."
   ]
  },
  {
   "cell_type": "code",
   "execution_count": 7,
   "id": "cd5b5b9a-0d17-46ec-b432-fec6e05612da",
   "metadata": {
    "tags": []
   },
   "outputs": [],
   "source": [
    "from collections import deque"
   ]
  },
  {
   "cell_type": "code",
   "execution_count": 8,
   "id": "88ffbde4-a06f-41c0-a698-d1b99a9d7e07",
   "metadata": {},
   "outputs": [],
   "source": [
    "queue = deque([])"
   ]
  },
  {
   "cell_type": "markdown",
   "id": "ffd3c458-2c26-4ae3-99ef-566f4c419076",
   "metadata": {
    "tags": []
   },
   "source": [
    "We add elements to the end of the queue, just like someone wakling up to the end of a queue."
   ]
  },
  {
   "cell_type": "code",
   "execution_count": 9,
   "id": "3ae15d5b-5d8a-422c-8378-d92824958b57",
   "metadata": {
    "tags": []
   },
   "outputs": [],
   "source": [
    "queue.append(1)"
   ]
  },
  {
   "cell_type": "code",
   "execution_count": 10,
   "id": "99999168-46ca-4cbe-8036-575227701cdd",
   "metadata": {
    "tags": []
   },
   "outputs": [],
   "source": [
    "queue.append(2)"
   ]
  },
  {
   "cell_type": "code",
   "execution_count": 11,
   "id": "168d7cce-919a-4ab0-8732-d5ef94f9c3b5",
   "metadata": {
    "tags": []
   },
   "outputs": [
    {
     "data": {
      "text/plain": [
       "deque([1, 2])"
      ]
     },
     "execution_count": 11,
     "metadata": {},
     "output_type": "execute_result"
    }
   ],
   "source": [
    "queue"
   ]
  },
  {
   "cell_type": "markdown",
   "id": "fd564daa-39d8-4cf6-a301-e1c40d262f96",
   "metadata": {},
   "source": [
    "But this time use the `popleft` method to remove from the beginning of the queue."
   ]
  },
  {
   "cell_type": "code",
   "execution_count": 12,
   "id": "33713a5b-285b-4abe-a70d-03ce8fed25ac",
   "metadata": {},
   "outputs": [
    {
     "data": {
      "text/plain": [
       "1"
      ]
     },
     "execution_count": 12,
     "metadata": {},
     "output_type": "execute_result"
    }
   ],
   "source": [
    "queue.popleft()"
   ]
  },
  {
   "cell_type": "markdown",
   "id": "6eaa11f1-d0e7-4f93-94b9-32cc7746e475",
   "metadata": {},
   "source": [
    "So you can see, that the first person to enter is the first person to leave."
   ]
  },
  {
   "cell_type": "markdown",
   "id": "662df7dd-d3a1-456a-afb6-6646f8095c84",
   "metadata": {},
   "source": [
    "### Summary"
   ]
  },
  {
   "cell_type": "markdown",
   "id": "bd4ca4ff-4d3a-4adb-a815-e36c2801a805",
   "metadata": {},
   "source": [
    "In this lesson, we quickly covered three data structures, and showed how to implement them in Python.  \n",
    "\n",
    "* Trees\n",
    "\n",
    "The first is the tree, which we can use a dictionary to describe.  Below we have each node, and it's direct children."
   ]
  },
  {
   "cell_type": "markdown",
   "id": "b43557f6-b9f6-48c1-8655-ea15eeb1d36b",
   "metadata": {},
   "source": [
    "<img src=\"./smaller-tree.png\" width=\"15%\">"
   ]
  },
  {
   "cell_type": "code",
   "execution_count": 14,
   "id": "4d5c8422-ed8f-49b7-97d0-ae559feb684f",
   "metadata": {
    "tags": []
   },
   "outputs": [],
   "source": [
    "root_node = '6'\n",
    "\n",
    "tree = {\n",
    "    '6': ['9'],\n",
    "    '9': ['12', '11'],\n",
    "    '11': ['3']\n",
    "}"
   ]
  },
  {
   "cell_type": "markdown",
   "id": "495ec608-43b1-4a73-a385-af16b1135fc6",
   "metadata": {},
   "source": [
    "* Stacks"
   ]
  },
  {
   "cell_type": "markdown",
   "id": "45ad9831-35ec-4db3-98b4-f02615602db6",
   "metadata": {},
   "source": [
    "Stacks are a data structure where the first element to enter is the last element to leave.  First in last out."
   ]
  },
  {
   "cell_type": "code",
   "execution_count": 15,
   "id": "425aecbb-569e-4a19-b130-d200c7c4c777",
   "metadata": {
    "tags": []
   },
   "outputs": [
    {
     "data": {
      "text/plain": [
       "[3, 4, 5]"
      ]
     },
     "execution_count": 15,
     "metadata": {},
     "output_type": "execute_result"
    }
   ],
   "source": [
    "stack = []\n",
    "\n",
    "stack.append(3)\n",
    "stack.append(4)\n",
    "stack.append(5)\n",
    "\n",
    "stack"
   ]
  },
  {
   "cell_type": "code",
   "execution_count": 16,
   "id": "a6a8130b-2ea2-4434-8762-b08f6a1430c4",
   "metadata": {
    "tags": []
   },
   "outputs": [
    {
     "data": {
      "text/plain": [
       "(5, 4, 3)"
      ]
     },
     "execution_count": 16,
     "metadata": {},
     "output_type": "execute_result"
    }
   ],
   "source": [
    "stack.pop(), stack.pop(), stack.pop()"
   ]
  },
  {
   "cell_type": "markdown",
   "id": "89fe4f04-97ad-4161-a84b-36c22fd2bd98",
   "metadata": {},
   "source": [
    "* Queue"
   ]
  },
  {
   "cell_type": "markdown",
   "id": "c7d32423-67d8-4ce9-b239-227bec8373ee",
   "metadata": {},
   "source": [
    "Queue is like a bank queue.  The first to enter is the first to leave.  Because removing elements from the beginning of a list has a cost of `O(n)`, we can avoid this if we instead implement our queue with a `deque`."
   ]
  },
  {
   "cell_type": "code",
   "execution_count": 17,
   "id": "609e78ed-a585-4197-866f-6a8069834711",
   "metadata": {
    "tags": []
   },
   "outputs": [],
   "source": [
    "from collections import deque\n",
    "queue = deque([])\n",
    "\n",
    "queue.append(1)\n",
    "queue.append(2)"
   ]
  },
  {
   "cell_type": "code",
   "execution_count": 18,
   "id": "33a78f79-2293-413c-8d39-d59d841f2da7",
   "metadata": {
    "tags": []
   },
   "outputs": [
    {
     "data": {
      "text/plain": [
       "deque([1, 2])"
      ]
     },
     "execution_count": 18,
     "metadata": {},
     "output_type": "execute_result"
    }
   ],
   "source": [
    "queue"
   ]
  },
  {
   "cell_type": "code",
   "execution_count": null,
   "id": "eba66495-b011-44f2-b1e5-7a6284ef35ce",
   "metadata": {},
   "outputs": [],
   "source": [
    "queue.popleft()"
   ]
  }
 ],
 "metadata": {
  "kernelspec": {
   "display_name": "Python 3 (ipykernel)",
   "language": "python",
   "name": "python3"
  },
  "language_info": {
   "codemirror_mode": {
    "name": "ipython",
    "version": 3
   },
   "file_extension": ".py",
   "mimetype": "text/x-python",
   "name": "python",
   "nbconvert_exporter": "python",
   "pygments_lexer": "ipython3",
   "version": "3.10.14"
  }
 },
 "nbformat": 4,
 "nbformat_minor": 5
}
