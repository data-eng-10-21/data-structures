{
 "cells": [
  {
   "cell_type": "markdown",
   "id": "a11fdcfd-cd6f-434f-85ac-55d21e6e3949",
   "metadata": {},
   "source": [
    "# BFS Implementation Lab"
   ]
  },
  {
   "cell_type": "markdown",
   "id": "ff89d03e-d4a6-410c-93ea-dad8433c63a9",
   "metadata": {},
   "source": [
    "### Introduction"
   ]
  },
  {
   "cell_type": "markdown",
   "id": "72e266e7-d21f-4007-8430-9a5c38cf3e08",
   "metadata": {},
   "source": [
    "Ok, now let's implement breadth first search."
   ]
  },
  {
   "cell_type": "markdown",
   "id": "ece352c7-ded9-47d6-94b8-0e09ce83d5f3",
   "metadata": {},
   "source": [
    "### Implementing BFS"
   ]
  },
  {
   "cell_type": "markdown",
   "id": "9116686c-9466-4b78-9fda-8ce65d420afc",
   "metadata": {},
   "source": [
    "<img src=\"./tree-eg.png\" width=\"40%\">"
   ]
  },
  {
   "cell_type": "markdown",
   "id": "a8faf162-da38-489e-974f-999ec642d37c",
   "metadata": {},
   "source": [
    "* Given the tree above, implement the tree in code using a dictionary."
   ]
  },
  {
   "cell_type": "code",
   "execution_count": 5,
   "id": "7e5ae1a4-cf3d-41d4-8f6f-9213758bcdb9",
   "metadata": {
    "tags": []
   },
   "outputs": [],
   "source": [
    "tree = {}"
   ]
  },
  {
   "cell_type": "markdown",
   "id": "7d6dbef9-0b44-4b3e-8685-d17e4532fc5a",
   "metadata": {},
   "source": [
    "* Begin by describing the approach for implementing BFS"
   ]
  },
  {
   "cell_type": "code",
   "execution_count": 6,
   "id": "bb59900c-5fb0-4aad-bdb9-98ba76c10b81",
   "metadata": {},
   "outputs": [],
   "source": [
    "# Write description here "
   ]
  },
  {
   "cell_type": "code",
   "execution_count": 7,
   "id": "f84a40d2-2aa8-41bf-9b5a-775b191a064b",
   "metadata": {
    "tags": []
   },
   "outputs": [],
   "source": [
    "def bfs(node, tree):\n",
    "    pass"
   ]
  },
  {
   "cell_type": "code",
   "execution_count": 8,
   "id": "6d4bf318-d41f-4198-a463-0184df4325b8",
   "metadata": {
    "tags": []
   },
   "outputs": [],
   "source": [
    "node = '6'\n",
    "bfs(node, tree)\n",
    "\n",
    "\n"
   ]
  },
  {
   "cell_type": "code",
   "execution_count": null,
   "id": "420ee3bd-c910-41ed-ba83-9ce8ef71af8b",
   "metadata": {},
   "outputs": [],
   "source": []
  }
 ],
 "metadata": {
  "kernelspec": {
   "display_name": "Python 3 (ipykernel)",
   "language": "python",
   "name": "python3"
  },
  "language_info": {
   "codemirror_mode": {
    "name": "ipython",
    "version": 3
   },
   "file_extension": ".py",
   "mimetype": "text/x-python",
   "name": "python",
   "nbconvert_exporter": "python",
   "pygments_lexer": "ipython3",
   "version": "3.10.14"
  }
 },
 "nbformat": 4,
 "nbformat_minor": 5
}
