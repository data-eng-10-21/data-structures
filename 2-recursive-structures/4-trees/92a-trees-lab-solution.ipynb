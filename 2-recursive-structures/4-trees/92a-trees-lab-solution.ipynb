{
 "cells": [
  {
   "cell_type": "markdown",
   "id": "ee8965bc-32b8-441e-acca-5156fff482a5",
   "metadata": {},
   "source": [
    "# Trees Lab"
   ]
  },
  {
   "cell_type": "markdown",
   "id": "8c7f8797-4588-4ec0-852f-498695087c72",
   "metadata": {},
   "source": [
    "### Introduction"
   ]
  },
  {
   "cell_type": "markdown",
   "id": "4bdfe2ef-17cc-4a79-a1b3-03758b0757e8",
   "metadata": {},
   "source": [
    "In this lesson, we'll review some of what we covered in the last walkthrough.  We'll then ask you to implement the minimum and maximum depth depth problems using depth first search."
   ]
  },
  {
   "cell_type": "markdown",
   "id": "f9f3e7a9-11f9-4cfc-949a-2f8c376a53bc",
   "metadata": {},
   "source": [
    "### Reviewing BFS"
   ]
  },
  {
   "cell_type": "markdown",
   "id": "f1599dbc-427f-4215-9fb1-e5ae8fbfd0e3",
   "metadata": {},
   "source": [
    "Before implementing our maximum and minimum depth problems, begin by implmenting BFS using the TreeNode class."
   ]
  },
  {
   "cell_type": "code",
   "execution_count": 5,
   "id": "4dce987e-8d7f-4075-89cd-54a65edbcdf6",
   "metadata": {},
   "outputs": [],
   "source": [
    "#     3\n",
    "#    / \\\n",
    "#   9  20\n",
    "#      / \\\n",
    "#     15  7"
   ]
  },
  {
   "cell_type": "code",
   "execution_count": 6,
   "id": "ea188354-8be0-48cf-823b-d17f5255af28",
   "metadata": {
    "tags": []
   },
   "outputs": [],
   "source": [
    "class TreeNode:\n",
    "    def __init__(self, val=0, left=None, right=None):\n",
    "        self.val = val\n",
    "        self.left = left\n",
    "        self.right = right"
   ]
  },
  {
   "cell_type": "code",
   "execution_count": 7,
   "id": "a007aa69-9e33-4030-b494-310375eadfba",
   "metadata": {
    "tags": []
   },
   "outputs": [],
   "source": [
    "root = TreeNode(3)\n",
    "root.left = TreeNode(9)\n",
    "root.right = TreeNode(20, TreeNode(15), TreeNode(7))"
   ]
  },
  {
   "cell_type": "markdown",
   "id": "6c2eed1f-1a49-4089-bfaf-e00c8a311c38",
   "metadata": {
    "tags": []
   },
   "source": [
    "* Implement BFS below"
   ]
  },
  {
   "cell_type": "code",
   "execution_count": 8,
   "id": "f2ae7735-a4e8-4852-a6ce-82d192d63a30",
   "metadata": {
    "tags": []
   },
   "outputs": [],
   "source": [
    "from collections import deque\n",
    "\n",
    "\n",
    "def bfs(node):\n",
    "    queue = deque([node])\n",
    "    while queue:\n",
    "        node = queue.popleft()\n",
    "        print(node.val)\n",
    "        if node.left:\n",
    "            queue.append(node.left)\n",
    "        if node.right:\n",
    "            queue.append(node.right)\n",
    "            "
   ]
  },
  {
   "cell_type": "code",
   "execution_count": 9,
   "id": "7a56377b-b27d-4e6f-a35f-719a4216998f",
   "metadata": {
    "tags": []
   },
   "outputs": [
    {
     "name": "stdout",
     "output_type": "stream",
     "text": [
      "3\n",
      "9\n",
      "20\n",
      "15\n",
      "7\n"
     ]
    }
   ],
   "source": [
    "bfs(root)"
   ]
  },
  {
   "cell_type": "markdown",
   "id": "ef28d10c-2e39-46a3-8fab-1e989578a822",
   "metadata": {},
   "source": [
    "### Implementing DFS"
   ]
  },
  {
   "cell_type": "markdown",
   "id": "6b3b314e-287a-4ef7-96f0-10e8f7ac2220",
   "metadata": {},
   "source": [
    "Ok, next implement DFS using the TreeNode class."
   ]
  },
  {
   "cell_type": "code",
   "execution_count": 10,
   "id": "04597d07-4e0b-4704-ade0-d3f8445a6818",
   "metadata": {
    "tags": []
   },
   "outputs": [],
   "source": [
    "class TreeNode:\n",
    "    def __init__(self, val=0, left=None, right=None):\n",
    "        self.val = val\n",
    "        self.left = left\n",
    "        self.right = right"
   ]
  },
  {
   "cell_type": "code",
   "execution_count": 11,
   "id": "f36dc9c7-0165-4be7-bf4a-05a01cea16c2",
   "metadata": {
    "tags": []
   },
   "outputs": [],
   "source": [
    "root = TreeNode(3)\n",
    "root.left = TreeNode(9)\n",
    "root.right = TreeNode(20, TreeNode(15), TreeNode(7))"
   ]
  },
  {
   "cell_type": "code",
   "execution_count": 12,
   "id": "a8b02752-8aa0-4c5d-8066-7026d59d6d3b",
   "metadata": {
    "tags": []
   },
   "outputs": [],
   "source": [
    "#     3\n",
    "#    / \\\n",
    "#   9  20\n",
    "#      / \\\n",
    "#     15  7"
   ]
  },
  {
   "cell_type": "code",
   "execution_count": 13,
   "id": "83a8fb1d-5bf8-405d-ab5e-ec5987dec227",
   "metadata": {
    "tags": []
   },
   "outputs": [],
   "source": [
    "def dfs(node):\n",
    "    stack = [node]\n",
    "    while stack:\n",
    "        node = stack.pop()\n",
    "        print(node.val)\n",
    "        if node.left:\n",
    "            stack.append(node.left)\n",
    "        if node.right:\n",
    "            stack.append(node.right)\n",
    "            "
   ]
  },
  {
   "cell_type": "code",
   "execution_count": 14,
   "id": "df1740b3-66ec-4399-bf78-4929e06f7d93",
   "metadata": {
    "tags": []
   },
   "outputs": [
    {
     "name": "stdout",
     "output_type": "stream",
     "text": [
      "3\n",
      "20\n",
      "7\n",
      "15\n",
      "9\n"
     ]
    }
   ],
   "source": [
    "dfs(root)"
   ]
  },
  {
   "cell_type": "markdown",
   "id": "2f15788f-cd7f-4752-9a7e-9745f88329f0",
   "metadata": {},
   "source": [
    "### Finding minimum depth using BFS"
   ]
  },
  {
   "cell_type": "markdown",
   "id": "ba7619c9-72e5-4c55-9b5f-feee32381e85",
   "metadata": {},
   "source": [
    "Ok, so in the last lesson, we used BFS to calculate the minimum levels.  Please implement that below."
   ]
  },
  {
   "cell_type": "code",
   "execution_count": 15,
   "id": "fa12f918-536f-4c65-a29f-526d973c23e0",
   "metadata": {},
   "outputs": [],
   "source": [
    "root = TreeNode(3)\n",
    "root.left = TreeNode(9)\n",
    "root.right = TreeNode(20, TreeNode(15), TreeNode(7))"
   ]
  },
  {
   "cell_type": "code",
   "execution_count": 16,
   "id": "5e822fda-2da2-43c8-a74b-a65007a3a66a",
   "metadata": {
    "tags": []
   },
   "outputs": [],
   "source": [
    "def min_depth(root):\n",
    "    queue = deque([(root, 1)])  # Initialize the queue with the node and its depth\n",
    "    \n",
    "    while queue:\n",
    "        node, depth = queue.popleft()\n",
    "        \n",
    "        # if it's a leaf node, return the current depth\n",
    "        if not node.left and not node.right:\n",
    "            return node.val, depth\n",
    "        \n",
    "        # Add child nodes to the queue\n",
    "        if node.left:\n",
    "            queue.append((node.left, depth + 1)) # increment depth by 1\n",
    "        if node.right:\n",
    "            queue.append((node.right, depth + 1)) # increment depth by 1\n",
    "    "
   ]
  },
  {
   "cell_type": "code",
   "execution_count": 17,
   "id": "53fd86ee-9ae0-4e6e-8f21-4e8b2233c305",
   "metadata": {
    "tags": []
   },
   "outputs": [
    {
     "data": {
      "text/plain": [
       "(9, 2)"
      ]
     },
     "execution_count": 17,
     "metadata": {},
     "output_type": "execute_result"
    }
   ],
   "source": [
    "min_depth(root)"
   ]
  },
  {
   "cell_type": "markdown",
   "id": "fc4585c6-72ed-4ced-9bd5-667651f38b03",
   "metadata": {},
   "source": [
    "* Implementing maximum depth"
   ]
  },
  {
   "cell_type": "code",
   "execution_count": 20,
   "id": "85137b01-fe88-4362-b749-cc3b15b3a3e6",
   "metadata": {
    "tags": []
   },
   "outputs": [],
   "source": [
    "def max_depth(root):\n",
    "    queue = deque([(root, 1)])  # Initialize the queue with the node and its depth\n",
    "    \n",
    "    while queue:\n",
    "        node, depth = queue.popleft()\n",
    "        \n",
    "        # Add child nodes to the queue\n",
    "        if node.left:\n",
    "            queue.append((node.left, depth + 1)) # increment depth by 1\n",
    "        if node.right:\n",
    "            queue.append((node.right, depth + 1)) # increment depth by 1\n",
    "        \n",
    "    return node.val, depth\n",
    "    "
   ]
  },
  {
   "cell_type": "code",
   "execution_count": 21,
   "id": "0f515cbb-68d4-43c0-aee3-8c887a43dc03",
   "metadata": {
    "tags": []
   },
   "outputs": [
    {
     "data": {
      "text/plain": [
       "(7, 3)"
      ]
     },
     "execution_count": 21,
     "metadata": {},
     "output_type": "execute_result"
    }
   ],
   "source": [
    "max_depth(root)"
   ]
  },
  {
   "cell_type": "markdown",
   "id": "542ae147-5ff0-461e-a37e-04e66ac7628d",
   "metadata": {},
   "source": [
    "### Using DFS Challenge"
   ]
  },
  {
   "cell_type": "markdown",
   "id": "9abe199a-b257-4bd2-afed-f15a4eb95cb9",
   "metadata": {},
   "source": [
    "Finally, if you would like a challenge, try using DFS to calculate the minimum level.  After five minutes, you can look at the answer below."
   ]
  },
  {
   "cell_type": "code",
   "execution_count": null,
   "id": "c4c56cba-cad6-4249-8452-13fd1bb18e21",
   "metadata": {},
   "outputs": [],
   "source": [
    "#     3\n",
    "#    / \\\n",
    "#   9  20\n",
    "#      / \\\n",
    "#     15  7"
   ]
  },
  {
   "cell_type": "code",
   "execution_count": 32,
   "id": "1f774e6e-5339-405f-b118-721d6365f0d3",
   "metadata": {
    "tags": []
   },
   "outputs": [],
   "source": [
    "root = TreeNode(3)\n",
    "root.left = TreeNode(9)\n",
    "root.right = TreeNode(20, TreeNode(15), TreeNode(7))"
   ]
  },
  {
   "cell_type": "markdown",
   "id": "7e2b3910-fcbb-444f-a94f-6e43acfc2867",
   "metadata": {},
   "source": [
    "### Solution: Min depth DFS"
   ]
  },
  {
   "cell_type": "code",
   "execution_count": null,
   "id": "03e8c55a-acc9-434a-89cd-caa149149754",
   "metadata": {},
   "outputs": [],
   "source": [
    "def min_depth(node):\n",
    "    stack = [(node, 1)]\n",
    "    min_depth = float('inf')\n",
    "    \n",
    "    while stack:\n",
    "        node, depth = stack.pop()\n",
    "        \n",
    "        if not node.left and not node.right:\n",
    "            min_depth = min(min_depth, depth) \n",
    "        \n",
    "        if node.left:\n",
    "            stack.append((node.left, depth + 1))\n",
    "        if node.right:\n",
    "            stack.append((node.right, depth + 1))\n",
    "    return min_depth"
   ]
  },
  {
   "cell_type": "markdown",
   "id": "49cdc798-561f-4311-a1b4-a70893a477f8",
   "metadata": {},
   "source": [
    "Ok, so one trick with the DFS is that we also keep track of minimum depth throughout the stack.  And then, at the very end, when the stack is complete the `min_depth` is returned."
   ]
  },
  {
   "cell_type": "code",
   "execution_count": null,
   "id": "5086da26-a0eb-4a04-ac25-b4bb6acbdba9",
   "metadata": {},
   "outputs": [],
   "source": []
  }
 ],
 "metadata": {
  "kernelspec": {
   "display_name": "Python 3 (ipykernel)",
   "language": "python",
   "name": "python3"
  },
  "language_info": {
   "codemirror_mode": {
    "name": "ipython",
    "version": 3
   },
   "file_extension": ".py",
   "mimetype": "text/x-python",
   "name": "python",
   "nbconvert_exporter": "python",
   "pygments_lexer": "ipython3",
   "version": "3.10.14"
  }
 },
 "nbformat": 4,
 "nbformat_minor": 5
}
