{
 "cells": [
  {
   "cell_type": "markdown",
   "id": "272092ec-74c1-413c-ac31-bc165bd0c71d",
   "metadata": {},
   "source": [
    "# Minimum Depth Problem"
   ]
  },
  {
   "cell_type": "markdown",
   "id": "ac45172f-f058-4fdf-9a4a-31c5fd7ffe66",
   "metadata": {},
   "source": [
    "### Introduction"
   ]
  },
  {
   "cell_type": "markdown",
   "id": "40d7a0bf-d9a7-47b4-97f0-3c70f9bb6007",
   "metadata": {},
   "source": [
    "In this lesson, we'll work on the minimum depth problem."
   ]
  },
  {
   "cell_type": "code",
   "execution_count": 2,
   "id": "114acc86-ef92-490d-a85b-f9c32f071098",
   "metadata": {
    "tags": []
   },
   "outputs": [],
   "source": [
    "class TreeNode:\n",
    "    def __init__(self, val=0, left=None, right=None):\n",
    "        self.val = val\n",
    "        self.left = left\n",
    "        self.right = right"
   ]
  },
  {
   "cell_type": "code",
   "execution_count": 3,
   "id": "bfe0809e-b6fa-4265-a4e6-cfdc39d82851",
   "metadata": {
    "tags": []
   },
   "outputs": [],
   "source": [
    "root = TreeNode(3)\n",
    "root.left = TreeNode(9)\n",
    "root.right = TreeNode(20, TreeNode(15), TreeNode(7))"
   ]
  },
  {
   "cell_type": "markdown",
   "id": "07ab4ce3-028e-4f9f-b2c7-ae0bf1145c6c",
   "metadata": {},
   "source": [
    "Above we have a tree that looks like the following:"
   ]
  },
  {
   "cell_type": "markdown",
   "id": "f9dcc051-df90-49bd-a0ce-376ccade7b9e",
   "metadata": {},
   "source": [
    "* Implementation with DFS"
   ]
  },
  {
   "cell_type": "code",
   "execution_count": 1,
   "id": "4c86aad9-734c-4c38-9554-883da24a6b75",
   "metadata": {},
   "outputs": [],
   "source": [
    "class TreeNode:\n",
    "    def __init__(self, val=0, left=None, right=None):\n",
    "        self.val = val\n",
    "        self.left = left\n",
    "        self.right = right\n",
    "\n",
    "def minDepth(root: TreeNode) -> int:\n",
    "    if not root:\n",
    "        return 0\n",
    "    \n",
    "    stack = [(root, 1)]  # Initialize the stack with the root node and its depth\n",
    "    min_depth = float('inf')  # Initialize the minimum depth to infinity\n",
    "    \n",
    "    while stack:\n",
    "        node, depth = stack.pop()\n",
    "        \n",
    "        # Check if it's a leaf node\n",
    "        if not node.left and not node.right:\n",
    "            min_depth = min(min_depth, depth)\n",
    "        \n",
    "        # Add child nodes to the stack with incremented depth\n",
    "        if node.left:\n",
    "            stack.append((node.left, depth + 1))\n",
    "        if node.right:\n",
    "            stack.append((node.right, depth + 1))\n",
    "    \n",
    "    return min_depth"
   ]
  },
  {
   "cell_type": "code",
   "execution_count": null,
   "id": "04a5b442-4e96-4abc-b098-c5dc8c71eaee",
   "metadata": {},
   "outputs": [],
   "source": []
  }
 ],
 "metadata": {
  "kernelspec": {
   "display_name": "Python 3 (ipykernel)",
   "language": "python",
   "name": "python3"
  },
  "language_info": {
   "codemirror_mode": {
    "name": "ipython",
    "version": 3
   },
   "file_extension": ".py",
   "mimetype": "text/x-python",
   "name": "python",
   "nbconvert_exporter": "python",
   "pygments_lexer": "ipython3",
   "version": "3.10.14"
  }
 },
 "nbformat": 4,
 "nbformat_minor": 5
}
