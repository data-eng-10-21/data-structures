{
 "cells": [
  {
   "cell_type": "markdown",
   "id": "094659ad-6037-4aea-80d6-fd63100caef4",
   "metadata": {},
   "source": [
    "# Breadth First Search"
   ]
  },
  {
   "cell_type": "markdown",
   "id": "6799b005-7dc4-4f6b-a49e-88e65136aea3",
   "metadata": {},
   "source": [
    "### Introduction"
   ]
  },
  {
   "cell_type": "markdown",
   "id": "ac82c389-0923-44f0-92a1-335984c37be0",
   "metadata": {},
   "source": [
    "While depth first search allows us to move through a tree by probing from root node to leaf node, with depth first search we essentially explore our tree in layers."
   ]
  },
  {
   "cell_type": "markdown",
   "id": "93e85845-4f7a-4738-a572-f16e18508c8a",
   "metadata": {},
   "source": [
    "<img src=\"./tree-eg.png\" width=\"40%\">"
   ]
  },
  {
   "cell_type": "markdown",
   "id": "f51e0cc5-2359-42d7-b632-943573ef06a6",
   "metadata": {},
   "source": [
    "For example, with the tree above, we would first visit the root node, then the next layer of 8, 9.  Then from there we would visit the third layer of 4, 7, 12, and 11, and finally visit 3."
   ]
  },
  {
   "cell_type": "markdown",
   "id": "6fa16a3f-9998-4e1c-bc8b-65bb7bc231a0",
   "metadata": {},
   "source": [
    "* Use cases\n",
    "\n",
    "BFS is good for going broad before going deep.  For example, if we imagine a web crawler that visits pages link by link, with BFS we will visit \"closer\" nodes before those that are more steps away.  \n",
    "\n",
    "The same applies for traversing a social network -- think of linked in with first order connections, rather than those through friends.  If you say want to find a connection with a particular skill, BFS can search through more recent connections first.  \n",
    "\n",
    "Another way to think about it is, where these layers represent a hierarchy, then it's useful to visit one layer at a time.  Another final example, could be traversing through an org chart -- maybe we want to ask the most relevant department (say marketing) our questions before going to more distant personnel.\n",
    "\n",
    "Finally, **both** BFS and DFS will allow us to visit all nodes in a connected component -- they just do so with different approaches."
   ]
  },
  {
   "cell_type": "markdown",
   "id": "7fae4d83-c075-4194-9281-abcac1af2bdd",
   "metadata": {},
   "source": [
    "### Our Implmentation"
   ]
  },
  {
   "cell_type": "markdown",
   "id": "f95d81af-f9d3-49f6-875c-112d61cda5e0",
   "metadata": {},
   "source": [
    "Let's begin by representing our tree as a dictionary."
   ]
  },
  {
   "cell_type": "markdown",
   "id": "4c61590a-0b49-4b50-9ce8-f27e8e030a74",
   "metadata": {
    "tags": []
   },
   "source": [
    "<img src=\"./tree-eg.png\" width=\"30%\">"
   ]
  },
  {
   "cell_type": "code",
   "execution_count": 4,
   "id": "75cf96b8-c694-4b2f-b812-8ffe03414a74",
   "metadata": {
    "tags": []
   },
   "outputs": [],
   "source": [
    "tree = {'6': ['8', '9'], '8': ['4', '7'], '9': ['12', '11'], '11': ['3']}\n",
    "\n",
    "root = '6'"
   ]
  },
  {
   "cell_type": "markdown",
   "id": "40e88cc1-355f-4d47-b38b-88e288036b7a",
   "metadata": {},
   "source": [
    "Now the main difference between DFS and BFS is that while DFS uses a stack (last in first out), which gives it this technique of \"keep digging\", with BFS we use a queue visiting nodes and their syblings in order."
   ]
  },
  {
   "cell_type": "code",
   "execution_count": 5,
   "id": "f35556db-52c2-477a-8988-b431b88897c4",
   "metadata": {
    "tags": []
   },
   "outputs": [
    {
     "name": "stdout",
     "output_type": "stream",
     "text": [
      "current queue is deque(['6'])\n",
      "current node is 6\n",
      "current queue is deque(['8', '9'])\n",
      "current node is 8\n",
      "current queue is deque(['9', '4', '7'])\n",
      "current node is 9\n",
      "current queue is deque(['4', '7', '12', '11'])\n",
      "current node is 4\n",
      "current queue is deque(['7', '12', '11'])\n",
      "current node is 7\n",
      "current queue is deque(['12', '11'])\n",
      "current node is 12\n",
      "current queue is deque(['11'])\n",
      "current node is 11\n",
      "current queue is deque(['3'])\n",
      "current node is 3\n"
     ]
    }
   ],
   "source": [
    "from collections import deque\n",
    "\n",
    "queue = deque([root])\n",
    "\n",
    "while queue:\n",
    "    print('current queue is', queue)\n",
    "    node = queue.popleft()  # Pop a node from the stack.\n",
    "\n",
    "    print('current node is', node)  # Process the node (e.g., print it).\n",
    "    # Push all direct child nodes to the stack.\n",
    "    for child in tree.get(node, []):\n",
    "            queue.append(child)"
   ]
  },
  {
   "cell_type": "markdown",
   "id": "43e9b408-c000-43b1-8e5e-3b9c9ca9609c",
   "metadata": {},
   "source": [
    "To see how this works let's just take a look at the first few lines that are printed out."
   ]
  },
  {
   "cell_type": "markdown",
   "id": "4a359f76-273f-463d-9a1c-85b1ce28fb2f",
   "metadata": {
    "tags": []
   },
   "source": [
    "<img src=\"./tree-eg.png\" width=\"30%\">"
   ]
  },
  {
   "cell_type": "code",
   "execution_count": null,
   "id": "29041688-6f8c-47e9-b0da-3c78b1b27ff4",
   "metadata": {},
   "outputs": [],
   "source": [
    "# current queue is deque(['6'])\n",
    "# current node is 6\n",
    "# current queue is deque(['8', '9'])\n",
    "# current node is 8 \n",
    "# current queue is deque(['9', '4', '7'])"
   ]
  },
  {
   "cell_type": "markdown",
   "id": "541a9970-56d4-425f-95af-248449508596",
   "metadata": {},
   "source": [
    "So for each node, left to right, we process by printing the node, and adding the direct children to the queue.  This ensures handling one layer at time because before we add, say the direct children of 8 to the queue (4, 7), we have already added 9 to the queue.  \n",
    "\n",
    "In other words, if you look at the queue, notice that we never have a node from a lower layer listed before the node from an earlier layer.\n",
    "\n",
    "Finally, just like with DFS, we should make sure not to revisit any nodes."
   ]
  },
  {
   "cell_type": "code",
   "execution_count": 8,
   "id": "823851c6-921f-4dac-b7b2-dfb4da656500",
   "metadata": {
    "tags": []
   },
   "outputs": [
    {
     "name": "stdout",
     "output_type": "stream",
     "text": [
      "current queue is deque(['6'])\n",
      "current node is 6\n",
      "current queue is deque(['8', '9'])\n",
      "current node is 8\n",
      "current queue is deque(['9', '4', '7'])\n",
      "current node is 9\n",
      "current queue is deque(['4', '7', '12', '11'])\n",
      "current node is 4\n",
      "current queue is deque(['7', '12', '11'])\n",
      "current node is 7\n",
      "current queue is deque(['12', '11'])\n",
      "current node is 12\n",
      "current queue is deque(['11'])\n",
      "current node is 11\n",
      "current queue is deque(['3'])\n",
      "current node is 3\n"
     ]
    }
   ],
   "source": [
    "from collections import deque\n",
    "visited = set([])\n",
    "queue = deque([root])\n",
    "\n",
    "while queue:\n",
    "    print('current queue is', queue)\n",
    "    node = queue.popleft()  # Pop a node from the stack.\n",
    "    if not node in visited:\n",
    "        print('current node is', node)  # Process the node (e.g., print it).\n",
    "        visited.add(node)\n",
    "        # Push all direct child nodes to the stack.\n",
    "        for child in tree.get(node, []):\n",
    "            queue.append(child)"
   ]
  },
  {
   "cell_type": "markdown",
   "id": "e7b690b4-482b-4660-b9e1-c91d76648fb8",
   "metadata": {},
   "source": [
    "### Summary"
   ]
  },
  {
   "cell_type": "markdown",
   "id": "2539a97e-4d0d-4664-a427-bad07893f35c",
   "metadata": {},
   "source": [
    "With breadth first search we visit the nodes in our tree in layers.  This has various use cases, especially when each layer of our tree represents a hierarchy.  So BFS can allow us to visit more directly linked web pages, or social connections before others.\n",
    "\n",
    "We implement breadth first search similar to depth first search, with the main difference being that we use a queue (first in first out), and use `popleft` or `pop(index = 0)` to remove elements."
   ]
  },
  {
   "cell_type": "code",
   "execution_count": 12,
   "id": "4329b880-73cb-4c55-a316-e30418cf7258",
   "metadata": {
    "tags": []
   },
   "outputs": [],
   "source": [
    "from collections import deque\n",
    "\n",
    "def bfs(root, tree):\n",
    "    visited = set([])\n",
    "    queue = deque([root])\n",
    "\n",
    "    while queue:\n",
    "        print('current queue is', queue)\n",
    "        node = queue.popleft()  # Pop a node from the stack.\n",
    "        if not node in visited:\n",
    "            print('current node is', node)  # Process the node (e.g., print it).\n",
    "            visited.add(node)\n",
    "            # Push all direct child nodes to the stack.\n",
    "            for child in tree.get(node, []):\n",
    "                queue.append(child)"
   ]
  },
  {
   "cell_type": "code",
   "execution_count": 14,
   "id": "2a49a68a-1c85-45bc-a775-e3bec15a6d2d",
   "metadata": {
    "tags": []
   },
   "outputs": [],
   "source": [
    "# bfs(root, tree)"
   ]
  },
  {
   "cell_type": "markdown",
   "id": "ab9c67da-438b-4110-8101-1e2b5f0ddad3",
   "metadata": {},
   "source": [
    "### Resources\n",
    "\n",
    "[BFS](https://github.com/learn-co-curriculum/bfs)"
   ]
  }
 ],
 "metadata": {
  "kernelspec": {
   "display_name": "Python 3 (ipykernel)",
   "language": "python",
   "name": "python3"
  },
  "language_info": {
   "codemirror_mode": {
    "name": "ipython",
    "version": 3
   },
   "file_extension": ".py",
   "mimetype": "text/x-python",
   "name": "python",
   "nbconvert_exporter": "python",
   "pygments_lexer": "ipython3",
   "version": "3.10.14"
  }
 },
 "nbformat": 4,
 "nbformat_minor": 5
}
