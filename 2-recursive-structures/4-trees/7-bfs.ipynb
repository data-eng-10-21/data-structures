{
 "cells": [
  {
   "cell_type": "code",
   "execution_count": null,
   "id": "fae7904c-c4d9-4ea4-b89b-af2965fa3e3f",
   "metadata": {},
   "outputs": [],
   "source": []
  },
  {
   "cell_type": "markdown",
   "id": "ab9c67da-438b-4110-8101-1e2b5f0ddad3",
   "metadata": {},
   "source": [
    "### Resources\n",
    "\n",
    "[BFS](https://github.com/learn-co-curriculum/bfs)"
   ]
  },
  {
   "cell_type": "code",
   "execution_count": null,
   "id": "f7c1045e-50e6-4dd7-85b4-583c516dc0da",
   "metadata": {},
   "outputs": [],
   "source": []
  }
 ],
 "metadata": {
  "kernelspec": {
   "display_name": "Python 3 (ipykernel)",
   "language": "python",
   "name": "python3"
  },
  "language_info": {
   "codemirror_mode": {
    "name": "ipython",
    "version": 3
   },
   "file_extension": ".py",
   "mimetype": "text/x-python",
   "name": "python",
   "nbconvert_exporter": "python",
   "pygments_lexer": "ipython3",
   "version": "3.9.12"
  }
 },
 "nbformat": 4,
 "nbformat_minor": 5
}
