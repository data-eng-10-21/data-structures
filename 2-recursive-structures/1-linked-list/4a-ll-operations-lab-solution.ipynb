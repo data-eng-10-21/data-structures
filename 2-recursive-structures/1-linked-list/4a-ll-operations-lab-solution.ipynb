{
 "cells": [
  {
   "cell_type": "markdown",
   "id": "4b44d499-acb9-4a62-9bd8-19c9ba362294",
   "metadata": {},
   "source": [
    "# Linked List Operations Lab"
   ]
  },
  {
   "cell_type": "markdown",
   "id": "883ea18c-fe67-4ab4-b683-3f2d499e6269",
   "metadata": {},
   "source": [
    "### Introduction"
   ]
  },
  {
   "cell_type": "markdown",
   "id": "f3f2a81d-d1c1-42c9-af8e-f2780b1aeba5",
   "metadata": {},
   "source": [
    "In this lesson, we'll practice writing out our linked list operations.  **Please**, good people, do not look at the previous reading.  \n",
    "\n",
    "First try it yourself (each problem for at least 10 minutes), and then you can always look at the reading at the end.  The struggle is where you are learning."
   ]
  },
  {
   "cell_type": "markdown",
   "id": "eb3e3f60-66b4-4ce8-8342-340a573965a7",
   "metadata": {},
   "source": [
    "### Getting started"
   ]
  },
  {
   "cell_type": "markdown",
   "id": "4d912b43-fba8-4361-9882-2ab4a46e406f",
   "metadata": {},
   "source": [
    "We'll start you off with the following linked list."
   ]
  },
  {
   "cell_type": "code",
   "execution_count": 2,
   "id": "abff792c-38ca-49d9-a35d-d94fe387b793",
   "metadata": {
    "tags": []
   },
   "outputs": [],
   "source": [
    "class LinkedList:\n",
    "    def  __init__(self, head = None):\n",
    "        self.head = head\n",
    "\n",
    "class Node:\n",
    "    def __init__(self, value, next_node=None):\n",
    "        self.value = value\n",
    "        self.next = next_node"
   ]
  },
  {
   "cell_type": "markdown",
   "id": "3acd5264-2c39-4bac-b337-77625f882ec2",
   "metadata": {},
   "source": [
    "1. Quickly creating our list"
   ]
  },
  {
   "cell_type": "markdown",
   "id": "0e5d7463-3307-4996-8884-ce26ad1e979b",
   "metadata": {},
   "source": [
    "Write code to turn a normal Python list into a linked list."
   ]
  },
  {
   "cell_type": "code",
   "execution_count": 35,
   "id": "e5e877eb-4d94-4b4d-81d8-8c2daf2a4604",
   "metadata": {
    "tags": []
   },
   "outputs": [],
   "source": [
    "def build_linked_list(original_list):\n",
    "    head = Node(original_list[0])\n",
    "    ll = LinkedList(head)\n",
    "\n",
    "    current = head\n",
    "    remaining_els = original_list[1:]\n",
    "    \n",
    "    for i in range(len(remaining_els)):\n",
    "        current_element = remaining_els[i]\n",
    "        next_node = Node(current_element)\n",
    "        \n",
    "        current.next = next_node\n",
    "        current = next_node\n",
    "    return ll"
   ]
  },
  {
   "cell_type": "code",
   "execution_count": 42,
   "id": "9c7c1068-5ae1-4eeb-811d-a41b1b7b9784",
   "metadata": {
    "tags": []
   },
   "outputs": [],
   "source": [
    "original_list = ['ab', 'bc', 'cd']\n",
    "linked = build_linked_list(original_list)"
   ]
  },
  {
   "cell_type": "code",
   "execution_count": 47,
   "id": "39733cb5-60b1-41c2-a6cd-e1e92813a7d0",
   "metadata": {
    "tags": []
   },
   "outputs": [
    {
     "data": {
      "text/plain": [
       "('ab', 'bc', 'cd')"
      ]
     },
     "execution_count": 47,
     "metadata": {},
     "output_type": "execute_result"
    }
   ],
   "source": [
    "linked.head.value, linked.head.next.value, linked.head.next.next.value"
   ]
  },
  {
   "cell_type": "markdown",
   "id": "25bdc922-9c55-49dd-a297-4836d5373881",
   "metadata": {},
   "source": [
    "2. Print the elements"
   ]
  },
  {
   "cell_type": "markdown",
   "id": "b47fe934-03f2-4182-8213-9859b6190250",
   "metadata": {},
   "source": [
    "Now write code to:\n",
    "\n",
    "* Print each of the values in order.\n",
    "* Reverse a linked list (first think through the logic, then struggle through it)\n",
    "* Append to the linked list"
   ]
  },
  {
   "cell_type": "code",
   "execution_count": 54,
   "id": "da5f0f24-5a54-47ee-97b2-0bb27d4e892d",
   "metadata": {
    "tags": []
   },
   "outputs": [],
   "source": [
    "class LinkedList:\n",
    "    def  __init__(self, head = None):\n",
    "        self.head = head\n",
    "        \n",
    "    def print_nodes(self):\n",
    "        current = self.head\n",
    "        while current:\n",
    "            print(current.value)\n",
    "            current = current.next\n",
    "            \n",
    "    def reverse(self):\n",
    "        current = self.head\n",
    "        previous = None\n",
    "        while current:\n",
    "            next_node = current.next \n",
    "            current.next = previous\n",
    "            previous = current\n",
    "            current = next_node\n",
    "        self.head = previous\n",
    "        \n",
    "    def append_to(self, value):\n",
    "        current = self.head\n",
    "        previous = self.head\n",
    "        new_node = Node(value = value)\n",
    "        while current:\n",
    "            previous = current\n",
    "            current = current.next\n",
    "        previous.next = new_node\n",
    "        \n",
    "\n",
    "class Node:\n",
    "    def __init__(self, value, next_node=None):\n",
    "        self.value = value\n",
    "        self.next = next_node"
   ]
  },
  {
   "cell_type": "code",
   "execution_count": 51,
   "id": "1ae74794-06d4-4d0a-aa2a-01ce5f0fc56a",
   "metadata": {
    "tags": []
   },
   "outputs": [
    {
     "name": "stdout",
     "output_type": "stream",
     "text": [
      "ab\n",
      "bc\n",
      "cd\n"
     ]
    }
   ],
   "source": [
    "original_list = ['ab', 'bc', 'cd']\n",
    "linked_l = build_linked_list(original_list)\n",
    "        \n",
    "linked_l.print_nodes()\n",
    "\n",
    "# ab\n",
    "# bc\n",
    "# cd"
   ]
  },
  {
   "cell_type": "code",
   "execution_count": 53,
   "id": "3f7e7f40-f437-4954-956f-71fd35b8b5af",
   "metadata": {
    "tags": []
   },
   "outputs": [
    {
     "name": "stdout",
     "output_type": "stream",
     "text": [
      "cd\n",
      "bc\n",
      "ab\n"
     ]
    }
   ],
   "source": [
    "original_list = ['ab', 'bc', 'cd']\n",
    "linked_list = build_linked_list(original_list)\n",
    "linked_list.reverse()\n",
    "linked_list.print_nodes()"
   ]
  },
  {
   "cell_type": "code",
   "execution_count": 55,
   "id": "39e4a80d-0211-4fa3-8452-31c0937ed24b",
   "metadata": {
    "tags": []
   },
   "outputs": [
    {
     "name": "stdout",
     "output_type": "stream",
     "text": [
      "ab\n",
      "bc\n",
      "cd\n",
      "de\n"
     ]
    }
   ],
   "source": [
    "original_list = ['ab', 'bc', 'cd']\n",
    "linked_list = build_linked_list(original_list)\n",
    "linked_list.append_to('de')\n",
    "linked_list.print_nodes()"
   ]
  },
  {
   "cell_type": "code",
   "execution_count": null,
   "id": "769c8268-1181-45ce-92bb-8dea6c5073d5",
   "metadata": {},
   "outputs": [],
   "source": [
    "65317"
   ]
  }
 ],
 "metadata": {
  "kernelspec": {
   "display_name": "Python 3 (ipykernel)",
   "language": "python",
   "name": "python3"
  },
  "language_info": {
   "codemirror_mode": {
    "name": "ipython",
    "version": 3
   },
   "file_extension": ".py",
   "mimetype": "text/x-python",
   "name": "python",
   "nbconvert_exporter": "python",
   "pygments_lexer": "ipython3",
   "version": "3.10.14"
  }
 },
 "nbformat": 4,
 "nbformat_minor": 5
}
