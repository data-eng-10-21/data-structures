{
 "cells": [
  {
   "cell_type": "markdown",
   "id": "3cbc294a-8aea-4d6f-919e-07e0e0a58faf",
   "metadata": {},
   "source": [
    "# Introduction to Linked Lists"
   ]
  },
  {
   "cell_type": "markdown",
   "id": "a012e7e7-b3f2-4a07-94dd-9df1d4feaa0d",
   "metadata": {},
   "source": [
    "### Introduction"
   ]
  },
  {
   "cell_type": "markdown",
   "id": "35422ca6-d608-4bda-bdcf-bf4a6fead449",
   "metadata": {},
   "source": [
    "In this lesson we'll learn about linked lists.  Linked lists are very similar to lists or arrays -- however they have one key difference.  \n",
    "\n",
    "With a normal lists or array, each element is stored one next to the other in memory.\n",
    "\n",
    "However, with a *linked list*, those elements can be at different places in memory -- separated, and instead a pointer indicates the  next location in memory. "
   ]
  },
  {
   "cell_type": "markdown",
   "id": "33fa6d7a-db8f-4b8b-adc8-9e93d36a9a13",
   "metadata": {},
   "source": [
    "### Reviewing ordinary lists"
   ]
  },
  {
   "cell_type": "markdown",
   "id": "6500d1ae-b54d-4274-8899-927047024ffb",
   "metadata": {},
   "source": [
    "Remember that with a python list, we allocate an fixed amount of space for each element, which allows for fast lookup of information by indices."
   ]
  },
  {
   "cell_type": "markdown",
   "id": "5ef5eecb-cb17-4915-bc2f-200d0df75c6e",
   "metadata": {},
   "source": [
    "For example, consider the following list:"
   ]
  },
  {
   "cell_type": "code",
   "execution_count": 2,
   "id": "3127d5a3-1a42-4417-864c-fbbcb4f63669",
   "metadata": {},
   "outputs": [],
   "source": [
    "mixed_elements = [7, 'a', 'hello', 19, 'b']"
   ]
  },
  {
   "cell_type": "markdown",
   "id": "d32f9f9f-f612-4782-be56-c65a349a8e63",
   "metadata": {},
   "source": [
    "It looks like the following under the hood."
   ]
  },
  {
   "cell_type": "markdown",
   "id": "88e24a00-bafc-4fc0-9647-ae6e69ff5632",
   "metadata": {},
   "source": [
    "> <img src=\"./memory-bytes.png\">"
   ]
  },
  {
   "cell_type": "markdown",
   "id": "bebe5dd4-e82b-4e30-8776-0f27570cb2ee",
   "metadata": {},
   "source": [
    "> The numbers up top in gray are the equidistant locations in memory. "
   ]
  },
  {
   "cell_type": "markdown",
   "id": "09f74a73-77cc-4618-bb1b-66419a31a8f8",
   "metadata": {},
   "source": [
    "Notice that each element is spaced just a distance of eight bytes apart.  And when we assign this list to a variable, Python knows the starting point of where the list is stored in memory (above, 100).  So to find any specific element, it just needs to perform a simple calculation."
   ]
  },
  {
   "cell_type": "markdown",
   "id": "ccbc3be4-1d55-4cbc-885e-a15145a0b03a",
   "metadata": {},
   "source": [
    "`element_location = starting_location + 8*index`"
   ]
  },
  {
   "cell_type": "markdown",
   "id": "94fdd9f8-2e83-4277-bf3c-0903b201f603",
   "metadata": {},
   "source": [
    "So when we perform an operation like:"
   ]
  },
  {
   "cell_type": "code",
   "execution_count": 3,
   "id": "7f004879-bec6-4322-83f7-850d4d1c1d8e",
   "metadata": {},
   "outputs": [
    {
     "data": {
      "text/plain": [
       "'hello'"
      ]
     },
     "execution_count": 3,
     "metadata": {},
     "output_type": "execute_result"
    }
   ],
   "source": [
    "mixed_elements[2]"
   ]
  },
  {
   "cell_type": "markdown",
   "id": "a2eefa9e-9aeb-41ff-921b-20ae2b422d6f",
   "metadata": {},
   "source": [
    "Python performs the calculation to know to go to spot 116. So our look up by index is O(1). "
   ]
  },
  {
   "cell_type": "markdown",
   "id": "15040bcb-04d1-4c23-85d2-4a2310ec1841",
   "metadata": {},
   "source": [
    "### The problem"
   ]
  },
  {
   "cell_type": "markdown",
   "id": "160681be-8ed3-485f-afd1-b1dafd3297bd",
   "metadata": {},
   "source": [
    "The problem is that because of all the elements are touching, when we add too many elements, Python eventually runs out space.  In fact, by default, when you initialize a list there's only space for eight elements.\n",
    "\n",
    "If you add more than 8 elements, then Python will have to copy all of this data, and find a larger allocation of space.  That has a cost of n."
   ]
  },
  {
   "cell_type": "markdown",
   "id": "6a8545a7-e3ad-4883-b02b-041979b0ae11",
   "metadata": {},
   "source": [
    "So this is where linked lists come in.  The idea is to no longer require that all of the elements are equally spaced apart.  Instead, with a linked list, each element has a pointer that indicates where the next element is."
   ]
  },
  {
   "cell_type": "markdown",
   "id": "1df7a060-4d0d-411e-b30e-a1d6bbe7e8c6",
   "metadata": {},
   "source": [
    "> <img src=\"./linked-imp.png\" width=\"100%\">"
   ]
  },
  {
   "cell_type": "markdown",
   "id": "6cc83831-84e4-47a5-9931-0d50636752eb",
   "metadata": {},
   "source": [
    "This is what we are displaying above.  In the gray boxes on top, you can see that we have the in memory location of each of the elements.  In blue is the value the element is holding.  And then in red is the location of the next element."
   ]
  },
  {
   "cell_type": "markdown",
   "id": "29afa6c6-bbf5-46c7-8a5a-a9dcc988f81e",
   "metadata": {},
   "source": [
    "### Some definitions"
   ]
  },
  {
   "cell_type": "markdown",
   "id": "8d9adab6-6c1a-47db-a8f6-acc414600bb4",
   "metadata": {},
   "source": [
    "Before moving on, let's get a couple of definitions out of the way."
   ]
  },
  {
   "cell_type": "markdown",
   "id": "0c4ed34d-8df4-4b53-9029-60cb78941b66",
   "metadata": {},
   "source": [
    "* Node: Each of those *elements* are typically referred to as nodes.  \n",
    "\n",
    "Each node contains both the value -- also known as the *key*, and the a pointer to the next element.\n",
    "\n",
    "The first node is referred to as the **head** and the last node is referred to as the **tail**.  "
   ]
  },
  {
   "cell_type": "markdown",
   "id": "8157db7e-9198-46fa-aa91-2e65f8219eea",
   "metadata": {},
   "source": [
    "### Implementing in Python"
   ]
  },
  {
   "cell_type": "markdown",
   "id": "b742013a-fb22-42f5-aacd-b2d869853f04",
   "metadata": {},
   "source": [
    "Ok, so now let's implement this in Python."
   ]
  },
  {
   "cell_type": "code",
   "execution_count": 43,
   "id": "7690eae6-3d39-4583-9286-393511180789",
   "metadata": {},
   "outputs": [],
   "source": [
    "class LinkedList:\n",
    "    def  __init__(self, head = None):  \n",
    "        self.head = head\n",
    "        \n",
    "class Node:\n",
    "    def __init__(self, val, next_node=None): \n",
    "        self.val = val\n",
    "        self.next_node = next_node"
   ]
  },
  {
   "cell_type": "markdown",
   "id": "5d230333-10b7-4e0f-baae-482c79fae10f",
   "metadata": {},
   "source": [
    "We do so with two classes -- our LinkedList collection, and the Nodes that our linked list consists of.  The LinkedList only has a single attribute -- the head node.  "
   ]
  },
  {
   "cell_type": "markdown",
   "id": "0952f300-bae3-42aa-951e-919672f1d750",
   "metadata": {},
   "source": [
    "> <img src=\"./linked-imp.png\" width=\"100%\">"
   ]
  },
  {
   "cell_type": "markdown",
   "id": "234ea716-f581-4ac6-9a41-792d3bde3846",
   "metadata": {},
   "source": [
    "We can build the linked list from the bottom up.  We start with the tail node, 'b' -- and then when we get to the next to last node, 19, we can set the next node as 'b', the node that was just built."
   ]
  },
  {
   "cell_type": "code",
   "execution_count": 62,
   "id": "92e51176-e039-470d-82ed-5e6fa44702df",
   "metadata": {},
   "outputs": [],
   "source": [
    "b = Node('b')\n",
    "nineteen = Node(19, b)\n",
    "hello = Node('hello', nineteen)\n",
    "a = Node('a', hello)\n",
    "seven = Node(7, a)\n",
    "ll = LinkedList(seven)"
   ]
  },
  {
   "cell_type": "markdown",
   "id": "b6fc3e6e-0464-4eff-9ecf-021936f8702a",
   "metadata": {},
   "source": [
    "So we can get the first node's value with the following."
   ]
  },
  {
   "cell_type": "code",
   "execution_count": 63,
   "id": "d180879b-28d7-49f8-9ad4-d746e1bbd7e2",
   "metadata": {},
   "outputs": [
    {
     "data": {
      "text/plain": [
       "7"
      ]
     },
     "execution_count": 63,
     "metadata": {},
     "output_type": "execute_result"
    }
   ],
   "source": [
    "ll.head.val"
   ]
  },
  {
   "cell_type": "markdown",
   "id": "24289969-83f1-43a4-9eef-c235afb18f53",
   "metadata": {},
   "source": [
    "And we can get the second node's value with."
   ]
  },
  {
   "cell_type": "code",
   "execution_count": 64,
   "id": "7e140765-7c68-45fd-b375-246d85d073be",
   "metadata": {},
   "outputs": [
    {
     "data": {
      "text/plain": [
       "'a'"
      ]
     },
     "execution_count": 64,
     "metadata": {},
     "output_type": "execute_result"
    }
   ],
   "source": [
    "ll.head.next_node.val"
   ]
  },
  {
   "cell_type": "markdown",
   "id": "3084ecf8-73f2-4bc4-9d35-6d9a5d12f557",
   "metadata": {},
   "source": [
    "### Summary"
   ]
  },
  {
   "cell_type": "markdown",
   "id": "c2945fad-25fd-4f70-9ceb-d6922e3d3a3c",
   "metadata": {},
   "source": [
    "In this lesson we learned about a linked list.  A linked list has an advantage over a standard list as the elements to not need to be stored in a block of memory where each element is next to the other.  \n",
    "\n",
    "> So this means that we are less likely to run out of space -- which can happen with our normal list, and which then requires us to copy over the list to a new location.\n",
    "\n",
    "Instead a linked list consists of nodes, where a pointer indicates the location in memory of the next node.  \n",
    "\n",
    "We can define a linked list with the LinkedList data structure pointing to the head node, and a node which has an attribute to point to the next node."
   ]
  },
  {
   "cell_type": "code",
   "execution_count": 1,
   "id": "fe1106b6-6c5c-492c-9ff1-3c89742172ad",
   "metadata": {},
   "outputs": [],
   "source": [
    "class LinkedList:\n",
    "    def  __init__(self, head = None):  \n",
    "        self.head = head\n",
    "        \n",
    "class Node:\n",
    "    def __init__(self, val, next_node=None): \n",
    "        self.val = val\n",
    "        self.next_node = next_node"
   ]
  }
 ],
 "metadata": {
  "kernelspec": {
   "display_name": "Python 3 (ipykernel)",
   "language": "python",
   "name": "python3"
  },
  "language_info": {
   "codemirror_mode": {
    "name": "ipython",
    "version": 3
   },
   "file_extension": ".py",
   "mimetype": "text/x-python",
   "name": "python",
   "nbconvert_exporter": "python",
   "pygments_lexer": "ipython3",
   "version": "3.10.14"
  }
 },
 "nbformat": 4,
 "nbformat_minor": 5
}
