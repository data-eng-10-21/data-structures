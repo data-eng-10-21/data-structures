{
 "cells": [
  {
   "cell_type": "markdown",
   "id": "a463d5c8-d247-46b5-9a6d-1577208d8855",
   "metadata": {},
   "source": [
    "# Linked Lists Practice"
   ]
  },
  {
   "cell_type": "markdown",
   "id": "e35f322c-b835-4943-a0f3-8e6562102c0e",
   "metadata": {},
   "source": [
    "### Introduction"
   ]
  },
  {
   "cell_type": "markdown",
   "id": "bb8ebcbf-fab8-465b-a066-05d690e33bc4",
   "metadata": {},
   "source": [
    "In this lesson, we'll begin by implementing a linked list, and then we'll try to quickly create the nodes of a linked list.  Let's get started."
   ]
  },
  {
   "cell_type": "markdown",
   "id": "52b931a7-3728-4b55-b71d-b0e1843aa99e",
   "metadata": {},
   "source": [
    "### Implementing a linked list"
   ]
  },
  {
   "cell_type": "markdown",
   "id": "9716efab-21f9-4a4e-a6f5-52f3aaebfa6f",
   "metadata": {},
   "source": [
    "Ok, so remember that we implement a linked list with two separate classes.  The LinkedList, and the Node."
   ]
  },
  {
   "cell_type": "code",
   "execution_count": 3,
   "id": "a3b44341-5a5e-40ed-934c-850f1af03875",
   "metadata": {
    "tags": []
   },
   "outputs": [],
   "source": [
    "class LinkedList:\n",
    "    def  __init__(self, head = None):\n",
    "        pass\n",
    "\n",
    "class Node:\n",
    "    def __init__(self, val, next_node=None):\n",
    "        pass"
   ]
  },
  {
   "cell_type": "markdown",
   "id": "d263c8a6-2cbc-4e7a-bfed-abcd7ccc0c76",
   "metadata": {},
   "source": [
    "Ok, we'll let you fill it in from there."
   ]
  },
  {
   "cell_type": "markdown",
   "id": "b9768ab2-4834-4a8f-96df-d3927de59306",
   "metadata": {},
   "source": [
    "Next, initialize the linked list, create some connecting nodes, and confirm that it works."
   ]
  },
  {
   "cell_type": "markdown",
   "id": "fcdf6e2c-79a4-4ba4-af48-f98fe1c1c586",
   "metadata": {},
   "source": [
    "### Quickly Creating our List"
   ]
  },
  {
   "cell_type": "markdown",
   "id": "28e49c97-57c1-4f1f-ad38-4e0f939b7919",
   "metadata": {},
   "source": [
    "Ok, so now creating our linked list one node at a time can be pretty tedious.  So instead let's write a function that takes a number, and will return a linked list with that number of elements.  For the values, we can just store the index number of the node."
   ]
  },
  {
   "cell_type": "code",
   "execution_count": 6,
   "id": "403aa49e-5c8b-4515-b8cf-ee2aa60165ca",
   "metadata": {
    "tags": []
   },
   "outputs": [],
   "source": [
    "def build_linked_list(num_elements):\n",
    "    pass"
   ]
  },
  {
   "cell_type": "code",
   "execution_count": 4,
   "id": "63cf18f2-881c-4cc9-afe7-ea73da93acfd",
   "metadata": {
    "tags": []
   },
   "outputs": [],
   "source": [
    "ll = build_linked_list(3)"
   ]
  },
  {
   "cell_type": "code",
   "execution_count": 5,
   "id": "13752235-5a8f-4207-86c6-88129219cd68",
   "metadata": {
    "tags": []
   },
   "outputs": [
    {
     "data": {
      "text/plain": [
       "(0, 1, 2, None)"
      ]
     },
     "execution_count": 5,
     "metadata": {},
     "output_type": "execute_result"
    }
   ],
   "source": [
    "ll.head.val, ll.head.next_node.val, ll.head.next_node.next_node.val, ll.head.next_node.next_node.next_node\n",
    "# (0, 1, 2, None)"
   ]
  }
 ],
 "metadata": {
  "kernelspec": {
   "display_name": "Python 3 (ipykernel)",
   "language": "python",
   "name": "python3"
  },
  "language_info": {
   "codemirror_mode": {
    "name": "ipython",
    "version": 3
   },
   "file_extension": ".py",
   "mimetype": "text/x-python",
   "name": "python",
   "nbconvert_exporter": "python",
   "pygments_lexer": "ipython3",
   "version": "3.10.14"
  }
 },
 "nbformat": 4,
 "nbformat_minor": 5
}
