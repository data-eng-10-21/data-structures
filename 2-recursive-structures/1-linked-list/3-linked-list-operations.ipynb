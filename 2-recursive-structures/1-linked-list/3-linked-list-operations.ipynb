{
 "cells": [
  {
   "cell_type": "markdown",
   "metadata": {},
   "source": [
    "# Linked List Operations"
   ]
  },
  {
   "cell_type": "markdown",
   "metadata": {},
   "source": [
    "### Introduction"
   ]
  },
  {
   "cell_type": "markdown",
   "metadata": {},
   "source": [
    "In the previous lesson, we saw that a linked list is an ordered data stucture like an array/list, but we do not need to allocate a predefined set of space for it.  Instead, on each node we store a pointer to what comes next.  And then the linked list really just needs to keep track of that initial node, the head."
   ]
  },
  {
   "cell_type": "markdown",
   "metadata": {},
   "source": [
    "### Implementing our Linked List"
   ]
  },
  {
   "cell_type": "markdown",
   "metadata": {},
   "source": [
    "So let's quickly implement our linked list with our two classes, the LinkedList and the Node.  Where the LinkedList just stores the head, and the Node just stores a value and the next node."
   ]
  },
  {
   "cell_type": "code",
   "execution_count": 12,
   "metadata": {
    "id": "uzGnjaIkjxsn",
    "tags": []
   },
   "outputs": [],
   "source": [
    "class LinkedList:\n",
    "    def  __init__(self, head = None):\n",
    "        self.head = head\n",
    "\n",
    "class Node:\n",
    "    def __init__(self, val, next_node=None):\n",
    "        self.val = val\n",
    "        self.next_node = next_node"
   ]
  },
  {
   "cell_type": "markdown",
   "metadata": {},
   "source": [
    "That's it."
   ]
  },
  {
   "cell_type": "markdown",
   "metadata": {},
   "source": [
    "Then we can initialize some nodes."
   ]
  },
  {
   "cell_type": "code",
   "execution_count": 13,
   "metadata": {
    "tags": []
   },
   "outputs": [],
   "source": [
    "def build_linked_list(num_elements):\n",
    "    head = Node(0)\n",
    "    ll = LinkedList(head)\n",
    "\n",
    "    current = head\n",
    "\n",
    "    for i  in range(num_elements - 1):\n",
    "        next_node = Node(i + 1)\n",
    "        current.next_node = next_node\n",
    "        current = next_node\n",
    "    return ll"
   ]
  },
  {
   "cell_type": "code",
   "execution_count": 14,
   "metadata": {
    "tags": []
   },
   "outputs": [],
   "source": [
    "ll = build_linked_list(3)"
   ]
  },
  {
   "cell_type": "code",
   "execution_count": 15,
   "metadata": {
    "tags": []
   },
   "outputs": [
    {
     "data": {
      "text/plain": [
       "(0, 1, 2, None)"
      ]
     },
     "execution_count": 15,
     "metadata": {},
     "output_type": "execute_result"
    }
   ],
   "source": [
    "ll.head.val, ll.head.next_node.val, ll.head.next_node.next_node.val, ll.head.next_node.next_node.next_node"
   ]
  },
  {
   "cell_type": "markdown",
   "metadata": {},
   "source": [
    "### Linked List Operations"
   ]
  },
  {
   "cell_type": "markdown",
   "metadata": {},
   "source": [
    "Ok, so now we can move through some common linked list operations.  Let's begin with traversal.  That is, let's write a function to print out each of the values in a linked list, in order."
   ]
  },
  {
   "cell_type": "code",
   "execution_count": 16,
   "metadata": {
    "id": "w4HS8Kguj1f3",
    "tags": []
   },
   "outputs": [
    {
     "name": "stdout",
     "output_type": "stream",
     "text": [
      "0\n",
      "1\n",
      "2\n"
     ]
    }
   ],
   "source": [
    "def print_nodes(ll):\n",
    "    current = ll.head\n",
    "    while current:\n",
    "        print(current.val)\n",
    "        current = current.next_node\n",
    "        \n",
    "print_nodes(ll)"
   ]
  },
  {
   "cell_type": "markdown",
   "metadata": {},
   "source": [
    "> So above, we just iterate through the elements by processing the current node (through printing it's value), and then updating what the current node is."
   ]
  },
  {
   "cell_type": "markdown",
   "metadata": {},
   "source": [
    "Ok, now we'll give you a shot.  Write a function that will append to a linked list."
   ]
  },
  {
   "cell_type": "markdown",
   "metadata": {
    "id": "coYxXVaqj_nB"
   },
   "source": [
    "* Appending to a linked list"
   ]
  },
  {
   "cell_type": "markdown",
   "metadata": {},
   "source": [
    "> Don't worry if you get stuck, I did too.  The answer is at the bottom."
   ]
  },
  {
   "cell_type": "code",
   "execution_count": 17,
   "metadata": {
    "id": "o5xHnm0hkA0Q",
    "tags": []
   },
   "outputs": [],
   "source": [
    "def append_to(ll, val):\n",
    "    current = ll.head\n",
    "    previous = ll.head\n",
    "    new_node = Node(val = val)\n",
    "    while current:\n",
    "        previous = current\n",
    "        current = current.next_node\n",
    "    previous.next_node = new_node"
   ]
  },
  {
   "cell_type": "code",
   "execution_count": 18,
   "metadata": {
    "tags": []
   },
   "outputs": [],
   "source": [
    "append_to(ll, 4)"
   ]
  },
  {
   "cell_type": "code",
   "execution_count": 19,
   "metadata": {
    "tags": []
   },
   "outputs": [
    {
     "name": "stdout",
     "output_type": "stream",
     "text": [
      "0\n",
      "1\n",
      "2\n",
      "4\n"
     ]
    }
   ],
   "source": [
    "print_nodes(ll)"
   ]
  },
  {
   "cell_type": "markdown",
   "metadata": {
    "id": "d5FORxtxkBYR"
   },
   "source": [
    "* Reversing a linked list"
   ]
  },
  {
   "cell_type": "markdown",
   "metadata": {
    "id": "k3Zp0xxEks8T"
   },
   "source": [
    "Ok, and now for reversing a linked list.\n",
    "\n",
    "Here is to reverse the list by changing the links between nodes.  In other words, for each node, we need the `node.next` to point to the previous node.\n",
    "\n",
    "And the way we accomplish this is by keeping track of the `current`, `next`, and `previous` nodes.\n",
    "\n",
    "Take a look at the code below."
   ]
  },
  {
   "cell_type": "code",
   "execution_count": 54,
   "metadata": {
    "id": "ZoV_xnHHkCl5",
    "tags": []
   },
   "outputs": [],
   "source": [
    "def reverse_ll(ll):\n",
    "    previous = None\n",
    "    current = ll.head\n",
    "    while(current):\n",
    "        next_node = current.next_node\n",
    "        current.next_node = previous\n",
    "        previous = current\n",
    "        current = next_node\n",
    "    ll.head = previous"
   ]
  },
  {
   "cell_type": "markdown",
   "metadata": {
    "id": "bbJaxnJdlfz1"
   },
   "source": [
    "So above, we keep track of the `previous`, `current`, and `next` nodes.  And the only alteration we make is to the set `current.next = previous`.  That's the processing step.\n",
    "\n",
    "So after the update, each node moves back a position: `previous = current`, and `next_node` becomes the `current` node to process.\n",
    "\n",
    "At the very end (after the while loop), the last node processed becomes the head of the linked list."
   ]
  },
  {
   "cell_type": "code",
   "execution_count": 55,
   "metadata": {
    "tags": []
   },
   "outputs": [],
   "source": [
    "ll = build_linked_list(3)"
   ]
  },
  {
   "cell_type": "code",
   "execution_count": 56,
   "metadata": {
    "tags": []
   },
   "outputs": [
    {
     "name": "stdout",
     "output_type": "stream",
     "text": [
      "0\n",
      "1\n",
      "2\n"
     ]
    }
   ],
   "source": [
    "print_nodes(ll)"
   ]
  },
  {
   "cell_type": "code",
   "execution_count": 57,
   "metadata": {
    "tags": []
   },
   "outputs": [],
   "source": [
    "reverse_ll(ll)"
   ]
  },
  {
   "cell_type": "code",
   "execution_count": 58,
   "metadata": {
    "tags": []
   },
   "outputs": [
    {
     "name": "stdout",
     "output_type": "stream",
     "text": [
      "2\n",
      "1\n",
      "0\n"
     ]
    }
   ],
   "source": [
    "print_nodes(ll)"
   ]
  },
  {
   "cell_type": "code",
   "execution_count": 53,
   "metadata": {
    "tags": []
   },
   "outputs": [
    {
     "data": {
      "text/plain": [
       "1"
      ]
     },
     "execution_count": 53,
     "metadata": {},
     "output_type": "execute_result"
    }
   ],
   "source": [
    "ll.head.val"
   ]
  },
  {
   "cell_type": "markdown",
   "metadata": {},
   "source": [
    "### Answer for Appending"
   ]
  },
  {
   "cell_type": "code",
   "execution_count": null,
   "metadata": {},
   "outputs": [],
   "source": [
    "def append_to(ll, val):\n",
    "    current = ll.head\n",
    "    previous = ll.head\n",
    "    new_node = Node(val = val)\n",
    "    while current:\n",
    "        previous = current\n",
    "        current = current.next_node\n",
    "    previous.next_node = new_node"
   ]
  },
  {
   "cell_type": "markdown",
   "metadata": {},
   "source": [
    "* Alternative, single pointer"
   ]
  },
  {
   "cell_type": "code",
   "execution_count": 20,
   "metadata": {
    "tags": []
   },
   "outputs": [],
   "source": [
    "def append_to(ll, val):\n",
    "    current = ll.head\n",
    "    new_node = Node(val = val)\n",
    "    while current.next_node:\n",
    "        current = current.next_node\n",
    "    current.next_node = new_node"
   ]
  },
  {
   "cell_type": "code",
   "execution_count": 21,
   "metadata": {
    "tags": []
   },
   "outputs": [],
   "source": [
    "append_to(ll, 3)"
   ]
  },
  {
   "cell_type": "code",
   "execution_count": 23,
   "metadata": {
    "tags": []
   },
   "outputs": [],
   "source": [
    "# print_nodes(ll)"
   ]
  }
 ],
 "metadata": {
  "colab": {
   "provenance": []
  },
  "kernelspec": {
   "display_name": "Python 3 (ipykernel)",
   "language": "python",
   "name": "python3"
  },
  "language_info": {
   "codemirror_mode": {
    "name": "ipython",
    "version": 3
   },
   "file_extension": ".py",
   "mimetype": "text/x-python",
   "name": "python",
   "nbconvert_exporter": "python",
   "pygments_lexer": "ipython3",
   "version": "3.10.14"
  }
 },
 "nbformat": 4,
 "nbformat_minor": 4
}
