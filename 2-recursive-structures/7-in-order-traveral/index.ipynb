{
 "cells": [
  {
   "cell_type": "code",
   "execution_count": null,
   "id": "683b9f82-9119-480a-8671-dd90a538b39a",
   "metadata": {},
   "outputs": [],
   "source": []
  },
  {
   "cell_type": "markdown",
   "id": "9fc9edbb-7aab-4021-a3b8-8cec94f61f92",
   "metadata": {},
   "source": [
    "[lesson](https://www.youtube.com/watch?v=WLvU5EQVZqY&ab_channel=Techdose)"
   ]
  },
  {
   "cell_type": "code",
   "execution_count": null,
   "id": "dd2e3dad-cfb5-47a8-abf5-76097d0d219a",
   "metadata": {},
   "outputs": [],
   "source": []
  }
 ],
 "metadata": {
  "kernelspec": {
   "display_name": "Python 3 (ipykernel)",
   "language": "python",
   "name": "python3"
  },
  "language_info": {
   "codemirror_mode": {
    "name": "ipython",
    "version": 3
   },
   "file_extension": ".py",
   "mimetype": "text/x-python",
   "name": "python",
   "nbconvert_exporter": "python",
   "pygments_lexer": "ipython3",
   "version": "3.10.14"
  }
 },
 "nbformat": 4,
 "nbformat_minor": 5
}
