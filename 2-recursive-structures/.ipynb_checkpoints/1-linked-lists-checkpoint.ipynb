{
 "cells": [
  {
   "cell_type": "markdown",
   "id": "3cbc294a-8aea-4d6f-919e-07e0e0a58faf",
   "metadata": {},
   "source": [
    "# Introduction to Linked Lists"
   ]
  },
  {
   "cell_type": "markdown",
   "id": "a012e7e7-b3f2-4a07-94dd-9df1d4feaa0d",
   "metadata": {},
   "source": [
    "### Introduction"
   ]
  },
  {
   "cell_type": "markdown",
   "id": "35422ca6-d608-4bda-bdcf-bf4a6fead449",
   "metadata": {},
   "source": [
    "In this lesson we'll learn about linked lists.  Linked lists are very similar to lists or arrays -- however they have one key difference.  \n",
    "\n",
    "* With lists, each element is stored one next to the other."
   ]
  },
  {
   "cell_type": "markdown",
   "id": "b1bb13d7-c26b-4f4c-9ef5-2d83b1146359",
   "metadata": {},
   "source": [
    "* In a linked list, those elements can be at different places in memory -- separated apart, and a pointer indicates the place to go next. "
   ]
  },
  {
   "cell_type": "markdown",
   "id": "33fa6d7a-db8f-4b8b-adc8-9e93d36a9a13",
   "metadata": {},
   "source": [
    "### Reviewing ordinary lists"
   ]
  },
  {
   "cell_type": "markdown",
   "id": "6500d1ae-b54d-4274-8899-927047024ffb",
   "metadata": {},
   "source": [
    "Remember that with a python list, we allocate an fixed amount of space for each element, which allows for fast lookup of information by indices."
   ]
  },
  {
   "cell_type": "markdown",
   "id": "5ef5eecb-cb17-4915-bc2f-200d0df75c6e",
   "metadata": {},
   "source": [
    "For example, the following list:"
   ]
  },
  {
   "cell_type": "code",
   "execution_count": 2,
   "id": "3127d5a3-1a42-4417-864c-fbbcb4f63669",
   "metadata": {},
   "outputs": [],
   "source": [
    "mixed_elements = [7, 'a', 'hello', 19, 'b']"
   ]
  },
  {
   "cell_type": "markdown",
   "id": "d32f9f9f-f612-4782-be56-c65a349a8e63",
   "metadata": {},
   "source": [
    "Would look like the following under the hood."
   ]
  },
  {
   "cell_type": "markdown",
   "id": "88e24a00-bafc-4fc0-9647-ae6e69ff5632",
   "metadata": {},
   "source": [
    "> <img src=\"./memory-bytes.png\">"
   ]
  },
  {
   "cell_type": "markdown",
   "id": "09f74a73-77cc-4618-bb1b-66419a31a8f8",
   "metadata": {},
   "source": [
    "So notice that each element is spaced just a distance of eight bytes apart.  And when we assigned this list to a variable, Python knows the starting point of where the list is stored in memory (above, 100).  So to find any specific element, it just needs to perform a simple calculation."
   ]
  },
  {
   "cell_type": "markdown",
   "id": "ccbc3be4-1d55-4cbc-885e-a15145a0b03a",
   "metadata": {},
   "source": [
    "`element_location = starting_location + 8*index`"
   ]
  },
  {
   "cell_type": "markdown",
   "id": "94fdd9f8-2e83-4277-bf3c-0903b201f603",
   "metadata": {},
   "source": [
    "So when we perform an operation like:"
   ]
  },
  {
   "cell_type": "code",
   "execution_count": 3,
   "id": "7f004879-bec6-4322-83f7-850d4d1c1d8e",
   "metadata": {},
   "outputs": [
    {
     "data": {
      "text/plain": [
       "'hello'"
      ]
     },
     "execution_count": 3,
     "metadata": {},
     "output_type": "execute_result"
    }
   ],
   "source": [
    "mixed_elements[2]"
   ]
  },
  {
   "cell_type": "markdown",
   "id": "a2eefa9e-9aeb-41ff-921b-20ae2b422d6f",
   "metadata": {},
   "source": [
    "Python performs the calculation to know to go to spot 116. So our look up by index is big o of 1. "
   ]
  },
  {
   "cell_type": "markdown",
   "id": "15040bcb-04d1-4c23-85d2-4a2310ec1841",
   "metadata": {},
   "source": [
    "### The problem"
   ]
  },
  {
   "cell_type": "markdown",
   "id": "160681be-8ed3-485f-afd1-b1dafd3297bd",
   "metadata": {},
   "source": [
    "The problem is that because of all the elements are touching, when we add too many elements, Python will eventually run out space.  In fact, by default there's only space for eight elements when you initialize a list.\n",
    "\n",
    "If you add more than 8 elements, then Python will have to copy all of this data, and find a larger allocation of space.  That has a cost of n."
   ]
  },
  {
   "cell_type": "markdown",
   "id": "6a8545a7-e3ad-4883-b02b-041979b0ae11",
   "metadata": {},
   "source": [
    "So this is where linked lists come in.  The idea is to no longer require that all of the elements are equally spaced apart.  Instead, each element will have a pointer that indicates where the next element is."
   ]
  },
  {
   "cell_type": "markdown",
   "id": "1df7a060-4d0d-411e-b30e-a1d6bbe7e8c6",
   "metadata": {},
   "source": [
    "> <img src=\"./linked-imp.png\" width=\"100%\">"
   ]
  },
  {
   "cell_type": "markdown",
   "id": "6cc83831-84e4-47a5-9931-0d50636752eb",
   "metadata": {},
   "source": [
    "This is what we are displaying above.  In the gray boxes on top, you can see that "
   ]
  },
  {
   "cell_type": "code",
   "execution_count": null,
   "id": "b199563b-eb83-43b5-b4cf-4d3b81135d6b",
   "metadata": {},
   "outputs": [],
   "source": []
  }
 ],
 "metadata": {
  "kernelspec": {
   "display_name": "Python 3 (ipykernel)",
   "language": "python",
   "name": "python3"
  },
  "language_info": {
   "codemirror_mode": {
    "name": "ipython",
    "version": 3
   },
   "file_extension": ".py",
   "mimetype": "text/x-python",
   "name": "python",
   "nbconvert_exporter": "python",
   "pygments_lexer": "ipython3",
   "version": "3.9.12"
  }
 },
 "nbformat": 4,
 "nbformat_minor": 5
}
