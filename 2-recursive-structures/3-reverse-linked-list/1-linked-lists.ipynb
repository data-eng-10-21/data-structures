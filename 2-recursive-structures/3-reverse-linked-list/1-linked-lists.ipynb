{
 "cells": [
  {
   "cell_type": "markdown",
   "id": "3cbc294a-8aea-4d6f-919e-07e0e0a58faf",
   "metadata": {},
   "source": [
    "# Reversing a Linked List"
   ]
  },
  {
   "cell_type": "markdown",
   "id": "a012e7e7-b3f2-4a07-94dd-9df1d4feaa0d",
   "metadata": {},
   "source": [
    "### Introduction"
   ]
  },
  {
   "cell_type": "markdown",
   "id": "d156e8d2-6343-45c0-ab5c-b2e94b328099",
   "metadata": {},
   "source": [
    "In this lesson, we'll take a classic problem which is to reverse a linked list, and to do it in big 0 of n time."
   ]
  },
  {
   "cell_type": "markdown",
   "id": "d9570758-f196-447d-b2e3-3f20f3b6753b",
   "metadata": {},
   "source": [
    "This is the original linked list, and this is what we want for the reversed list."
   ]
  },
  {
   "cell_type": "markdown",
   "id": "ebbb2598-959c-426d-9500-3c7e8b049bd2",
   "metadata": {},
   "source": [
    "* original:  `7, 'a', 'hello', 19, 'b'`\n",
    "* reverse: `'b', 19, 'hello', 'a', 7`"
   ]
  },
  {
   "cell_type": "markdown",
   "id": "33fa6d7a-db8f-4b8b-adc8-9e93d36a9a13",
   "metadata": {},
   "source": [
    "### Do you want a hint?"
   ]
  },
  {
   "cell_type": "markdown",
   "id": "b5eda3c8-9c95-4498-a2c1-1ea694e870cd",
   "metadata": {},
   "source": [
    "If you would like a hint we'll give you one below.  \n",
    "\n",
    "Otherwise you can just go for it."
   ]
  },
  {
   "cell_type": "markdown",
   "id": "96fcf882-1b99-4dec-af55-294989342c31",
   "metadata": {},
   "source": [
    "* The hint"
   ]
  },
  {
   "cell_type": "markdown",
   "id": "127565d0-3d09-45b5-b013-f2e0d3cfadaf",
   "metadata": {},
   "source": [
    "The key is to traverse through the original list, and for essentially each node, setting the next node equal to the previous node. "
   ]
  },
  {
   "cell_type": "markdown",
   "id": "403592c3-440b-4828-a8cb-09321d9a6236",
   "metadata": {},
   "source": [
    "For example, in our reversed list: \n",
    "* 'a' next  7\n",
    "* 'hello' next 'a'"
   ]
  },
  {
   "cell_type": "markdown",
   "id": "58f358c3-7761-480c-84d3-ddb9592f0628",
   "metadata": {},
   "source": [
    "And finally the head should be the tail."
   ]
  },
  {
   "cell_type": "code",
   "execution_count": null,
   "id": "7e682019-52d7-47f3-a8d1-8b8554504ad4",
   "metadata": {},
   "outputs": [],
   "source": []
  }
 ],
 "metadata": {
  "kernelspec": {
   "display_name": "Python 3 (ipykernel)",
   "language": "python",
   "name": "python3"
  },
  "language_info": {
   "codemirror_mode": {
    "name": "ipython",
    "version": 3
   },
   "file_extension": ".py",
   "mimetype": "text/x-python",
   "name": "python",
   "nbconvert_exporter": "python",
   "pygments_lexer": "ipython3",
   "version": "3.9.12"
  }
 },
 "nbformat": 4,
 "nbformat_minor": 5
}
