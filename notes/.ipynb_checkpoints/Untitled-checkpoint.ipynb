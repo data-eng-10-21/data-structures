{
 "cells": [
  {
   "cell_type": "code",
   "execution_count": null,
   "id": "9fbe7417-426e-47bc-99fe-d6ec9d6e847d",
   "metadata": {},
   "outputs": [],
   "source": []
  },
  {
   "cell_type": "markdown",
   "id": "5cdfab7a-dae2-4c7b-ae11-a9340ea8f337",
   "metadata": {},
   "source": [
    "```\n",
    "Question\n",
    "Given a string with alpha-numeric characters and parentheses, return a string with balanced parentheses by removing the fewest characters possible. You cannot add anything to the string.\n",
    "Balanced parentheses means that each opening parenthesis has a corresponding closing parenthesis and the pairs of parentheses are properly nested.\n",
    "Examples\n",
    "balance(“()“) -> “()”\n",
    "balance(“a(b)c)“) -> “a(b)c”\n",
    "balance(“)(“) -> “”\n",
    "balance(“(((((“) -> “”\n",
    "balance(“(()()(“) -> “()()”\n",
    "balance(“)(())(“) -> “(())”\n",
    "balance(“)())(()()(“) -> “()()()”\n",
    "There can be multiple correct results per input:\n",
    "balance(“(())())“) -> “(()())” or “(())()”\n",
    "```"
   ]
  },
  {
   "cell_type": "code",
   "execution_count": null,
   "id": "2b062848-3149-4a8a-a222-a103644b2525",
   "metadata": {},
   "outputs": [],
   "source": []
  }
 ],
 "metadata": {
  "kernelspec": {
   "display_name": "Python 3 (ipykernel)",
   "language": "python",
   "name": "python3"
  },
  "language_info": {
   "codemirror_mode": {
    "name": "ipython",
    "version": 3
   },
   "file_extension": ".py",
   "mimetype": "text/x-python",
   "name": "python",
   "nbconvert_exporter": "python",
   "pygments_lexer": "ipython3",
   "version": "3.10.6"
  }
 },
 "nbformat": 4,
 "nbformat_minor": 5
}
