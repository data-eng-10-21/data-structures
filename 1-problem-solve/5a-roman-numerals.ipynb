{
 "cells": [
  {
   "cell_type": "markdown",
   "id": "1f30026c-14f3-4611-aea9-edfcad509642",
   "metadata": {},
   "source": [
    "# Integer to Roman Numerals"
   ]
  },
  {
   "cell_type": "markdown",
   "id": "99d19ea3-41fd-4b7c-8685-4b231374d58f",
   "metadata": {},
   "source": [
    "Now let's try the following [leetcode problem]([Leetcode](https://leetcode.com/problems/integer-to-roman/))."
   ]
  },
  {
   "cell_type": "markdown",
   "id": "3d969fce-023c-4a7b-9f1f-89477416b661",
   "metadata": {},
   "source": [
    "Roman numerals are represented by seven different symbols: I, V, X, L, C, D and M.\n",
    "\n",
    "```\n",
    "Symbol       Value\n",
    "\n",
    "I             1\n",
    "V             5\n",
    "X             10\n",
    "L             50\n",
    "C             100\n",
    "D             500\n",
    "M             1000\n",
    "```"
   ]
  },
  {
   "cell_type": "markdown",
   "id": "c0ea5dd0-8211-41ba-adaa-e951acf38fde",
   "metadata": {},
   "source": [
    "Roman numerals are usually written largest to smallest from left to right. However, the numeral for four is not IIII. Instead, the number four is written as IV. Because the one is before the five we subtract it making four. The same principle applies to the number nine, which is written as IX. There are six instances where subtraction is used:\n",
    "\n",
    "* I can be placed before V (5) and X (10) to make 4 and 9. \n",
    "* X can be placed before L (50) and C (100) to make 40 and 90. \n",
    "* C can be placed before D (500) and M (1000) to make 400 and 900."
   ]
  },
  {
   "cell_type": "markdown",
   "id": "54dec906-593d-456e-a3dd-4f8a2a35a314",
   "metadata": {},
   "source": [
    "Given an integer, convert it to a roman numeral."
   ]
  },
  {
   "cell_type": "markdown",
   "id": "a61fb45b-81b7-48b6-ad54-4c41a27806e5",
   "metadata": {},
   "source": [
    "### Examples"
   ]
  },
  {
   "cell_type": "markdown",
   "id": "28b3194d-70fe-4ba9-8615-e282abe41a2e",
   "metadata": {},
   "source": [
    "Ok, so our chart above of roman numeral to number looks like a dictionary.  Let's convert it to one."
   ]
  },
  {
   "cell_type": "code",
   "execution_count": 15,
   "id": "9b703df8-3050-4aeb-af8d-03d45b39fef2",
   "metadata": {},
   "outputs": [
    {
     "data": {
      "text/plain": [
       "{1: 'I', 5: 'V', 10: 'X', 50: 'L', 100: 'C', 500: 'D', 1000: 'M'}"
      ]
     },
     "execution_count": 15,
     "metadata": {},
     "output_type": "execute_result"
    }
   ],
   "source": [
    "numbers = [1, 5, 10, 50, 100, 500, 1000]\n",
    "numerals = [\"I\", \"V\", \"X\", \"L\", \"C\", \"D\", \"M\"]\n",
    "\n",
    "number_numeral = dict(zip(numbers, numerals))\n",
    "number_numeral"
   ]
  },
  {
   "cell_type": "markdown",
   "id": "683a7abc-1cc0-4e13-8d4d-a1c8b95d9050",
   "metadata": {},
   "source": [
    "* Eg 1"
   ]
  },
  {
   "cell_type": "code",
   "execution_count": 3,
   "id": "60ab07b0-6809-44e7-9c3d-6775a0f9823e",
   "metadata": {},
   "outputs": [],
   "source": [
    "num = 3\n",
    "output = \"III\""
   ]
  },
  {
   "cell_type": "markdown",
   "id": "80cb353f-2a87-4ab2-b98f-0015214704a0",
   "metadata": {},
   "source": [
    "Ok, so now let's see if we can use our constructed dictionary to get the first example to pass.\n",
    "\n",
    "I like removing the output so I can let my brain solve the problem, and see what steps it is taking."
   ]
  },
  {
   "cell_type": "code",
   "execution_count": 16,
   "id": "848155e2-2d56-49ca-9a7f-c920506e6b0d",
   "metadata": {},
   "outputs": [],
   "source": [
    "# number_numeral = {1: 'I', 5: 'V', 10: 'X', 50: 'L', 100: 'C', 500: 'D', 1000: 'M'}\n",
    "num = 3"
   ]
  },
  {
   "cell_type": "markdown",
   "id": "432b5a0d-547b-4b70-9841-45271c589587",
   "metadata": {},
   "source": [
    "It seems like it is once again a greedy approach.  So the first step is to use the largest numeral that is still less than our number, and subtract from our value.  And then repeat."
   ]
  },
  {
   "cell_type": "markdown",
   "id": "5c826145-5612-41f8-96af-132722936c45",
   "metadata": {},
   "source": [
    "Because we need to go from largest to smallest, it seems like perhaps we should be using a list."
   ]
  },
  {
   "cell_type": "code",
   "execution_count": 41,
   "id": "361d3162-5ec8-4290-a8b6-29995bffbada",
   "metadata": {},
   "outputs": [],
   "source": [
    "numbers = [1000, 500, 100, 50, 10, 5, 1]\n",
    "numerals = [\"M\", \"D\", \"C\", \"L\", \"X\", \"V\", \"I\"]"
   ]
  },
  {
   "cell_type": "code",
   "execution_count": 42,
   "id": "0a27e628-f7a9-4a08-b4b5-b8423d46d31a",
   "metadata": {},
   "outputs": [],
   "source": [
    "current_num = 3\n",
    "idcs = []\n",
    "while current_num > 0:\n",
    "    for idx, number in enumerate(numbers):\n",
    "        if number <= current_num:\n",
    "            idcs.append(idx)\n",
    "            current_num = current_num - number"
   ]
  },
  {
   "cell_type": "code",
   "execution_count": 43,
   "id": "520acdc0-b24d-40de-8bbb-6f55ea3b3afd",
   "metadata": {},
   "outputs": [
    {
     "data": {
      "text/plain": [
       "[6, 6, 6]"
      ]
     },
     "execution_count": 43,
     "metadata": {},
     "output_type": "execute_result"
    }
   ],
   "source": [
    "idcs"
   ]
  },
  {
   "cell_type": "markdown",
   "id": "0dfad6dc-bafa-483c-ba87-49d511bff4ad",
   "metadata": {},
   "source": [
    "Ok, so now we can just turn the index into the numeral, by changing our code to use the index to select it from the list above."
   ]
  },
  {
   "cell_type": "code",
   "execution_count": 44,
   "id": "a6f1bdaf-dd5d-43a2-b413-bebd8bde114e",
   "metadata": {},
   "outputs": [
    {
     "data": {
      "text/plain": [
       "['I', 'I', 'I']"
      ]
     },
     "execution_count": 44,
     "metadata": {},
     "output_type": "execute_result"
    }
   ],
   "source": [
    "current_num = 3\n",
    "idcs = []\n",
    "while current_num > 0:\n",
    "    for idx, number in enumerate(numbers):\n",
    "        if number <= current_num:\n",
    "            idcs.append(numerals[idx])\n",
    "            current_num = current_num - number\n",
    "idcs"
   ]
  },
  {
   "cell_type": "code",
   "execution_count": 45,
   "id": "a2e2f737-67cf-4d65-910a-eead328e80b9",
   "metadata": {},
   "outputs": [
    {
     "data": {
      "text/plain": [
       "'III'"
      ]
     },
     "execution_count": 45,
     "metadata": {},
     "output_type": "execute_result"
    }
   ],
   "source": [
    "''.join(idcs)"
   ]
  },
  {
   "cell_type": "markdown",
   "id": "51d51fba-438e-494b-8024-e6bc6e977616",
   "metadata": {},
   "source": [
    "Ok, that wasn't so bad."
   ]
  },
  {
   "cell_type": "markdown",
   "id": "d59a32e7-f134-4f3b-9fc5-0945b37b29de",
   "metadata": {},
   "source": [
    "* Eg 2"
   ]
  },
  {
   "cell_type": "markdown",
   "id": "b37a9d2e-c970-4ff0-a712-334af70c2ac7",
   "metadata": {},
   "source": [
    "Let's see if this works on the second number."
   ]
  },
  {
   "cell_type": "code",
   "execution_count": 46,
   "id": "9e459501-5620-43a9-b7c9-bff47b992c77",
   "metadata": {},
   "outputs": [],
   "source": [
    "num = 58\n",
    "output = \"LVIII\""
   ]
  },
  {
   "cell_type": "markdown",
   "id": "4fe5e9ee-241a-4c5c-8fe0-b313564fe999",
   "metadata": {},
   "source": [
    "Again we can remove the answer to make sure that our logic still holds."
   ]
  },
  {
   "cell_type": "code",
   "execution_count": 47,
   "id": "8f0d058f-9d4a-421a-8b07-bdf858b604c2",
   "metadata": {},
   "outputs": [],
   "source": [
    "num = 58"
   ]
  },
  {
   "cell_type": "code",
   "execution_count": 48,
   "id": "f278d5e2-1da0-4de2-b33b-15bf9c559375",
   "metadata": {},
   "outputs": [],
   "source": [
    "# Go from highest to lowest denomination, subtracting each time"
   ]
  },
  {
   "cell_type": "markdown",
   "id": "0062420b-836f-4a26-81bc-c1fb02445506",
   "metadata": {},
   "source": [
    "And we can even break our above code into a couple of functions."
   ]
  },
  {
   "cell_type": "code",
   "execution_count": 49,
   "id": "10b2220c-69b8-4d8d-b57a-fb6843bba1bb",
   "metadata": {},
   "outputs": [],
   "source": [
    "def num_to_numerals(current_num):\n",
    "    numerals = []\n",
    "    while current_num > 0:\n",
    "        numeral, current_num = subtract_from(current_num)\n",
    "        numerals.append(numeral)\n",
    "    return ''.join(numerals)\n",
    "    \n",
    "def subtract_from(current_num):\n",
    "    for idx, number in enumerate(numbers):\n",
    "            if number <= current_num:\n",
    "                current_num = current_num - number\n",
    "                return numerals[idx], current_num"
   ]
  },
  {
   "cell_type": "code",
   "execution_count": 50,
   "id": "f6dc3edc-9053-4c4b-a9b0-d6f1d3b7079c",
   "metadata": {},
   "outputs": [
    {
     "data": {
      "text/plain": [
       "'LVIII'"
      ]
     },
     "execution_count": 50,
     "metadata": {},
     "output_type": "execute_result"
    }
   ],
   "source": [
    "current_num = 58\n",
    "num_to_numerals(current_num)"
   ]
  },
  {
   "cell_type": "markdown",
   "id": "88349861-847b-4048-9d7a-5e018df891b5",
   "metadata": {},
   "source": [
    "Nice."
   ]
  },
  {
   "cell_type": "markdown",
   "id": "f0de17b5-cbb0-47da-a245-46e061267ece",
   "metadata": {},
   "source": [
    "* Eg 3"
   ]
  },
  {
   "cell_type": "markdown",
   "id": "f2573887-9638-4926-8be8-7e2f85ca945a",
   "metadata": {},
   "source": [
    "Ok, so this next example will involve a tweak.  Essentially, we'll also have to use the subtraction method.  Let's take another look at the instructions."
   ]
  },
  {
   "cell_type": "markdown",
   "id": "8f18f03c-eb7e-4935-85ee-f003be9c1586",
   "metadata": {},
   "source": [
    "* The number four is written as IV. \n",
    "* The number nine, which is written as IX. \n",
    "* I can be placed before V (5) and X (10) to make 4 and 9. \n",
    "* X can be placed before L (50) and C (100) to make 40 and 90. \n",
    "* C can be placed before D (500) and M (1000) to make 400 and 900."
   ]
  },
  {
   "cell_type": "markdown",
   "id": "bc9c2c55-e409-4e38-9065-35a410457c81",
   "metadata": {},
   "source": [
    "There are a couple approaches for this.  \n",
    "\n"
   ]
  },
  {
   "cell_type": "markdown",
   "id": "1f71a49f-2e13-404a-82c7-26f3c363b0f7",
   "metadata": {},
   "source": [
    "### The quick fix"
   ]
  },
  {
   "cell_type": "markdown",
   "id": "16089529-69f7-4057-80cd-90d7e2c228f7",
   "metadata": {},
   "source": [
    "The quickest fix, and then one we should go for is the easiest one.  Let's just update our list of numbers and numerals to the following."
   ]
  },
  {
   "cell_type": "code",
   "execution_count": 1,
   "id": "500603f1-9887-4268-b1e4-8a79f690327f",
   "metadata": {},
   "outputs": [],
   "source": [
    "numbers = [1000, 900, 500, 400, 100, 90, 50, 40, 10, 9, 5, 4, 1]\n",
    "numerals = [\"M\", \"CM\", \"D\", \"CD\", \"C\", \"XC\", \"L\", \"XL\", \"X\", \"IX\", \"V\", \"IV\", \"I\"]"
   ]
  },
  {
   "cell_type": "code",
   "execution_count": 2,
   "id": "2e5a247d-cf7a-4b9e-ae4a-30849ac954b7",
   "metadata": {},
   "outputs": [
    {
     "data": {
      "text/plain": [
       "'MCMXCIV'"
      ]
     },
     "execution_count": 2,
     "metadata": {},
     "output_type": "execute_result"
    }
   ],
   "source": [
    "def num_to_numerals(current_num):\n",
    "    numerals = []\n",
    "    while current_num > 0:\n",
    "        numeral, current_num = subtract_from(current_num)\n",
    "        numerals.append(numeral)\n",
    "    return ''.join(numerals)\n",
    "    \n",
    "def subtract_from(current_num):\n",
    "    for idx, number in enumerate(numbers):\n",
    "            if number <= current_num:\n",
    "                current_num = current_num - number\n",
    "                return numerals[idx], current_num\n",
    "            \n",
    "num_to_numerals(1994)"
   ]
  },
  {
   "cell_type": "markdown",
   "id": "2071cc3f-d2c1-4115-b83e-77401f9e550d",
   "metadata": {},
   "source": [
    "### The long winding road"
   ]
  },
  {
   "cell_type": "markdown",
   "id": "427c1d50-e8c6-41cd-9f91-3d974557844e",
   "metadata": {},
   "source": [
    "> This is going to hurt."
   ]
  },
  {
   "cell_type": "markdown",
   "id": "18f54d35-55ea-4e12-b446-f2e68c93ec4f",
   "metadata": {},
   "source": [
    "Ok, my second thought is that maybe there is a pattern/general rule.  For example, the special circumstances seem to apply in a sort of pattern.  "
   ]
  },
  {
   "cell_type": "code",
   "execution_count": null,
   "id": "0e1271cb-4c8b-44e4-abce-28f7652871c4",
   "metadata": {},
   "outputs": [],
   "source": [
    "# if 4, 9, 40, 90, 400 or 900 \n",
    "# then find  "
   ]
  },
  {
   "cell_type": "markdown",
   "id": "740b90d2-ecb9-4edc-a819-bb6a93fedc2e",
   "metadata": {},
   "source": [
    "It seems like if, in trying to subtract our numerals, we get -1, -10, or -100 as a remaining value (our difference) then we want to append roman numeral equivalent of this difference, and then just keep going with our procedure.\n",
    "\n",
    "Really, we append the roman numeral equivalent, and add that remainder, and keep going.\n",
    "\n",
    "For example."
   ]
  },
  {
   "cell_type": "code",
   "execution_count": 56,
   "id": "8a6d5377-428e-41a2-9440-ade34153c277",
   "metadata": {},
   "outputs": [],
   "source": [
    "current_num = 9 # output = \"IX\" \n",
    "diff = 9 - 10 # -1\n",
    "# if diff == -1: \n",
    "    # return \"I\", keep going with current_num -> 9 + 1 = 10  "
   ]
  },
  {
   "cell_type": "markdown",
   "id": "4d3faff7-525e-44d8-be24-9673ec1df990",
   "metadata": {},
   "source": [
    "Let's update our subtract from function. "
   ]
  },
  {
   "cell_type": "code",
   "execution_count": 71,
   "id": "9da01722-ae9e-41a5-a6e5-fe48d559afdf",
   "metadata": {},
   "outputs": [],
   "source": [
    "numbers = [1000, 500, 100, 50, 10, 5, 1]"
   ]
  },
  {
   "cell_type": "code",
   "execution_count": 79,
   "id": "2ae724a1-25ce-4190-85ee-112c7524dc76",
   "metadata": {},
   "outputs": [
    {
     "data": {
      "text/plain": [
       "('I', 5)"
      ]
     },
     "execution_count": 79,
     "metadata": {},
     "output_type": "execute_result"
    }
   ],
   "source": [
    "def subtract_from(current_num):\n",
    "    for idx, number in enumerate(numbers):\n",
    "            diff = current_num - number\n",
    "            if diff == -1:\n",
    "                return 'I', current_num + 1\n",
    "            if number <= current_num:\n",
    "                current_num = current_num - number\n",
    "                return numerals[idx], current_num\n",
    "\n",
    "subtract_from(4)"
   ]
  },
  {
   "cell_type": "markdown",
   "id": "74ec70b2-2ef0-4b3d-a343-9e2276c1e6ae",
   "metadata": {},
   "source": [
    "So we return an 'I' to append to the list, and we changed our current number to `1 + 4 = 5` to now continue on with that."
   ]
  },
  {
   "cell_type": "code",
   "execution_count": 80,
   "id": "fc6ddc92-4fb9-4050-b295-44b77ceee9c8",
   "metadata": {},
   "outputs": [],
   "source": [
    "def num_to_numerals(current_num):\n",
    "    numerals = []\n",
    "    while current_num > 0:\n",
    "        numeral, current_num = subtract_from(current_num)\n",
    "        numerals.append(numeral)\n",
    "    return ''.join(numerals)"
   ]
  },
  {
   "cell_type": "code",
   "execution_count": 81,
   "id": "0a1be580-3285-4aeb-8a4e-08f70c458f2d",
   "metadata": {},
   "outputs": [
    {
     "data": {
      "text/plain": [
       "'IV'"
      ]
     },
     "execution_count": 81,
     "metadata": {},
     "output_type": "execute_result"
    }
   ],
   "source": [
    "num_to_numerals(9) # 'IX'\n",
    "num_to_numerals(4) # 'IV'"
   ]
  },
  {
   "cell_type": "markdown",
   "id": "e78f015e-1886-4a10-bc1a-356305ee1e51",
   "metadata": {},
   "source": [
    "Ok, nice.  So now we want to update our function to accomodate for the scenarios of a difference of 1, 10, or 100."
   ]
  },
  {
   "cell_type": "code",
   "execution_count": 99,
   "id": "0c2af2d9-2270-42b8-b1cb-1326322054fa",
   "metadata": {},
   "outputs": [],
   "source": [
    "def subtract_from(current_num):\n",
    "    num_to_numeral = {1: 'I', 10: 'X', 100: 'C'}\n",
    "    for idx, number in enumerate(numbers):\n",
    "            diff = current_num - number\n",
    "            if diff in [-1, -10, -100]:\n",
    "                abs_diff = abs(diff)\n",
    "                return num_to_numeral[abs_diff], current_num + abs_diff\n",
    "            if number <= current_num:\n",
    "                current_num = current_num - number\n",
    "                return numerals[idx], current_num"
   ]
  },
  {
   "cell_type": "code",
   "execution_count": 100,
   "id": "e432370f-925a-4956-acf7-d91ba2792930",
   "metadata": {},
   "outputs": [
    {
     "data": {
      "text/plain": [
       "('C', 500)"
      ]
     },
     "execution_count": 100,
     "metadata": {},
     "output_type": "execute_result"
    }
   ],
   "source": [
    "subtract_from(9) # ('I', 10)\n",
    "subtract_from(4) # ('I', 5)\n",
    "subtract_from(40) # ('X', 50)\n",
    "subtract_from(90) # ('X', 100)\n",
    "subtract_from(900) # ('C', 1000)\n",
    "subtract_from(400) # ('C', 500)"
   ]
  },
  {
   "cell_type": "markdown",
   "id": "839a1015-5bd6-4fab-bada-15eca8c44b0b",
   "metadata": {},
   "source": [
    "Ok, looks great."
   ]
  },
  {
   "cell_type": "markdown",
   "id": "14ee3697-0a9d-4ee6-b691-aeb65d68ae6c",
   "metadata": {},
   "source": [
    "Let's try it all together."
   ]
  },
  {
   "cell_type": "code",
   "execution_count": 101,
   "id": "f6a3e6ba-b459-4521-a115-d6c076c886ba",
   "metadata": {},
   "outputs": [],
   "source": [
    "def num_to_numerals(current_num):\n",
    "    numerals = []\n",
    "    while current_num > 0:\n",
    "        numeral, current_num = subtract_from(current_num)\n",
    "        numerals.append(numeral)\n",
    "    return ''.join(numerals)"
   ]
  },
  {
   "cell_type": "code",
   "execution_count": 105,
   "id": "b0199411-a39c-4e26-93e4-ffbee877aaa3",
   "metadata": {},
   "outputs": [
    {
     "data": {
      "text/plain": [
       "'MDCCCCLXXXXIV'"
      ]
     },
     "execution_count": 105,
     "metadata": {},
     "output_type": "execute_result"
    }
   ],
   "source": [
    "num_to_numerals(1994)"
   ]
  },
  {
   "cell_type": "markdown",
   "id": "56e3fad7-a1d2-4b19-9e4d-113d5072ba64",
   "metadata": {},
   "source": [
    "Ugh. "
   ]
  },
  {
   "cell_type": "markdown",
   "id": "6fc88156-df32-41ff-9ca6-14d4dfa61c55",
   "metadata": {},
   "source": [
    "Ok, the first step is to identify the bug.  Let's see what the issue is.  For example, can it calculate 90?"
   ]
  },
  {
   "cell_type": "code",
   "execution_count": 106,
   "id": "f00551c0-91d4-49d5-aaf5-0741ef079ca9",
   "metadata": {},
   "outputs": [
    {
     "data": {
      "text/plain": [
       "'XC'"
      ]
     },
     "execution_count": 106,
     "metadata": {},
     "output_type": "execute_result"
    }
   ],
   "source": [
    "num_to_numerals(90)"
   ]
  },
  {
   "cell_type": "markdown",
   "id": "f0835e97-079f-42b1-9ae6-f316faede55d",
   "metadata": {},
   "source": [
    "That looks good.  What about 94."
   ]
  },
  {
   "cell_type": "code",
   "execution_count": 107,
   "id": "734c8f0d-e605-47ed-affa-f4131f872fac",
   "metadata": {},
   "outputs": [
    {
     "data": {
      "text/plain": [
       "'LXXXXIV'"
      ]
     },
     "execution_count": 107,
     "metadata": {},
     "output_type": "execute_result"
    }
   ],
   "source": [
    "num_to_numerals(94)"
   ]
  },
  {
   "cell_type": "markdown",
   "id": "b01190f8-437a-401a-8d36-6d184d26aa33",
   "metadata": {},
   "source": [
    "So it seems like we are only properly subtracting when we are down to the last set of digits.  Let's take another look at our code, and give ourselves that 94 example again."
   ]
  },
  {
   "cell_type": "code",
   "execution_count": 109,
   "id": "688c4928-a8c0-467b-b939-43645dda8383",
   "metadata": {},
   "outputs": [],
   "source": [
    "num = 94 \n",
    "# desired_output = XC"
   ]
  },
  {
   "cell_type": "markdown",
   "id": "71851126-830b-40a9-8cc2-b391cee72387",
   "metadata": {},
   "source": [
    "The problem is that we want to break our number of 94 into something like the following."
   ]
  },
  {
   "cell_type": "code",
   "execution_count": 162,
   "id": "7642f243-de68-4134-9692-3ad1c1b763c4",
   "metadata": {},
   "outputs": [
    {
     "data": {
      "text/plain": [
       "[90, 4]"
      ]
     },
     "execution_count": 162,
     "metadata": {},
     "output_type": "execute_result"
    }
   ],
   "source": [
    "[90, 4]"
   ]
  },
  {
   "cell_type": "markdown",
   "id": "8e854221-e421-4514-8ef8-e419828e93aa",
   "metadata": {},
   "source": [
    "Where the first digit represents the 10s, and the second element equals the number of 1s.  And then we can apply our logic to each digit."
   ]
  },
  {
   "cell_type": "markdown",
   "id": "548be70e-b7d4-40f2-ac3b-82cf95f7fd81",
   "metadata": {},
   "source": [
    "It's not a bad approach, but it seems pretty complicated.\n",
    "\n",
    "> For example, here's how we could do it."
   ]
  },
  {
   "cell_type": "code",
   "execution_count": 146,
   "id": "9efd7f74-d684-4b49-8c16-4f98891afa93",
   "metadata": {},
   "outputs": [
    {
     "data": {
      "text/plain": [
       "[90, 4]"
      ]
     },
     "execution_count": 146,
     "metadata": {},
     "output_type": "execute_result"
    }
   ],
   "source": [
    "num = 94\n",
    "nums = list(str(num))\n",
    "# evolving our code to get to the right format...\n",
    "[((len(nums) - idx - 1), int(num)) for idx, num in enumerate(nums)] # [(1, 9), (0, 4)]\n",
    "\n",
    "[(10**(len(nums) - idx - 1), int(num)) for idx, num in enumerate(nums)] # [(10, 9), (1, 4)]\n",
    "\n",
    "nums_by_ten = [(10**(len(nums) - idx - 1)*int(num)) for idx, num in enumerate(nums)]\n",
    "nums_by_ten"
   ]
  },
  {
   "cell_type": "markdown",
   "id": "d38fd585-2a4e-4ff9-a683-b28f3c895b06",
   "metadata": {},
   "source": [
    "And let's see if our `subtract_from` function can handle these one at a time."
   ]
  },
  {
   "cell_type": "code",
   "execution_count": 147,
   "id": "4ac71f6e-0939-472a-aa30-8a9410fe28b7",
   "metadata": {},
   "outputs": [
    {
     "data": {
      "text/plain": [
       "('X', 100)"
      ]
     },
     "execution_count": 147,
     "metadata": {},
     "output_type": "execute_result"
    }
   ],
   "source": [
    "subtract_from(90)"
   ]
  },
  {
   "cell_type": "markdown",
   "id": "3b280a92-64f1-413b-9851-e716af41c4f9",
   "metadata": {},
   "source": [
    "Ok, so basically we'll have to loop through our list of numbers, but when we use the \"subtraction\" method, we'll need to prepend to the `nums_by_ten` list."
   ]
  },
  {
   "cell_type": "code",
   "execution_count": 186,
   "id": "c3b8443a-2ba7-48ef-9ef5-87a387ba60df",
   "metadata": {},
   "outputs": [],
   "source": [
    "def subtract_from(current_num, by_ten_idx, nums_by_ten):\n",
    "    num_to_numeral = {1: 'I', 10: 'X', 100: 'C'}\n",
    "    for idx, number in enumerate(numbers):\n",
    "            diff = current_num - number\n",
    "            if diff in [-1, -10, -100]:\n",
    "                abs_diff = abs(diff)\n",
    "                new_num = current_num + abs_diff\n",
    "                print(new_num)\n",
    "                nums_by_ten[by_ten_idx] = new_num\n",
    "                return num_to_numeral[abs_diff]\n",
    "            if number <= current_num:\n",
    "                current_num = current_num - number\n",
    "                nums_by_ten.pop(0)\n",
    "                return numerals[idx]"
   ]
  },
  {
   "cell_type": "code",
   "execution_count": 189,
   "id": "59278d23-a23f-47c5-95eb-cb5345c9166d",
   "metadata": {},
   "outputs": [
    {
     "name": "stdout",
     "output_type": "stream",
     "text": [
      "[90, 4]\n",
      "100\n",
      "['X']\n",
      "[100, 4]\n",
      "['X', 'C']\n",
      "[4]\n",
      "5\n",
      "['X', 'C', 'I']\n",
      "[5]\n",
      "['X', 'C', 'I', 'V']\n"
     ]
    },
    {
     "data": {
      "text/plain": [
       "'XCIV'"
      ]
     },
     "execution_count": 189,
     "metadata": {},
     "output_type": "execute_result"
    }
   ],
   "source": [
    "numbers = [1000, 500, 100, 50, 10, 5, 1]\n",
    "numerals = [\"M\", \"D\", \"C\", \"L\", \"X\", \"V\", \"I\"]\n",
    "\n",
    "translated_numerals = []\n",
    "nums_by_ten = [90, 4]\n",
    "while nums_by_ten:\n",
    "    print(nums_by_ten)\n",
    "    for by_ten_idx, num_by_ten in enumerate(nums_by_ten):\n",
    "        translated_numeral = subtract_from(num_by_ten, by_ten_idx, nums_by_ten)\n",
    "        translated_numerals.append(translated_numeral)\n",
    "        print(translated_numerals)\n",
    "        break\n",
    "''.join(translated_numerals)"
   ]
  },
  {
   "cell_type": "markdown",
   "id": "716363dd-56e8-47fa-8779-9e7ad0c1681a",
   "metadata": {},
   "source": [
    "Ok, looks pretty good.  Let's turn wrap this in functions and try with the example given in the problem: 1994."
   ]
  },
  {
   "cell_type": "code",
   "execution_count": 7,
   "id": "e71fff05-e63b-4b63-b958-5991eddf906c",
   "metadata": {},
   "outputs": [],
   "source": [
    "numbers = [1000, 500, 100, 50, 10, 5, 1]\n",
    "numerals = [\"M\", \"D\", \"C\", \"L\", \"X\", \"V\", \"I\"]\n",
    "\n",
    "def numbers_by_ten(number):\n",
    "    nums = list(str(number))\n",
    "    return [(10**(len(nums) - idx - 1)*int(num)) for idx, num in enumerate(nums)]\n",
    "\n",
    "# numbers_by_ten(1994) # [1000, 900, 90, 4]"
   ]
  },
  {
   "cell_type": "code",
   "execution_count": 8,
   "id": "cb90b5dd-0fd9-496c-9728-04aeec7156e8",
   "metadata": {},
   "outputs": [],
   "source": [
    "def subtract_from(current_num, by_ten_idx, nums_by_ten):\n",
    "    num_to_numeral = {1: 'I', 10: 'X', 100: 'C'}\n",
    "    for idx, number in enumerate(numbers):\n",
    "            diff = current_num - number\n",
    "            if diff in [-1, -10, -100]:\n",
    "                abs_diff = abs(diff)\n",
    "                new_num = current_num + abs_diff\n",
    "                nums_by_ten[by_ten_idx] = new_num\n",
    "                return num_to_numeral[abs_diff]\n",
    "            if number <= current_num:\n",
    "                current_num = current_num - number\n",
    "                if current_num > 0:\n",
    "                  nums_by_ten[by_ten_idx] = current_num\n",
    "                  return numerals[idx]\n",
    "                else:\n",
    "                  nums_by_ten.pop(0)\n",
    "                  return numerals[idx]"
   ]
  },
  {
   "cell_type": "code",
   "execution_count": 9,
   "id": "a0e9a0ca-697a-496c-89bc-f77f7c9f966a",
   "metadata": {},
   "outputs": [],
   "source": [
    "def translate_to_numerals(number):\n",
    "    translated_numerals = []\n",
    "    nums_by_ten = numbers_by_ten(number)\n",
    "    while nums_by_ten:\n",
    "        for by_ten_idx, num_by_ten in enumerate(nums_by_ten):\n",
    "            translated_numeral = subtract_from(num_by_ten, by_ten_idx, nums_by_ten)\n",
    "            translated_numerals.append(translated_numeral)\n",
    "            break\n",
    "    return ''.join(translated_numerals)"
   ]
  },
  {
   "cell_type": "code",
   "execution_count": 11,
   "id": "aaae85ab-1f47-4812-9ea0-08a5c4fc0c24",
   "metadata": {},
   "outputs": [
    {
     "data": {
      "text/plain": [
       "'MCMXCIV'"
      ]
     },
     "execution_count": 11,
     "metadata": {},
     "output_type": "execute_result"
    }
   ],
   "source": [
    "translate_to_numerals(1994)"
   ]
  },
  {
   "cell_type": "code",
   "execution_count": 12,
   "id": "0742036e-16c9-48dc-acea-895e3a6fbc7b",
   "metadata": {},
   "outputs": [
    {
     "data": {
      "text/plain": [
       "'MCMLXXXIV'"
      ]
     },
     "execution_count": 12,
     "metadata": {},
     "output_type": "execute_result"
    }
   ],
   "source": [
    "translate_to_numerals(1984)"
   ]
  },
  {
   "cell_type": "markdown",
   "id": "84bf0bfa-3c5c-44d4-ae77-2393872e4ae7",
   "metadata": {},
   "source": [
    "Wow, crazy."
   ]
  },
  {
   "cell_type": "markdown",
   "id": "c902639c-9882-43fb-b8d1-a08d894aa389",
   "metadata": {},
   "source": [
    "### Resources\n",
    "\n",
    "[Leetcode](https://leetcode.com/problems/integer-to-roman/)"
   ]
  }
 ],
 "metadata": {
  "kernelspec": {
   "display_name": "Python 3 (ipykernel)",
   "language": "python",
   "name": "python3"
  },
  "language_info": {
   "codemirror_mode": {
    "name": "ipython",
    "version": 3
   },
   "file_extension": ".py",
   "mimetype": "text/x-python",
   "name": "python",
   "nbconvert_exporter": "python",
   "pygments_lexer": "ipython3",
   "version": "3.9.12"
  }
 },
 "nbformat": 4,
 "nbformat_minor": 5
}
