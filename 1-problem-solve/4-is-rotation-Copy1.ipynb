{
 "cells": [
  {
   "cell_type": "markdown",
   "id": "eb24178b-72a4-4614-a841-2d8991aa065c",
   "metadata": {},
   "source": [
    "# Is Rotation?"
   ]
  },
  {
   "cell_type": "markdown",
   "id": "93cba8d5-6c04-4cc3-9b5a-b92b79132241",
   "metadata": {},
   "source": [
    "Given two strings s and goal, return true if and only if s can become goal after some number of shifts on s.\n",
    "\n",
    "A shift on s consists of moving the leftmost character of s to the rightmost position"
   ]
  },
  {
   "cell_type": "code",
   "execution_count": 2,
   "id": "a07e9bc9-6562-45fb-9c58-ea1f7ee303bb",
   "metadata": {},
   "outputs": [],
   "source": [
    "s = \"abcde\"\n",
    "goal = \"cdeab\"\n",
    "# true"
   ]
  },
  {
   "cell_type": "code",
   "execution_count": null,
   "id": "80ef6aab-7dd7-4e07-a71a-3dc8defd6e24",
   "metadata": {},
   "outputs": [],
   "source": []
  },
  {
   "cell_type": "markdown",
   "id": "5b5d9562-313c-4ab5-a29e-f9e5fc29adf5",
   "metadata": {},
   "source": [
    "### Resources\n",
    "\n",
    "[Leetcode](https://leetcode.com/problems/rotate-string/)"
   ]
  }
 ],
 "metadata": {
  "kernelspec": {
   "display_name": "Python 3 (ipykernel)",
   "language": "python",
   "name": "python3"
  },
  "language_info": {
   "codemirror_mode": {
    "name": "ipython",
    "version": 3
   },
   "file_extension": ".py",
   "mimetype": "text/x-python",
   "name": "python",
   "nbconvert_exporter": "python",
   "pygments_lexer": "ipython3",
   "version": "3.9.12"
  }
 },
 "nbformat": 4,
 "nbformat_minor": 5
}
