{
 "cells": [
  {
   "cell_type": "markdown",
   "id": "33e5901e-c590-465c-8197-5e54b20f313c",
   "metadata": {},
   "source": [
    "# Small Change problem"
   ]
  },
  {
   "cell_type": "markdown",
   "id": "21b67b9b-f6af-4882-a4bb-6efff521820e",
   "metadata": {},
   "source": [
    "### Problem"
   ]
  },
  {
   "cell_type": "markdown",
   "id": "1331b15a-dfe2-49e7-bfac-2739ccf9a425",
   "metadata": {},
   "source": [
    "You are given an integer array coins representing coins of different denominations and an integer amount representing a total amount of money.\n",
    "\n",
    "Return the fewest number of coins that you need to make up that amount. If that amount of money cannot be made up by any combination of the coins, return -1.\n",
    "\n",
    "You may assume that you have an infinite number of each kind of coin."
   ]
  },
  {
   "cell_type": "markdown",
   "id": "55245452-1fb0-4025-9a11-3bb4499fc477",
   "metadata": {},
   "source": [
    "Determine the minimum number of coins to give while making change."
   ]
  },
  {
   "cell_type": "markdown",
   "id": "dfd3355d-48d2-4c25-8b3a-121075d461cf",
   "metadata": {},
   "source": [
    "### Examples"
   ]
  },
  {
   "cell_type": "code",
   "execution_count": 3,
   "id": "b44fcb14-4ba5-4f7a-bc11-d90332e32c56",
   "metadata": {},
   "outputs": [],
   "source": [
    "coins = [1,2,5]\n",
    "amount = 11\n",
    "# output 3,  (5, 5, 1)"
   ]
  },
  {
   "cell_type": "code",
   "execution_count": 4,
   "id": "7acbac28-96a1-4da7-bce2-4820d84fa25a",
   "metadata": {},
   "outputs": [],
   "source": [
    "coins = [2]\n",
    "amount = 3\n",
    "\n",
    "# Output: -1"
   ]
  },
  {
   "cell_type": "code",
   "execution_count": 6,
   "id": "c4cc5031-2d87-4f07-91d3-77358dd24ad8",
   "metadata": {},
   "outputs": [],
   "source": [
    "coins = [1] \n",
    "amount = 0\n",
    "\n",
    "# Output: 0"
   ]
  },
  {
   "cell_type": "code",
   "execution_count": 1,
   "id": "8ba25193-db9f-49b3-b132-2c2956946092",
   "metadata": {},
   "outputs": [],
   "source": [
    "coins = {1, 5, 10, 20}"
   ]
  },
  {
   "cell_type": "code",
   "execution_count": 2,
   "id": "c87433cf-61bf-4268-91be-d56953a21e1c",
   "metadata": {},
   "outputs": [],
   "source": [
    "change = 36"
   ]
  },
  {
   "cell_type": "markdown",
   "id": "4290aaed-b506-4776-9283-584d5644b225",
   "metadata": {},
   "source": [
    "### Solution"
   ]
  },
  {
   "cell_type": "markdown",
   "id": "4e31a15f-78ef-4595-8e94-5e473f3f0b2c",
   "metadata": {},
   "source": [
    "[Leetcode](https://leetcode.com/problems/coin-change/)"
   ]
  }
 ],
 "metadata": {
  "kernelspec": {
   "display_name": "Python 3 (ipykernel)",
   "language": "python",
   "name": "python3"
  },
  "language_info": {
   "codemirror_mode": {
    "name": "ipython",
    "version": 3
   },
   "file_extension": ".py",
   "mimetype": "text/x-python",
   "name": "python",
   "nbconvert_exporter": "python",
   "pygments_lexer": "ipython3",
   "version": "3.9.12"
  }
 },
 "nbformat": 4,
 "nbformat_minor": 5
}
