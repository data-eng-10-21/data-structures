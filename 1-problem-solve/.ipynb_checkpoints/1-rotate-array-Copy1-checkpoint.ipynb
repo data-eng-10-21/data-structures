{
 "cells": [
  {
   "cell_type": "markdown",
   "id": "42cd1d95-105f-44a7-9290-da548ed3cbad",
   "metadata": {},
   "source": [
    "# Rotate an Array - Leetcode 189"
   ]
  },
  {
   "cell_type": "markdown",
   "id": "e76b2fbb-4a2d-4e88-9c73-0946abd15cfe",
   "metadata": {},
   "source": [
    "### Problem\n",
    "\n",
    "Given an array, rotate an array by k steps, where k is non-negative."
   ]
  },
  {
   "cell_type": "markdown",
   "id": "d3ae43cd-0c4f-4454-a375-f3258aeb4a32",
   "metadata": {},
   "source": [
    "### Examples"
   ]
  },
  {
   "cell_type": "markdown",
   "id": "b2cad12e-7283-4576-a993-cd2d842d4b89",
   "metadata": {},
   "source": [
    "* Eg 1"
   ]
  },
  {
   "cell_type": "code",
   "execution_count": 5,
   "id": "a79ceb79-ce64-4842-9448-2dce62f8cf13",
   "metadata": {},
   "outputs": [],
   "source": [
    "arr_1 = [1, 2, 3, 4, 5, 6, 7]\n",
    "k = 3\n",
    "\n",
    "# [5, 6, 7, 1, 2, 3, 4]"
   ]
  },
  {
   "cell_type": "markdown",
   "id": "5ba7e059-a81b-4eed-988e-8188aaa14910",
   "metadata": {},
   "source": [
    "* Eg 2"
   ]
  },
  {
   "cell_type": "code",
   "execution_count": 8,
   "id": "9e1cb5e7-15a6-4599-bd8b-68b6592ddacc",
   "metadata": {},
   "outputs": [],
   "source": [
    "nums = [-1, -100, 3, 99]\n",
    "k = 2"
   ]
  },
  {
   "cell_type": "code",
   "execution_count": 9,
   "id": "c88a2c50-223c-4b7c-b363-a68459deb9b1",
   "metadata": {},
   "outputs": [],
   "source": [
    "# [3, 99, -1, -100]"
   ]
  },
  {
   "cell_type": "code",
   "execution_count": null,
   "id": "6c266d31-b1db-4456-91f9-ccb039bf7e86",
   "metadata": {},
   "outputs": [],
   "source": []
  }
 ],
 "metadata": {
  "kernelspec": {
   "display_name": "Python 3 (ipykernel)",
   "language": "python",
   "name": "python3"
  },
  "language_info": {
   "codemirror_mode": {
    "name": "ipython",
    "version": 3
   },
   "file_extension": ".py",
   "mimetype": "text/x-python",
   "name": "python",
   "nbconvert_exporter": "python",
   "pygments_lexer": "ipython3",
   "version": "3.9.12"
  }
 },
 "nbformat": 4,
 "nbformat_minor": 5
}
