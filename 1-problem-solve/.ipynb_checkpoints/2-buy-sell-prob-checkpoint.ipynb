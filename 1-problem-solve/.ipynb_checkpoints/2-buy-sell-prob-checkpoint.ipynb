{
 "cells": [
  {
   "cell_type": "markdown",
   "id": "601e01a0-28d9-438c-b9cc-6369784c9a57",
   "metadata": {},
   "source": [
    "# Buy and Sell a Stock"
   ]
  },
  {
   "cell_type": "markdown",
   "id": "168f4de2-491b-45f8-8260-8bf6c4addf7d",
   "metadata": {},
   "source": [
    "### Introduction"
   ]
  },
  {
   "cell_type": "markdown",
   "id": "75620174-9d6e-4dd8-a8c5-dc7f3cad9c32",
   "metadata": {},
   "source": [
    "You are given an array prices where `prices[i]` is the price of a given stock on the ith day.\n",
    "\n",
    "You want to maximize your profit by choosing a single day to buy one stock and choosing a different day in the future to sell that stock."
   ]
  },
  {
   "cell_type": "markdown",
   "id": "3a4acef6-77c0-42ca-9461-dfbeb2a0e1ef",
   "metadata": {},
   "source": [
    "Return the maximum profit you can achieve from this transaction. If you cannot achieve any profit, return 0."
   ]
  },
  {
   "cell_type": "code",
   "execution_count": 1,
   "id": "642c14b2-b3a3-43bf-a8be-c1a08bf582de",
   "metadata": {},
   "outputs": [],
   "source": [
    "prices = [7, 1, 5, 3, 6, 4]"
   ]
  },
  {
   "cell_type": "markdown",
   "id": "60af4c41-49d4-4284-8727-2ede0d3da737",
   "metadata": {},
   "source": [
    "`output = 5`\n",
    "\n",
    "Buy on day 2 (price = 1) and sell on day 5 (price = 6), profit = 6-1 = 5."
   ]
  },
  {
   "cell_type": "markdown",
   "id": "8dc97b3a-8bf4-4cae-a7f9-5a653a45e2d1",
   "metadata": {},
   "source": [
    "* Example 2"
   ]
  },
  {
   "cell_type": "code",
   "execution_count": 1,
   "id": "e64c8019-ad99-45ec-adbe-32faac425b03",
   "metadata": {},
   "outputs": [],
   "source": [
    "prices = [7,6,4,3,1]\n",
    "output = 0"
   ]
  },
  {
   "cell_type": "code",
   "execution_count": null,
   "id": "6536dfbd-f334-4b2b-94e7-45a79fe65c3f",
   "metadata": {},
   "outputs": [],
   "source": []
  }
 ],
 "metadata": {
  "kernelspec": {
   "display_name": "Python 3 (ipykernel)",
   "language": "python",
   "name": "python3"
  },
  "language_info": {
   "codemirror_mode": {
    "name": "ipython",
    "version": 3
   },
   "file_extension": ".py",
   "mimetype": "text/x-python",
   "name": "python",
   "nbconvert_exporter": "python",
   "pygments_lexer": "ipython3",
   "version": "3.9.12"
  }
 },
 "nbformat": 4,
 "nbformat_minor": 5
}
