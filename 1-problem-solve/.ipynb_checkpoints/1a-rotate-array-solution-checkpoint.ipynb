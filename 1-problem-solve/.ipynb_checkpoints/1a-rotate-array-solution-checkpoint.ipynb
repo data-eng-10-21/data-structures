{
 "cells": [
  {
   "cell_type": "markdown",
   "id": "42cd1d95-105f-44a7-9290-da548ed3cbad",
   "metadata": {},
   "source": [
    "# Rotate an Array - Leetcode 189"
   ]
  },
  {
   "cell_type": "markdown",
   "id": "e76b2fbb-4a2d-4e88-9c73-0946abd15cfe",
   "metadata": {},
   "source": [
    "### Problem\n",
    "\n",
    "Given an array, rotate an array by k steps, where k is non-negative."
   ]
  },
  {
   "cell_type": "markdown",
   "id": "d3ae43cd-0c4f-4454-a375-f3258aeb4a32",
   "metadata": {},
   "source": [
    "### Examples"
   ]
  },
  {
   "cell_type": "markdown",
   "id": "b2cad12e-7283-4576-a993-cd2d842d4b89",
   "metadata": {},
   "source": [
    "* Eg 1"
   ]
  },
  {
   "cell_type": "code",
   "execution_count": 5,
   "id": "a79ceb79-ce64-4842-9448-2dce62f8cf13",
   "metadata": {},
   "outputs": [],
   "source": [
    "arr_1 = [1, 2, 3, 4, 5, 6, 7]\n",
    "k = 3\n",
    "\n",
    "# [5, 6, 7, 1, 2, 3, 4]"
   ]
  },
  {
   "cell_type": "markdown",
   "id": "a066d44c-1da3-4bc0-95a2-484cf336f5cc",
   "metadata": {},
   "source": [
    "Ok, so remember our technique.  We want to (1) make sure we understand the problem (2) solve the problem without code and (3) translate into code.  "
   ]
  },
  {
   "cell_type": "markdown",
   "id": "56d3f189-7a17-44d2-89ea-8262f458eac8",
   "metadata": {},
   "source": [
    "Ok, I take we understand the problem so let's move to step 2."
   ]
  },
  {
   "cell_type": "markdown",
   "id": "14856a4d-34f2-4f49-bbad-964b100a5a23",
   "metadata": {},
   "source": [
    "### 2. Problem solving"
   ]
  },
  {
   "cell_type": "markdown",
   "id": "4d5affc0-885d-4cd2-a283-fe7d587146b0",
   "metadata": {},
   "source": [
    "Now above, the problem and solution is already provided for us.  So let's give ourself another example, this way we can see have our brain solve the problem, and then it's our job to unpack how our brain did this."
   ]
  },
  {
   "cell_type": "code",
   "execution_count": 10,
   "id": "f9fb1a35-9642-4792-b031-872a92684d31",
   "metadata": {},
   "outputs": [],
   "source": [
    "arr_1 = [2, 3, 4, 5, 6, 7]\n",
    "k = 4\n",
    "# [4, 5, 6, 7] + [2, 3]"
   ]
  },
  {
   "cell_type": "markdown",
   "id": "fb2d5318-e47e-41cf-9a26-1490e76497c0",
   "metadata": {},
   "source": [
    "Here's what I did.  Copy, and paste the last four elements, and then take the remaining elements that were not selected."
   ]
  },
  {
   "cell_type": "markdown",
   "id": "8208925f-c490-4e4f-92e8-388d0a47644b",
   "metadata": {},
   "source": [
    "### 3. Translate into code"
   ]
  },
  {
   "cell_type": "markdown",
   "id": "fed7ab7a-2c30-4956-b0c9-ca3665bdb530",
   "metadata": {},
   "source": [
    "Ok, so now let's move onto the translating to code step.  To do so, we'll write our logic in comments."
   ]
  },
  {
   "cell_type": "code",
   "execution_count": 20,
   "id": "6d44fcfe-2d15-474c-9401-f72bcd3c04a1",
   "metadata": {},
   "outputs": [
    {
     "data": {
      "text/plain": [
       "[4, 5, 6, 7, 2, 3]"
      ]
     },
     "execution_count": 20,
     "metadata": {},
     "output_type": "execute_result"
    }
   ],
   "source": [
    "arr_1 = [2, 3, 4, 5, 6, 7]\n",
    "k = 4\n",
    "\n",
    "# Copy, and paste the last four elements\n",
    "last_els = arr_1[-4:] \n",
    "\n",
    "\n",
    "# then take the remaining elements that were not selected \n",
    "# from the front of the list\n",
    "first_els = arr_1[:2] \n",
    "\n",
    "last_els + first_els"
   ]
  },
  {
   "cell_type": "markdown",
   "id": "1f395080-8ed0-4d82-bdb8-7be844c365b8",
   "metadata": {},
   "source": [
    "Ok, now that we confirmed this works, let's replace our hard coded numbers with values so that it works for any k."
   ]
  },
  {
   "cell_type": "code",
   "execution_count": 23,
   "id": "d0a6efe6-3dc5-45d4-9870-664d5594cdc9",
   "metadata": {},
   "outputs": [
    {
     "data": {
      "text/plain": [
       "[4, 5, 6, 7, 2, 3]"
      ]
     },
     "execution_count": 23,
     "metadata": {},
     "output_type": "execute_result"
    }
   ],
   "source": [
    "arr_1 = [2, 3, 4, 5, 6, 7]\n",
    "k = 4\n",
    "last_els = arr_1[-k:] # -4\n",
    "\n",
    "initial_elements = len(arr_1) - k # 2\n",
    "first_els = arr_1[:initial_elements]\n",
    "\n",
    "last_els + first_els"
   ]
  },
  {
   "cell_type": "markdown",
   "id": "f6607ccd-c069-408c-9575-2052aec7e1ce",
   "metadata": {},
   "source": [
    "Ok, this seems to have worked!"
   ]
  },
  {
   "cell_type": "markdown",
   "id": "03a4ddb5-8d12-483b-b945-83b1f89a9205",
   "metadata": {},
   "source": [
    "### Second Method"
   ]
  },
  {
   "cell_type": "markdown",
   "id": "81d38ea6-1aef-4604-b794-f70ce73ca44b",
   "metadata": {},
   "source": [
    "Is there another way we can solve this?  Maybe the key is to realize there's a pivot point - which is k."
   ]
  },
  {
   "cell_type": "code",
   "execution_count": 25,
   "id": "41be78c6-1367-4e85-aa36-af038e2da07b",
   "metadata": {},
   "outputs": [],
   "source": [
    "arr_1 = [2, 3, 4, 5, 6, 7]\n",
    "k = 2"
   ]
  },
  {
   "cell_type": "code",
   "execution_count": 24,
   "id": "73e42006-b7ac-41c0-b25d-df413a23d64c",
   "metadata": {},
   "outputs": [],
   "source": [
    "[2, 3] [4, 5, 6, 7]"
   ]
  },
  {
   "cell_type": "markdown",
   "id": "d10c2773-e130-455c-9f23-1814a46c6366",
   "metadata": {},
   "source": [
    "From here, the indices of the elements chance.  Everything after the pivot becomes the first elements.  Let's label the old and new indices and see if there's a pattern.\n"
   ]
  },
  {
   "cell_type": "code",
   "execution_count": null,
   "id": "98a10524-4429-40c9-bded-b6a2e50ad22b",
   "metadata": {},
   "outputs": [],
   "source": [
    "# k = 4, len = 6\n",
    "\n",
    "# 0, 1   2,  3, 4 5\n",
    " [2, 3]  [4, 5, 6, 7]\n",
    "# 4, 5   0, 1, 2, 3    "
   ]
  },
  {
   "cell_type": "markdown",
   "id": "60a24b53-8474-45e8-a7b2-adfe1645a2ec",
   "metadata": {},
   "source": [
    "Is there a pattern here.  Well, for the first two elements we just add the current index k.  \n",
    "\n",
    "If we do this for all of the digits we get the following the last line below.  "
   ]
  },
  {
   "cell_type": "code",
   "execution_count": null,
   "id": "39e58b3e-747c-40e1-bf12-f5dbc87c122c",
   "metadata": {},
   "outputs": [],
   "source": [
    "# 0, 1   2,  3, 4 5\n",
    " [2, 3]  [4, 5, 6, 7]\n",
    "# 4, 5   0, 1, 2, 3    \n",
    "\n",
    "# 4, 5   6, 7, 8, 9    "
   ]
  },
  {
   "cell_type": "markdown",
   "id": "2320a1db-725a-4e0d-9027-c96bdd4b87ab",
   "metadata": {},
   "source": [
    "So now how do we turn that last line into the second to last line?  Well when the new index is equal to or above the length, we subtract that length.  \n",
    "\n",
    "Ok, let's turn it into code!"
   ]
  },
  {
   "cell_type": "code",
   "execution_count": 26,
   "id": "c59635ef-8549-4f72-8107-7ba541fc8307",
   "metadata": {},
   "outputs": [],
   "source": [
    "elements = [2, 3, 4, 5, 6, 7]\n",
    "k = 4\n",
    "length = len(elements)"
   ]
  },
  {
   "cell_type": "code",
   "execution_count": 29,
   "id": "cf3afa80-90f2-45eb-a3f9-302f0a6ff1de",
   "metadata": {},
   "outputs": [
    {
     "name": "stdout",
     "output_type": "stream",
     "text": [
      "4\n",
      "5\n",
      "0\n",
      "1\n",
      "2\n",
      "3\n"
     ]
    }
   ],
   "source": [
    "# Add k to each elements index\n",
    "for idx, element in enumerate(elements):\n",
    "    new_idx = k + idx \n",
    "    if new_idx >= len(elements):\n",
    "        new_idx = new_idx - len(elements)\n",
    "    print(new_idx)\n",
    "# If the index is over the length, subtract the length of the list"
   ]
  },
  {
   "cell_type": "markdown",
   "id": "1c29548f-2f1f-474f-a8a1-f676cee5dfca",
   "metadata": {},
   "source": [
    "Ok, now let's move each element to it's new position in a new list."
   ]
  },
  {
   "cell_type": "code",
   "execution_count": 35,
   "id": "b3464210-d90a-4dd0-8abd-2785c28cecbe",
   "metadata": {},
   "outputs": [
    {
     "data": {
      "text/plain": [
       "[None, None, None, None, None, None]"
      ]
     },
     "execution_count": 35,
     "metadata": {},
     "output_type": "execute_result"
    }
   ],
   "source": [
    "new_arr = [None]*len(elements)\n",
    "new_arr"
   ]
  },
  {
   "cell_type": "code",
   "execution_count": 40,
   "id": "e0bc1c11-8276-487a-9ea9-4317eb8c8608",
   "metadata": {},
   "outputs": [
    {
     "data": {
      "text/plain": [
       "[4, 5, 6, 7, 2, 3]"
      ]
     },
     "execution_count": 40,
     "metadata": {},
     "output_type": "execute_result"
    }
   ],
   "source": [
    "elements = [2, 3, 4, 5, 6, 7]\n",
    "k = 4\n",
    "\n",
    "new_arr = [None]*len(elements)\n",
    "\n",
    "for idx, element in enumerate(elements):\n",
    "    new_idx = k + idx \n",
    "    if new_idx >= len(elements):\n",
    "        new_idx = new_idx - len(elements)\n",
    "    new_arr[new_idx] = element\n",
    "new_arr"
   ]
  },
  {
   "cell_type": "markdown",
   "id": "9c879251-0a2a-4ea2-8363-9a81a8b0042c",
   "metadata": {},
   "source": [
    "### A little trick"
   ]
  },
  {
   "cell_type": "markdown",
   "id": "d6e4d575-a849-4599-9d4a-b4ba431c5306",
   "metadata": {},
   "source": [
    "Ok, so in the above, we subtracted the length of the list, when our indices got to large.  This is how we got from the last line, to the second to last line."
   ]
  },
  {
   "cell_type": "code",
   "execution_count": null,
   "id": "7874e9d5-e3f4-4cf8-afd4-c4dec2fbd7a1",
   "metadata": {},
   "outputs": [],
   "source": [
    "# 0, 1   2,  3, 4 5\n",
    " [2, 3]  [4, 5, 6, 7]\n",
    "# 4, 5   0, 1, 2, 3    \n",
    "\n",
    "# 4, 5   6, 7, 8, 9    "
   ]
  },
  {
   "cell_type": "markdown",
   "id": "d3000678-eaa6-4317-a0ab-5c9c5bf574b7",
   "metadata": {},
   "source": [
    "Another way to do this is with the modulo operator.  Let's see this."
   ]
  },
  {
   "cell_type": "code",
   "execution_count": 57,
   "id": "75a05dde-1bbb-4876-bf5a-dacd3a66aaef",
   "metadata": {},
   "outputs": [
    {
     "data": {
      "text/plain": [
       "1"
      ]
     },
     "execution_count": 57,
     "metadata": {},
     "output_type": "execute_result"
    }
   ],
   "source": [
    "els = [2, 3, 4, 5, 6, 7]\n",
    "length = len(els) # 6\n",
    "\n",
    "7 % length"
   ]
  },
  {
   "cell_type": "markdown",
   "id": "de68c31b-bfac-4739-a5d9-449fc94bd543",
   "metadata": {},
   "source": [
    "Remember that the modulo does returns just the remainder after dividing two numbers.  So if we perform 7/6, the remainder is 1. "
   ]
  },
  {
   "cell_type": "code",
   "execution_count": null,
   "id": "ebb1dd49-d8ab-4f22-8319-7b6812ba80ef",
   "metadata": {},
   "outputs": [],
   "source": []
  }
 ],
 "metadata": {
  "kernelspec": {
   "display_name": "Python 3 (ipykernel)",
   "language": "python",
   "name": "python3"
  },
  "language_info": {
   "codemirror_mode": {
    "name": "ipython",
    "version": 3
   },
   "file_extension": ".py",
   "mimetype": "text/x-python",
   "name": "python",
   "nbconvert_exporter": "python",
   "pygments_lexer": "ipython3",
   "version": "3.9.12"
  }
 },
 "nbformat": 4,
 "nbformat_minor": 5
}
