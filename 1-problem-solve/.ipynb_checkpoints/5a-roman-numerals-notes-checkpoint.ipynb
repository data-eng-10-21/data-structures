{
 "cells": [
  {
   "cell_type": "markdown",
   "id": "1f30026c-14f3-4611-aea9-edfcad509642",
   "metadata": {},
   "source": [
    "# Integer to Roman Numerals"
   ]
  },
  {
   "cell_type": "markdown",
   "id": "99d19ea3-41fd-4b7c-8685-4b231374d58f",
   "metadata": {},
   "source": [
    "Now let's try the following [leetcode problem]([Leetcode](https://leetcode.com/problems/integer-to-roman/))."
   ]
  },
  {
   "cell_type": "markdown",
   "id": "3d969fce-023c-4a7b-9f1f-89477416b661",
   "metadata": {},
   "source": [
    "Roman numerals are represented by seven different symbols: I, V, X, L, C, D and M.\n",
    "\n",
    "```\n",
    "Symbol       Value\n",
    "\n",
    "I             1\n",
    "V             5\n",
    "X             10\n",
    "L             50\n",
    "C             100\n",
    "D             500\n",
    "M             1000\n",
    "```"
   ]
  },
  {
   "cell_type": "markdown",
   "id": "c0ea5dd0-8211-41ba-adaa-e951acf38fde",
   "metadata": {},
   "source": [
    "Roman numerals are usually written largest to smallest from left to right. However, the numeral for four is not IIII. Instead, the number four is written as IV. Because the one is before the five we subtract it making four. The same principle applies to the number nine, which is written as IX. There are six instances where subtraction is used:\n",
    "\n",
    "* I can be placed before V (5) and X (10) to make 4 and 9. \n",
    "* X can be placed before L (50) and C (100) to make 40 and 90. \n",
    "* C can be placed before D (500) and M (1000) to make 400 and 900."
   ]
  },
  {
   "cell_type": "markdown",
   "id": "54dec906-593d-456e-a3dd-4f8a2a35a314",
   "metadata": {},
   "source": [
    "Given an integer, convert it to a roman numeral."
   ]
  },
  {
   "cell_type": "code",
   "execution_count": 1,
   "id": "4de212e8-8bef-4d7f-bb77-61d43c770e7c",
   "metadata": {},
   "outputs": [],
   "source": [
    "coins = [1,2, 5]\n",
    "amount = 11\n",
    "# output 3,  (5, 5, 1)"
   ]
  },
  {
   "cell_type": "markdown",
   "id": "a61fb45b-81b7-48b6-ad54-4c41a27806e5",
   "metadata": {},
   "source": [
    "### Examples"
   ]
  },
  {
   "cell_type": "markdown",
   "id": "28b3194d-70fe-4ba9-8615-e282abe41a2e",
   "metadata": {},
   "source": [
    "Ok, so our chart above of roman numeral to number looks like a dictionary.  Let's convert it to one."
   ]
  },
  {
   "cell_type": "markdown",
   "id": "683a7abc-1cc0-4e13-8d4d-a1c8b95d9050",
   "metadata": {},
   "source": [
    "* Eg 1"
   ]
  },
  {
   "cell_type": "markdown",
   "id": "2b00bd27-31bd-40da-8903-db075f69c81a",
   "metadata": {},
   "source": [
    "> Small change problem "
   ]
  },
  {
   "cell_type": "code",
   "execution_count": 7,
   "id": "612fa535-9e4a-4a58-9b1e-ad5969662823",
   "metadata": {},
   "outputs": [],
   "source": [
    "numbers = [1000, 900, 500, 400, 100, 90, 50, 40, 10, 9, 5, 4, 1] # [1, 5, 10, 50, 100, 500, 1000]\n",
    "numerals = [\"M\", \"CM\", \"D\",\"CD\", \"C\", \"XC\", \"L\",\"LX\", \"X\", \"IX\", \"V\", \"IV\", \"I\"]"
   ]
  },
  {
   "cell_type": "code",
   "execution_count": 14,
   "id": "10b2220c-69b8-4d8d-b57a-fb6843bba1bb",
   "metadata": {},
   "outputs": [],
   "source": [
    "def num_to_numerals(current_num):\n",
    "    numerals = []\n",
    "    while current_num > 0:\n",
    "        numeral, current_num = subtract_from(current_num)\n",
    "        numerals.append(numeral)\n",
    "    return ''.join(numerals)\n",
    "    \n",
    "def subtract_from(current_num):\n",
    "    for idx, number in enumerate(numbers):\n",
    "            if number <= current_num:\n",
    "                current_num = current_num - number\n",
    "                return numerals[idx], current_num"
   ]
  },
  {
   "cell_type": "code",
   "execution_count": 16,
   "id": "f6dc3edc-9053-4c4b-a9b0-d6f1d3b7079c",
   "metadata": {},
   "outputs": [
    {
     "data": {
      "text/plain": [
       "'MCMXCIV'"
      ]
     },
     "execution_count": 16,
     "metadata": {},
     "output_type": "execute_result"
    }
   ],
   "source": [
    "current_num = 1994\n",
    "num_to_numerals(current_num)"
   ]
  },
  {
   "cell_type": "markdown",
   "id": "88349861-847b-4048-9d7a-5e018df891b5",
   "metadata": {},
   "source": [
    "Nice."
   ]
  },
  {
   "cell_type": "markdown",
   "id": "2071cc3f-d2c1-4115-b83e-77401f9e550d",
   "metadata": {},
   "source": [
    "### The long winding road"
   ]
  },
  {
   "cell_type": "markdown",
   "id": "427c1d50-e8c6-41cd-9f91-3d974557844e",
   "metadata": {},
   "source": [
    "> This is going to hurt."
   ]
  },
  {
   "cell_type": "markdown",
   "id": "18f54d35-55ea-4e12-b446-f2e68c93ec4f",
   "metadata": {},
   "source": [
    "Ok, my second thought is that maybe there is a pattern/general rule.  For example, the special circumstances seem to apply in a sort of pattern.  "
   ]
  },
  {
   "cell_type": "code",
   "execution_count": 23,
   "id": "a335ba33-ce14-42af-be35-7680dfffcd99",
   "metadata": {},
   "outputs": [],
   "source": [
    "numbers = [1000,  500,  100,  50,  10, 5, 1] # [1, 5, 10, 50, 100, 500, 1000]\n",
    "numerals = [\"M\", \"D\", \"C\",  \"L\", \"X\",  \"V\",  \"I\"]"
   ]
  },
  {
   "cell_type": "code",
   "execution_count": 36,
   "id": "2ae724a1-25ce-4190-85ee-112c7524dc76",
   "metadata": {},
   "outputs": [],
   "source": [
    "def subtract_from(current_num):\n",
    "    int_to_rom = {1: 'I', 10: 'X', 100: 'C'}\n",
    "    for idx, number in enumerate(numbers):\n",
    "            diff = current_num - number # -10\n",
    "            if diff in [-1, -10, -100]:\n",
    "                return int_to_rom[-diff], current_num + (-diff)\n",
    "            if number <= current_num:\n",
    "                current_num = current_num - number\n",
    "                return numerals[idx], current_num\n",
    "\n",
    "def num_to_numerals(current_num):\n",
    "    rom_nums = []\n",
    "    while current_num > 0:\n",
    "        rom_num, current_num = subtract_from(current_num)\n",
    "        rom_nums.append(rom_num)\n",
    "    return ''.join(rom_nums)"
   ]
  },
  {
   "cell_type": "code",
   "execution_count": 32,
   "id": "f00551c0-91d4-49d5-aaf5-0741ef079ca9",
   "metadata": {},
   "outputs": [
    {
     "data": {
      "text/plain": [
       "'XC'"
      ]
     },
     "execution_count": 32,
     "metadata": {},
     "output_type": "execute_result"
    }
   ],
   "source": [
    "num_to_numerals(90)"
   ]
  },
  {
   "cell_type": "code",
   "execution_count": 33,
   "id": "734c8f0d-e605-47ed-affa-f4131f872fac",
   "metadata": {},
   "outputs": [
    {
     "data": {
      "text/plain": [
       "'LXXXXIV'"
      ]
     },
     "execution_count": 33,
     "metadata": {},
     "output_type": "execute_result"
    }
   ],
   "source": [
    "\n",
    "\n",
    "num_to_numerals(94)"
   ]
  },
  {
   "cell_type": "code",
   "execution_count": 34,
   "id": "e6edd158-db33-4760-aebf-f22a5e777897",
   "metadata": {},
   "outputs": [],
   "source": [
    "# 'XCIV'"
   ]
  },
  {
   "cell_type": "code",
   "execution_count": 109,
   "id": "688c4928-a8c0-467b-b939-43645dda8383",
   "metadata": {},
   "outputs": [],
   "source": [
    "num = 94 \n",
    "# desired_output = XCIV"
   ]
  },
  {
   "cell_type": "markdown",
   "id": "71851126-830b-40a9-8cc2-b391cee72387",
   "metadata": {},
   "source": [
    "The problem is that we want to break our number of 94 into something like the following."
   ]
  },
  {
   "cell_type": "code",
   "execution_count": 162,
   "id": "7642f243-de68-4134-9692-3ad1c1b763c4",
   "metadata": {},
   "outputs": [
    {
     "data": {
      "text/plain": [
       "[90, 4]"
      ]
     },
     "execution_count": 162,
     "metadata": {},
     "output_type": "execute_result"
    }
   ],
   "source": [
    "[90, 4]"
   ]
  },
  {
   "cell_type": "markdown",
   "id": "8e854221-e421-4514-8ef8-e419828e93aa",
   "metadata": {},
   "source": [
    "Where the first digit represents the 10s, and the second element equals the number of 1s.  And then we can apply our logic to each digit."
   ]
  },
  {
   "cell_type": "markdown",
   "id": "548be70e-b7d4-40f2-ac3b-82cf95f7fd81",
   "metadata": {},
   "source": [
    "It's not a bad approach, but it seems pretty complicated.\n",
    "\n",
    "> For example, here's how we could do it."
   ]
  },
  {
   "cell_type": "code",
   "execution_count": 146,
   "id": "9efd7f74-d684-4b49-8c16-4f98891afa93",
   "metadata": {},
   "outputs": [
    {
     "data": {
      "text/plain": [
       "[90, 4]"
      ]
     },
     "execution_count": 146,
     "metadata": {},
     "output_type": "execute_result"
    }
   ],
   "source": [
    "num = 94\n",
    "nums = list(str(num))\n",
    "# evolving our code to get to the right format...\n",
    "[((len(nums) - idx - 1), int(num)) for idx, num in enumerate(nums)] # [(1, 9), (0, 4)]\n",
    "\n",
    "[(10**(len(nums) - idx - 1), int(num)) for idx, num in enumerate(nums)] # [(10, 9), (1, 4)]\n",
    "\n",
    "nums_by_ten = [(10**(len(nums) - idx - 1)*int(num)) for idx, num in enumerate(nums)]\n",
    "nums_by_ten"
   ]
  },
  {
   "cell_type": "markdown",
   "id": "d38fd585-2a4e-4ff9-a683-b28f3c895b06",
   "metadata": {},
   "source": [
    "And let's see if our `subtract_from` function can handle these one at a time."
   ]
  },
  {
   "cell_type": "code",
   "execution_count": 147,
   "id": "4ac71f6e-0939-472a-aa30-8a9410fe28b7",
   "metadata": {},
   "outputs": [
    {
     "data": {
      "text/plain": [
       "('X', 100)"
      ]
     },
     "execution_count": 147,
     "metadata": {},
     "output_type": "execute_result"
    }
   ],
   "source": [
    "subtract_from(90)"
   ]
  },
  {
   "cell_type": "markdown",
   "id": "3b280a92-64f1-413b-9851-e716af41c4f9",
   "metadata": {},
   "source": [
    "Ok, so basically we'll have to loop through our list of numbers, but when we use the \"subtraction\" method, we'll need to prepend to the `nums_by_ten` list."
   ]
  },
  {
   "cell_type": "code",
   "execution_count": 186,
   "id": "c3b8443a-2ba7-48ef-9ef5-87a387ba60df",
   "metadata": {},
   "outputs": [],
   "source": [
    "def subtract_from(current_num, by_ten_idx, nums_by_ten):\n",
    "    num_to_numeral = {1: 'I', 10: 'X', 100: 'C'}\n",
    "    for idx, number in enumerate(numbers):\n",
    "            diff = current_num - number\n",
    "            if diff in [-1, -10, -100]:\n",
    "                abs_diff = abs(diff)\n",
    "                new_num = current_num + abs_diff\n",
    "                print(new_num)\n",
    "                nums_by_ten[by_ten_idx] = new_num\n",
    "                return num_to_numeral[abs_diff]\n",
    "            if number <= current_num:\n",
    "                current_num = current_num - number\n",
    "                nums_by_ten.pop(0)\n",
    "                return numerals[idx]"
   ]
  },
  {
   "cell_type": "code",
   "execution_count": 189,
   "id": "59278d23-a23f-47c5-95eb-cb5345c9166d",
   "metadata": {},
   "outputs": [
    {
     "name": "stdout",
     "output_type": "stream",
     "text": [
      "[90, 4]\n",
      "100\n",
      "['X']\n",
      "[100, 4]\n",
      "['X', 'C']\n",
      "[4]\n",
      "5\n",
      "['X', 'C', 'I']\n",
      "[5]\n",
      "['X', 'C', 'I', 'V']\n"
     ]
    },
    {
     "data": {
      "text/plain": [
       "'XCIV'"
      ]
     },
     "execution_count": 189,
     "metadata": {},
     "output_type": "execute_result"
    }
   ],
   "source": [
    "numbers = [1000, 500, 100, 50, 10, 5, 1]\n",
    "numerals = [\"M\", \"D\", \"C\", \"L\", \"X\", \"V\", \"I\"]\n",
    "\n",
    "translated_numerals = []\n",
    "nums_by_ten = [90, 4]\n",
    "while nums_by_ten:\n",
    "    print(nums_by_ten)\n",
    "    for by_ten_idx, num_by_ten in enumerate(nums_by_ten):\n",
    "        translated_numeral = subtract_from(num_by_ten, by_ten_idx, nums_by_ten)\n",
    "        translated_numerals.append(translated_numeral)\n",
    "        print(translated_numerals)\n",
    "        break\n",
    "''.join(translated_numerals)"
   ]
  },
  {
   "cell_type": "markdown",
   "id": "716363dd-56e8-47fa-8779-9e7ad0c1681a",
   "metadata": {},
   "source": [
    "Ok, looks pretty good.  Let's turn wrap this in functions and try with the example given in the problem: 1994."
   ]
  },
  {
   "cell_type": "code",
   "execution_count": 7,
   "id": "e71fff05-e63b-4b63-b958-5991eddf906c",
   "metadata": {},
   "outputs": [],
   "source": [
    "numbers = [1000, 500, 100, 50, 10, 5, 1]\n",
    "numerals = [\"M\", \"D\", \"C\", \"L\", \"X\", \"V\", \"I\"]\n",
    "\n",
    "def numbers_by_ten(number):\n",
    "    nums = list(str(number))\n",
    "    return [(10**(len(nums) - idx - 1)*int(num)) for idx, num in enumerate(nums)]\n",
    "\n",
    "# numbers_by_ten(1994) # [1000, 900, 90, 4]"
   ]
  },
  {
   "cell_type": "code",
   "execution_count": 8,
   "id": "cb90b5dd-0fd9-496c-9728-04aeec7156e8",
   "metadata": {},
   "outputs": [],
   "source": [
    "def subtract_from(current_num, by_ten_idx, nums_by_ten):\n",
    "    num_to_numeral = {1: 'I', 10: 'X', 100: 'C'}\n",
    "    for idx, number in enumerate(numbers):\n",
    "            diff = current_num - number\n",
    "            if diff in [-1, -10, -100]:\n",
    "                abs_diff = abs(diff)\n",
    "                new_num = current_num + abs_diff\n",
    "                nums_by_ten[by_ten_idx] = new_num\n",
    "                return num_to_numeral[abs_diff]\n",
    "            if number <= current_num:\n",
    "                current_num = current_num - number\n",
    "                if current_num > 0:\n",
    "                  nums_by_ten[by_ten_idx] = current_num\n",
    "                  return numerals[idx]\n",
    "                else:\n",
    "                  nums_by_ten.pop(0)\n",
    "                  return numerals[idx]"
   ]
  },
  {
   "cell_type": "code",
   "execution_count": 9,
   "id": "a0e9a0ca-697a-496c-89bc-f77f7c9f966a",
   "metadata": {},
   "outputs": [],
   "source": [
    "def translate_to_numerals(number):\n",
    "    translated_numerals = []\n",
    "    nums_by_ten = numbers_by_ten(number)\n",
    "    while nums_by_ten:\n",
    "        for by_ten_idx, num_by_ten in enumerate(nums_by_ten):\n",
    "            translated_numeral = subtract_from(num_by_ten, by_ten_idx, nums_by_ten)\n",
    "            translated_numerals.append(translated_numeral)\n",
    "            break\n",
    "    return ''.join(translated_numerals)"
   ]
  },
  {
   "cell_type": "code",
   "execution_count": 11,
   "id": "aaae85ab-1f47-4812-9ea0-08a5c4fc0c24",
   "metadata": {},
   "outputs": [
    {
     "data": {
      "text/plain": [
       "'MCMXCIV'"
      ]
     },
     "execution_count": 11,
     "metadata": {},
     "output_type": "execute_result"
    }
   ],
   "source": [
    "translate_to_numerals(1994)"
   ]
  },
  {
   "cell_type": "code",
   "execution_count": 12,
   "id": "0742036e-16c9-48dc-acea-895e3a6fbc7b",
   "metadata": {},
   "outputs": [
    {
     "data": {
      "text/plain": [
       "'MCMLXXXIV'"
      ]
     },
     "execution_count": 12,
     "metadata": {},
     "output_type": "execute_result"
    }
   ],
   "source": [
    "translate_to_numerals(1984)"
   ]
  },
  {
   "cell_type": "markdown",
   "id": "84bf0bfa-3c5c-44d4-ae77-2393872e4ae7",
   "metadata": {},
   "source": [
    "Wow, crazy."
   ]
  },
  {
   "cell_type": "markdown",
   "id": "c902639c-9882-43fb-b8d1-a08d894aa389",
   "metadata": {},
   "source": [
    "### Resources\n",
    "\n",
    "[Leetcode](https://leetcode.com/problems/integer-to-roman/)"
   ]
  }
 ],
 "metadata": {
  "kernelspec": {
   "display_name": "Python 3 (ipykernel)",
   "language": "python",
   "name": "python3"
  },
  "language_info": {
   "codemirror_mode": {
    "name": "ipython",
    "version": 3
   },
   "file_extension": ".py",
   "mimetype": "text/x-python",
   "name": "python",
   "nbconvert_exporter": "python",
   "pygments_lexer": "ipython3",
   "version": "3.9.12"
  }
 },
 "nbformat": 4,
 "nbformat_minor": 5
}
