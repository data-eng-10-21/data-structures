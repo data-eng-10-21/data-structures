{
 "cells": [
  {
   "cell_type": "markdown",
   "id": "601e01a0-28d9-438c-b9cc-6369784c9a57",
   "metadata": {},
   "source": [
    "# Buy and Sell a Stock"
   ]
  },
  {
   "cell_type": "markdown",
   "id": "168f4de2-491b-45f8-8260-8bf6c4addf7d",
   "metadata": {},
   "source": [
    "### Introduction"
   ]
  },
  {
   "cell_type": "markdown",
   "id": "75620174-9d6e-4dd8-a8c5-dc7f3cad9c32",
   "metadata": {},
   "source": [
    "You are given an array prices where `prices[i]` is the price of a given stock on the ith day.\n",
    "\n",
    "You want to maximize your profit by choosing a single day to buy one stock and choosing a different day in the future to sell that stock."
   ]
  },
  {
   "cell_type": "markdown",
   "id": "3a4acef6-77c0-42ca-9461-dfbeb2a0e1ef",
   "metadata": {},
   "source": [
    "Return the maximum profit you can achieve from this transaction. If you cannot achieve any profit, return 0."
   ]
  },
  {
   "cell_type": "code",
   "execution_count": 1,
   "id": "642c14b2-b3a3-43bf-a8be-c1a08bf582de",
   "metadata": {},
   "outputs": [],
   "source": [
    "prices = [7, 1, 5, 3, 6, 4]"
   ]
  },
  {
   "cell_type": "markdown",
   "id": "60af4c41-49d4-4284-8727-2ede0d3da737",
   "metadata": {},
   "source": [
    "`output = 5`"
   ]
  },
  {
   "cell_type": "markdown",
   "id": "48ef0d88-4c5b-41ee-9b39-bab880bbe2e8",
   "metadata": {},
   "source": []
  },
  {
   "cell_type": "code",
   "execution_count": null,
   "id": "bd657439-12c9-4d3a-b836-bc2fd93f1940",
   "metadata": {},
   "outputs": [],
   "source": [
    "prices = [7,6,4,3,1]\n",
    "output = 0"
   ]
  },
  {
   "cell_type": "markdown",
   "id": "dea7219c-201f-4f09-8d5d-aa150d0f5cf1",
   "metadata": {},
   "source": [
    "### Solution"
   ]
  },
  {
   "cell_type": "markdown",
   "id": "00a23609-111a-4a3b-a0e5-23dc03c7c762",
   "metadata": {},
   "source": [
    "The technique here is the same -- how does our brain know when to hold onto the current stock.  \n",
    "\n",
    "Our first step is to answer the question without code."
   ]
  },
  {
   "cell_type": "code",
   "execution_count": 2,
   "id": "406f614a-7697-4d31-a8ee-52d8546ac093",
   "metadata": {},
   "outputs": [],
   "source": [
    "prices = [7, 1, 5, 3, 6, 4]\n",
    "\n",
    "# 7 new_buy\n",
    "# 1 new_buy (neg)\n",
    "# 5, profit = 4\n",
    "# 3 \n",
    "# 6 profit = 5\n",
    "# 4 "
   ]
  },
  {
   "cell_type": "markdown",
   "id": "5a2266be-40fc-4ead-8b0d-b31df7a6531d",
   "metadata": {},
   "source": [
    "Ok so let's determine the logic from here."
   ]
  },
  {
   "cell_type": "markdown",
   "id": "49c6e362-1c4a-4940-a722-410e1933a705",
   "metadata": {},
   "source": [
    "It seems like we are holding onto (potentially) three variables -- the buy price, the sell, and the profit."
   ]
  },
  {
   "cell_type": "markdown",
   "id": "74611aba-1fba-4fa8-a4e8-4e521c08b1b8",
   "metadata": {},
   "source": [
    "And now the questions is, how did our brain set and update these variables?"
   ]
  },
  {
   "cell_type": "code",
   "execution_count": null,
   "id": "4f8bfb50-c751-4551-afe2-16587f613c5d",
   "metadata": {},
   "outputs": [],
   "source": [
    "# 7 new_buy (set initial purchase)\n",
    "# 1 new_buy (replace purchase if price is lower, profit is neg)\n",
    "# 5, profit = 4 (profit exceeds zero, keep track)\n",
    "# 3 (do nothing, profit does not improve, and price doesn't decrease)\n",
    "# 6 profit = 5 (profit improves, so replace)\n",
    "# 4 "
   ]
  },
  {
   "cell_type": "markdown",
   "id": "6d6fc52f-80a6-4998-be4a-b7be54dd3cd2",
   "metadata": {},
   "source": [
    "So essentially the idea is to set the buy price, and the profit to some initial values. Then we go through our prices one by one, and only update the either the buy or profit variables if either \"improves\"."
   ]
  },
  {
   "cell_type": "code",
   "execution_count": 12,
   "id": "406fa5a0-d956-4822-b8f4-6f6325b9c28c",
   "metadata": {},
   "outputs": [],
   "source": [
    "prices = [7, 1, 5, 3, 6, 4]\n",
    "\n",
    "def find_profit():\n",
    "    current_buy = prices[0]\n",
    "    profit = 0\n",
    "\n",
    "    for price in prices:\n",
    "        potential_profit = price - current_buy\n",
    "        if potential_profit > profit:\n",
    "            profit = potential_profit\n",
    "        if price < current_buy:\n",
    "            current_buy = price\n",
    "    return profit"
   ]
  },
  {
   "cell_type": "code",
   "execution_count": 13,
   "id": "1205f219-e3f9-42e3-9008-e337136fb41d",
   "metadata": {},
   "outputs": [
    {
     "data": {
      "text/plain": [
       "5"
      ]
     },
     "execution_count": 13,
     "metadata": {},
     "output_type": "execute_result"
    }
   ],
   "source": [
    "find_profit()"
   ]
  },
  {
   "cell_type": "markdown",
   "id": "4c87f6ca-8086-4fad-8734-a738b46ca89c",
   "metadata": {},
   "source": [
    "### The greedy approach"
   ]
  },
  {
   "cell_type": "markdown",
   "id": "9bcac8c1-9b00-4ac8-9a77-66102e11d214",
   "metadata": {},
   "source": [
    "The above is called a greedy algorithm.  It's greedy, because we move through the numbers choosing the locally optimal choice at each turn.  \n",
    "\n",
    "So above, we keep calculating whether we can improve on the current profit, or our previously viewed low price of the stock.  When we get to the end, our local optimum becomes our overall optimium.\n",
    "\n",
    "> The greedy method is a type of problem-solving strategy, where the best possible solution at the current instance is chosen."
   ]
  },
  {
   "cell_type": "markdown",
   "id": "30922a24-d7fb-42e5-88d6-23491aff563a",
   "metadata": {},
   "source": [
    "Really the approach above, is similar to how we might find max value in an array (without using max)."
   ]
  },
  {
   "cell_type": "code",
   "execution_count": 17,
   "id": "b77f10fb-b103-4e8d-9f1f-a28e198b3684",
   "metadata": {},
   "outputs": [
    {
     "name": "stdout",
     "output_type": "stream",
     "text": [
      "3\n",
      "6\n"
     ]
    },
    {
     "data": {
      "text/plain": [
       "6"
      ]
     },
     "execution_count": 17,
     "metadata": {},
     "output_type": "execute_result"
    }
   ],
   "source": [
    "nums = [1, 3, 2, 6, 4]\n",
    "local_max = nums[0]\n",
    "for num in nums:\n",
    "    if num > local_max:\n",
    "        local_max = num\n",
    "        print(local_max)\n",
    "local_max"
   ]
  },
  {
   "cell_type": "markdown",
   "id": "966f9541-28c6-4eb7-be27-6698d1231c7e",
   "metadata": {},
   "source": [
    "Notice that our approach with the stock prices is really the same.  The only difference is that this time we are keeping track of two variables, and need to perform a small calculation for profit."
   ]
  },
  {
   "cell_type": "code",
   "execution_count": null,
   "id": "7fbbba27-eb17-458f-9c90-356e6404114e",
   "metadata": {},
   "outputs": [],
   "source": [
    "current_buy = prices[0]\n",
    "    profit = 0\n",
    "\n",
    "    for price in prices:\n",
    "        potential_profit = price - current_buy\n",
    "        if potential_profit > profit:\n",
    "            profit = potential_profit\n",
    "        if price < current_buy:\n",
    "            current_buy = price\n",
    "    return profit"
   ]
  }
 ],
 "metadata": {
  "kernelspec": {
   "display_name": "Python 3 (ipykernel)",
   "language": "python",
   "name": "python3"
  },
  "language_info": {
   "codemirror_mode": {
    "name": "ipython",
    "version": 3
   },
   "file_extension": ".py",
   "mimetype": "text/x-python",
   "name": "python",
   "nbconvert_exporter": "python",
   "pygments_lexer": "ipython3",
   "version": "3.9.12"
  }
 },
 "nbformat": 4,
 "nbformat_minor": 5
}
