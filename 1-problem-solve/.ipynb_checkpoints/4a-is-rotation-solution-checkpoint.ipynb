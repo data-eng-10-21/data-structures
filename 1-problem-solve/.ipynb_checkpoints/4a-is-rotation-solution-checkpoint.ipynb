{
 "cells": [
  {
   "cell_type": "markdown",
   "id": "eb24178b-72a4-4614-a841-2d8991aa065c",
   "metadata": {},
   "source": [
    "# Is Rotation?"
   ]
  },
  {
   "cell_type": "markdown",
   "id": "93cba8d5-6c04-4cc3-9b5a-b92b79132241",
   "metadata": {},
   "source": [
    "Given two strings s and goal, return true if and only if s can become goal after some number of shifts on s.\n",
    "\n",
    "A shift on s consists of moving the leftmost character of s to the rightmost position"
   ]
  },
  {
   "cell_type": "code",
   "execution_count": 2,
   "id": "a07e9bc9-6562-45fb-9c58-ea1f7ee303bb",
   "metadata": {},
   "outputs": [],
   "source": [
    "s = \"abcde\"\n",
    "goal = \"cdeab\"\n",
    "# true"
   ]
  },
  {
   "cell_type": "markdown",
   "id": "a9b45505-53eb-42aa-be67-8feea3252b29",
   "metadata": {},
   "source": [
    "### Solution"
   ]
  },
  {
   "cell_type": "markdown",
   "id": "c2d3988c-48d0-495e-a355-e98dac332fb4",
   "metadata": {},
   "source": [
    "My first thought is that this is very similar to our other rotation problem.  Notice for example that the above lists are rotations, as we just flipped the two partitions."
   ]
  },
  {
   "cell_type": "code",
   "execution_count": 3,
   "id": "e2ec1cdb-39f7-4109-9223-21f80eb619cd",
   "metadata": {},
   "outputs": [],
   "source": [
    "s = \"abcde\"\n",
    "\n",
    "goal = \"cde\" + \"ab\""
   ]
  },
  {
   "cell_type": "markdown",
   "id": "591d9421-9273-4b91-ad94-dd4191256f6d",
   "metadata": {},
   "source": [
    "And in the above, we can probably find the rotation from our first letter's new position.  So above \"a\" moved up to index 3."
   ]
  },
  {
   "cell_type": "markdown",
   "id": "e46fbbff-3e30-4b55-837a-f349736a3567",
   "metadata": {},
   "source": [
    "Let's give this a shot."
   ]
  },
  {
   "cell_type": "code",
   "execution_count": 7,
   "id": "365f70bd-bceb-4d9d-bcd3-9a4ac77a7571",
   "metadata": {},
   "outputs": [
    {
     "data": {
      "text/plain": [
       "['a', 'b', 'c', 'd', 'e']"
      ]
     },
     "execution_count": 7,
     "metadata": {},
     "output_type": "execute_result"
    }
   ],
   "source": [
    "s = \"abcde\""
   ]
  },
  {
   "cell_type": "code",
   "execution_count": 18,
   "id": "0e4fb619-95be-4284-8eb6-0d1c51fff56a",
   "metadata": {},
   "outputs": [
    {
     "data": {
      "text/plain": [
       "3"
      ]
     },
     "execution_count": 18,
     "metadata": {},
     "output_type": "execute_result"
    }
   ],
   "source": [
    "s = \"abcde\"\n",
    "\n",
    "s_list = list(s)\n",
    "\n",
    "goal = \"cdeab\"\n",
    "\n",
    "goal_list = list(\"cdeab\")\n",
    "\n",
    "first_char = s_list[0]\n",
    "idx = goal_list.index(first_char)\n",
    "idx"
   ]
  },
  {
   "cell_type": "code",
   "execution_count": 21,
   "id": "ea930323-ba09-4977-9a7f-59f3aba0a6e5",
   "metadata": {},
   "outputs": [
    {
     "data": {
      "text/plain": [
       "'cdeab'"
      ]
     },
     "execution_count": 21,
     "metadata": {},
     "output_type": "execute_result"
    }
   ],
   "source": [
    "k = idx - 1\n",
    "first_part = s[:k] # 'ab'\n",
    "last_part = s[k:]\n",
    "last_part + first_part"
   ]
  },
  {
   "cell_type": "markdown",
   "id": "006a7d74-844d-49bc-b758-4b10ac674516",
   "metadata": {},
   "source": [
    "Ok now let's put this together.  There's essentially two steps: \n",
    "1. Find k where k is the number of rotations and\n",
    "2. Then try rotating k times."
   ]
  },
  {
   "cell_type": "code",
   "execution_count": 33,
   "id": "4452aaf1-7438-4760-b00c-f5e6f9115c0e",
   "metadata": {},
   "outputs": [],
   "source": [
    "s = \"abcde\"\n",
    "goal = \"cdeab\"\n",
    "\n",
    "def find_k(s, goal):\n",
    "    s_list = list(s)\n",
    "    goal_list = list(goal)\n",
    "    first_char = s_list[0]\n",
    "    k = goal_list.index(first_char) - 1\n",
    "    return k\n",
    "\n",
    "def rotate(s, k):\n",
    "    first_part = s[:k] # 'ab'\n",
    "    last_part = s[k:]\n",
    "    return last_part + first_part \n",
    "\n",
    "def is_rotation(s, goal):\n",
    "    k = find_k(s, goal)\n",
    "    rotation = rotate(s, k)\n",
    "    return rotation == goal"
   ]
  },
  {
   "cell_type": "code",
   "execution_count": 34,
   "id": "30244636-635d-4ec1-aa79-44074f36edc6",
   "metadata": {},
   "outputs": [
    {
     "data": {
      "text/plain": [
       "True"
      ]
     },
     "execution_count": 34,
     "metadata": {},
     "output_type": "execute_result"
    }
   ],
   "source": [
    "is_rotation(s, goal)"
   ]
  },
  {
   "cell_type": "markdown",
   "id": "e6b5f61f-f6d2-4313-9446-f01b3d7531e6",
   "metadata": {},
   "source": [
    "#### Go further with brute force?"
   ]
  },
  {
   "cell_type": "markdown",
   "id": "7ba4e364-fc6c-47fd-b42c-fd1932d1f337",
   "metadata": {},
   "source": [
    "Ok, so the above works fine.  Are there any issues?  Well, if the first letter is listed twice, then our technique for determining the number of rotations will break.\n",
    "\n",
    "> For example, our solution will break given the example below."
   ]
  },
  {
   "cell_type": "code",
   "execution_count": null,
   "id": "3f7e3d2e-2cb7-415c-9b99-f02724c7103e",
   "metadata": {},
   "outputs": [],
   "source": [
    "s = \"abcade\"\n",
    "goal = \"cadeab\""
   ]
  },
  {
   "cell_type": "markdown",
   "id": "777105d7-546d-4ae4-9a54-c2be96294f88",
   "metadata": {},
   "source": [
    "If we want to solve a problem like the example above, we can instead lean on a brute force technique.  In other words, write a shift operation, where we move the first element to the end, and the rest of the elements advance. \n",
    "\n",
    "```python\n",
    "'bcadea' -> 'cadeab'\n",
    "```\n",
    "\n",
    "And then continue to shift through the length of the string.  If we never reach our goal, we stop. "
   ]
  },
  {
   "cell_type": "code",
   "execution_count": 1,
   "id": "b339c6f9-96fe-4ffb-914a-379fcca64236",
   "metadata": {},
   "outputs": [
    {
     "data": {
      "text/plain": [
       "'cadeab'"
      ]
     },
     "execution_count": 1,
     "metadata": {},
     "output_type": "execute_result"
    }
   ],
   "source": [
    "s = \"abcade\"\n",
    "\n",
    "def shift(s):\n",
    "    return s[1:] + s[:1]\n",
    "\n",
    "s = shift(s) # 'bcadea'\n",
    "shift(s) # 'cadeab'"
   ]
  },
  {
   "cell_type": "markdown",
   "id": "da8207bb-cfdd-4df7-807d-a23c895ddbd5",
   "metadata": {},
   "source": [
    "Ok, now let's try repeatedly shift, checking if we reach our goal. "
   ]
  },
  {
   "cell_type": "code",
   "execution_count": 39,
   "id": "8a1eef25-ff84-4e76-b4e3-c97f8e17f3c9",
   "metadata": {},
   "outputs": [
    {
     "data": {
      "text/plain": [
       "True"
      ]
     },
     "execution_count": 39,
     "metadata": {},
     "output_type": "execute_result"
    }
   ],
   "source": [
    "s = \"abcade\"\n",
    "goal = \"cadeab\"\n",
    "\n",
    "def is_rotation(s, goal):\n",
    "    for i in range(len(goal)):\n",
    "        s = shift(s)\n",
    "        if s == goal:\n",
    "            return True\n",
    "    return False\n",
    "\n",
    "is_rotation(s, goal)"
   ]
  },
  {
   "cell_type": "markdown",
   "id": "8e5f9601-41b5-4601-bace-095b3a53305b",
   "metadata": {},
   "source": [
    "Ok, that works."
   ]
  },
  {
   "cell_type": "markdown",
   "id": "5b5d9562-313c-4ab5-a29e-f9e5fc29adf5",
   "metadata": {},
   "source": [
    "### Resources\n",
    "\n",
    "[Leetcode](https://leetcode.com/problems/rotate-string/)"
   ]
  }
 ],
 "metadata": {
  "kernelspec": {
   "display_name": "Python 3 (ipykernel)",
   "language": "python",
   "name": "python3"
  },
  "language_info": {
   "codemirror_mode": {
    "name": "ipython",
    "version": 3
   },
   "file_extension": ".py",
   "mimetype": "text/x-python",
   "name": "python",
   "nbconvert_exporter": "python",
   "pygments_lexer": "ipython3",
   "version": "3.9.12"
  }
 },
 "nbformat": 4,
 "nbformat_minor": 5
}
