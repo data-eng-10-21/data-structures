{
 "cells": [
  {
   "cell_type": "markdown",
   "id": "1f30026c-14f3-4611-aea9-edfcad509642",
   "metadata": {},
   "source": [
    "# Integer to Roman Numerals"
   ]
  },
  {
   "cell_type": "markdown",
   "id": "99d19ea3-41fd-4b7c-8685-4b231374d58f",
   "metadata": {},
   "source": [
    "Now let's try the following [leetcode problem]([Leetcode](https://leetcode.com/problems/integer-to-roman/))."
   ]
  },
  {
   "cell_type": "markdown",
   "id": "3d969fce-023c-4a7b-9f1f-89477416b661",
   "metadata": {},
   "source": [
    "Roman numerals are represented by seven different symbols: I, V, X, L, C, D and M.\n",
    "\n",
    "```\n",
    "Symbol       Value\n",
    "\n",
    "I             1\n",
    "V             5\n",
    "X             10\n",
    "L             50\n",
    "C             100\n",
    "D             500\n",
    "M             1000\n",
    "```"
   ]
  },
  {
   "cell_type": "markdown",
   "id": "c0ea5dd0-8211-41ba-adaa-e951acf38fde",
   "metadata": {},
   "source": [
    "Roman numerals are usually written largest to smallest from left to right. However, the numeral for four is not IIII. Instead, the number four is written as IV. Because the one is before the five we subtract it making four. The same principle applies to the number nine, which is written as IX. There are six instances where subtraction is used:\n",
    "\n",
    "* I can be placed before V (5) and X (10) to make 4 and 9. \n",
    "* X can be placed before L (50) and C (100) to make 40 and 90. \n",
    "* C can be placed before D (500) and M (1000) to make 400 and 900."
   ]
  },
  {
   "cell_type": "markdown",
   "id": "54dec906-593d-456e-a3dd-4f8a2a35a314",
   "metadata": {},
   "source": [
    "Given a roman numeral, convert it to an integer."
   ]
  },
  {
   "cell_type": "markdown",
   "id": "a61fb45b-81b7-48b6-ad54-4c41a27806e5",
   "metadata": {},
   "source": [
    "### Examples"
   ]
  },
  {
   "cell_type": "markdown",
   "id": "683a7abc-1cc0-4e13-8d4d-a1c8b95d9050",
   "metadata": {},
   "source": [
    "* Eg 1"
   ]
  },
  {
   "cell_type": "code",
   "execution_count": 3,
   "id": "60ab07b0-6809-44e7-9c3d-6775a0f9823e",
   "metadata": {},
   "outputs": [],
   "source": [
    "num = 3\n",
    "output = \"III\""
   ]
  },
  {
   "cell_type": "markdown",
   "id": "d59a32e7-f134-4f3b-9fc5-0945b37b29de",
   "metadata": {},
   "source": [
    "* Eg 2"
   ]
  },
  {
   "cell_type": "code",
   "execution_count": 4,
   "id": "9e459501-5620-43a9-b7c9-bff47b992c77",
   "metadata": {},
   "outputs": [],
   "source": [
    "num = 58\n",
    "output = \"LVIII\""
   ]
  },
  {
   "cell_type": "markdown",
   "id": "f0de17b5-cbb0-47da-a245-46e061267ece",
   "metadata": {},
   "source": [
    "* Eg 3"
   ]
  },
  {
   "cell_type": "code",
   "execution_count": 5,
   "id": "835e6ed4-b24d-428a-a2cf-3e7f6f9cccc1",
   "metadata": {},
   "outputs": [],
   "source": [
    "num = 1994\n",
    "output = \"MCMXCIV\""
   ]
  },
  {
   "cell_type": "markdown",
   "id": "c902639c-9882-43fb-b8d1-a08d894aa389",
   "metadata": {},
   "source": [
    "### Resources\n",
    "\n",
    "[Leetcode](https://leetcode.com/problems/integer-to-roman/)"
   ]
  }
 ],
 "metadata": {
  "kernelspec": {
   "display_name": "Python 3 (ipykernel)",
   "language": "python",
   "name": "python3"
  },
  "language_info": {
   "codemirror_mode": {
    "name": "ipython",
    "version": 3
   },
   "file_extension": ".py",
   "mimetype": "text/x-python",
   "name": "python",
   "nbconvert_exporter": "python",
   "pygments_lexer": "ipython3",
   "version": "3.9.12"
  }
 },
 "nbformat": 4,
 "nbformat_minor": 5
}
