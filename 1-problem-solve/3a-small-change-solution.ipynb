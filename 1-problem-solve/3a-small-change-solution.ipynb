{
 "cells": [
  {
   "cell_type": "markdown",
   "id": "33e5901e-c590-465c-8197-5e54b20f313c",
   "metadata": {},
   "source": [
    "# Small Change problem"
   ]
  },
  {
   "cell_type": "markdown",
   "id": "21b67b9b-f6af-4882-a4bb-6efff521820e",
   "metadata": {},
   "source": [
    "### Problem"
   ]
  },
  {
   "cell_type": "markdown",
   "id": "1331b15a-dfe2-49e7-bfac-2739ccf9a425",
   "metadata": {},
   "source": [
    "You are given an integer array coins representing coins of different denominations and an integer amount representing a total amount of money.\n",
    "\n",
    "Return the fewest number of coins that you need to make up that amount. If that amount of money cannot be made up by any combination of the coins, return -1.\n",
    "\n",
    "You may assume that you have an infinite number of each kind of coin."
   ]
  },
  {
   "cell_type": "markdown",
   "id": "55245452-1fb0-4025-9a11-3bb4499fc477",
   "metadata": {},
   "source": [
    "Determine the minimum number of coins to give while making change."
   ]
  },
  {
   "cell_type": "markdown",
   "id": "dfd3355d-48d2-4c25-8b3a-121075d461cf",
   "metadata": {},
   "source": [
    "### Examples"
   ]
  },
  {
   "cell_type": "code",
   "execution_count": 3,
   "id": "b44fcb14-4ba5-4f7a-bc11-d90332e32c56",
   "metadata": {},
   "outputs": [],
   "source": [
    "coins = [1,2,5]\n",
    "amount = 11\n",
    "# output 3, (5, 5, 1)"
   ]
  },
  {
   "cell_type": "markdown",
   "id": "03f07560-9588-47c3-b787-e38d00407ff3",
   "metadata": {},
   "source": [
    "Ok, so same technique.  Solve the problem without code and then determine how how our brain is doing this."
   ]
  },
  {
   "cell_type": "code",
   "execution_count": 7,
   "id": "3c98cab5-5185-4c3b-8e0f-95d6332266be",
   "metadata": {},
   "outputs": [
    {
     "data": {
      "text/plain": [
       "(5, 5, 1)"
      ]
     },
     "execution_count": 7,
     "metadata": {},
     "output_type": "execute_result"
    }
   ],
   "source": [
    "5, 5, 1"
   ]
  },
  {
   "cell_type": "markdown",
   "id": "d49b5415-d660-4551-a309-92f8bac3a598",
   "metadata": {},
   "source": [
    "So it looks like we are going through each of the coins from largest to smallest, and each time subtracting the coin from the amount.  If we reach zero we are done.  If we cannot reach zero, then we return negative one."
   ]
  },
  {
   "cell_type": "markdown",
   "id": "86849797-d042-46bf-a76b-05824f9c13c7",
   "metadata": {},
   "source": [
    "> **Warning**: Our logic is wrong, but we'll fix it."
   ]
  },
  {
   "cell_type": "markdown",
   "id": "640bf5a9-dce5-495f-9113-d97ac8beb738",
   "metadata": {},
   "source": [
    "Ok, let's turn this into comments, and then fill in the code beneath."
   ]
  },
  {
   "cell_type": "code",
   "execution_count": null,
   "id": "0b5a3eef-504f-4942-a7f3-923609fc858b",
   "metadata": {},
   "outputs": [],
   "source": [
    "# go through each of the coins, largest to smallest\n",
    "# subtract the coin each time from the amount\n",
    "# If reach zero we are done.\n",
    "# Otherwise return negative one."
   ]
  },
  {
   "cell_type": "markdown",
   "id": "40b7953a-5b52-469b-9376-c385a7087145",
   "metadata": {},
   "source": [
    "Now fill in the code."
   ]
  },
  {
   "cell_type": "code",
   "execution_count": 16,
   "id": "ecd3de66-415d-4cb8-9740-9394c9c71105",
   "metadata": {},
   "outputs": [],
   "source": [
    "coins = [1,2,5]\n",
    "\n",
    "amount = 11\n",
    "\n",
    "# go through each of the coins, largest to smallest\n",
    "sorted_coins = sorted(coins, reverse = True)\n",
    "used_coins = []\n",
    "\n",
    "for coin in sorted_coins:\n",
    "    # subtract the coin each time from the amount\n",
    "    if coin < amount:\n",
    "        amount = amount - coin\n",
    "        used_coins.append(coin)\n",
    "    # If reach zero we are done.\n",
    "    # Otherwise return negative one."
   ]
  },
  {
   "cell_type": "markdown",
   "id": "0f0a3894-12bb-4129-a2dc-07b7b979b509",
   "metadata": {},
   "source": [
    "Ok, so as I was writing out the code, I realized the logic was wrong.  Really, if there is an amount, we want to loop through the coins from largest to smallest.  And then each time we subtract the amount, we want to loop through again.  This sounds like a while loop, and then with each step we re-move through our coins.  "
   ]
  },
  {
   "cell_type": "markdown",
   "id": "e311c242-d8a4-4ec2-91f3-d5683930d8dc",
   "metadata": {},
   "source": [
    "Let's try it again."
   ]
  },
  {
   "cell_type": "markdown",
   "id": "74a38725-1fd8-42f6-8be4-699ba6fc9e08",
   "metadata": {},
   "source": [
    "> The below will leed to an endless loop.  You can click on Kernel, Interupt kernel to get out of it.    \n",
    "\n",
    "To debug the endless loop, I added print statements."
   ]
  },
  {
   "cell_type": "code",
   "execution_count": 2,
   "id": "58247c8b-0990-45a6-a0d1-b1b8c5250197",
   "metadata": {},
   "outputs": [],
   "source": [
    "coins = [1,2,5]\n",
    "amount = 11\n",
    "sorted_coins = sorted(coins, reverse = True)\n",
    "used_coins = []\n",
    "\n",
    "while amount > 0:\n",
    "    for coin in sorted_coins:\n",
    "        if coin < amount:\n",
    "            amount = amount - coin\n",
    "            used_coins.append(coin)\n",
    "            print('amount', amount)\n",
    "            print('used coins', used_coins)\n",
    "            break\n",
    "            \n",
    "# amount 6\n",
    "# used coins [5]\n",
    "# amount 1\n",
    "# used coins [5, 5]"
   ]
  },
  {
   "cell_type": "markdown",
   "id": "ae7e8736-1e88-452d-8c9a-ab4035942beb",
   "metadata": {},
   "source": [
    "Ok, so we added print statements to get out of the endless loop above.  What's the issue?  \n",
    "\n",
    "Well, my first thought was that it was with the while loop.  Should we be changing it to `while amount >= 0`?  But notice from the print statement below that we are actually never getting down to 0.  We are never doing that last subtraction.  This is because we also need to subtract where the *coin equals* the remaining amount.  So let's fix this."
   ]
  },
  {
   "cell_type": "code",
   "execution_count": 5,
   "id": "9b66f012-0aa9-49f9-99d0-cb136734c5aa",
   "metadata": {},
   "outputs": [
    {
     "data": {
      "text/plain": [
       "3"
      ]
     },
     "execution_count": 5,
     "metadata": {},
     "output_type": "execute_result"
    }
   ],
   "source": [
    "coins = [1,2,5]\n",
    "amount = 11\n",
    "sorted_coins = sorted(coins, reverse = True)\n",
    "used_coins = []\n",
    "\n",
    "while amount > 0:\n",
    "    for coin in sorted_coins:\n",
    "        if coin <= amount:\n",
    "            amount = amount - coin\n",
    "            used_coins.append(coin)\n",
    "            break\n",
    "len(used_coins)"
   ]
  },
  {
   "cell_type": "markdown",
   "id": "b78becd0-dbb0-4fec-aa53-8ad0582450f1",
   "metadata": {},
   "source": [
    "Ok, and now we know that when the coins cannot be made from a combination of the coins, we should return negative one.   "
   ]
  },
  {
   "cell_type": "markdown",
   "id": "f0faac70-6ffa-48e5-bd85-2858f07a9bf7",
   "metadata": {},
   "source": [
    "How do we know that we are unsuccessful in the combination? Well if there is still a remaining amount, and subtracting the smallest coin leads to a negative number.  Let's turn this into code."
   ]
  },
  {
   "cell_type": "code",
   "execution_count": null,
   "id": "8637b296-fce2-4667-baea-0add830bfe36",
   "metadata": {},
   "outputs": [],
   "source": [
    "smallest_subtraction = amount - sorted_coins[-1] \n",
    "if smallest_subtraction < 0:\n",
    "    return -1"
   ]
  },
  {
   "cell_type": "markdown",
   "id": "e722150f-bd24-41df-9dfd-9c4fac19e5ff",
   "metadata": {},
   "source": [
    "Ok, looks like we better turn our code into a function.  And we still have a remaining question of where to place this logic."
   ]
  },
  {
   "cell_type": "code",
   "execution_count": 10,
   "id": "dc28d52e-5299-470d-816d-b480f38d1e09",
   "metadata": {},
   "outputs": [],
   "source": [
    "def be_the_change(coins, amount):\n",
    "    used_coins = []\n",
    "    sorted_coins = sorted(coins, reverse = True)\n",
    "    while amount > 0:\n",
    "        smallest_subtraction = amount - sorted_coins[-1] \n",
    "        if smallest_subtraction < 0:\n",
    "            return -1\n",
    "        for coin in sorted_coins:\n",
    "            if coin <= amount:\n",
    "                amount = amount - coin\n",
    "                used_coins.append(coin)\n",
    "                break\n",
    "    return len(used_coins)"
   ]
  },
  {
   "cell_type": "markdown",
   "id": "cd51012e-ce28-4a26-9156-69fcd2991d70",
   "metadata": {},
   "source": [
    "That should do it.  The above is called an **edge case**.  Our initial code worked fine, but there are some circumstances where we simply cannot make change. \n",
    "\n",
    "We often solve edge cases with an if statement, and do so by catching, and then handling the edge case right up front.  And that's what we did here."
   ]
  },
  {
   "cell_type": "markdown",
   "id": "9228af71-cd6b-41a5-afae-1d53fa1ee3a9",
   "metadata": {},
   "source": [
    "Ok, now let's try our code."
   ]
  },
  {
   "cell_type": "code",
   "execution_count": 13,
   "id": "b6f399f5-79cc-499a-8a99-9064274937ac",
   "metadata": {},
   "outputs": [
    {
     "data": {
      "text/plain": [
       "3"
      ]
     },
     "execution_count": 13,
     "metadata": {},
     "output_type": "execute_result"
    }
   ],
   "source": [
    "coins = [1,2,5]\n",
    "amount = 11\n",
    "\n",
    "be_the_change(coins, amount)"
   ]
  },
  {
   "cell_type": "code",
   "execution_count": 14,
   "id": "7acbac28-96a1-4da7-bce2-4820d84fa25a",
   "metadata": {},
   "outputs": [
    {
     "data": {
      "text/plain": [
       "-1"
      ]
     },
     "execution_count": 14,
     "metadata": {},
     "output_type": "execute_result"
    }
   ],
   "source": [
    "coins = [2]\n",
    "amount = 3\n",
    "\n",
    "be_the_change(coins, amount)\n",
    "# Output: -1"
   ]
  },
  {
   "cell_type": "markdown",
   "id": "0fc6ee90-a411-4f09-a229-46a679110318",
   "metadata": {},
   "source": [
    "Ok, seems like there's another edge case.  When the amount is zero, don't return `-1` as that indicates unsuccessful.  Instead we return 0.  Again, we catch the edge case with an if statement and handle it right up front."
   ]
  },
  {
   "cell_type": "code",
   "execution_count": 17,
   "id": "c4cc5031-2d87-4f07-91d3-77358dd24ad8",
   "metadata": {},
   "outputs": [
    {
     "data": {
      "text/plain": [
       "0"
      ]
     },
     "execution_count": 17,
     "metadata": {},
     "output_type": "execute_result"
    }
   ],
   "source": [
    "coins = [1] \n",
    "amount = 0\n",
    "\n",
    "def be_the_change(coins, amount):\n",
    "    used_coins = []\n",
    "    sorted_coins = sorted(coins, reverse = True)\n",
    "    if amount == 0: return 0\n",
    "    while amount > 0:\n",
    "        smallest_subtraction = amount - sorted_coins[-1] \n",
    "        if smallest_subtraction < 0:\n",
    "            return -1\n",
    "        for coin in sorted_coins:\n",
    "            if coin <= amount:\n",
    "                amount = amount - coin\n",
    "                used_coins.append(coin)\n",
    "                break\n",
    "    return len(used_coins)\n",
    "\n",
    "be_the_change(coins, amount)\n",
    "\n",
    "# Output: 0"
   ]
  },
  {
   "cell_type": "markdown",
   "id": "fbc6f151-70d5-47da-9a7c-459dc2b41bc7",
   "metadata": {},
   "source": [
    "Alright, we are done."
   ]
  },
  {
   "cell_type": "markdown",
   "id": "5e9d6b63-40b9-4ac0-8288-9c891e270f69",
   "metadata": {},
   "source": [
    "#### Reviewing our techniques"
   ]
  },
  {
   "cell_type": "markdown",
   "id": "f6593679-e431-4cb3-81c0-ed9bd4d8fc03",
   "metadata": {},
   "source": [
    "1. Problem Solving"
   ]
  },
  {
   "cell_type": "markdown",
   "id": "78273e34-993f-4817-bc0b-d894939583f8",
   "metadata": {},
   "source": [
    "We employed our same technique of problem solving, and turning our comments into code.  But we made mistakes along the way.  We let writing the code help us -- and when we ran into bugs, used print statements to investigate what was going wrong. "
   ]
  },
  {
   "cell_type": "markdown",
   "id": "8875d1d5-a784-43be-b628-661badf532d4",
   "metadata": {},
   "source": [
    "2. Pre-processing"
   ]
  },
  {
   "cell_type": "markdown",
   "id": "371ff0b6-1dea-482d-98b0-7d53dd72f97e",
   "metadata": {},
   "source": [
    "We want to move through our coins largest to smallest, so we made sure we did so by first sorting our coins.  This was our preprocessing step, and we performed it right up front."
   ]
  },
  {
   "cell_type": "markdown",
   "id": "4a27be49-54db-4192-8f57-7f5ffe151b02",
   "metadata": {},
   "source": [
    "3. Edge cases"
   ]
  },
  {
   "cell_type": "markdown",
   "id": "b4388c3a-87ec-459d-93e3-f7c20a51c0ce",
   "metadata": {},
   "source": [
    "Ok, so this time, we saw a way to handle some edge cases.  Edge cases are essentially our special circumstances.  We catch them, and handle them, and generally do this right up front before proceeding with our code."
   ]
  },
  {
   "cell_type": "markdown",
   "id": "4290aaed-b506-4776-9283-584d5644b225",
   "metadata": {},
   "source": [
    "### Solution"
   ]
  },
  {
   "cell_type": "markdown",
   "id": "4e31a15f-78ef-4595-8e94-5e473f3f0b2c",
   "metadata": {},
   "source": [
    "[Leetcode](https://leetcode.com/problems/coin-change/)"
   ]
  }
 ],
 "metadata": {
  "kernelspec": {
   "display_name": "Python 3 (ipykernel)",
   "language": "python",
   "name": "python3"
  },
  "language_info": {
   "codemirror_mode": {
    "name": "ipython",
    "version": 3
   },
   "file_extension": ".py",
   "mimetype": "text/x-python",
   "name": "python",
   "nbconvert_exporter": "python",
   "pygments_lexer": "ipython3",
   "version": "3.9.12"
  }
 },
 "nbformat": 4,
 "nbformat_minor": 5
}
